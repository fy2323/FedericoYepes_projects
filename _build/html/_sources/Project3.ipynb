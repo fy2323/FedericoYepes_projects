{
 "cells": [
  {
   "cell_type": "markdown",
   "id": "8ad74727-15d8-4a78-89ed-4cfb7017e15d",
   "metadata": {},
   "source": [
    "# Project 3"
   ]
  },
  {
   "cell_type": "markdown",
   "id": "c668cc4c-f653-408e-af6f-b027362c38c8",
   "metadata": {},
   "source": [
    "## Start: Importing Pandas\n",
    "The project should start by importing the pandas package."
   ]
  },
  {
   "cell_type": "code",
   "execution_count": 1,
   "id": "707a36f1-14da-4df0-9920-2e755ebc49df",
   "metadata": {},
   "outputs": [],
   "source": [
    "import pandas as pd\n",
    "import plotly.express as px\n",
    "import plotly.io as pio\n",
    "\n",
    "pio.renderers.default = \"vscode+jupyterlab+notebook_connected\""
   ]
  },
  {
   "cell_type": "markdown",
   "id": "70ebd757-cd17-4699-abe7-f5f4d55c6363",
   "metadata": {},
   "source": [
    "## Project Description\n",
    "### Data Selection\n",
    "This project is based on two datasets obtained from well-known and reliable sources:\n",
    "\n",
    "1. **CO2 Emissions Data** (Source: [data.un.org](https://data.un.org))  \n",
    "2. **Electricity Consumption Data** (Source: [World Bank](https://databank.worldbank.org))  \n",
    "\n",
    "### Variables\n",
    "To conduct the analysis, I focused on two key variables:\n",
    "\n",
    "1. **CO2 Emissions per Capita:** This indicator shows the average amount of carbon dioxide emitted by each individual in a country or region.  \n",
    "2. **Electric Power Consumption (kWh per capita):** This measures the yearly electricity consumption per person in a country or region, highlighting energy usage patterns and their possible influence on CO2 emissions.\n",
    "\n",
    "### Research Question\n",
    "**How does electric power consumption (kWh per capita) correlate with CO2 emissions per capita across different countries?**\n",
    "\n",
    "### Hypothesis\n",
    "Countries with higher electricity consumption per person also produce more CO2 emissions, as energy needs are frequently met using fossil fuels like coal, oil, and natural gas. However, in countries that prioritize renewable energy sources, this link might be weaker or even show the opposite effect."
   ]
  },
  {
   "cell_type": "markdown",
   "id": "ee5fd878-9806-4687-97a1-ed759b284b92",
   "metadata": {},
   "source": [
    "## Step 1: Importing the Datasets\n",
    "I will import both datasets in their respective formats. These datasets include:\n",
    "\n",
    "- **CO2 Emissions Estimates**: Provides data on per capita CO2 emissions for various countries and regions (UN Data).  \n",
    "- **Electric Power Consumption (kWh per capita)**: Includes annual per capita electricity consumption data for each country. (World Bank Data)\n",
    "\n",
    "These datasets will form the basis for our analysis."
   ]
  },
  {
   "cell_type": "code",
   "execution_count": 2,
   "id": "b9419f13-95d8-4dd1-8257-fe64175de0d5",
   "metadata": {},
   "outputs": [],
   "source": [
    "un_co2 = pd.read_csv(\"CO2.csv\", \n",
    "                       encoding=\"ISO-8859-1\", skiprows=1, header=0)\n",
    "wb_EPC = pd.read_csv(\"Energycons.csv\", \n",
    "                       encoding=\"ISO-8859-1\")"
   ]
  },
  {
   "cell_type": "markdown",
   "id": "38268642-c229-44ab-9ffa-3d9e64c2d9da",
   "metadata": {},
   "source": [
    "## Step 2: Inspecting the Datasets\n",
    "### Goals:\n",
    "1. Focus on the columns needed for the study:\n",
    "   - **CO2 Emissions per Capita**\n",
    "   - **Electric Power Consumption (kWh per capita)**\n",
    "2. Check the column names and structure to confirm that the data has been loaded correctly.\n",
    "3. Detect and address missing or inconsistent values that could impact the analysis.\n",
    "\n",
    "\n",
    "This step ensures that the datasets are well-prepared and suitable for merging."
   ]
  },
  {
   "cell_type": "markdown",
   "id": "f722d612-7b49-4b40-9a9b-5e82c17b8f9c",
   "metadata": {},
   "source": [
    "### Step 2.1: Filtered Columns Needed for the Study\n",
    "We will filter the World Bank database to retain only the rows where the series name is **\"Electric power consumption (kWh per capita)\"**."
   ]
  },
  {
   "cell_type": "code",
   "execution_count": 3,
   "id": "9d978819-641d-4946-8de7-a70598bdeaf6",
   "metadata": {},
   "outputs": [
    {
     "data": {
      "text/html": [
       "<div>\n",
       "<style scoped>\n",
       "    .dataframe tbody tr th:only-of-type {\n",
       "        vertical-align: middle;\n",
       "    }\n",
       "\n",
       "    .dataframe tbody tr th {\n",
       "        vertical-align: top;\n",
       "    }\n",
       "\n",
       "    .dataframe thead th {\n",
       "        text-align: right;\n",
       "    }\n",
       "</style>\n",
       "<table border=\"1\" class=\"dataframe\">\n",
       "  <thead>\n",
       "    <tr style=\"text-align: right;\">\n",
       "      <th></th>\n",
       "      <th>Region/Country/Area</th>\n",
       "      <th>Unnamed: 1</th>\n",
       "      <th>Year</th>\n",
       "      <th>Series</th>\n",
       "      <th>Value</th>\n",
       "      <th>Footnotes</th>\n",
       "      <th>Source</th>\n",
       "    </tr>\n",
       "  </thead>\n",
       "  <tbody>\n",
       "    <tr>\n",
       "      <th>0</th>\n",
       "      <td>8</td>\n",
       "      <td>Albania</td>\n",
       "      <td>1975</td>\n",
       "      <td>Emissions (thousand metric tons of carbon diox...</td>\n",
       "      <td>4,524</td>\n",
       "      <td>NaN</td>\n",
       "      <td>International Energy Agency, IEA World Energy ...</td>\n",
       "    </tr>\n",
       "    <tr>\n",
       "      <th>1</th>\n",
       "      <td>8</td>\n",
       "      <td>Albania</td>\n",
       "      <td>1985</td>\n",
       "      <td>Emissions (thousand metric tons of carbon diox...</td>\n",
       "      <td>7,145</td>\n",
       "      <td>NaN</td>\n",
       "      <td>International Energy Agency, IEA World Energy ...</td>\n",
       "    </tr>\n",
       "    <tr>\n",
       "      <th>2</th>\n",
       "      <td>8</td>\n",
       "      <td>Albania</td>\n",
       "      <td>2005</td>\n",
       "      <td>Emissions (thousand metric tons of carbon diox...</td>\n",
       "      <td>3,980</td>\n",
       "      <td>NaN</td>\n",
       "      <td>International Energy Agency, IEA World Energy ...</td>\n",
       "    </tr>\n",
       "    <tr>\n",
       "      <th>3</th>\n",
       "      <td>8</td>\n",
       "      <td>Albania</td>\n",
       "      <td>2010</td>\n",
       "      <td>Emissions (thousand metric tons of carbon diox...</td>\n",
       "      <td>4,074</td>\n",
       "      <td>NaN</td>\n",
       "      <td>International Energy Agency, IEA World Energy ...</td>\n",
       "    </tr>\n",
       "    <tr>\n",
       "      <th>4</th>\n",
       "      <td>8</td>\n",
       "      <td>Albania</td>\n",
       "      <td>2015</td>\n",
       "      <td>Emissions (thousand metric tons of carbon diox...</td>\n",
       "      <td>3,975</td>\n",
       "      <td>NaN</td>\n",
       "      <td>International Energy Agency, IEA World Energy ...</td>\n",
       "    </tr>\n",
       "    <tr>\n",
       "      <th>...</th>\n",
       "      <td>...</td>\n",
       "      <td>...</td>\n",
       "      <td>...</td>\n",
       "      <td>...</td>\n",
       "      <td>...</td>\n",
       "      <td>...</td>\n",
       "      <td>...</td>\n",
       "    </tr>\n",
       "    <tr>\n",
       "      <th>2259</th>\n",
       "      <td>716</td>\n",
       "      <td>Zimbabwe</td>\n",
       "      <td>2010</td>\n",
       "      <td>Emissions per capita (metric tons of carbon di...</td>\n",
       "      <td>0.7</td>\n",
       "      <td>NaN</td>\n",
       "      <td>International Energy Agency, IEA World Energy ...</td>\n",
       "    </tr>\n",
       "    <tr>\n",
       "      <th>2260</th>\n",
       "      <td>716</td>\n",
       "      <td>Zimbabwe</td>\n",
       "      <td>2015</td>\n",
       "      <td>Emissions per capita (metric tons of carbon di...</td>\n",
       "      <td>0.8</td>\n",
       "      <td>NaN</td>\n",
       "      <td>International Energy Agency, IEA World Energy ...</td>\n",
       "    </tr>\n",
       "    <tr>\n",
       "      <th>2261</th>\n",
       "      <td>716</td>\n",
       "      <td>Zimbabwe</td>\n",
       "      <td>2018</td>\n",
       "      <td>Emissions per capita (metric tons of carbon di...</td>\n",
       "      <td>0.7</td>\n",
       "      <td>NaN</td>\n",
       "      <td>International Energy Agency, IEA World Energy ...</td>\n",
       "    </tr>\n",
       "    <tr>\n",
       "      <th>2262</th>\n",
       "      <td>716</td>\n",
       "      <td>Zimbabwe</td>\n",
       "      <td>2019</td>\n",
       "      <td>Emissions per capita (metric tons of carbon di...</td>\n",
       "      <td>0.7</td>\n",
       "      <td>NaN</td>\n",
       "      <td>International Energy Agency, IEA World Energy ...</td>\n",
       "    </tr>\n",
       "    <tr>\n",
       "      <th>2263</th>\n",
       "      <td>716</td>\n",
       "      <td>Zimbabwe</td>\n",
       "      <td>2020</td>\n",
       "      <td>Emissions per capita (metric tons of carbon di...</td>\n",
       "      <td>0.5</td>\n",
       "      <td>NaN</td>\n",
       "      <td>International Energy Agency, IEA World Energy ...</td>\n",
       "    </tr>\n",
       "  </tbody>\n",
       "</table>\n",
       "<p>2264 rows × 7 columns</p>\n",
       "</div>"
      ],
      "text/plain": [
       "      Region/Country/Area Unnamed: 1  Year  \\\n",
       "0                       8    Albania  1975   \n",
       "1                       8    Albania  1985   \n",
       "2                       8    Albania  2005   \n",
       "3                       8    Albania  2010   \n",
       "4                       8    Albania  2015   \n",
       "...                   ...        ...   ...   \n",
       "2259                  716   Zimbabwe  2010   \n",
       "2260                  716   Zimbabwe  2015   \n",
       "2261                  716   Zimbabwe  2018   \n",
       "2262                  716   Zimbabwe  2019   \n",
       "2263                  716   Zimbabwe  2020   \n",
       "\n",
       "                                                 Series  Value Footnotes  \\\n",
       "0     Emissions (thousand metric tons of carbon diox...  4,524       NaN   \n",
       "1     Emissions (thousand metric tons of carbon diox...  7,145       NaN   \n",
       "2     Emissions (thousand metric tons of carbon diox...  3,980       NaN   \n",
       "3     Emissions (thousand metric tons of carbon diox...  4,074       NaN   \n",
       "4     Emissions (thousand metric tons of carbon diox...  3,975       NaN   \n",
       "...                                                 ...    ...       ...   \n",
       "2259  Emissions per capita (metric tons of carbon di...    0.7       NaN   \n",
       "2260  Emissions per capita (metric tons of carbon di...    0.8       NaN   \n",
       "2261  Emissions per capita (metric tons of carbon di...    0.7       NaN   \n",
       "2262  Emissions per capita (metric tons of carbon di...    0.7       NaN   \n",
       "2263  Emissions per capita (metric tons of carbon di...    0.5       NaN   \n",
       "\n",
       "                                                 Source  \n",
       "0     International Energy Agency, IEA World Energy ...  \n",
       "1     International Energy Agency, IEA World Energy ...  \n",
       "2     International Energy Agency, IEA World Energy ...  \n",
       "3     International Energy Agency, IEA World Energy ...  \n",
       "4     International Energy Agency, IEA World Energy ...  \n",
       "...                                                 ...  \n",
       "2259  International Energy Agency, IEA World Energy ...  \n",
       "2260  International Energy Agency, IEA World Energy ...  \n",
       "2261  International Energy Agency, IEA World Energy ...  \n",
       "2262  International Energy Agency, IEA World Energy ...  \n",
       "2263  International Energy Agency, IEA World Energy ...  \n",
       "\n",
       "[2264 rows x 7 columns]"
      ]
     },
     "execution_count": 3,
     "metadata": {},
     "output_type": "execute_result"
    }
   ],
   "source": [
    "un_co2"
   ]
  },
  {
   "cell_type": "code",
   "execution_count": 4,
   "id": "fbb118f1-4abc-4c1a-ba37-f22ceefff533",
   "metadata": {},
   "outputs": [
    {
     "data": {
      "text/html": [
       "<div>\n",
       "<style scoped>\n",
       "    .dataframe tbody tr th:only-of-type {\n",
       "        vertical-align: middle;\n",
       "    }\n",
       "\n",
       "    .dataframe tbody tr th {\n",
       "        vertical-align: top;\n",
       "    }\n",
       "\n",
       "    .dataframe thead th {\n",
       "        text-align: right;\n",
       "    }\n",
       "</style>\n",
       "<table border=\"1\" class=\"dataframe\">\n",
       "  <thead>\n",
       "    <tr style=\"text-align: right;\">\n",
       "      <th></th>\n",
       "      <th>Country Name</th>\n",
       "      <th>Country Code</th>\n",
       "      <th>Series Name</th>\n",
       "      <th>Series Code</th>\n",
       "      <th>2014 [YR2014]</th>\n",
       "      <th>2015 [YR2015]</th>\n",
       "      <th>2016 [YR2016]</th>\n",
       "      <th>2017 [YR2017]</th>\n",
       "      <th>2018 [YR2018]</th>\n",
       "      <th>2019 [YR2019]</th>\n",
       "      <th>2020 [YR2020]</th>\n",
       "      <th>2021 [YR2021]</th>\n",
       "      <th>2022 [YR2022]</th>\n",
       "      <th>2023 [YR2023]</th>\n",
       "    </tr>\n",
       "  </thead>\n",
       "  <tbody>\n",
       "    <tr>\n",
       "      <th>0</th>\n",
       "      <td>Argentina</td>\n",
       "      <td>ARG</td>\n",
       "      <td>Adolescent fertility rate (births per 1,000 wo...</td>\n",
       "      <td>SP.ADO.TFRT</td>\n",
       "      <td>67.791</td>\n",
       "      <td>65.395</td>\n",
       "      <td>61.852</td>\n",
       "      <td>57.783</td>\n",
       "      <td>51.029</td>\n",
       "      <td>46.153</td>\n",
       "      <td>39.866</td>\n",
       "      <td>39.065</td>\n",
       "      <td>37.932</td>\n",
       "      <td>..</td>\n",
       "    </tr>\n",
       "    <tr>\n",
       "      <th>1</th>\n",
       "      <td>Argentina</td>\n",
       "      <td>ARG</td>\n",
       "      <td>Agriculture, forestry, and fishing, value adde...</td>\n",
       "      <td>NV.AGR.TOTL.ZS</td>\n",
       "      <td>6.71270351428559</td>\n",
       "      <td>5.1566859021408</td>\n",
       "      <td>6.26456582010254</td>\n",
       "      <td>5.23162237725058</td>\n",
       "      <td>4.53787889681146</td>\n",
       "      <td>5.3185559967348</td>\n",
       "      <td>6.35703367575527</td>\n",
       "      <td>7.30630885522762</td>\n",
       "      <td>6.63989827840203</td>\n",
       "      <td>6.05950876262449</td>\n",
       "    </tr>\n",
       "    <tr>\n",
       "      <th>2</th>\n",
       "      <td>Argentina</td>\n",
       "      <td>ARG</td>\n",
       "      <td>Annual freshwater withdrawals, total (% of int...</td>\n",
       "      <td>ER.H2O.FWTL.ZS</td>\n",
       "      <td>12.9075342465753</td>\n",
       "      <td>12.9075342465753</td>\n",
       "      <td>12.9075342465753</td>\n",
       "      <td>12.9075342465753</td>\n",
       "      <td>12.9075342465753</td>\n",
       "      <td>12.9075342465753</td>\n",
       "      <td>12.9075342465753</td>\n",
       "      <td>12.9075342465753</td>\n",
       "      <td>..</td>\n",
       "      <td>..</td>\n",
       "    </tr>\n",
       "    <tr>\n",
       "      <th>3</th>\n",
       "      <td>Argentina</td>\n",
       "      <td>ARG</td>\n",
       "      <td>Births attended by skilled health staff (% of ...</td>\n",
       "      <td>SH.STA.BRTC.ZS</td>\n",
       "      <td>99.6</td>\n",
       "      <td>99.6</td>\n",
       "      <td>98.4</td>\n",
       "      <td>93.9</td>\n",
       "      <td>99.5</td>\n",
       "      <td>99.6</td>\n",
       "      <td>98.8</td>\n",
       "      <td>..</td>\n",
       "      <td>..</td>\n",
       "      <td>..</td>\n",
       "    </tr>\n",
       "    <tr>\n",
       "      <th>4</th>\n",
       "      <td>Argentina</td>\n",
       "      <td>ARG</td>\n",
       "      <td>Contraceptive prevalence, any method (% of mar...</td>\n",
       "      <td>SP.DYN.CONU.ZS</td>\n",
       "      <td>..</td>\n",
       "      <td>..</td>\n",
       "      <td>..</td>\n",
       "      <td>..</td>\n",
       "      <td>..</td>\n",
       "      <td>..</td>\n",
       "      <td>70.1</td>\n",
       "      <td>..</td>\n",
       "      <td>..</td>\n",
       "      <td>..</td>\n",
       "    </tr>\n",
       "    <tr>\n",
       "      <th>...</th>\n",
       "      <td>...</td>\n",
       "      <td>...</td>\n",
       "      <td>...</td>\n",
       "      <td>...</td>\n",
       "      <td>...</td>\n",
       "      <td>...</td>\n",
       "      <td>...</td>\n",
       "      <td>...</td>\n",
       "      <td>...</td>\n",
       "      <td>...</td>\n",
       "      <td>...</td>\n",
       "      <td>...</td>\n",
       "      <td>...</td>\n",
       "      <td>...</td>\n",
       "    </tr>\n",
       "    <tr>\n",
       "      <th>1060</th>\n",
       "      <td>NaN</td>\n",
       "      <td>NaN</td>\n",
       "      <td>NaN</td>\n",
       "      <td>NaN</td>\n",
       "      <td>NaN</td>\n",
       "      <td>NaN</td>\n",
       "      <td>NaN</td>\n",
       "      <td>NaN</td>\n",
       "      <td>NaN</td>\n",
       "      <td>NaN</td>\n",
       "      <td>NaN</td>\n",
       "      <td>NaN</td>\n",
       "      <td>NaN</td>\n",
       "      <td>NaN</td>\n",
       "    </tr>\n",
       "    <tr>\n",
       "      <th>1061</th>\n",
       "      <td>NaN</td>\n",
       "      <td>NaN</td>\n",
       "      <td>NaN</td>\n",
       "      <td>NaN</td>\n",
       "      <td>NaN</td>\n",
       "      <td>NaN</td>\n",
       "      <td>NaN</td>\n",
       "      <td>NaN</td>\n",
       "      <td>NaN</td>\n",
       "      <td>NaN</td>\n",
       "      <td>NaN</td>\n",
       "      <td>NaN</td>\n",
       "      <td>NaN</td>\n",
       "      <td>NaN</td>\n",
       "    </tr>\n",
       "    <tr>\n",
       "      <th>1062</th>\n",
       "      <td>NaN</td>\n",
       "      <td>NaN</td>\n",
       "      <td>NaN</td>\n",
       "      <td>NaN</td>\n",
       "      <td>NaN</td>\n",
       "      <td>NaN</td>\n",
       "      <td>NaN</td>\n",
       "      <td>NaN</td>\n",
       "      <td>NaN</td>\n",
       "      <td>NaN</td>\n",
       "      <td>NaN</td>\n",
       "      <td>NaN</td>\n",
       "      <td>NaN</td>\n",
       "      <td>NaN</td>\n",
       "    </tr>\n",
       "    <tr>\n",
       "      <th>1063</th>\n",
       "      <td>Data from database: World Development Indicators</td>\n",
       "      <td>NaN</td>\n",
       "      <td>NaN</td>\n",
       "      <td>NaN</td>\n",
       "      <td>NaN</td>\n",
       "      <td>NaN</td>\n",
       "      <td>NaN</td>\n",
       "      <td>NaN</td>\n",
       "      <td>NaN</td>\n",
       "      <td>NaN</td>\n",
       "      <td>NaN</td>\n",
       "      <td>NaN</td>\n",
       "      <td>NaN</td>\n",
       "      <td>NaN</td>\n",
       "    </tr>\n",
       "    <tr>\n",
       "      <th>1064</th>\n",
       "      <td>Last Updated: 11/13/2024</td>\n",
       "      <td>NaN</td>\n",
       "      <td>NaN</td>\n",
       "      <td>NaN</td>\n",
       "      <td>NaN</td>\n",
       "      <td>NaN</td>\n",
       "      <td>NaN</td>\n",
       "      <td>NaN</td>\n",
       "      <td>NaN</td>\n",
       "      <td>NaN</td>\n",
       "      <td>NaN</td>\n",
       "      <td>NaN</td>\n",
       "      <td>NaN</td>\n",
       "      <td>NaN</td>\n",
       "    </tr>\n",
       "  </tbody>\n",
       "</table>\n",
       "<p>1065 rows × 14 columns</p>\n",
       "</div>"
      ],
      "text/plain": [
       "                                          Country Name Country Code  \\\n",
       "0                                            Argentina          ARG   \n",
       "1                                            Argentina          ARG   \n",
       "2                                            Argentina          ARG   \n",
       "3                                            Argentina          ARG   \n",
       "4                                            Argentina          ARG   \n",
       "...                                                ...          ...   \n",
       "1060                                               NaN          NaN   \n",
       "1061                                               NaN          NaN   \n",
       "1062                                               NaN          NaN   \n",
       "1063  Data from database: World Development Indicators          NaN   \n",
       "1064                          Last Updated: 11/13/2024          NaN   \n",
       "\n",
       "                                            Series Name     Series Code  \\\n",
       "0     Adolescent fertility rate (births per 1,000 wo...     SP.ADO.TFRT   \n",
       "1     Agriculture, forestry, and fishing, value adde...  NV.AGR.TOTL.ZS   \n",
       "2     Annual freshwater withdrawals, total (% of int...  ER.H2O.FWTL.ZS   \n",
       "3     Births attended by skilled health staff (% of ...  SH.STA.BRTC.ZS   \n",
       "4     Contraceptive prevalence, any method (% of mar...  SP.DYN.CONU.ZS   \n",
       "...                                                 ...             ...   \n",
       "1060                                                NaN             NaN   \n",
       "1061                                                NaN             NaN   \n",
       "1062                                                NaN             NaN   \n",
       "1063                                                NaN             NaN   \n",
       "1064                                                NaN             NaN   \n",
       "\n",
       "         2014 [YR2014]     2015 [YR2015]     2016 [YR2016]     2017 [YR2017]  \\\n",
       "0               67.791            65.395            61.852            57.783   \n",
       "1     6.71270351428559   5.1566859021408  6.26456582010254  5.23162237725058   \n",
       "2     12.9075342465753  12.9075342465753  12.9075342465753  12.9075342465753   \n",
       "3                 99.6              99.6              98.4              93.9   \n",
       "4                   ..                ..                ..                ..   \n",
       "...                ...               ...               ...               ...   \n",
       "1060               NaN               NaN               NaN               NaN   \n",
       "1061               NaN               NaN               NaN               NaN   \n",
       "1062               NaN               NaN               NaN               NaN   \n",
       "1063               NaN               NaN               NaN               NaN   \n",
       "1064               NaN               NaN               NaN               NaN   \n",
       "\n",
       "         2018 [YR2018]     2019 [YR2019]     2020 [YR2020]     2021 [YR2021]  \\\n",
       "0               51.029            46.153            39.866            39.065   \n",
       "1     4.53787889681146   5.3185559967348  6.35703367575527  7.30630885522762   \n",
       "2     12.9075342465753  12.9075342465753  12.9075342465753  12.9075342465753   \n",
       "3                 99.5              99.6              98.8                ..   \n",
       "4                   ..                ..              70.1                ..   \n",
       "...                ...               ...               ...               ...   \n",
       "1060               NaN               NaN               NaN               NaN   \n",
       "1061               NaN               NaN               NaN               NaN   \n",
       "1062               NaN               NaN               NaN               NaN   \n",
       "1063               NaN               NaN               NaN               NaN   \n",
       "1064               NaN               NaN               NaN               NaN   \n",
       "\n",
       "         2022 [YR2022]     2023 [YR2023]  \n",
       "0               37.932                ..  \n",
       "1     6.63989827840203  6.05950876262449  \n",
       "2                   ..                ..  \n",
       "3                   ..                ..  \n",
       "4                   ..                ..  \n",
       "...                ...               ...  \n",
       "1060               NaN               NaN  \n",
       "1061               NaN               NaN  \n",
       "1062               NaN               NaN  \n",
       "1063               NaN               NaN  \n",
       "1064               NaN               NaN  \n",
       "\n",
       "[1065 rows x 14 columns]"
      ]
     },
     "execution_count": 4,
     "metadata": {},
     "output_type": "execute_result"
    }
   ],
   "source": [
    "wb_EPC"
   ]
  },
  {
   "cell_type": "code",
   "execution_count": 5,
   "id": "f394305f-2ee8-4199-97eb-04e9fb090fc0",
   "metadata": {},
   "outputs": [],
   "source": [
    "wb_EPC_filtered = wb_EPC[\n",
    "    wb_EPC[\"Series Name\"] == \"Electric power consumption (kWh per capita)\"\n",
    "]"
   ]
  },
  {
   "cell_type": "code",
   "execution_count": 6,
   "id": "0bb2d962-173b-4b32-9c7b-69cac6394ca7",
   "metadata": {},
   "outputs": [
    {
     "data": {
      "text/html": [
       "<div>\n",
       "<style scoped>\n",
       "    .dataframe tbody tr th:only-of-type {\n",
       "        vertical-align: middle;\n",
       "    }\n",
       "\n",
       "    .dataframe tbody tr th {\n",
       "        vertical-align: top;\n",
       "    }\n",
       "\n",
       "    .dataframe thead th {\n",
       "        text-align: right;\n",
       "    }\n",
       "</style>\n",
       "<table border=\"1\" class=\"dataframe\">\n",
       "  <thead>\n",
       "    <tr style=\"text-align: right;\">\n",
       "      <th></th>\n",
       "      <th>Country Name</th>\n",
       "      <th>Country Code</th>\n",
       "      <th>Series Name</th>\n",
       "      <th>Series Code</th>\n",
       "      <th>2014 [YR2014]</th>\n",
       "      <th>2015 [YR2015]</th>\n",
       "      <th>2016 [YR2016]</th>\n",
       "      <th>2017 [YR2017]</th>\n",
       "      <th>2018 [YR2018]</th>\n",
       "      <th>2019 [YR2019]</th>\n",
       "      <th>2020 [YR2020]</th>\n",
       "      <th>2021 [YR2021]</th>\n",
       "      <th>2022 [YR2022]</th>\n",
       "      <th>2023 [YR2023]</th>\n",
       "    </tr>\n",
       "  </thead>\n",
       "  <tbody>\n",
       "    <tr>\n",
       "      <th>6</th>\n",
       "      <td>Argentina</td>\n",
       "      <td>ARG</td>\n",
       "      <td>Electric power consumption (kWh per capita)</td>\n",
       "      <td>EG.USE.ELEC.KH.PC</td>\n",
       "      <td>3074.70207056563</td>\n",
       "      <td>..</td>\n",
       "      <td>..</td>\n",
       "      <td>..</td>\n",
       "      <td>..</td>\n",
       "      <td>..</td>\n",
       "      <td>..</td>\n",
       "      <td>..</td>\n",
       "      <td>..</td>\n",
       "      <td>..</td>\n",
       "    </tr>\n",
       "    <tr>\n",
       "      <th>59</th>\n",
       "      <td>Australia</td>\n",
       "      <td>AUS</td>\n",
       "      <td>Electric power consumption (kWh per capita)</td>\n",
       "      <td>EG.USE.ELEC.KH.PC</td>\n",
       "      <td>10071.3989785006</td>\n",
       "      <td>..</td>\n",
       "      <td>..</td>\n",
       "      <td>..</td>\n",
       "      <td>..</td>\n",
       "      <td>..</td>\n",
       "      <td>..</td>\n",
       "      <td>..</td>\n",
       "      <td>..</td>\n",
       "      <td>..</td>\n",
       "    </tr>\n",
       "    <tr>\n",
       "      <th>112</th>\n",
       "      <td>Brazil</td>\n",
       "      <td>BRA</td>\n",
       "      <td>Electric power consumption (kWh per capita)</td>\n",
       "      <td>EG.USE.ELEC.KH.PC</td>\n",
       "      <td>2610.99928167575</td>\n",
       "      <td>..</td>\n",
       "      <td>..</td>\n",
       "      <td>..</td>\n",
       "      <td>..</td>\n",
       "      <td>..</td>\n",
       "      <td>..</td>\n",
       "      <td>..</td>\n",
       "      <td>..</td>\n",
       "      <td>..</td>\n",
       "    </tr>\n",
       "    <tr>\n",
       "      <th>165</th>\n",
       "      <td>China</td>\n",
       "      <td>CHN</td>\n",
       "      <td>Electric power consumption (kWh per capita)</td>\n",
       "      <td>EG.USE.ELEC.KH.PC</td>\n",
       "      <td>3905.31759800563</td>\n",
       "      <td>..</td>\n",
       "      <td>..</td>\n",
       "      <td>..</td>\n",
       "      <td>..</td>\n",
       "      <td>..</td>\n",
       "      <td>..</td>\n",
       "      <td>..</td>\n",
       "      <td>..</td>\n",
       "      <td>..</td>\n",
       "    </tr>\n",
       "    <tr>\n",
       "      <th>218</th>\n",
       "      <td>France</td>\n",
       "      <td>FRA</td>\n",
       "      <td>Electric power consumption (kWh per capita)</td>\n",
       "      <td>EG.USE.ELEC.KH.PC</td>\n",
       "      <td>6939.94352490927</td>\n",
       "      <td>..</td>\n",
       "      <td>..</td>\n",
       "      <td>..</td>\n",
       "      <td>..</td>\n",
       "      <td>..</td>\n",
       "      <td>..</td>\n",
       "      <td>..</td>\n",
       "      <td>..</td>\n",
       "      <td>..</td>\n",
       "    </tr>\n",
       "    <tr>\n",
       "      <th>271</th>\n",
       "      <td>Germany</td>\n",
       "      <td>DEU</td>\n",
       "      <td>Electric power consumption (kWh per capita)</td>\n",
       "      <td>EG.USE.ELEC.KH.PC</td>\n",
       "      <td>7035.48297471676</td>\n",
       "      <td>..</td>\n",
       "      <td>..</td>\n",
       "      <td>..</td>\n",
       "      <td>..</td>\n",
       "      <td>..</td>\n",
       "      <td>..</td>\n",
       "      <td>..</td>\n",
       "      <td>..</td>\n",
       "      <td>..</td>\n",
       "    </tr>\n",
       "    <tr>\n",
       "      <th>324</th>\n",
       "      <td>India</td>\n",
       "      <td>IND</td>\n",
       "      <td>Electric power consumption (kWh per capita)</td>\n",
       "      <td>EG.USE.ELEC.KH.PC</td>\n",
       "      <td>797.349232010839</td>\n",
       "      <td>..</td>\n",
       "      <td>..</td>\n",
       "      <td>..</td>\n",
       "      <td>..</td>\n",
       "      <td>..</td>\n",
       "      <td>..</td>\n",
       "      <td>..</td>\n",
       "      <td>..</td>\n",
       "      <td>..</td>\n",
       "    </tr>\n",
       "    <tr>\n",
       "      <th>377</th>\n",
       "      <td>Indonesia</td>\n",
       "      <td>IDN</td>\n",
       "      <td>Electric power consumption (kWh per capita)</td>\n",
       "      <td>EG.USE.ELEC.KH.PC</td>\n",
       "      <td>808.418972064685</td>\n",
       "      <td>910</td>\n",
       "      <td>956</td>\n",
       "      <td>1021</td>\n",
       "      <td>1064</td>\n",
       "      <td>1084</td>\n",
       "      <td>..</td>\n",
       "      <td>..</td>\n",
       "      <td>..</td>\n",
       "      <td>..</td>\n",
       "    </tr>\n",
       "    <tr>\n",
       "      <th>430</th>\n",
       "      <td>Italy</td>\n",
       "      <td>ITA</td>\n",
       "      <td>Electric power consumption (kWh per capita)</td>\n",
       "      <td>EG.USE.ELEC.KH.PC</td>\n",
       "      <td>5002.40667987736</td>\n",
       "      <td>..</td>\n",
       "      <td>..</td>\n",
       "      <td>..</td>\n",
       "      <td>..</td>\n",
       "      <td>..</td>\n",
       "      <td>..</td>\n",
       "      <td>..</td>\n",
       "      <td>..</td>\n",
       "      <td>..</td>\n",
       "    </tr>\n",
       "    <tr>\n",
       "      <th>483</th>\n",
       "      <td>Japan</td>\n",
       "      <td>JPN</td>\n",
       "      <td>Electric power consumption (kWh per capita)</td>\n",
       "      <td>EG.USE.ELEC.KH.PC</td>\n",
       "      <td>7819.71463590936</td>\n",
       "      <td>..</td>\n",
       "      <td>..</td>\n",
       "      <td>..</td>\n",
       "      <td>..</td>\n",
       "      <td>..</td>\n",
       "      <td>..</td>\n",
       "      <td>..</td>\n",
       "      <td>..</td>\n",
       "      <td>..</td>\n",
       "    </tr>\n",
       "    <tr>\n",
       "      <th>536</th>\n",
       "      <td>Korea, Rep.</td>\n",
       "      <td>KOR</td>\n",
       "      <td>Electric power consumption (kWh per capita)</td>\n",
       "      <td>EG.USE.ELEC.KH.PC</td>\n",
       "      <td>10496.5136719641</td>\n",
       "      <td>..</td>\n",
       "      <td>..</td>\n",
       "      <td>..</td>\n",
       "      <td>..</td>\n",
       "      <td>..</td>\n",
       "      <td>..</td>\n",
       "      <td>..</td>\n",
       "      <td>..</td>\n",
       "      <td>..</td>\n",
       "    </tr>\n",
       "    <tr>\n",
       "      <th>589</th>\n",
       "      <td>Mexico</td>\n",
       "      <td>MEX</td>\n",
       "      <td>Electric power consumption (kWh per capita)</td>\n",
       "      <td>EG.USE.ELEC.KH.PC</td>\n",
       "      <td>2186.37582152033</td>\n",
       "      <td>..</td>\n",
       "      <td>..</td>\n",
       "      <td>..</td>\n",
       "      <td>..</td>\n",
       "      <td>..</td>\n",
       "      <td>..</td>\n",
       "      <td>..</td>\n",
       "      <td>..</td>\n",
       "      <td>..</td>\n",
       "    </tr>\n",
       "    <tr>\n",
       "      <th>642</th>\n",
       "      <td>Netherlands</td>\n",
       "      <td>NLD</td>\n",
       "      <td>Electric power consumption (kWh per capita)</td>\n",
       "      <td>EG.USE.ELEC.KH.PC</td>\n",
       "      <td>6712.774758245</td>\n",
       "      <td>..</td>\n",
       "      <td>..</td>\n",
       "      <td>..</td>\n",
       "      <td>..</td>\n",
       "      <td>..</td>\n",
       "      <td>..</td>\n",
       "      <td>..</td>\n",
       "      <td>..</td>\n",
       "      <td>..</td>\n",
       "    </tr>\n",
       "    <tr>\n",
       "      <th>695</th>\n",
       "      <td>Russian Federation</td>\n",
       "      <td>RUS</td>\n",
       "      <td>Electric power consumption (kWh per capita)</td>\n",
       "      <td>EG.USE.ELEC.KH.PC</td>\n",
       "      <td>6583.54327856132</td>\n",
       "      <td>..</td>\n",
       "      <td>..</td>\n",
       "      <td>..</td>\n",
       "      <td>..</td>\n",
       "      <td>..</td>\n",
       "      <td>..</td>\n",
       "      <td>..</td>\n",
       "      <td>..</td>\n",
       "      <td>..</td>\n",
       "    </tr>\n",
       "    <tr>\n",
       "      <th>748</th>\n",
       "      <td>Saudi Arabia</td>\n",
       "      <td>SAU</td>\n",
       "      <td>Electric power consumption (kWh per capita)</td>\n",
       "      <td>EG.USE.ELEC.KH.PC</td>\n",
       "      <td>9047.68551300765</td>\n",
       "      <td>..</td>\n",
       "      <td>..</td>\n",
       "      <td>..</td>\n",
       "      <td>..</td>\n",
       "      <td>..</td>\n",
       "      <td>..</td>\n",
       "      <td>..</td>\n",
       "      <td>..</td>\n",
       "      <td>..</td>\n",
       "    </tr>\n",
       "    <tr>\n",
       "      <th>801</th>\n",
       "      <td>Spain</td>\n",
       "      <td>ESP</td>\n",
       "      <td>Electric power consumption (kWh per capita)</td>\n",
       "      <td>EG.USE.ELEC.KH.PC</td>\n",
       "      <td>5355.98700558221</td>\n",
       "      <td>..</td>\n",
       "      <td>..</td>\n",
       "      <td>..</td>\n",
       "      <td>..</td>\n",
       "      <td>..</td>\n",
       "      <td>..</td>\n",
       "      <td>..</td>\n",
       "      <td>..</td>\n",
       "      <td>..</td>\n",
       "    </tr>\n",
       "    <tr>\n",
       "      <th>854</th>\n",
       "      <td>Switzerland</td>\n",
       "      <td>CHE</td>\n",
       "      <td>Electric power consumption (kWh per capita)</td>\n",
       "      <td>EG.USE.ELEC.KH.PC</td>\n",
       "      <td>7520.16602494502</td>\n",
       "      <td>..</td>\n",
       "      <td>..</td>\n",
       "      <td>..</td>\n",
       "      <td>..</td>\n",
       "      <td>..</td>\n",
       "      <td>..</td>\n",
       "      <td>..</td>\n",
       "      <td>..</td>\n",
       "      <td>..</td>\n",
       "    </tr>\n",
       "    <tr>\n",
       "      <th>907</th>\n",
       "      <td>Turkiye</td>\n",
       "      <td>TUR</td>\n",
       "      <td>Electric power consumption (kWh per capita)</td>\n",
       "      <td>EG.USE.ELEC.KH.PC</td>\n",
       "      <td>2848.97165764961</td>\n",
       "      <td>..</td>\n",
       "      <td>..</td>\n",
       "      <td>..</td>\n",
       "      <td>..</td>\n",
       "      <td>..</td>\n",
       "      <td>..</td>\n",
       "      <td>..</td>\n",
       "      <td>..</td>\n",
       "      <td>..</td>\n",
       "    </tr>\n",
       "    <tr>\n",
       "      <th>960</th>\n",
       "      <td>United Kingdom</td>\n",
       "      <td>GBR</td>\n",
       "      <td>Electric power consumption (kWh per capita)</td>\n",
       "      <td>EG.USE.ELEC.KH.PC</td>\n",
       "      <td>5130.39025330028</td>\n",
       "      <td>..</td>\n",
       "      <td>..</td>\n",
       "      <td>..</td>\n",
       "      <td>..</td>\n",
       "      <td>..</td>\n",
       "      <td>..</td>\n",
       "      <td>..</td>\n",
       "      <td>..</td>\n",
       "      <td>..</td>\n",
       "    </tr>\n",
       "    <tr>\n",
       "      <th>1013</th>\n",
       "      <td>United States</td>\n",
       "      <td>USA</td>\n",
       "      <td>Electric power consumption (kWh per capita)</td>\n",
       "      <td>EG.USE.ELEC.KH.PC</td>\n",
       "      <td>12993.9655794706</td>\n",
       "      <td>..</td>\n",
       "      <td>..</td>\n",
       "      <td>..</td>\n",
       "      <td>..</td>\n",
       "      <td>..</td>\n",
       "      <td>..</td>\n",
       "      <td>..</td>\n",
       "      <td>..</td>\n",
       "      <td>..</td>\n",
       "    </tr>\n",
       "  </tbody>\n",
       "</table>\n",
       "</div>"
      ],
      "text/plain": [
       "            Country Name Country Code  \\\n",
       "6              Argentina          ARG   \n",
       "59             Australia          AUS   \n",
       "112               Brazil          BRA   \n",
       "165                China          CHN   \n",
       "218               France          FRA   \n",
       "271              Germany          DEU   \n",
       "324                India          IND   \n",
       "377            Indonesia          IDN   \n",
       "430                Italy          ITA   \n",
       "483                Japan          JPN   \n",
       "536          Korea, Rep.          KOR   \n",
       "589               Mexico          MEX   \n",
       "642          Netherlands          NLD   \n",
       "695   Russian Federation          RUS   \n",
       "748         Saudi Arabia          SAU   \n",
       "801                Spain          ESP   \n",
       "854          Switzerland          CHE   \n",
       "907              Turkiye          TUR   \n",
       "960       United Kingdom          GBR   \n",
       "1013       United States          USA   \n",
       "\n",
       "                                      Series Name        Series Code  \\\n",
       "6     Electric power consumption (kWh per capita)  EG.USE.ELEC.KH.PC   \n",
       "59    Electric power consumption (kWh per capita)  EG.USE.ELEC.KH.PC   \n",
       "112   Electric power consumption (kWh per capita)  EG.USE.ELEC.KH.PC   \n",
       "165   Electric power consumption (kWh per capita)  EG.USE.ELEC.KH.PC   \n",
       "218   Electric power consumption (kWh per capita)  EG.USE.ELEC.KH.PC   \n",
       "271   Electric power consumption (kWh per capita)  EG.USE.ELEC.KH.PC   \n",
       "324   Electric power consumption (kWh per capita)  EG.USE.ELEC.KH.PC   \n",
       "377   Electric power consumption (kWh per capita)  EG.USE.ELEC.KH.PC   \n",
       "430   Electric power consumption (kWh per capita)  EG.USE.ELEC.KH.PC   \n",
       "483   Electric power consumption (kWh per capita)  EG.USE.ELEC.KH.PC   \n",
       "536   Electric power consumption (kWh per capita)  EG.USE.ELEC.KH.PC   \n",
       "589   Electric power consumption (kWh per capita)  EG.USE.ELEC.KH.PC   \n",
       "642   Electric power consumption (kWh per capita)  EG.USE.ELEC.KH.PC   \n",
       "695   Electric power consumption (kWh per capita)  EG.USE.ELEC.KH.PC   \n",
       "748   Electric power consumption (kWh per capita)  EG.USE.ELEC.KH.PC   \n",
       "801   Electric power consumption (kWh per capita)  EG.USE.ELEC.KH.PC   \n",
       "854   Electric power consumption (kWh per capita)  EG.USE.ELEC.KH.PC   \n",
       "907   Electric power consumption (kWh per capita)  EG.USE.ELEC.KH.PC   \n",
       "960   Electric power consumption (kWh per capita)  EG.USE.ELEC.KH.PC   \n",
       "1013  Electric power consumption (kWh per capita)  EG.USE.ELEC.KH.PC   \n",
       "\n",
       "         2014 [YR2014] 2015 [YR2015] 2016 [YR2016] 2017 [YR2017]  \\\n",
       "6     3074.70207056563            ..            ..            ..   \n",
       "59    10071.3989785006            ..            ..            ..   \n",
       "112   2610.99928167575            ..            ..            ..   \n",
       "165   3905.31759800563            ..            ..            ..   \n",
       "218   6939.94352490927            ..            ..            ..   \n",
       "271   7035.48297471676            ..            ..            ..   \n",
       "324   797.349232010839            ..            ..            ..   \n",
       "377   808.418972064685           910           956          1021   \n",
       "430   5002.40667987736            ..            ..            ..   \n",
       "483   7819.71463590936            ..            ..            ..   \n",
       "536   10496.5136719641            ..            ..            ..   \n",
       "589   2186.37582152033            ..            ..            ..   \n",
       "642     6712.774758245            ..            ..            ..   \n",
       "695   6583.54327856132            ..            ..            ..   \n",
       "748   9047.68551300765            ..            ..            ..   \n",
       "801   5355.98700558221            ..            ..            ..   \n",
       "854   7520.16602494502            ..            ..            ..   \n",
       "907   2848.97165764961            ..            ..            ..   \n",
       "960   5130.39025330028            ..            ..            ..   \n",
       "1013  12993.9655794706            ..            ..            ..   \n",
       "\n",
       "     2018 [YR2018] 2019 [YR2019] 2020 [YR2020] 2021 [YR2021] 2022 [YR2022]  \\\n",
       "6               ..            ..            ..            ..            ..   \n",
       "59              ..            ..            ..            ..            ..   \n",
       "112             ..            ..            ..            ..            ..   \n",
       "165             ..            ..            ..            ..            ..   \n",
       "218             ..            ..            ..            ..            ..   \n",
       "271             ..            ..            ..            ..            ..   \n",
       "324             ..            ..            ..            ..            ..   \n",
       "377           1064          1084            ..            ..            ..   \n",
       "430             ..            ..            ..            ..            ..   \n",
       "483             ..            ..            ..            ..            ..   \n",
       "536             ..            ..            ..            ..            ..   \n",
       "589             ..            ..            ..            ..            ..   \n",
       "642             ..            ..            ..            ..            ..   \n",
       "695             ..            ..            ..            ..            ..   \n",
       "748             ..            ..            ..            ..            ..   \n",
       "801             ..            ..            ..            ..            ..   \n",
       "854             ..            ..            ..            ..            ..   \n",
       "907             ..            ..            ..            ..            ..   \n",
       "960             ..            ..            ..            ..            ..   \n",
       "1013            ..            ..            ..            ..            ..   \n",
       "\n",
       "     2023 [YR2023]  \n",
       "6               ..  \n",
       "59              ..  \n",
       "112             ..  \n",
       "165             ..  \n",
       "218             ..  \n",
       "271             ..  \n",
       "324             ..  \n",
       "377             ..  \n",
       "430             ..  \n",
       "483             ..  \n",
       "536             ..  \n",
       "589             ..  \n",
       "642             ..  \n",
       "695             ..  \n",
       "748             ..  \n",
       "801             ..  \n",
       "854             ..  \n",
       "907             ..  \n",
       "960             ..  \n",
       "1013            ..  "
      ]
     },
     "execution_count": 6,
     "metadata": {},
     "output_type": "execute_result"
    }
   ],
   "source": [
    "wb_EPC_filtered"
   ]
  },
  {
   "cell_type": "markdown",
   "id": "c6f6d02f-49ae-4867-a1d2-2c41f58823cc",
   "metadata": {},
   "source": [
    "### Step 2: Selecting Relevant Columns\n",
    "We will identify the columns of interest in both datasets, focusing on those required for merging and essential for analyzing the results.\n",
    "\n",
    "### Identification\n",
    "The following columns of interest were identified in both datasets:\n",
    "\n",
    "1. **Country**\n",
    "2. **Series / Series Name**\n",
    "3. **Value**\n",
    "4. **Year**\n",
    "\n",
    "For the UN dataset, the column **Year** will also be used to filter the data for the year 2015. However, for the WB dataset, this is unnecessary since only 2014 data was downloaded.\n",
    "\n",
    "#### Why 2014?\n",
    "The year 2014 was chosen because it contains complete information for all countries. Data from closer years is incomplete, making 2014 the best choice for this analysis. For consistency, I also selected the 2015 data from the UN dataset, as it is the closest available year to 2014 in the World Bank dataset. This ensures that both datasets align as closely as possible in terms of time coverage.\n",
    "\n"
   ]
  },
  {
   "cell_type": "code",
   "execution_count": 7,
   "id": "7d62875b-c6e4-4caa-9db2-27e58b5a19da",
   "metadata": {},
   "outputs": [],
   "source": [
    "wb_EPC_2014 = wb_EPC_filtered.loc[:, [\"Country Name\", \"Series Name\", \"Series Code\", \"2014 [YR2014]\"]]"
   ]
  },
  {
   "cell_type": "code",
   "execution_count": 8,
   "id": "8490b6cd-1fcc-4bcb-b998-536b0783eeff",
   "metadata": {},
   "outputs": [],
   "source": [
    "un_co2.columns=['N°', 'Country', 'Year', 'Series', 'Value', 'Footnotes', 'Source']\n",
    "wb_EPC_2014.columns=['Country Name', 'Series Name', 'Series Code', '2014']"
   ]
  },
  {
   "cell_type": "code",
   "execution_count": 9,
   "id": "1a0e219c-26d9-446d-9a83-90db50ddbbcf",
   "metadata": {},
   "outputs": [
    {
     "data": {
      "text/html": [
       "<div>\n",
       "<style scoped>\n",
       "    .dataframe tbody tr th:only-of-type {\n",
       "        vertical-align: middle;\n",
       "    }\n",
       "\n",
       "    .dataframe tbody tr th {\n",
       "        vertical-align: top;\n",
       "    }\n",
       "\n",
       "    .dataframe thead th {\n",
       "        text-align: right;\n",
       "    }\n",
       "</style>\n",
       "<table border=\"1\" class=\"dataframe\">\n",
       "  <thead>\n",
       "    <tr style=\"text-align: right;\">\n",
       "      <th></th>\n",
       "      <th>Country Name</th>\n",
       "      <th>Series Name</th>\n",
       "      <th>Series Code</th>\n",
       "      <th>2014</th>\n",
       "    </tr>\n",
       "  </thead>\n",
       "  <tbody>\n",
       "    <tr>\n",
       "      <th>6</th>\n",
       "      <td>Argentina</td>\n",
       "      <td>Electric power consumption (kWh per capita)</td>\n",
       "      <td>EG.USE.ELEC.KH.PC</td>\n",
       "      <td>3074.70207056563</td>\n",
       "    </tr>\n",
       "    <tr>\n",
       "      <th>59</th>\n",
       "      <td>Australia</td>\n",
       "      <td>Electric power consumption (kWh per capita)</td>\n",
       "      <td>EG.USE.ELEC.KH.PC</td>\n",
       "      <td>10071.3989785006</td>\n",
       "    </tr>\n",
       "    <tr>\n",
       "      <th>112</th>\n",
       "      <td>Brazil</td>\n",
       "      <td>Electric power consumption (kWh per capita)</td>\n",
       "      <td>EG.USE.ELEC.KH.PC</td>\n",
       "      <td>2610.99928167575</td>\n",
       "    </tr>\n",
       "    <tr>\n",
       "      <th>165</th>\n",
       "      <td>China</td>\n",
       "      <td>Electric power consumption (kWh per capita)</td>\n",
       "      <td>EG.USE.ELEC.KH.PC</td>\n",
       "      <td>3905.31759800563</td>\n",
       "    </tr>\n",
       "    <tr>\n",
       "      <th>218</th>\n",
       "      <td>France</td>\n",
       "      <td>Electric power consumption (kWh per capita)</td>\n",
       "      <td>EG.USE.ELEC.KH.PC</td>\n",
       "      <td>6939.94352490927</td>\n",
       "    </tr>\n",
       "    <tr>\n",
       "      <th>271</th>\n",
       "      <td>Germany</td>\n",
       "      <td>Electric power consumption (kWh per capita)</td>\n",
       "      <td>EG.USE.ELEC.KH.PC</td>\n",
       "      <td>7035.48297471676</td>\n",
       "    </tr>\n",
       "    <tr>\n",
       "      <th>324</th>\n",
       "      <td>India</td>\n",
       "      <td>Electric power consumption (kWh per capita)</td>\n",
       "      <td>EG.USE.ELEC.KH.PC</td>\n",
       "      <td>797.349232010839</td>\n",
       "    </tr>\n",
       "    <tr>\n",
       "      <th>377</th>\n",
       "      <td>Indonesia</td>\n",
       "      <td>Electric power consumption (kWh per capita)</td>\n",
       "      <td>EG.USE.ELEC.KH.PC</td>\n",
       "      <td>808.418972064685</td>\n",
       "    </tr>\n",
       "    <tr>\n",
       "      <th>430</th>\n",
       "      <td>Italy</td>\n",
       "      <td>Electric power consumption (kWh per capita)</td>\n",
       "      <td>EG.USE.ELEC.KH.PC</td>\n",
       "      <td>5002.40667987736</td>\n",
       "    </tr>\n",
       "    <tr>\n",
       "      <th>483</th>\n",
       "      <td>Japan</td>\n",
       "      <td>Electric power consumption (kWh per capita)</td>\n",
       "      <td>EG.USE.ELEC.KH.PC</td>\n",
       "      <td>7819.71463590936</td>\n",
       "    </tr>\n",
       "    <tr>\n",
       "      <th>536</th>\n",
       "      <td>Korea, Rep.</td>\n",
       "      <td>Electric power consumption (kWh per capita)</td>\n",
       "      <td>EG.USE.ELEC.KH.PC</td>\n",
       "      <td>10496.5136719641</td>\n",
       "    </tr>\n",
       "    <tr>\n",
       "      <th>589</th>\n",
       "      <td>Mexico</td>\n",
       "      <td>Electric power consumption (kWh per capita)</td>\n",
       "      <td>EG.USE.ELEC.KH.PC</td>\n",
       "      <td>2186.37582152033</td>\n",
       "    </tr>\n",
       "    <tr>\n",
       "      <th>642</th>\n",
       "      <td>Netherlands</td>\n",
       "      <td>Electric power consumption (kWh per capita)</td>\n",
       "      <td>EG.USE.ELEC.KH.PC</td>\n",
       "      <td>6712.774758245</td>\n",
       "    </tr>\n",
       "    <tr>\n",
       "      <th>695</th>\n",
       "      <td>Russian Federation</td>\n",
       "      <td>Electric power consumption (kWh per capita)</td>\n",
       "      <td>EG.USE.ELEC.KH.PC</td>\n",
       "      <td>6583.54327856132</td>\n",
       "    </tr>\n",
       "    <tr>\n",
       "      <th>748</th>\n",
       "      <td>Saudi Arabia</td>\n",
       "      <td>Electric power consumption (kWh per capita)</td>\n",
       "      <td>EG.USE.ELEC.KH.PC</td>\n",
       "      <td>9047.68551300765</td>\n",
       "    </tr>\n",
       "    <tr>\n",
       "      <th>801</th>\n",
       "      <td>Spain</td>\n",
       "      <td>Electric power consumption (kWh per capita)</td>\n",
       "      <td>EG.USE.ELEC.KH.PC</td>\n",
       "      <td>5355.98700558221</td>\n",
       "    </tr>\n",
       "    <tr>\n",
       "      <th>854</th>\n",
       "      <td>Switzerland</td>\n",
       "      <td>Electric power consumption (kWh per capita)</td>\n",
       "      <td>EG.USE.ELEC.KH.PC</td>\n",
       "      <td>7520.16602494502</td>\n",
       "    </tr>\n",
       "    <tr>\n",
       "      <th>907</th>\n",
       "      <td>Turkiye</td>\n",
       "      <td>Electric power consumption (kWh per capita)</td>\n",
       "      <td>EG.USE.ELEC.KH.PC</td>\n",
       "      <td>2848.97165764961</td>\n",
       "    </tr>\n",
       "    <tr>\n",
       "      <th>960</th>\n",
       "      <td>United Kingdom</td>\n",
       "      <td>Electric power consumption (kWh per capita)</td>\n",
       "      <td>EG.USE.ELEC.KH.PC</td>\n",
       "      <td>5130.39025330028</td>\n",
       "    </tr>\n",
       "    <tr>\n",
       "      <th>1013</th>\n",
       "      <td>United States</td>\n",
       "      <td>Electric power consumption (kWh per capita)</td>\n",
       "      <td>EG.USE.ELEC.KH.PC</td>\n",
       "      <td>12993.9655794706</td>\n",
       "    </tr>\n",
       "  </tbody>\n",
       "</table>\n",
       "</div>"
      ],
      "text/plain": [
       "            Country Name                                  Series Name  \\\n",
       "6              Argentina  Electric power consumption (kWh per capita)   \n",
       "59             Australia  Electric power consumption (kWh per capita)   \n",
       "112               Brazil  Electric power consumption (kWh per capita)   \n",
       "165                China  Electric power consumption (kWh per capita)   \n",
       "218               France  Electric power consumption (kWh per capita)   \n",
       "271              Germany  Electric power consumption (kWh per capita)   \n",
       "324                India  Electric power consumption (kWh per capita)   \n",
       "377            Indonesia  Electric power consumption (kWh per capita)   \n",
       "430                Italy  Electric power consumption (kWh per capita)   \n",
       "483                Japan  Electric power consumption (kWh per capita)   \n",
       "536          Korea, Rep.  Electric power consumption (kWh per capita)   \n",
       "589               Mexico  Electric power consumption (kWh per capita)   \n",
       "642          Netherlands  Electric power consumption (kWh per capita)   \n",
       "695   Russian Federation  Electric power consumption (kWh per capita)   \n",
       "748         Saudi Arabia  Electric power consumption (kWh per capita)   \n",
       "801                Spain  Electric power consumption (kWh per capita)   \n",
       "854          Switzerland  Electric power consumption (kWh per capita)   \n",
       "907              Turkiye  Electric power consumption (kWh per capita)   \n",
       "960       United Kingdom  Electric power consumption (kWh per capita)   \n",
       "1013       United States  Electric power consumption (kWh per capita)   \n",
       "\n",
       "            Series Code              2014  \n",
       "6     EG.USE.ELEC.KH.PC  3074.70207056563  \n",
       "59    EG.USE.ELEC.KH.PC  10071.3989785006  \n",
       "112   EG.USE.ELEC.KH.PC  2610.99928167575  \n",
       "165   EG.USE.ELEC.KH.PC  3905.31759800563  \n",
       "218   EG.USE.ELEC.KH.PC  6939.94352490927  \n",
       "271   EG.USE.ELEC.KH.PC  7035.48297471676  \n",
       "324   EG.USE.ELEC.KH.PC  797.349232010839  \n",
       "377   EG.USE.ELEC.KH.PC  808.418972064685  \n",
       "430   EG.USE.ELEC.KH.PC  5002.40667987736  \n",
       "483   EG.USE.ELEC.KH.PC  7819.71463590936  \n",
       "536   EG.USE.ELEC.KH.PC  10496.5136719641  \n",
       "589   EG.USE.ELEC.KH.PC  2186.37582152033  \n",
       "642   EG.USE.ELEC.KH.PC    6712.774758245  \n",
       "695   EG.USE.ELEC.KH.PC  6583.54327856132  \n",
       "748   EG.USE.ELEC.KH.PC  9047.68551300765  \n",
       "801   EG.USE.ELEC.KH.PC  5355.98700558221  \n",
       "854   EG.USE.ELEC.KH.PC  7520.16602494502  \n",
       "907   EG.USE.ELEC.KH.PC  2848.97165764961  \n",
       "960   EG.USE.ELEC.KH.PC  5130.39025330028  \n",
       "1013  EG.USE.ELEC.KH.PC  12993.9655794706  "
      ]
     },
     "execution_count": 9,
     "metadata": {},
     "output_type": "execute_result"
    }
   ],
   "source": [
    "wb_EPC_2014"
   ]
  },
  {
   "cell_type": "code",
   "execution_count": 10,
   "id": "8bda30fd-5839-4a1f-9af3-77613992f387",
   "metadata": {},
   "outputs": [],
   "source": [
    "un_co2 = un_co2[['Country', 'Value', 'Series', 'Year']]\n",
    "wb_EPC_2014 = wb_EPC_2014[['Country Name', 'Series Name', 'Series Code', '2014']]"
   ]
  },
  {
   "cell_type": "markdown",
   "id": "d1827731-f8a6-49ab-bddf-76d1720424ad",
   "metadata": {},
   "source": [
    "## Step 2.1: Verifying the Datasets (Again)\n",
    "We will recheck the datasets to ensure that the selected columns are correctly loaded and that the data is ready for the next steps of the analysis."
   ]
  },
  {
   "cell_type": "code",
   "execution_count": 11,
   "id": "af6bd08e-6d3e-42f2-bcc1-fd5470d1afb5",
   "metadata": {},
   "outputs": [
    {
     "data": {
      "text/html": [
       "<div>\n",
       "<style scoped>\n",
       "    .dataframe tbody tr th:only-of-type {\n",
       "        vertical-align: middle;\n",
       "    }\n",
       "\n",
       "    .dataframe tbody tr th {\n",
       "        vertical-align: top;\n",
       "    }\n",
       "\n",
       "    .dataframe thead th {\n",
       "        text-align: right;\n",
       "    }\n",
       "</style>\n",
       "<table border=\"1\" class=\"dataframe\">\n",
       "  <thead>\n",
       "    <tr style=\"text-align: right;\">\n",
       "      <th></th>\n",
       "      <th>Country</th>\n",
       "      <th>Value</th>\n",
       "      <th>Series</th>\n",
       "      <th>Year</th>\n",
       "    </tr>\n",
       "  </thead>\n",
       "  <tbody>\n",
       "    <tr>\n",
       "      <th>0</th>\n",
       "      <td>Albania</td>\n",
       "      <td>4,524</td>\n",
       "      <td>Emissions (thousand metric tons of carbon diox...</td>\n",
       "      <td>1975</td>\n",
       "    </tr>\n",
       "    <tr>\n",
       "      <th>1</th>\n",
       "      <td>Albania</td>\n",
       "      <td>7,145</td>\n",
       "      <td>Emissions (thousand metric tons of carbon diox...</td>\n",
       "      <td>1985</td>\n",
       "    </tr>\n",
       "    <tr>\n",
       "      <th>2</th>\n",
       "      <td>Albania</td>\n",
       "      <td>3,980</td>\n",
       "      <td>Emissions (thousand metric tons of carbon diox...</td>\n",
       "      <td>2005</td>\n",
       "    </tr>\n",
       "    <tr>\n",
       "      <th>3</th>\n",
       "      <td>Albania</td>\n",
       "      <td>4,074</td>\n",
       "      <td>Emissions (thousand metric tons of carbon diox...</td>\n",
       "      <td>2010</td>\n",
       "    </tr>\n",
       "    <tr>\n",
       "      <th>4</th>\n",
       "      <td>Albania</td>\n",
       "      <td>3,975</td>\n",
       "      <td>Emissions (thousand metric tons of carbon diox...</td>\n",
       "      <td>2015</td>\n",
       "    </tr>\n",
       "  </tbody>\n",
       "</table>\n",
       "</div>"
      ],
      "text/plain": [
       "   Country  Value                                             Series  Year\n",
       "0  Albania  4,524  Emissions (thousand metric tons of carbon diox...  1975\n",
       "1  Albania  7,145  Emissions (thousand metric tons of carbon diox...  1985\n",
       "2  Albania  3,980  Emissions (thousand metric tons of carbon diox...  2005\n",
       "3  Albania  4,074  Emissions (thousand metric tons of carbon diox...  2010\n",
       "4  Albania  3,975  Emissions (thousand metric tons of carbon diox...  2015"
      ]
     },
     "execution_count": 11,
     "metadata": {},
     "output_type": "execute_result"
    }
   ],
   "source": [
    "un_co2.head()"
   ]
  },
  {
   "cell_type": "code",
   "execution_count": 12,
   "id": "f15c21b4-30f8-402f-8f46-aaa2f2a21c8a",
   "metadata": {},
   "outputs": [
    {
     "data": {
      "text/html": [
       "<div>\n",
       "<style scoped>\n",
       "    .dataframe tbody tr th:only-of-type {\n",
       "        vertical-align: middle;\n",
       "    }\n",
       "\n",
       "    .dataframe tbody tr th {\n",
       "        vertical-align: top;\n",
       "    }\n",
       "\n",
       "    .dataframe thead th {\n",
       "        text-align: right;\n",
       "    }\n",
       "</style>\n",
       "<table border=\"1\" class=\"dataframe\">\n",
       "  <thead>\n",
       "    <tr style=\"text-align: right;\">\n",
       "      <th></th>\n",
       "      <th>Country Name</th>\n",
       "      <th>Series Name</th>\n",
       "      <th>Series Code</th>\n",
       "      <th>2014</th>\n",
       "    </tr>\n",
       "  </thead>\n",
       "  <tbody>\n",
       "    <tr>\n",
       "      <th>6</th>\n",
       "      <td>Argentina</td>\n",
       "      <td>Electric power consumption (kWh per capita)</td>\n",
       "      <td>EG.USE.ELEC.KH.PC</td>\n",
       "      <td>3074.70207056563</td>\n",
       "    </tr>\n",
       "    <tr>\n",
       "      <th>59</th>\n",
       "      <td>Australia</td>\n",
       "      <td>Electric power consumption (kWh per capita)</td>\n",
       "      <td>EG.USE.ELEC.KH.PC</td>\n",
       "      <td>10071.3989785006</td>\n",
       "    </tr>\n",
       "    <tr>\n",
       "      <th>112</th>\n",
       "      <td>Brazil</td>\n",
       "      <td>Electric power consumption (kWh per capita)</td>\n",
       "      <td>EG.USE.ELEC.KH.PC</td>\n",
       "      <td>2610.99928167575</td>\n",
       "    </tr>\n",
       "    <tr>\n",
       "      <th>165</th>\n",
       "      <td>China</td>\n",
       "      <td>Electric power consumption (kWh per capita)</td>\n",
       "      <td>EG.USE.ELEC.KH.PC</td>\n",
       "      <td>3905.31759800563</td>\n",
       "    </tr>\n",
       "    <tr>\n",
       "      <th>218</th>\n",
       "      <td>France</td>\n",
       "      <td>Electric power consumption (kWh per capita)</td>\n",
       "      <td>EG.USE.ELEC.KH.PC</td>\n",
       "      <td>6939.94352490927</td>\n",
       "    </tr>\n",
       "  </tbody>\n",
       "</table>\n",
       "</div>"
      ],
      "text/plain": [
       "    Country Name                                  Series Name  \\\n",
       "6      Argentina  Electric power consumption (kWh per capita)   \n",
       "59     Australia  Electric power consumption (kWh per capita)   \n",
       "112       Brazil  Electric power consumption (kWh per capita)   \n",
       "165        China  Electric power consumption (kWh per capita)   \n",
       "218       France  Electric power consumption (kWh per capita)   \n",
       "\n",
       "           Series Code              2014  \n",
       "6    EG.USE.ELEC.KH.PC  3074.70207056563  \n",
       "59   EG.USE.ELEC.KH.PC  10071.3989785006  \n",
       "112  EG.USE.ELEC.KH.PC  2610.99928167575  \n",
       "165  EG.USE.ELEC.KH.PC  3905.31759800563  \n",
       "218  EG.USE.ELEC.KH.PC  6939.94352490927  "
      ]
     },
     "execution_count": 12,
     "metadata": {},
     "output_type": "execute_result"
    }
   ],
   "source": [
    "wb_EPC_2014.head()"
   ]
  },
  {
   "cell_type": "markdown",
   "id": "ea3b0bac-0ac5-42f4-9a78-9678d3eb0e09",
   "metadata": {},
   "source": [
    "### Step 3: Cleaning the UN Data\n",
    "For the UN dataset, it is essential to filter out non-country entries such as regions, special territories, and unrecognized nations. This step ensures that only official countries are included, as the analysis focuses solely on country-level information. This cleaning process is also a prerequisite for merging the data with the World Bank dataset, which is structured at the official country level."
   ]
  },
  {
   "cell_type": "markdown",
   "id": "76f0158e-6d6c-4e31-9028-88377c7ce6b2",
   "metadata": {},
   "source": [
    "#### Step 3.1: Identifying Non-Country Entries\n",
    "We will identify entries that do not correspond to official countries, such as regions, special areas, or unrecognized nations, to ensure they are excluded from the dataset."
   ]
  },
  {
   "cell_type": "code",
   "execution_count": 13,
   "id": "67d19fc9-96a6-4784-b1ce-1f088c86bb5e",
   "metadata": {},
   "outputs": [],
   "source": [
    "excluded_countries = [\n",
    "    \"Total, all countries or areas\", \"Africa\", \"Northern Africa\", \"Sub-Saharan Africa\", \"Eastern Africa\", \n",
    "    \"Middle Africa\", \"Southern Africa\", \"Western Africa\", \"Americas\", \n",
    "    \"Northern America\", \"Latin America & the Caribbean\", \"Caribbean\", \n",
    "    \"Central America\", \"South America\", \"Asia\", \"Central Asia\", \n",
    "    \"Eastern Asia\", \"South-central Asia\", \"South-eastern Asia\", \"Southern Asia\", \n",
    "    \"Western Asia\", \"Europe\", \"European Union (EU)\",\"Eastern Europe\", \"Northern Europe\", \n",
    "    \"Southern Europe\", \"Western Europe\", \"Oceania\", \"Australia and New Zealand\", \n",
    "    \"Melanesia\", \"Micronesia\", \"Polynesia\", \"British Virgin Islands\", \n",
    "    \"Falkland Islands (Malvinas)\", \"Faroe Islands\", \"French Guiana\", \n",
    "    \"Guam\", \"New Caledonia\", \"Puerto Rico\", \"Saint Martin (French part)\", \n",
    "    \"Sint Maarten (Dutch part)\", \"Turks and Caicos Islands\", \n",
    "    \"United States Virgin Islands\", \"Other non-specified areas\", \n",
    "    \"LLDCs\", \"LDCs\", \"SIDS\", \"LDC§\", \"LLDC§\", \"SID§\", \"American Samoa\", \"Aruba\", \"Bermuda\", \"Bonaire, St. Eustatius & Saba\", \n",
    "    \"British Virgin Islands\", \"Cayman Islands\", \"Cook Islands\", \n",
    "    \"Falkland Islands (Malvinas)\", \"French Guiana\", \"French Polynesia\", \n",
    "    \"Guam\", \"Isle of Man\", \"Montserrat\", \"New Caledonia\", \"Niue\", \n",
    "    \"Northern Mariana Islands\", \"Puerto Rico\", \"Réunion\", \n",
    "    \"Saint Barthélemy\", \"Saint Helena\", \"Saint Martin (French part)\", \n",
    "    \"Sint Maarten (Dutch part)\", \"Tokelau\", \"Turks and Caicos Islands\", \n",
    "    \"United States Virgin Islands\", \"Wallis and Futuna Islands\", \n",
    "    \"Western Sahara\", \"Anguilla\", \"Aruba\", \"Bermuda\", \"Bonaire, St. Eustatius & Saba\", \n",
    "    \"British Virgin Islands\", \"Cayman Islands\", \"Cook Islands\", \n",
    "    \"Falkland Islands (Malvinas)\", \"French Guiana\", \"French Polynesia\", \n",
    "    \"Guam\", \"Isle of Man\", \"Montserrat\", \"New Caledonia\", \"Niue\", \n",
    "    \"Northern Mariana Islands\", \"Puerto Rico\", \"Réunion\", \n",
    "    \"Saint Barthélemy\", \"Saint Helena\", \"Saint Martin (French part)\", \n",
    "    \"Sint Maarten (Dutch part)\", \"Tokelau\", \"Turks and Caicos Islands\", \n",
    "    \"United States Virgin Islands\", \"Wallis and Futuna Islands\", \n",
    "    \"Western Sahara\"\n",
    "]"
   ]
  },
  {
   "cell_type": "markdown",
   "id": "e99a5efd-2fa9-4457-9aa2-52a0703db964",
   "metadata": {},
   "source": [
    "#### Step 3.2: Filtering Official Countries Only"
   ]
  },
  {
   "cell_type": "code",
   "execution_count": 14,
   "id": "8a51ffa5-ac3e-4e12-a265-44f3f59c3592",
   "metadata": {},
   "outputs": [
    {
     "data": {
      "text/html": [
       "<div>\n",
       "<style scoped>\n",
       "    .dataframe tbody tr th:only-of-type {\n",
       "        vertical-align: middle;\n",
       "    }\n",
       "\n",
       "    .dataframe tbody tr th {\n",
       "        vertical-align: top;\n",
       "    }\n",
       "\n",
       "    .dataframe thead th {\n",
       "        text-align: right;\n",
       "    }\n",
       "</style>\n",
       "<table border=\"1\" class=\"dataframe\">\n",
       "  <thead>\n",
       "    <tr style=\"text-align: right;\">\n",
       "      <th></th>\n",
       "      <th>Country</th>\n",
       "      <th>Value</th>\n",
       "      <th>Series</th>\n",
       "      <th>Year</th>\n",
       "    </tr>\n",
       "  </thead>\n",
       "  <tbody>\n",
       "    <tr>\n",
       "      <th>0</th>\n",
       "      <td>Albania</td>\n",
       "      <td>4,524</td>\n",
       "      <td>Emissions (thousand metric tons of carbon diox...</td>\n",
       "      <td>1975</td>\n",
       "    </tr>\n",
       "    <tr>\n",
       "      <th>1</th>\n",
       "      <td>Albania</td>\n",
       "      <td>7,145</td>\n",
       "      <td>Emissions (thousand metric tons of carbon diox...</td>\n",
       "      <td>1985</td>\n",
       "    </tr>\n",
       "    <tr>\n",
       "      <th>2</th>\n",
       "      <td>Albania</td>\n",
       "      <td>3,980</td>\n",
       "      <td>Emissions (thousand metric tons of carbon diox...</td>\n",
       "      <td>2005</td>\n",
       "    </tr>\n",
       "    <tr>\n",
       "      <th>3</th>\n",
       "      <td>Albania</td>\n",
       "      <td>4,074</td>\n",
       "      <td>Emissions (thousand metric tons of carbon diox...</td>\n",
       "      <td>2010</td>\n",
       "    </tr>\n",
       "    <tr>\n",
       "      <th>4</th>\n",
       "      <td>Albania</td>\n",
       "      <td>3,975</td>\n",
       "      <td>Emissions (thousand metric tons of carbon diox...</td>\n",
       "      <td>2015</td>\n",
       "    </tr>\n",
       "  </tbody>\n",
       "</table>\n",
       "</div>"
      ],
      "text/plain": [
       "   Country  Value                                             Series  Year\n",
       "0  Albania  4,524  Emissions (thousand metric tons of carbon diox...  1975\n",
       "1  Albania  7,145  Emissions (thousand metric tons of carbon diox...  1985\n",
       "2  Albania  3,980  Emissions (thousand metric tons of carbon diox...  2005\n",
       "3  Albania  4,074  Emissions (thousand metric tons of carbon diox...  2010\n",
       "4  Albania  3,975  Emissions (thousand metric tons of carbon diox...  2015"
      ]
     },
     "execution_count": 14,
     "metadata": {},
     "output_type": "execute_result"
    }
   ],
   "source": [
    "un_co2_new = un_co2[un_co2[\"Country\"].isin(excluded_countries) == False]\n",
    "un_co2_new.head()"
   ]
  },
  {
   "cell_type": "markdown",
   "id": "5d28d8fa-47d7-43b4-91c0-cc90eff850c1",
   "metadata": {},
   "source": [
    "## Step 3.3: Selecting the Relevant Year\n",
    "We will inspect the unique year values in the dataset and drop those that are not of interest, retaining only the data for the year 2015."
   ]
  },
  {
   "cell_type": "code",
   "execution_count": 15,
   "id": "3decd5e0-cb63-455d-a049-8dcb9919efbb",
   "metadata": {},
   "outputs": [
    {
     "data": {
      "text/plain": [
       "array([1975, 1985, 2005, 2010, 2015, 2018, 2019, 2020])"
      ]
     },
     "execution_count": 15,
     "metadata": {},
     "output_type": "execute_result"
    }
   ],
   "source": [
    "un_co2_new['Year'].unique()"
   ]
  },
  {
   "cell_type": "code",
   "execution_count": 16,
   "id": "5e4d22e7-6157-4095-94fb-6385cfc6871a",
   "metadata": {},
   "outputs": [],
   "source": [
    "filtered_un_co2 = un_co2_new[un_co2_new['Year'] == 2015]"
   ]
  },
  {
   "cell_type": "code",
   "execution_count": 17,
   "id": "70e3fe87-e811-4be2-895c-71d01e4f528f",
   "metadata": {},
   "outputs": [
    {
     "data": {
      "text/plain": [
       "array([2015])"
      ]
     },
     "execution_count": 17,
     "metadata": {},
     "output_type": "execute_result"
    }
   ],
   "source": [
    "filtered_un_co2['Year'].unique()"
   ]
  },
  {
   "cell_type": "markdown",
   "id": "4b3db37c-8043-4596-a9b0-a5078d3592a9",
   "metadata": {},
   "source": [
    "## Step 3.4: Standardizing the Values\n",
    "In the last step of cleaning, we will harmonize the data in the \"Value\" column to make it consistent and eliminate any possible inaccuracies or biases that could affect the analysis."
   ]
  },
  {
   "cell_type": "markdown",
   "id": "fa038474-79f8-4643-8fe3-7b6df8aed24a",
   "metadata": {},
   "source": [
    "### Step 3.5: Text Transformation and Removal of Commas\n",
    "We will convert the values in the \"Value\" column to text format and remove commas used as separators."
   ]
  },
  {
   "cell_type": "code",
   "execution_count": 18,
   "id": "968bd0bd-0adf-4678-a1b7-cf304bbaa6bd",
   "metadata": {},
   "outputs": [],
   "source": [
    "wb_EPC_2014 = wb_EPC_2014.rename(columns={\"2014\": \"Value\"})\n",
    "wb_EPC_2014 = wb_EPC_2014.rename(columns={\"Country Name\": \"Country\"})"
   ]
  },
  {
   "cell_type": "code",
   "execution_count": 19,
   "id": "d4f0ef52-4805-4273-8a8b-a4a465933700",
   "metadata": {},
   "outputs": [],
   "source": [
    "wb_EPC_2014.loc[:, 'Value'] = wb_EPC_2014['Value'].astype(str).str.replace(',', '', regex=False)\n",
    "filtered_un_co2.loc[:, 'Value'] = filtered_un_co2['Value'].astype(str).str.replace(',', '', regex=False)"
   ]
  },
  {
   "cell_type": "markdown",
   "id": "369fb798-223e-4654-9743-66495c6158b6",
   "metadata": {},
   "source": [
    "### Step 3.6: Transforming to Numbers and Replacing with NaN\n",
    "We will convert the values to numeric format, replacing non-numeric entries with NaN."
   ]
  },
  {
   "cell_type": "code",
   "execution_count": 20,
   "id": "728cf25b-4181-4581-b16c-2480a578ea3d",
   "metadata": {},
   "outputs": [],
   "source": [
    "wb_EPC_2014.loc[:, 'Value'] = pd.to_numeric(wb_EPC_2014['Value'], errors='coerce')\n",
    "filtered_un_co2.loc[:, 'Value'] = pd.to_numeric(filtered_un_co2['Value'], errors='coerce')"
   ]
  },
  {
   "cell_type": "markdown",
   "id": "2f83e489-68f2-4c68-8919-b01730c28104",
   "metadata": {},
   "source": [
    "### Step 3.3.3: Dropping NA Values\n",
    "We will drop NA values to ensure they are not included in the analysis."
   ]
  },
  {
   "cell_type": "code",
   "execution_count": 21,
   "id": "03abdb7b-ebed-4bc4-bea1-d2c6e696b73e",
   "metadata": {},
   "outputs": [],
   "source": [
    "wb_EPC_2014 = wb_EPC_2014.dropna(subset=['Value']).copy()\n",
    "filtered_un_co2 = filtered_un_co2.dropna(subset=['Value']).copy()"
   ]
  },
  {
   "cell_type": "markdown",
   "id": "d5889c8e-4880-437b-b073-b780931aab04",
   "metadata": {},
   "source": [
    "### Step 3.3.4: Converting Year to String"
   ]
  },
  {
   "cell_type": "code",
   "execution_count": 22,
   "id": "c81a39fc-af27-455e-b4d8-64c23a9bd90a",
   "metadata": {},
   "outputs": [],
   "source": [
    "filtered_un_co2['Year'] = filtered_un_co2['Year'].astype(str)"
   ]
  },
  {
   "cell_type": "code",
   "execution_count": 23,
   "id": "4e99fe60-247f-4fa3-aeaa-a5d5aeddbb33",
   "metadata": {},
   "outputs": [
    {
     "data": {
      "text/html": [
       "<div>\n",
       "<style scoped>\n",
       "    .dataframe tbody tr th:only-of-type {\n",
       "        vertical-align: middle;\n",
       "    }\n",
       "\n",
       "    .dataframe tbody tr th {\n",
       "        vertical-align: top;\n",
       "    }\n",
       "\n",
       "    .dataframe thead th {\n",
       "        text-align: right;\n",
       "    }\n",
       "</style>\n",
       "<table border=\"1\" class=\"dataframe\">\n",
       "  <thead>\n",
       "    <tr style=\"text-align: right;\">\n",
       "      <th></th>\n",
       "      <th>Country</th>\n",
       "      <th>Series Name</th>\n",
       "      <th>Series Code</th>\n",
       "      <th>Value</th>\n",
       "    </tr>\n",
       "  </thead>\n",
       "  <tbody>\n",
       "    <tr>\n",
       "      <th>6</th>\n",
       "      <td>Argentina</td>\n",
       "      <td>Electric power consumption (kWh per capita)</td>\n",
       "      <td>EG.USE.ELEC.KH.PC</td>\n",
       "      <td>3074.702071</td>\n",
       "    </tr>\n",
       "    <tr>\n",
       "      <th>59</th>\n",
       "      <td>Australia</td>\n",
       "      <td>Electric power consumption (kWh per capita)</td>\n",
       "      <td>EG.USE.ELEC.KH.PC</td>\n",
       "      <td>10071.398979</td>\n",
       "    </tr>\n",
       "    <tr>\n",
       "      <th>112</th>\n",
       "      <td>Brazil</td>\n",
       "      <td>Electric power consumption (kWh per capita)</td>\n",
       "      <td>EG.USE.ELEC.KH.PC</td>\n",
       "      <td>2610.999282</td>\n",
       "    </tr>\n",
       "    <tr>\n",
       "      <th>165</th>\n",
       "      <td>China</td>\n",
       "      <td>Electric power consumption (kWh per capita)</td>\n",
       "      <td>EG.USE.ELEC.KH.PC</td>\n",
       "      <td>3905.317598</td>\n",
       "    </tr>\n",
       "    <tr>\n",
       "      <th>218</th>\n",
       "      <td>France</td>\n",
       "      <td>Electric power consumption (kWh per capita)</td>\n",
       "      <td>EG.USE.ELEC.KH.PC</td>\n",
       "      <td>6939.943525</td>\n",
       "    </tr>\n",
       "  </tbody>\n",
       "</table>\n",
       "</div>"
      ],
      "text/plain": [
       "       Country                                  Series Name  \\\n",
       "6    Argentina  Electric power consumption (kWh per capita)   \n",
       "59   Australia  Electric power consumption (kWh per capita)   \n",
       "112     Brazil  Electric power consumption (kWh per capita)   \n",
       "165      China  Electric power consumption (kWh per capita)   \n",
       "218     France  Electric power consumption (kWh per capita)   \n",
       "\n",
       "           Series Code         Value  \n",
       "6    EG.USE.ELEC.KH.PC   3074.702071  \n",
       "59   EG.USE.ELEC.KH.PC  10071.398979  \n",
       "112  EG.USE.ELEC.KH.PC   2610.999282  \n",
       "165  EG.USE.ELEC.KH.PC   3905.317598  \n",
       "218  EG.USE.ELEC.KH.PC   6939.943525  "
      ]
     },
     "execution_count": 23,
     "metadata": {},
     "output_type": "execute_result"
    }
   ],
   "source": [
    "wb_EPC_2014.head()"
   ]
  },
  {
   "cell_type": "code",
   "execution_count": 24,
   "id": "314f10ac-d0c0-4c72-bf6f-67d7a8c94928",
   "metadata": {},
   "outputs": [
    {
     "data": {
      "text/html": [
       "<div>\n",
       "<style scoped>\n",
       "    .dataframe tbody tr th:only-of-type {\n",
       "        vertical-align: middle;\n",
       "    }\n",
       "\n",
       "    .dataframe tbody tr th {\n",
       "        vertical-align: top;\n",
       "    }\n",
       "\n",
       "    .dataframe thead th {\n",
       "        text-align: right;\n",
       "    }\n",
       "</style>\n",
       "<table border=\"1\" class=\"dataframe\">\n",
       "  <thead>\n",
       "    <tr style=\"text-align: right;\">\n",
       "      <th></th>\n",
       "      <th>Country</th>\n",
       "      <th>Value</th>\n",
       "      <th>Series</th>\n",
       "      <th>Year</th>\n",
       "    </tr>\n",
       "  </thead>\n",
       "  <tbody>\n",
       "    <tr>\n",
       "      <th>4</th>\n",
       "      <td>Albania</td>\n",
       "      <td>3975.0</td>\n",
       "      <td>Emissions (thousand metric tons of carbon diox...</td>\n",
       "      <td>2015</td>\n",
       "    </tr>\n",
       "    <tr>\n",
       "      <th>12</th>\n",
       "      <td>Albania</td>\n",
       "      <td>1.3</td>\n",
       "      <td>Emissions per capita (metric tons of carbon di...</td>\n",
       "      <td>2015</td>\n",
       "    </tr>\n",
       "    <tr>\n",
       "      <th>20</th>\n",
       "      <td>Algeria</td>\n",
       "      <td>131690.0</td>\n",
       "      <td>Emissions (thousand metric tons of carbon diox...</td>\n",
       "      <td>2015</td>\n",
       "    </tr>\n",
       "    <tr>\n",
       "      <th>28</th>\n",
       "      <td>Algeria</td>\n",
       "      <td>3.3</td>\n",
       "      <td>Emissions per capita (metric tons of carbon di...</td>\n",
       "      <td>2015</td>\n",
       "    </tr>\n",
       "    <tr>\n",
       "      <th>36</th>\n",
       "      <td>Angola</td>\n",
       "      <td>23293.0</td>\n",
       "      <td>Emissions (thousand metric tons of carbon diox...</td>\n",
       "      <td>2015</td>\n",
       "    </tr>\n",
       "  </tbody>\n",
       "</table>\n",
       "</div>"
      ],
      "text/plain": [
       "    Country     Value                                             Series  Year\n",
       "4   Albania    3975.0  Emissions (thousand metric tons of carbon diox...  2015\n",
       "12  Albania       1.3  Emissions per capita (metric tons of carbon di...  2015\n",
       "20  Algeria  131690.0  Emissions (thousand metric tons of carbon diox...  2015\n",
       "28  Algeria       3.3  Emissions per capita (metric tons of carbon di...  2015\n",
       "36   Angola   23293.0  Emissions (thousand metric tons of carbon diox...  2015"
      ]
     },
     "execution_count": 24,
     "metadata": {},
     "output_type": "execute_result"
    }
   ],
   "source": [
    "filtered_un_co2.head()"
   ]
  },
  {
   "cell_type": "markdown",
   "id": "860252e1-7e46-4051-b8fe-635b0612fdd7",
   "metadata": {},
   "source": [
    "# Step 4: Selecting Variables of Interest\n",
    "We will select the variables described at the beginning of the project:\n",
    "\n",
    "1. **CO2 Emissions per Capita (UN)**\n",
    "2. **Electric power consumption (kWh per capita) (WB)**"
   ]
  },
  {
   "cell_type": "markdown",
   "id": "db21d75d-ef8b-4383-9d76-f28815826e70",
   "metadata": {},
   "source": [
    "## Step 4.1: Selecting CO2 Emissions"
   ]
  },
  {
   "cell_type": "code",
   "execution_count": 25,
   "id": "2e31c7d1-ced0-4c27-96e4-5ad05f11ca6c",
   "metadata": {},
   "outputs": [
    {
     "data": {
      "text/plain": [
       "array(['Emissions (thousand metric tons of carbon dioxide)',\n",
       "       'Emissions per capita (metric tons of carbon dioxide)'],\n",
       "      dtype=object)"
      ]
     },
     "execution_count": 25,
     "metadata": {},
     "output_type": "execute_result"
    }
   ],
   "source": [
    "filtered_un_co2['Series'].unique()"
   ]
  },
  {
   "cell_type": "code",
   "execution_count": 26,
   "id": "881534a2-db31-4dbb-bb01-d766611257af",
   "metadata": {},
   "outputs": [
    {
     "data": {
      "text/html": [
       "<div>\n",
       "<style scoped>\n",
       "    .dataframe tbody tr th:only-of-type {\n",
       "        vertical-align: middle;\n",
       "    }\n",
       "\n",
       "    .dataframe tbody tr th {\n",
       "        vertical-align: top;\n",
       "    }\n",
       "\n",
       "    .dataframe thead th {\n",
       "        text-align: right;\n",
       "    }\n",
       "</style>\n",
       "<table border=\"1\" class=\"dataframe\">\n",
       "  <thead>\n",
       "    <tr style=\"text-align: right;\">\n",
       "      <th></th>\n",
       "      <th>Country</th>\n",
       "      <th>Value</th>\n",
       "      <th>Series</th>\n",
       "      <th>Year</th>\n",
       "    </tr>\n",
       "  </thead>\n",
       "  <tbody>\n",
       "    <tr>\n",
       "      <th>12</th>\n",
       "      <td>Albania</td>\n",
       "      <td>1.3</td>\n",
       "      <td>Emissions per capita (metric tons of carbon di...</td>\n",
       "      <td>2015</td>\n",
       "    </tr>\n",
       "    <tr>\n",
       "      <th>28</th>\n",
       "      <td>Algeria</td>\n",
       "      <td>3.3</td>\n",
       "      <td>Emissions per capita (metric tons of carbon di...</td>\n",
       "      <td>2015</td>\n",
       "    </tr>\n",
       "    <tr>\n",
       "      <th>44</th>\n",
       "      <td>Angola</td>\n",
       "      <td>0.8</td>\n",
       "      <td>Emissions per capita (metric tons of carbon di...</td>\n",
       "      <td>2015</td>\n",
       "    </tr>\n",
       "    <tr>\n",
       "      <th>60</th>\n",
       "      <td>Argentina</td>\n",
       "      <td>4.2</td>\n",
       "      <td>Emissions per capita (metric tons of carbon di...</td>\n",
       "      <td>2015</td>\n",
       "    </tr>\n",
       "    <tr>\n",
       "      <th>72</th>\n",
       "      <td>Armenia</td>\n",
       "      <td>1.7</td>\n",
       "      <td>Emissions per capita (metric tons of carbon di...</td>\n",
       "      <td>2015</td>\n",
       "    </tr>\n",
       "  </tbody>\n",
       "</table>\n",
       "</div>"
      ],
      "text/plain": [
       "      Country Value                                             Series  Year\n",
       "12    Albania   1.3  Emissions per capita (metric tons of carbon di...  2015\n",
       "28    Algeria   3.3  Emissions per capita (metric tons of carbon di...  2015\n",
       "44     Angola   0.8  Emissions per capita (metric tons of carbon di...  2015\n",
       "60  Argentina   4.2  Emissions per capita (metric tons of carbon di...  2015\n",
       "72    Armenia   1.7  Emissions per capita (metric tons of carbon di...  2015"
      ]
     },
     "execution_count": 26,
     "metadata": {},
     "output_type": "execute_result"
    }
   ],
   "source": [
    "final_filtered_un_co2 = filtered_un_co2[filtered_un_co2['Series'] == 'Emissions per capita (metric tons of carbon dioxide)']\n",
    "final_filtered_un_co2.head()"
   ]
  },
  {
   "cell_type": "markdown",
   "id": "b6b84d06-4875-4ba5-97c7-246dcb01d8b3",
   "metadata": {},
   "source": [
    "# Step 5: Merge\n",
    "With the datasets cleaned and prepared, the next step is to combine them. We will merge the data using the key column shared by both datasets, creating a unified dataset for analysis."
   ]
  },
  {
   "cell_type": "code",
   "execution_count": 27,
   "id": "be0e53e4-5b14-4d6e-b406-ca3fe558c7fe",
   "metadata": {},
   "outputs": [
    {
     "data": {
      "text/html": [
       "<div>\n",
       "<style scoped>\n",
       "    .dataframe tbody tr th:only-of-type {\n",
       "        vertical-align: middle;\n",
       "    }\n",
       "\n",
       "    .dataframe tbody tr th {\n",
       "        vertical-align: top;\n",
       "    }\n",
       "\n",
       "    .dataframe thead th {\n",
       "        text-align: right;\n",
       "    }\n",
       "</style>\n",
       "<table border=\"1\" class=\"dataframe\">\n",
       "  <thead>\n",
       "    <tr style=\"text-align: right;\">\n",
       "      <th></th>\n",
       "      <th>Country</th>\n",
       "      <th>Series Name</th>\n",
       "      <th>Series Code</th>\n",
       "      <th>Value_x</th>\n",
       "      <th>Value_y</th>\n",
       "      <th>Series</th>\n",
       "      <th>Year</th>\n",
       "    </tr>\n",
       "  </thead>\n",
       "  <tbody>\n",
       "    <tr>\n",
       "      <th>0</th>\n",
       "      <td>Argentina</td>\n",
       "      <td>Electric power consumption (kWh per capita)</td>\n",
       "      <td>EG.USE.ELEC.KH.PC</td>\n",
       "      <td>3074.702071</td>\n",
       "      <td>4.2</td>\n",
       "      <td>Emissions per capita (metric tons of carbon di...</td>\n",
       "      <td>2015</td>\n",
       "    </tr>\n",
       "    <tr>\n",
       "      <th>1</th>\n",
       "      <td>Australia</td>\n",
       "      <td>Electric power consumption (kWh per capita)</td>\n",
       "      <td>EG.USE.ELEC.KH.PC</td>\n",
       "      <td>10071.398979</td>\n",
       "      <td>16.0</td>\n",
       "      <td>Emissions per capita (metric tons of carbon di...</td>\n",
       "      <td>2015</td>\n",
       "    </tr>\n",
       "    <tr>\n",
       "      <th>2</th>\n",
       "      <td>Brazil</td>\n",
       "      <td>Electric power consumption (kWh per capita)</td>\n",
       "      <td>EG.USE.ELEC.KH.PC</td>\n",
       "      <td>2610.999282</td>\n",
       "      <td>2.2</td>\n",
       "      <td>Emissions per capita (metric tons of carbon di...</td>\n",
       "      <td>2015</td>\n",
       "    </tr>\n",
       "    <tr>\n",
       "      <th>3</th>\n",
       "      <td>China</td>\n",
       "      <td>Electric power consumption (kWh per capita)</td>\n",
       "      <td>EG.USE.ELEC.KH.PC</td>\n",
       "      <td>3905.317598</td>\n",
       "      <td>6.6</td>\n",
       "      <td>Emissions per capita (metric tons of carbon di...</td>\n",
       "      <td>2015</td>\n",
       "    </tr>\n",
       "    <tr>\n",
       "      <th>4</th>\n",
       "      <td>France</td>\n",
       "      <td>Electric power consumption (kWh per capita)</td>\n",
       "      <td>EG.USE.ELEC.KH.PC</td>\n",
       "      <td>6939.943525</td>\n",
       "      <td>4.6</td>\n",
       "      <td>Emissions per capita (metric tons of carbon di...</td>\n",
       "      <td>2015</td>\n",
       "    </tr>\n",
       "  </tbody>\n",
       "</table>\n",
       "</div>"
      ],
      "text/plain": [
       "     Country                                  Series Name        Series Code  \\\n",
       "0  Argentina  Electric power consumption (kWh per capita)  EG.USE.ELEC.KH.PC   \n",
       "1  Australia  Electric power consumption (kWh per capita)  EG.USE.ELEC.KH.PC   \n",
       "2     Brazil  Electric power consumption (kWh per capita)  EG.USE.ELEC.KH.PC   \n",
       "3      China  Electric power consumption (kWh per capita)  EG.USE.ELEC.KH.PC   \n",
       "4     France  Electric power consumption (kWh per capita)  EG.USE.ELEC.KH.PC   \n",
       "\n",
       "        Value_x Value_y                                             Series  \\\n",
       "0   3074.702071     4.2  Emissions per capita (metric tons of carbon di...   \n",
       "1  10071.398979    16.0  Emissions per capita (metric tons of carbon di...   \n",
       "2   2610.999282     2.2  Emissions per capita (metric tons of carbon di...   \n",
       "3   3905.317598     6.6  Emissions per capita (metric tons of carbon di...   \n",
       "4   6939.943525     4.6  Emissions per capita (metric tons of carbon di...   \n",
       "\n",
       "   Year  \n",
       "0  2015  \n",
       "1  2015  \n",
       "2  2015  \n",
       "3  2015  \n",
       "4  2015  "
      ]
     },
     "execution_count": 27,
     "metadata": {},
     "output_type": "execute_result"
    }
   ],
   "source": [
    "file_merged = pd.merge(wb_EPC_2014, final_filtered_un_co2, on=['Country'], how='inner')\n",
    "file_merged.head()"
   ]
  },
  {
   "cell_type": "markdown",
   "id": "948f30b8-7cab-421a-b179-b1961575ac8d",
   "metadata": {},
   "source": [
    "## Step 5.1: Rechecking the Data\n",
    "Although missing values have been addressed and the data has been standardized, we will perform another check as a precaution. Afterward, we will review the minimum and maximum values of the key variables:  \n",
    "- **X:** CO2 Emissions per Capita (UN)  \n",
    "- **Y:** Electric Power Consumption (kWh per capita) (WB)"
   ]
  },
  {
   "cell_type": "code",
   "execution_count": 28,
   "id": "2a7f25d9-1999-4bec-b011-ac644b942e07",
   "metadata": {},
   "outputs": [
    {
     "name": "stdout",
     "output_type": "stream",
     "text": [
      "The range of 'Value_x' is from 797.349232010839 to 10071.3989785006.\n",
      "The range of 'Value_y' is from 1.6 to 16.8.\n"
     ]
    }
   ],
   "source": [
    "file_merged['Value_x'] = pd.to_numeric(file_merged['Value_x'], errors='coerce')\n",
    "file_merged['Value_y'] = pd.to_numeric(file_merged['Value_y'], errors='coerce')\n",
    "file_merged = file_merged.dropna(subset=['Value_x', 'Value_y'])\n",
    "\n",
    "min_x = file_merged['Value_x'].min()\n",
    "max_x = file_merged['Value_x'].max()\n",
    "\n",
    "min_y = file_merged['Value_y'].min()\n",
    "max_y = file_merged['Value_y'].max()\n",
    "\n",
    "print(f\"The range of 'Value_x' is from {min_x} to {max_x}.\")\n",
    "print(f\"The range of 'Value_y' is from {min_y} to {max_y}.\")"
   ]
  },
  {
   "cell_type": "markdown",
   "id": "d4f4173a-153f-48e7-aad1-55f1499a2bcc",
   "metadata": {},
   "source": [
    "## We have verified that these ranges make sense."
   ]
  },
  {
   "cell_type": "code",
   "execution_count": 29,
   "id": "77ebd3a9-08ba-424f-b19e-3e759b62ec6c",
   "metadata": {},
   "outputs": [
    {
     "name": "stdout",
     "output_type": "stream",
     "text": [
      "<class 'pandas.core.frame.DataFrame'>\n",
      "RangeIndex: 16 entries, 0 to 15\n",
      "Data columns (total 7 columns):\n",
      " #   Column       Non-Null Count  Dtype  \n",
      "---  ------       --------------  -----  \n",
      " 0   Country      16 non-null     object \n",
      " 1   Series Name  16 non-null     object \n",
      " 2   Series Code  16 non-null     object \n",
      " 3   Value_x      16 non-null     float64\n",
      " 4   Value_y      16 non-null     float64\n",
      " 5   Series       16 non-null     object \n",
      " 6   Year         16 non-null     object \n",
      "dtypes: float64(2), object(5)\n",
      "memory usage: 1.0+ KB\n"
     ]
    }
   ],
   "source": [
    "file_merged.info()"
   ]
  },
  {
   "cell_type": "markdown",
   "id": "38c082de-c964-487d-8214-578c87e53054",
   "metadata": {},
   "source": [
    "# Step 6: Testing the hypothesis with graph, trend and correlation "
   ]
  },
  {
   "cell_type": "code",
   "execution_count": null,
   "id": "68f253c3-3fee-4064-b317-72f3f1e7010e",
   "metadata": {},
   "outputs": [],
   "source": []
  },
  {
   "cell_type": "code",
   "execution_count": 30,
   "id": "d2b4d172-4bd2-49ee-8f6a-05c3bb1c86dc",
   "metadata": {
    "scrolled": true
   },
   "outputs": [
    {
     "data": {
      "text/html": [
       "        <script type=\"text/javascript\">\n",
       "        window.PlotlyConfig = {MathJaxConfig: 'local'};\n",
       "        if (window.MathJax && window.MathJax.Hub && window.MathJax.Hub.Config) {window.MathJax.Hub.Config({SVG: {font: \"STIX-Web\"}});}\n",
       "        if (typeof require !== 'undefined') {\n",
       "        require.undef(\"plotly\");\n",
       "        requirejs.config({\n",
       "            paths: {\n",
       "                'plotly': ['https://cdn.plot.ly/plotly-2.35.2.min']\n",
       "            }\n",
       "        });\n",
       "        require(['plotly'], function(Plotly) {\n",
       "            window._Plotly = Plotly;\n",
       "        });\n",
       "        }\n",
       "        </script>\n",
       "        "
      ]
     },
     "metadata": {},
     "output_type": "display_data"
    },
    {
     "data": {
      "application/vnd.plotly.v1+json": {
       "config": {
        "plotlyServerURL": "https://plot.ly"
       },
       "data": [
        {
         "hovertemplate": "Energy Consumption =%{x}<br>Emissions per Capita=%{y}<extra></extra>",
         "legendgroup": "",
         "marker": {
          "color": "#636efa",
          "symbol": "circle"
         },
         "mode": "markers",
         "name": "",
         "orientation": "v",
         "showlegend": false,
         "type": "scatter",
         "x": [
          3074.70207056563,
          10071.3989785006,
          2610.99928167575,
          3905.31759800563,
          6939.94352490927,
          7035.48297471676,
          797.349232010839,
          808.418972064685,
          5002.40667987736,
          7819.71463590936,
          2186.37582152033,
          6583.54327856132,
          9047.68551300765,
          5355.98700558221,
          7520.16602494502,
          5130.39025330028
         ],
         "xaxis": "x",
         "y": [
          4.2,
          16,
          2.2,
          6.6,
          4.6,
          8.9,
          1.6,
          1.8,
          5.5,
          9.1,
          3.7,
          10.6,
          16.8,
          5.3,
          4.5,
          6.1
         ],
         "yaxis": "y"
        },
        {
         "hovertemplate": "<b>OLS trendline</b><br>Value_y = 0.00134652 * Value_x + -0.341192<br>R<sup>2</sup>=0.694177<br><br>Energy Consumption =%{x}<br>Emissions per Capita=%{y} <b>(trend)</b><extra></extra>",
         "legendgroup": "",
         "marker": {
          "color": "#636efa",
          "symbol": "circle"
         },
         "mode": "lines",
         "name": "",
         "showlegend": false,
         "type": "scatter",
         "x": [
          797.349232010839,
          808.418972064685,
          2186.37582152033,
          2610.99928167575,
          3074.70207056563,
          3905.31759800563,
          5002.40667987736,
          5130.39025330028,
          5355.98700558221,
          6583.54327856132,
          6939.94352490927,
          7035.48297471676,
          7520.16602494502,
          7819.71463590936,
          9047.68551300765,
          10071.3989785006
         ],
         "xaxis": "x",
         "y": [
          0.7324511636903964,
          0.7473567472226704,
          2.60279787081927,
          3.174560208897918,
          3.798943493448956,
          4.9173806985899455,
          6.394628842868043,
          6.5669607887976555,
          6.870730454516206,
          8.523654775995642,
          9.003553456273751,
          9.132198866446528,
          9.784832411291575,
          10.188179447535155,
          11.841662040148439,
          13.220108733457865
         ],
         "yaxis": "y"
        }
       ],
       "layout": {
        "legend": {
         "tracegroupgap": 0
        },
        "template": {
         "data": {
          "bar": [
           {
            "error_x": {
             "color": "#2a3f5f"
            },
            "error_y": {
             "color": "#2a3f5f"
            },
            "marker": {
             "line": {
              "color": "#E5ECF6",
              "width": 0.5
             },
             "pattern": {
              "fillmode": "overlay",
              "size": 10,
              "solidity": 0.2
             }
            },
            "type": "bar"
           }
          ],
          "barpolar": [
           {
            "marker": {
             "line": {
              "color": "#E5ECF6",
              "width": 0.5
             },
             "pattern": {
              "fillmode": "overlay",
              "size": 10,
              "solidity": 0.2
             }
            },
            "type": "barpolar"
           }
          ],
          "carpet": [
           {
            "aaxis": {
             "endlinecolor": "#2a3f5f",
             "gridcolor": "white",
             "linecolor": "white",
             "minorgridcolor": "white",
             "startlinecolor": "#2a3f5f"
            },
            "baxis": {
             "endlinecolor": "#2a3f5f",
             "gridcolor": "white",
             "linecolor": "white",
             "minorgridcolor": "white",
             "startlinecolor": "#2a3f5f"
            },
            "type": "carpet"
           }
          ],
          "choropleth": [
           {
            "colorbar": {
             "outlinewidth": 0,
             "ticks": ""
            },
            "type": "choropleth"
           }
          ],
          "contour": [
           {
            "colorbar": {
             "outlinewidth": 0,
             "ticks": ""
            },
            "colorscale": [
             [
              0,
              "#0d0887"
             ],
             [
              0.1111111111111111,
              "#46039f"
             ],
             [
              0.2222222222222222,
              "#7201a8"
             ],
             [
              0.3333333333333333,
              "#9c179e"
             ],
             [
              0.4444444444444444,
              "#bd3786"
             ],
             [
              0.5555555555555556,
              "#d8576b"
             ],
             [
              0.6666666666666666,
              "#ed7953"
             ],
             [
              0.7777777777777778,
              "#fb9f3a"
             ],
             [
              0.8888888888888888,
              "#fdca26"
             ],
             [
              1,
              "#f0f921"
             ]
            ],
            "type": "contour"
           }
          ],
          "contourcarpet": [
           {
            "colorbar": {
             "outlinewidth": 0,
             "ticks": ""
            },
            "type": "contourcarpet"
           }
          ],
          "heatmap": [
           {
            "colorbar": {
             "outlinewidth": 0,
             "ticks": ""
            },
            "colorscale": [
             [
              0,
              "#0d0887"
             ],
             [
              0.1111111111111111,
              "#46039f"
             ],
             [
              0.2222222222222222,
              "#7201a8"
             ],
             [
              0.3333333333333333,
              "#9c179e"
             ],
             [
              0.4444444444444444,
              "#bd3786"
             ],
             [
              0.5555555555555556,
              "#d8576b"
             ],
             [
              0.6666666666666666,
              "#ed7953"
             ],
             [
              0.7777777777777778,
              "#fb9f3a"
             ],
             [
              0.8888888888888888,
              "#fdca26"
             ],
             [
              1,
              "#f0f921"
             ]
            ],
            "type": "heatmap"
           }
          ],
          "heatmapgl": [
           {
            "colorbar": {
             "outlinewidth": 0,
             "ticks": ""
            },
            "colorscale": [
             [
              0,
              "#0d0887"
             ],
             [
              0.1111111111111111,
              "#46039f"
             ],
             [
              0.2222222222222222,
              "#7201a8"
             ],
             [
              0.3333333333333333,
              "#9c179e"
             ],
             [
              0.4444444444444444,
              "#bd3786"
             ],
             [
              0.5555555555555556,
              "#d8576b"
             ],
             [
              0.6666666666666666,
              "#ed7953"
             ],
             [
              0.7777777777777778,
              "#fb9f3a"
             ],
             [
              0.8888888888888888,
              "#fdca26"
             ],
             [
              1,
              "#f0f921"
             ]
            ],
            "type": "heatmapgl"
           }
          ],
          "histogram": [
           {
            "marker": {
             "pattern": {
              "fillmode": "overlay",
              "size": 10,
              "solidity": 0.2
             }
            },
            "type": "histogram"
           }
          ],
          "histogram2d": [
           {
            "colorbar": {
             "outlinewidth": 0,
             "ticks": ""
            },
            "colorscale": [
             [
              0,
              "#0d0887"
             ],
             [
              0.1111111111111111,
              "#46039f"
             ],
             [
              0.2222222222222222,
              "#7201a8"
             ],
             [
              0.3333333333333333,
              "#9c179e"
             ],
             [
              0.4444444444444444,
              "#bd3786"
             ],
             [
              0.5555555555555556,
              "#d8576b"
             ],
             [
              0.6666666666666666,
              "#ed7953"
             ],
             [
              0.7777777777777778,
              "#fb9f3a"
             ],
             [
              0.8888888888888888,
              "#fdca26"
             ],
             [
              1,
              "#f0f921"
             ]
            ],
            "type": "histogram2d"
           }
          ],
          "histogram2dcontour": [
           {
            "colorbar": {
             "outlinewidth": 0,
             "ticks": ""
            },
            "colorscale": [
             [
              0,
              "#0d0887"
             ],
             [
              0.1111111111111111,
              "#46039f"
             ],
             [
              0.2222222222222222,
              "#7201a8"
             ],
             [
              0.3333333333333333,
              "#9c179e"
             ],
             [
              0.4444444444444444,
              "#bd3786"
             ],
             [
              0.5555555555555556,
              "#d8576b"
             ],
             [
              0.6666666666666666,
              "#ed7953"
             ],
             [
              0.7777777777777778,
              "#fb9f3a"
             ],
             [
              0.8888888888888888,
              "#fdca26"
             ],
             [
              1,
              "#f0f921"
             ]
            ],
            "type": "histogram2dcontour"
           }
          ],
          "mesh3d": [
           {
            "colorbar": {
             "outlinewidth": 0,
             "ticks": ""
            },
            "type": "mesh3d"
           }
          ],
          "parcoords": [
           {
            "line": {
             "colorbar": {
              "outlinewidth": 0,
              "ticks": ""
             }
            },
            "type": "parcoords"
           }
          ],
          "pie": [
           {
            "automargin": true,
            "type": "pie"
           }
          ],
          "scatter": [
           {
            "fillpattern": {
             "fillmode": "overlay",
             "size": 10,
             "solidity": 0.2
            },
            "type": "scatter"
           }
          ],
          "scatter3d": [
           {
            "line": {
             "colorbar": {
              "outlinewidth": 0,
              "ticks": ""
             }
            },
            "marker": {
             "colorbar": {
              "outlinewidth": 0,
              "ticks": ""
             }
            },
            "type": "scatter3d"
           }
          ],
          "scattercarpet": [
           {
            "marker": {
             "colorbar": {
              "outlinewidth": 0,
              "ticks": ""
             }
            },
            "type": "scattercarpet"
           }
          ],
          "scattergeo": [
           {
            "marker": {
             "colorbar": {
              "outlinewidth": 0,
              "ticks": ""
             }
            },
            "type": "scattergeo"
           }
          ],
          "scattergl": [
           {
            "marker": {
             "colorbar": {
              "outlinewidth": 0,
              "ticks": ""
             }
            },
            "type": "scattergl"
           }
          ],
          "scattermapbox": [
           {
            "marker": {
             "colorbar": {
              "outlinewidth": 0,
              "ticks": ""
             }
            },
            "type": "scattermapbox"
           }
          ],
          "scatterpolar": [
           {
            "marker": {
             "colorbar": {
              "outlinewidth": 0,
              "ticks": ""
             }
            },
            "type": "scatterpolar"
           }
          ],
          "scatterpolargl": [
           {
            "marker": {
             "colorbar": {
              "outlinewidth": 0,
              "ticks": ""
             }
            },
            "type": "scatterpolargl"
           }
          ],
          "scatterternary": [
           {
            "marker": {
             "colorbar": {
              "outlinewidth": 0,
              "ticks": ""
             }
            },
            "type": "scatterternary"
           }
          ],
          "surface": [
           {
            "colorbar": {
             "outlinewidth": 0,
             "ticks": ""
            },
            "colorscale": [
             [
              0,
              "#0d0887"
             ],
             [
              0.1111111111111111,
              "#46039f"
             ],
             [
              0.2222222222222222,
              "#7201a8"
             ],
             [
              0.3333333333333333,
              "#9c179e"
             ],
             [
              0.4444444444444444,
              "#bd3786"
             ],
             [
              0.5555555555555556,
              "#d8576b"
             ],
             [
              0.6666666666666666,
              "#ed7953"
             ],
             [
              0.7777777777777778,
              "#fb9f3a"
             ],
             [
              0.8888888888888888,
              "#fdca26"
             ],
             [
              1,
              "#f0f921"
             ]
            ],
            "type": "surface"
           }
          ],
          "table": [
           {
            "cells": {
             "fill": {
              "color": "#EBF0F8"
             },
             "line": {
              "color": "white"
             }
            },
            "header": {
             "fill": {
              "color": "#C8D4E3"
             },
             "line": {
              "color": "white"
             }
            },
            "type": "table"
           }
          ]
         },
         "layout": {
          "annotationdefaults": {
           "arrowcolor": "#2a3f5f",
           "arrowhead": 0,
           "arrowwidth": 1
          },
          "autotypenumbers": "strict",
          "coloraxis": {
           "colorbar": {
            "outlinewidth": 0,
            "ticks": ""
           }
          },
          "colorscale": {
           "diverging": [
            [
             0,
             "#8e0152"
            ],
            [
             0.1,
             "#c51b7d"
            ],
            [
             0.2,
             "#de77ae"
            ],
            [
             0.3,
             "#f1b6da"
            ],
            [
             0.4,
             "#fde0ef"
            ],
            [
             0.5,
             "#f7f7f7"
            ],
            [
             0.6,
             "#e6f5d0"
            ],
            [
             0.7,
             "#b8e186"
            ],
            [
             0.8,
             "#7fbc41"
            ],
            [
             0.9,
             "#4d9221"
            ],
            [
             1,
             "#276419"
            ]
           ],
           "sequential": [
            [
             0,
             "#0d0887"
            ],
            [
             0.1111111111111111,
             "#46039f"
            ],
            [
             0.2222222222222222,
             "#7201a8"
            ],
            [
             0.3333333333333333,
             "#9c179e"
            ],
            [
             0.4444444444444444,
             "#bd3786"
            ],
            [
             0.5555555555555556,
             "#d8576b"
            ],
            [
             0.6666666666666666,
             "#ed7953"
            ],
            [
             0.7777777777777778,
             "#fb9f3a"
            ],
            [
             0.8888888888888888,
             "#fdca26"
            ],
            [
             1,
             "#f0f921"
            ]
           ],
           "sequentialminus": [
            [
             0,
             "#0d0887"
            ],
            [
             0.1111111111111111,
             "#46039f"
            ],
            [
             0.2222222222222222,
             "#7201a8"
            ],
            [
             0.3333333333333333,
             "#9c179e"
            ],
            [
             0.4444444444444444,
             "#bd3786"
            ],
            [
             0.5555555555555556,
             "#d8576b"
            ],
            [
             0.6666666666666666,
             "#ed7953"
            ],
            [
             0.7777777777777778,
             "#fb9f3a"
            ],
            [
             0.8888888888888888,
             "#fdca26"
            ],
            [
             1,
             "#f0f921"
            ]
           ]
          },
          "colorway": [
           "#636efa",
           "#EF553B",
           "#00cc96",
           "#ab63fa",
           "#FFA15A",
           "#19d3f3",
           "#FF6692",
           "#B6E880",
           "#FF97FF",
           "#FECB52"
          ],
          "font": {
           "color": "#2a3f5f"
          },
          "geo": {
           "bgcolor": "white",
           "lakecolor": "white",
           "landcolor": "#E5ECF6",
           "showlakes": true,
           "showland": true,
           "subunitcolor": "white"
          },
          "hoverlabel": {
           "align": "left"
          },
          "hovermode": "closest",
          "mapbox": {
           "style": "light"
          },
          "paper_bgcolor": "white",
          "plot_bgcolor": "#E5ECF6",
          "polar": {
           "angularaxis": {
            "gridcolor": "white",
            "linecolor": "white",
            "ticks": ""
           },
           "bgcolor": "#E5ECF6",
           "radialaxis": {
            "gridcolor": "white",
            "linecolor": "white",
            "ticks": ""
           }
          },
          "scene": {
           "xaxis": {
            "backgroundcolor": "#E5ECF6",
            "gridcolor": "white",
            "gridwidth": 2,
            "linecolor": "white",
            "showbackground": true,
            "ticks": "",
            "zerolinecolor": "white"
           },
           "yaxis": {
            "backgroundcolor": "#E5ECF6",
            "gridcolor": "white",
            "gridwidth": 2,
            "linecolor": "white",
            "showbackground": true,
            "ticks": "",
            "zerolinecolor": "white"
           },
           "zaxis": {
            "backgroundcolor": "#E5ECF6",
            "gridcolor": "white",
            "gridwidth": 2,
            "linecolor": "white",
            "showbackground": true,
            "ticks": "",
            "zerolinecolor": "white"
           }
          },
          "shapedefaults": {
           "line": {
            "color": "#2a3f5f"
           }
          },
          "ternary": {
           "aaxis": {
            "gridcolor": "white",
            "linecolor": "white",
            "ticks": ""
           },
           "baxis": {
            "gridcolor": "white",
            "linecolor": "white",
            "ticks": ""
           },
           "bgcolor": "#E5ECF6",
           "caxis": {
            "gridcolor": "white",
            "linecolor": "white",
            "ticks": ""
           }
          },
          "title": {
           "x": 0.05
          },
          "xaxis": {
           "automargin": true,
           "gridcolor": "white",
           "linecolor": "white",
           "ticks": "",
           "title": {
            "standoff": 15
           },
           "zerolinecolor": "white",
           "zerolinewidth": 2
          },
          "yaxis": {
           "automargin": true,
           "gridcolor": "white",
           "linecolor": "white",
           "ticks": "",
           "title": {
            "standoff": 15
           },
           "zerolinecolor": "white",
           "zerolinewidth": 2
          }
         }
        },
        "title": {
         "text": "Electric power consumption (kWh per capita)"
        },
        "xaxis": {
         "anchor": "y",
         "domain": [
          0,
          1
         ],
         "title": {
          "text": "Energy Consumption "
         }
        },
        "yaxis": {
         "anchor": "x",
         "domain": [
          0,
          1
         ],
         "title": {
          "text": "Emissions per Capita"
         }
        }
       }
      },
      "text/html": [
       "<div>                            <div id=\"f212ea42-0cc2-4412-9a02-078a055c3a5d\" class=\"plotly-graph-div\" style=\"height:525px; width:100%;\"></div>            <script type=\"text/javascript\">                require([\"plotly\"], function(Plotly) {                    window.PLOTLYENV=window.PLOTLYENV || {};                                    if (document.getElementById(\"f212ea42-0cc2-4412-9a02-078a055c3a5d\")) {                    Plotly.newPlot(                        \"f212ea42-0cc2-4412-9a02-078a055c3a5d\",                        [{\"hovertemplate\":\"Energy Consumption =%{x}\\u003cbr\\u003eEmissions per Capita=%{y}\\u003cextra\\u003e\\u003c\\u002fextra\\u003e\",\"legendgroup\":\"\",\"marker\":{\"color\":\"#636efa\",\"symbol\":\"circle\"},\"mode\":\"markers\",\"name\":\"\",\"orientation\":\"v\",\"showlegend\":false,\"x\":[3074.70207056563,10071.3989785006,2610.99928167575,3905.31759800563,6939.94352490927,7035.48297471676,797.349232010839,808.418972064685,5002.40667987736,7819.71463590936,2186.37582152033,6583.54327856132,9047.68551300765,5355.98700558221,7520.16602494502,5130.39025330028],\"xaxis\":\"x\",\"y\":[4.2,16.0,2.2,6.6,4.6,8.9,1.6,1.8,5.5,9.1,3.7,10.6,16.8,5.3,4.5,6.1],\"yaxis\":\"y\",\"type\":\"scatter\"},{\"hovertemplate\":\"\\u003cb\\u003eOLS trendline\\u003c\\u002fb\\u003e\\u003cbr\\u003eValue_y = 0.00134652 * Value_x + -0.341192\\u003cbr\\u003eR\\u003csup\\u003e2\\u003c\\u002fsup\\u003e=0.694177\\u003cbr\\u003e\\u003cbr\\u003eEnergy Consumption =%{x}\\u003cbr\\u003eEmissions per Capita=%{y} \\u003cb\\u003e(trend)\\u003c\\u002fb\\u003e\\u003cextra\\u003e\\u003c\\u002fextra\\u003e\",\"legendgroup\":\"\",\"marker\":{\"color\":\"#636efa\",\"symbol\":\"circle\"},\"mode\":\"lines\",\"name\":\"\",\"showlegend\":false,\"x\":[797.349232010839,808.418972064685,2186.37582152033,2610.99928167575,3074.70207056563,3905.31759800563,5002.40667987736,5130.39025330028,5355.98700558221,6583.54327856132,6939.94352490927,7035.48297471676,7520.16602494502,7819.71463590936,9047.68551300765,10071.3989785006],\"xaxis\":\"x\",\"y\":[0.7324511636903964,0.7473567472226704,2.60279787081927,3.174560208897918,3.798943493448956,4.9173806985899455,6.394628842868043,6.5669607887976555,6.870730454516206,8.523654775995642,9.003553456273751,9.132198866446528,9.784832411291575,10.188179447535155,11.841662040148439,13.220108733457865],\"yaxis\":\"y\",\"type\":\"scatter\"}],                        {\"template\":{\"data\":{\"histogram2dcontour\":[{\"type\":\"histogram2dcontour\",\"colorbar\":{\"outlinewidth\":0,\"ticks\":\"\"},\"colorscale\":[[0.0,\"#0d0887\"],[0.1111111111111111,\"#46039f\"],[0.2222222222222222,\"#7201a8\"],[0.3333333333333333,\"#9c179e\"],[0.4444444444444444,\"#bd3786\"],[0.5555555555555556,\"#d8576b\"],[0.6666666666666666,\"#ed7953\"],[0.7777777777777778,\"#fb9f3a\"],[0.8888888888888888,\"#fdca26\"],[1.0,\"#f0f921\"]]}],\"choropleth\":[{\"type\":\"choropleth\",\"colorbar\":{\"outlinewidth\":0,\"ticks\":\"\"}}],\"histogram2d\":[{\"type\":\"histogram2d\",\"colorbar\":{\"outlinewidth\":0,\"ticks\":\"\"},\"colorscale\":[[0.0,\"#0d0887\"],[0.1111111111111111,\"#46039f\"],[0.2222222222222222,\"#7201a8\"],[0.3333333333333333,\"#9c179e\"],[0.4444444444444444,\"#bd3786\"],[0.5555555555555556,\"#d8576b\"],[0.6666666666666666,\"#ed7953\"],[0.7777777777777778,\"#fb9f3a\"],[0.8888888888888888,\"#fdca26\"],[1.0,\"#f0f921\"]]}],\"heatmap\":[{\"type\":\"heatmap\",\"colorbar\":{\"outlinewidth\":0,\"ticks\":\"\"},\"colorscale\":[[0.0,\"#0d0887\"],[0.1111111111111111,\"#46039f\"],[0.2222222222222222,\"#7201a8\"],[0.3333333333333333,\"#9c179e\"],[0.4444444444444444,\"#bd3786\"],[0.5555555555555556,\"#d8576b\"],[0.6666666666666666,\"#ed7953\"],[0.7777777777777778,\"#fb9f3a\"],[0.8888888888888888,\"#fdca26\"],[1.0,\"#f0f921\"]]}],\"heatmapgl\":[{\"type\":\"heatmapgl\",\"colorbar\":{\"outlinewidth\":0,\"ticks\":\"\"},\"colorscale\":[[0.0,\"#0d0887\"],[0.1111111111111111,\"#46039f\"],[0.2222222222222222,\"#7201a8\"],[0.3333333333333333,\"#9c179e\"],[0.4444444444444444,\"#bd3786\"],[0.5555555555555556,\"#d8576b\"],[0.6666666666666666,\"#ed7953\"],[0.7777777777777778,\"#fb9f3a\"],[0.8888888888888888,\"#fdca26\"],[1.0,\"#f0f921\"]]}],\"contourcarpet\":[{\"type\":\"contourcarpet\",\"colorbar\":{\"outlinewidth\":0,\"ticks\":\"\"}}],\"contour\":[{\"type\":\"contour\",\"colorbar\":{\"outlinewidth\":0,\"ticks\":\"\"},\"colorscale\":[[0.0,\"#0d0887\"],[0.1111111111111111,\"#46039f\"],[0.2222222222222222,\"#7201a8\"],[0.3333333333333333,\"#9c179e\"],[0.4444444444444444,\"#bd3786\"],[0.5555555555555556,\"#d8576b\"],[0.6666666666666666,\"#ed7953\"],[0.7777777777777778,\"#fb9f3a\"],[0.8888888888888888,\"#fdca26\"],[1.0,\"#f0f921\"]]}],\"surface\":[{\"type\":\"surface\",\"colorbar\":{\"outlinewidth\":0,\"ticks\":\"\"},\"colorscale\":[[0.0,\"#0d0887\"],[0.1111111111111111,\"#46039f\"],[0.2222222222222222,\"#7201a8\"],[0.3333333333333333,\"#9c179e\"],[0.4444444444444444,\"#bd3786\"],[0.5555555555555556,\"#d8576b\"],[0.6666666666666666,\"#ed7953\"],[0.7777777777777778,\"#fb9f3a\"],[0.8888888888888888,\"#fdca26\"],[1.0,\"#f0f921\"]]}],\"mesh3d\":[{\"type\":\"mesh3d\",\"colorbar\":{\"outlinewidth\":0,\"ticks\":\"\"}}],\"scatter\":[{\"fillpattern\":{\"fillmode\":\"overlay\",\"size\":10,\"solidity\":0.2},\"type\":\"scatter\"}],\"parcoords\":[{\"type\":\"parcoords\",\"line\":{\"colorbar\":{\"outlinewidth\":0,\"ticks\":\"\"}}}],\"scatterpolargl\":[{\"type\":\"scatterpolargl\",\"marker\":{\"colorbar\":{\"outlinewidth\":0,\"ticks\":\"\"}}}],\"bar\":[{\"error_x\":{\"color\":\"#2a3f5f\"},\"error_y\":{\"color\":\"#2a3f5f\"},\"marker\":{\"line\":{\"color\":\"#E5ECF6\",\"width\":0.5},\"pattern\":{\"fillmode\":\"overlay\",\"size\":10,\"solidity\":0.2}},\"type\":\"bar\"}],\"scattergeo\":[{\"type\":\"scattergeo\",\"marker\":{\"colorbar\":{\"outlinewidth\":0,\"ticks\":\"\"}}}],\"scatterpolar\":[{\"type\":\"scatterpolar\",\"marker\":{\"colorbar\":{\"outlinewidth\":0,\"ticks\":\"\"}}}],\"histogram\":[{\"marker\":{\"pattern\":{\"fillmode\":\"overlay\",\"size\":10,\"solidity\":0.2}},\"type\":\"histogram\"}],\"scattergl\":[{\"type\":\"scattergl\",\"marker\":{\"colorbar\":{\"outlinewidth\":0,\"ticks\":\"\"}}}],\"scatter3d\":[{\"type\":\"scatter3d\",\"line\":{\"colorbar\":{\"outlinewidth\":0,\"ticks\":\"\"}},\"marker\":{\"colorbar\":{\"outlinewidth\":0,\"ticks\":\"\"}}}],\"scattermapbox\":[{\"type\":\"scattermapbox\",\"marker\":{\"colorbar\":{\"outlinewidth\":0,\"ticks\":\"\"}}}],\"scatterternary\":[{\"type\":\"scatterternary\",\"marker\":{\"colorbar\":{\"outlinewidth\":0,\"ticks\":\"\"}}}],\"scattercarpet\":[{\"type\":\"scattercarpet\",\"marker\":{\"colorbar\":{\"outlinewidth\":0,\"ticks\":\"\"}}}],\"carpet\":[{\"aaxis\":{\"endlinecolor\":\"#2a3f5f\",\"gridcolor\":\"white\",\"linecolor\":\"white\",\"minorgridcolor\":\"white\",\"startlinecolor\":\"#2a3f5f\"},\"baxis\":{\"endlinecolor\":\"#2a3f5f\",\"gridcolor\":\"white\",\"linecolor\":\"white\",\"minorgridcolor\":\"white\",\"startlinecolor\":\"#2a3f5f\"},\"type\":\"carpet\"}],\"table\":[{\"cells\":{\"fill\":{\"color\":\"#EBF0F8\"},\"line\":{\"color\":\"white\"}},\"header\":{\"fill\":{\"color\":\"#C8D4E3\"},\"line\":{\"color\":\"white\"}},\"type\":\"table\"}],\"barpolar\":[{\"marker\":{\"line\":{\"color\":\"#E5ECF6\",\"width\":0.5},\"pattern\":{\"fillmode\":\"overlay\",\"size\":10,\"solidity\":0.2}},\"type\":\"barpolar\"}],\"pie\":[{\"automargin\":true,\"type\":\"pie\"}]},\"layout\":{\"autotypenumbers\":\"strict\",\"colorway\":[\"#636efa\",\"#EF553B\",\"#00cc96\",\"#ab63fa\",\"#FFA15A\",\"#19d3f3\",\"#FF6692\",\"#B6E880\",\"#FF97FF\",\"#FECB52\"],\"font\":{\"color\":\"#2a3f5f\"},\"hovermode\":\"closest\",\"hoverlabel\":{\"align\":\"left\"},\"paper_bgcolor\":\"white\",\"plot_bgcolor\":\"#E5ECF6\",\"polar\":{\"bgcolor\":\"#E5ECF6\",\"angularaxis\":{\"gridcolor\":\"white\",\"linecolor\":\"white\",\"ticks\":\"\"},\"radialaxis\":{\"gridcolor\":\"white\",\"linecolor\":\"white\",\"ticks\":\"\"}},\"ternary\":{\"bgcolor\":\"#E5ECF6\",\"aaxis\":{\"gridcolor\":\"white\",\"linecolor\":\"white\",\"ticks\":\"\"},\"baxis\":{\"gridcolor\":\"white\",\"linecolor\":\"white\",\"ticks\":\"\"},\"caxis\":{\"gridcolor\":\"white\",\"linecolor\":\"white\",\"ticks\":\"\"}},\"coloraxis\":{\"colorbar\":{\"outlinewidth\":0,\"ticks\":\"\"}},\"colorscale\":{\"sequential\":[[0.0,\"#0d0887\"],[0.1111111111111111,\"#46039f\"],[0.2222222222222222,\"#7201a8\"],[0.3333333333333333,\"#9c179e\"],[0.4444444444444444,\"#bd3786\"],[0.5555555555555556,\"#d8576b\"],[0.6666666666666666,\"#ed7953\"],[0.7777777777777778,\"#fb9f3a\"],[0.8888888888888888,\"#fdca26\"],[1.0,\"#f0f921\"]],\"sequentialminus\":[[0.0,\"#0d0887\"],[0.1111111111111111,\"#46039f\"],[0.2222222222222222,\"#7201a8\"],[0.3333333333333333,\"#9c179e\"],[0.4444444444444444,\"#bd3786\"],[0.5555555555555556,\"#d8576b\"],[0.6666666666666666,\"#ed7953\"],[0.7777777777777778,\"#fb9f3a\"],[0.8888888888888888,\"#fdca26\"],[1.0,\"#f0f921\"]],\"diverging\":[[0,\"#8e0152\"],[0.1,\"#c51b7d\"],[0.2,\"#de77ae\"],[0.3,\"#f1b6da\"],[0.4,\"#fde0ef\"],[0.5,\"#f7f7f7\"],[0.6,\"#e6f5d0\"],[0.7,\"#b8e186\"],[0.8,\"#7fbc41\"],[0.9,\"#4d9221\"],[1,\"#276419\"]]},\"xaxis\":{\"gridcolor\":\"white\",\"linecolor\":\"white\",\"ticks\":\"\",\"title\":{\"standoff\":15},\"zerolinecolor\":\"white\",\"automargin\":true,\"zerolinewidth\":2},\"yaxis\":{\"gridcolor\":\"white\",\"linecolor\":\"white\",\"ticks\":\"\",\"title\":{\"standoff\":15},\"zerolinecolor\":\"white\",\"automargin\":true,\"zerolinewidth\":2},\"scene\":{\"xaxis\":{\"backgroundcolor\":\"#E5ECF6\",\"gridcolor\":\"white\",\"linecolor\":\"white\",\"showbackground\":true,\"ticks\":\"\",\"zerolinecolor\":\"white\",\"gridwidth\":2},\"yaxis\":{\"backgroundcolor\":\"#E5ECF6\",\"gridcolor\":\"white\",\"linecolor\":\"white\",\"showbackground\":true,\"ticks\":\"\",\"zerolinecolor\":\"white\",\"gridwidth\":2},\"zaxis\":{\"backgroundcolor\":\"#E5ECF6\",\"gridcolor\":\"white\",\"linecolor\":\"white\",\"showbackground\":true,\"ticks\":\"\",\"zerolinecolor\":\"white\",\"gridwidth\":2}},\"shapedefaults\":{\"line\":{\"color\":\"#2a3f5f\"}},\"annotationdefaults\":{\"arrowcolor\":\"#2a3f5f\",\"arrowhead\":0,\"arrowwidth\":1},\"geo\":{\"bgcolor\":\"white\",\"landcolor\":\"#E5ECF6\",\"subunitcolor\":\"white\",\"showland\":true,\"showlakes\":true,\"lakecolor\":\"white\"},\"title\":{\"x\":0.05},\"mapbox\":{\"style\":\"light\"}}},\"xaxis\":{\"anchor\":\"y\",\"domain\":[0.0,1.0],\"title\":{\"text\":\"Energy Consumption \"}},\"yaxis\":{\"anchor\":\"x\",\"domain\":[0.0,1.0],\"title\":{\"text\":\"Emissions per Capita\"}},\"legend\":{\"tracegroupgap\":0},\"title\":{\"text\":\"Electric power consumption (kWh per capita)\"}},                        {\"responsive\": true}                    ).then(function(){\n",
       "                            \n",
       "var gd = document.getElementById('f212ea42-0cc2-4412-9a02-078a055c3a5d');\n",
       "var x = new MutationObserver(function (mutations, observer) {{\n",
       "        var display = window.getComputedStyle(gd).display;\n",
       "        if (!display || display === 'none') {{\n",
       "            console.log([gd, 'removed!']);\n",
       "            Plotly.purge(gd);\n",
       "            observer.disconnect();\n",
       "        }}\n",
       "}});\n",
       "\n",
       "// Listen for the removal of the full notebook cells\n",
       "var notebookContainer = gd.closest('#notebook-container');\n",
       "if (notebookContainer) {{\n",
       "    x.observe(notebookContainer, {childList: true});\n",
       "}}\n",
       "\n",
       "// Listen for the clearing of the current output cell\n",
       "var outputEl = gd.closest('.output');\n",
       "if (outputEl) {{\n",
       "    x.observe(outputEl, {childList: true});\n",
       "}}\n",
       "\n",
       "                        })                };                });            </script>        </div>"
      ]
     },
     "metadata": {},
     "output_type": "display_data"
    }
   ],
   "source": [
    "fig = px.scatter(\n",
    "    file_merged,\n",
    "    x=\"Value_x\",\n",
    "    y=\"Value_y\",\n",
    "    title=\"Electric power consumption (kWh per capita)\",\n",
    "    labels={\"Value_x\": \"Energy Consumption \", \"Value_y\": \"Emissions per Capita\"},\n",
    "    trendline=\"ols\" \n",
    ")\n",
    "fig.show()"
   ]
  },
  {
   "cell_type": "markdown",
   "id": "5419e1f3-e30e-44b0-a48e-9875823fde24",
   "metadata": {},
   "source": [
    "#### **Conclusion**: The results suggest that the hypothesis may be correct, as there appears to be a significant relationship between the analyzed variables.\n",
    "\n",
    "#### However, this finding should be validated with a Pearson correlation analysis. Even though correlation does not imply causation, it can provide additional insights."
   ]
  },
  {
   "cell_type": "code",
   "execution_count": 31,
   "id": "59aeb96b-64b1-4aea-a98c-0eef6c9fdc8c",
   "metadata": {},
   "outputs": [
    {
     "name": "stdout",
     "output_type": "stream",
     "text": [
      "The Pearson Correlation is: 0.8331730762113077\n"
     ]
    }
   ],
   "source": [
    "correlation_pearson = file_merged['Value_x'].corr(file_merged['Value_y'])\n",
    "print(f\"The Pearson Correlation is: {correlation_pearson}\")"
   ]
  },
  {
   "cell_type": "markdown",
   "id": "7adb38c3-14d1-45b3-bc4f-74f0e26c70bf",
   "metadata": {},
   "source": [
    "#### **Finally, the Pearson correlation analysis reveals a strong positive correlation, supporting the existence of a linear relationship between the two variables.**"
   ]
  }
 ],
 "metadata": {
  "kernelspec": {
   "display_name": "base",
   "language": "python",
   "name": "python3"
  },
  "language_info": {
   "codemirror_mode": {
    "name": "ipython",
    "version": 3
   },
   "file_extension": ".py",
   "mimetype": "text/x-python",
   "name": "python",
   "nbconvert_exporter": "python",
   "pygments_lexer": "ipython3",
   "version": "3.12.4"
  }
 },
 "nbformat": 4,
 "nbformat_minor": 5
}
