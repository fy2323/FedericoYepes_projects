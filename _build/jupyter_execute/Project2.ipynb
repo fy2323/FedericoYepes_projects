{
 "cells": [
  {
   "cell_type": "markdown",
   "id": "742b7b1b-293d-4314-9232-9d5dfc22458b",
   "metadata": {},
   "source": [
    "# Project 2\n",
    "Database 1 Co2 emmissions: https://data.un.org/_Docs/SYB/PDFs/SYB66_310_202310_Carbon%20Dioxide%20Emission%20Estimates.pdf\n",
    "Database 2 Agricultural production: https://data.un.org https://data.un.org/_Docs/SYB/PDFs/SYB66_12_202310_Agricultural%20Index.pdf"
   ]
  },
  {
   "cell_type": "code",
   "execution_count": 1,
   "id": "9d4b7be5-7ecf-4997-90fa-4b597c6b732c",
   "metadata": {},
   "outputs": [],
   "source": [
    "import pandas as pd\n",
    "import plotly.io as pio\n",
    "\n",
    "pio.renderers.default = \"vscode+jupyterlab+notebook_connected\""
   ]
  },
  {
   "cell_type": "code",
   "execution_count": 2,
   "id": "9878a898-2b42-4d55-a971-c5d0ee8ac321",
   "metadata": {},
   "outputs": [
    {
     "data": {
      "text/html": [
       "<div>\n",
       "<style scoped>\n",
       "    .dataframe tbody tr th:only-of-type {\n",
       "        vertical-align: middle;\n",
       "    }\n",
       "\n",
       "    .dataframe tbody tr th {\n",
       "        vertical-align: top;\n",
       "    }\n",
       "\n",
       "    .dataframe thead th {\n",
       "        text-align: right;\n",
       "    }\n",
       "</style>\n",
       "<table border=\"1\" class=\"dataframe\">\n",
       "  <thead>\n",
       "    <tr style=\"text-align: right;\">\n",
       "      <th></th>\n",
       "      <th>N°</th>\n",
       "      <th>Country</th>\n",
       "      <th>Year</th>\n",
       "      <th>Series</th>\n",
       "      <th>Value</th>\n",
       "      <th>Footnotes</th>\n",
       "      <th>Source</th>\n",
       "    </tr>\n",
       "  </thead>\n",
       "  <tbody>\n",
       "    <tr>\n",
       "      <th>0</th>\n",
       "      <td>8</td>\n",
       "      <td>Albania</td>\n",
       "      <td>1975</td>\n",
       "      <td>Emissions (thousand metric tons of carbon diox...</td>\n",
       "      <td>4,524</td>\n",
       "      <td>NaN</td>\n",
       "      <td>International Energy Agency, IEA World Energy ...</td>\n",
       "    </tr>\n",
       "    <tr>\n",
       "      <th>1</th>\n",
       "      <td>8</td>\n",
       "      <td>Albania</td>\n",
       "      <td>1985</td>\n",
       "      <td>Emissions (thousand metric tons of carbon diox...</td>\n",
       "      <td>7,145</td>\n",
       "      <td>NaN</td>\n",
       "      <td>International Energy Agency, IEA World Energy ...</td>\n",
       "    </tr>\n",
       "    <tr>\n",
       "      <th>2</th>\n",
       "      <td>8</td>\n",
       "      <td>Albania</td>\n",
       "      <td>2005</td>\n",
       "      <td>Emissions (thousand metric tons of carbon diox...</td>\n",
       "      <td>3,980</td>\n",
       "      <td>NaN</td>\n",
       "      <td>International Energy Agency, IEA World Energy ...</td>\n",
       "    </tr>\n",
       "    <tr>\n",
       "      <th>3</th>\n",
       "      <td>8</td>\n",
       "      <td>Albania</td>\n",
       "      <td>2010</td>\n",
       "      <td>Emissions (thousand metric tons of carbon diox...</td>\n",
       "      <td>4,074</td>\n",
       "      <td>NaN</td>\n",
       "      <td>International Energy Agency, IEA World Energy ...</td>\n",
       "    </tr>\n",
       "    <tr>\n",
       "      <th>4</th>\n",
       "      <td>8</td>\n",
       "      <td>Albania</td>\n",
       "      <td>2015</td>\n",
       "      <td>Emissions (thousand metric tons of carbon diox...</td>\n",
       "      <td>3,975</td>\n",
       "      <td>NaN</td>\n",
       "      <td>International Energy Agency, IEA World Energy ...</td>\n",
       "    </tr>\n",
       "    <tr>\n",
       "      <th>...</th>\n",
       "      <td>...</td>\n",
       "      <td>...</td>\n",
       "      <td>...</td>\n",
       "      <td>...</td>\n",
       "      <td>...</td>\n",
       "      <td>...</td>\n",
       "      <td>...</td>\n",
       "    </tr>\n",
       "    <tr>\n",
       "      <th>2259</th>\n",
       "      <td>716</td>\n",
       "      <td>Zimbabwe</td>\n",
       "      <td>2010</td>\n",
       "      <td>Emissions per capita (metric tons of carbon di...</td>\n",
       "      <td>0.7</td>\n",
       "      <td>NaN</td>\n",
       "      <td>International Energy Agency, IEA World Energy ...</td>\n",
       "    </tr>\n",
       "    <tr>\n",
       "      <th>2260</th>\n",
       "      <td>716</td>\n",
       "      <td>Zimbabwe</td>\n",
       "      <td>2015</td>\n",
       "      <td>Emissions per capita (metric tons of carbon di...</td>\n",
       "      <td>0.8</td>\n",
       "      <td>NaN</td>\n",
       "      <td>International Energy Agency, IEA World Energy ...</td>\n",
       "    </tr>\n",
       "    <tr>\n",
       "      <th>2261</th>\n",
       "      <td>716</td>\n",
       "      <td>Zimbabwe</td>\n",
       "      <td>2018</td>\n",
       "      <td>Emissions per capita (metric tons of carbon di...</td>\n",
       "      <td>0.7</td>\n",
       "      <td>NaN</td>\n",
       "      <td>International Energy Agency, IEA World Energy ...</td>\n",
       "    </tr>\n",
       "    <tr>\n",
       "      <th>2262</th>\n",
       "      <td>716</td>\n",
       "      <td>Zimbabwe</td>\n",
       "      <td>2019</td>\n",
       "      <td>Emissions per capita (metric tons of carbon di...</td>\n",
       "      <td>0.7</td>\n",
       "      <td>NaN</td>\n",
       "      <td>International Energy Agency, IEA World Energy ...</td>\n",
       "    </tr>\n",
       "    <tr>\n",
       "      <th>2263</th>\n",
       "      <td>716</td>\n",
       "      <td>Zimbabwe</td>\n",
       "      <td>2020</td>\n",
       "      <td>Emissions per capita (metric tons of carbon di...</td>\n",
       "      <td>0.5</td>\n",
       "      <td>NaN</td>\n",
       "      <td>International Energy Agency, IEA World Energy ...</td>\n",
       "    </tr>\n",
       "  </tbody>\n",
       "</table>\n",
       "<p>2264 rows × 7 columns</p>\n",
       "</div>"
      ],
      "text/plain": [
       "       N°   Country  Year                                             Series  \\\n",
       "0       8   Albania  1975  Emissions (thousand metric tons of carbon diox...   \n",
       "1       8   Albania  1985  Emissions (thousand metric tons of carbon diox...   \n",
       "2       8   Albania  2005  Emissions (thousand metric tons of carbon diox...   \n",
       "3       8   Albania  2010  Emissions (thousand metric tons of carbon diox...   \n",
       "4       8   Albania  2015  Emissions (thousand metric tons of carbon diox...   \n",
       "...   ...       ...   ...                                                ...   \n",
       "2259  716  Zimbabwe  2010  Emissions per capita (metric tons of carbon di...   \n",
       "2260  716  Zimbabwe  2015  Emissions per capita (metric tons of carbon di...   \n",
       "2261  716  Zimbabwe  2018  Emissions per capita (metric tons of carbon di...   \n",
       "2262  716  Zimbabwe  2019  Emissions per capita (metric tons of carbon di...   \n",
       "2263  716  Zimbabwe  2020  Emissions per capita (metric tons of carbon di...   \n",
       "\n",
       "      Value Footnotes                                             Source  \n",
       "0     4,524       NaN  International Energy Agency, IEA World Energy ...  \n",
       "1     7,145       NaN  International Energy Agency, IEA World Energy ...  \n",
       "2     3,980       NaN  International Energy Agency, IEA World Energy ...  \n",
       "3     4,074       NaN  International Energy Agency, IEA World Energy ...  \n",
       "4     3,975       NaN  International Energy Agency, IEA World Energy ...  \n",
       "...     ...       ...                                                ...  \n",
       "2259    0.7       NaN  International Energy Agency, IEA World Energy ...  \n",
       "2260    0.8       NaN  International Energy Agency, IEA World Energy ...  \n",
       "2261    0.7       NaN  International Energy Agency, IEA World Energy ...  \n",
       "2262    0.7       NaN  International Energy Agency, IEA World Energy ...  \n",
       "2263    0.5       NaN  International Energy Agency, IEA World Energy ...  \n",
       "\n",
       "[2264 rows x 7 columns]"
      ]
     },
     "execution_count": 2,
     "metadata": {},
     "output_type": "execute_result"
    }
   ],
   "source": [
    "#Read the CSV File\n",
    "co2 = pd.read_csv(\"CO2.csv\", encoding=\"ISO-8859-1\",  header=1)\n",
    "#Rename columns\n",
    "co2.columns=['N°', 'Country', 'Year', 'Series', 'Value', 'Footnotes', 'Source']\n",
    "co2"
   ]
  },
  {
   "cell_type": "code",
   "execution_count": 3,
   "id": "51c70eb2-3861-4855-a7a7-e5ee6749d62d",
   "metadata": {},
   "outputs": [
    {
     "name": "stdout",
     "output_type": "stream",
     "text": [
      "['Emissions (thousand metric tons of carbon dioxide)'\n",
      " 'Emissions per capita (metric tons of carbon dioxide)']\n"
     ]
    }
   ],
   "source": [
    "#See the labels in the varibale of database 1\n",
    "unique_co2 = co2['Series'].unique()\n",
    "print(unique_co2)"
   ]
  },
  {
   "cell_type": "code",
   "execution_count": 4,
   "id": "930fff59-a34b-41bb-bfd2-988b5242429e",
   "metadata": {},
   "outputs": [],
   "source": [
    "#Read the CSV File of DB 2 \n",
    "agricultural_index = pd.read_csv(\"Agricultural.csv\", encoding=\"ISO-8859-1\",header=None, names=[\"Country\",  \"Year\",\"Agricultural production indices\", \"Value\",\"Footnotes\",\"Source\"])# For the encoding I used AI \n"
   ]
  },
  {
   "cell_type": "code",
   "execution_count": 5,
   "id": "042b57c1-3993-484c-8095-486e4366f9f2",
   "metadata": {},
   "outputs": [],
   "source": [
    "#list of the non-country names (regions, sub-regions, continents)\n",
    "excluded_countries = [\n",
    "    \"Total, all countries or areas\", \"Africa\", \"Northern Africa\", \"Sub-Saharan Africa\", \"Eastern Africa\", \n",
    "    \"Middle Africa\", \"Southern Africa\", \"Western Africa\", \"Americas\", \n",
    "    \"Northern America\", \"Latin America & the Caribbean\", \"Caribbean\", \n",
    "    \"Central America\", \"South America\", \"Asia\", \"Central Asia\", \n",
    "    \"Eastern Asia\", \"South-central Asia\", \"South-eastern Asia\", \"Southern Asia\", \n",
    "    \"Western Asia\", \"Europe\", \"European Union (EU)\",\"Eastern Europe\", \"Northern Europe\", \n",
    "    \"Southern Europe\", \"Western Europe\", \"Oceania\", \"Australia and New Zealand\", \n",
    "    \"Melanesia\", \"Micronesia\", \"Polynesia\", \"British Virgin Islands\", \n",
    "    \"Falkland Islands (Malvinas)\", \"Faroe Islands\", \"French Guiana\", \n",
    "    \"Guam\", \"New Caledonia\", \"Puerto Rico\", \"Saint Martin (French part)\", \n",
    "    \"Sint Maarten (Dutch part)\", \"Turks and Caicos Islands\", \n",
    "    \"United States Virgin Islands\", \"Other non-specified areas\", \n",
    "    \"LLDCs\", \"LDCs\", \"SIDS\", \"LDC§\", \"LLDC§\", \"SID§\", \"American Samoa\", \"Aruba\", \"Bermuda\", \"Bonaire, St. Eustatius & Saba\", \n",
    "    \"British Virgin Islands\", \"Cayman Islands\", \"Cook Islands\", \n",
    "    \"Falkland Islands (Malvinas)\", \"French Guiana\", \"French Polynesia\", \n",
    "    \"Guam\", \"Isle of Man\", \"Montserrat\", \"New Caledonia\", \"Niue\", \n",
    "    \"Northern Mariana Islands\", \"Puerto Rico\", \"Réunion\", \n",
    "    \"Saint Barthélemy\", \"Saint Helena\", \"Saint Martin (French part)\", \n",
    "    \"Sint Maarten (Dutch part)\", \"Tokelau\", \"Turks and Caicos Islands\", \n",
    "    \"United States Virgin Islands\", \"Wallis and Futuna Islands\", \n",
    "    \"Western Sahara\", \"Anguilla\", \"Aruba\", \"Bermuda\", \"Bonaire, St. Eustatius & Saba\", \n",
    "    \"British Virgin Islands\", \"Cayman Islands\", \"Cook Islands\", \n",
    "    \"Falkland Islands (Malvinas)\", \"French Guiana\", \"French Polynesia\", \n",
    "    \"Guam\", \"Isle of Man\", \"Montserrat\", \"New Caledonia\", \"Niue\", \n",
    "    \"Northern Mariana Islands\", \"Puerto Rico\", \"Réunion\", \n",
    "    \"Saint Barthélemy\", \"Saint Helena\", \"Saint Martin (French part)\", \n",
    "    \"Sint Maarten (Dutch part)\", \"Tokelau\", \"Turks and Caicos Islands\", \n",
    "    \"United States Virgin Islands\", \"Wallis and Futuna Islands\", \n",
    "    \"Western Sahara\"\n",
    "]\n",
    "\n"
   ]
  },
  {
   "cell_type": "code",
   "execution_count": 6,
   "id": "03a3b80c-9247-41d8-9a31-063994b2506f",
   "metadata": {},
   "outputs": [
    {
     "data": {
      "text/html": [
       "<div>\n",
       "<style scoped>\n",
       "    .dataframe tbody tr th:only-of-type {\n",
       "        vertical-align: middle;\n",
       "    }\n",
       "\n",
       "    .dataframe tbody tr th {\n",
       "        vertical-align: top;\n",
       "    }\n",
       "\n",
       "    .dataframe thead th {\n",
       "        text-align: right;\n",
       "    }\n",
       "</style>\n",
       "<table border=\"1\" class=\"dataframe\">\n",
       "  <thead>\n",
       "    <tr style=\"text-align: right;\">\n",
       "      <th></th>\n",
       "      <th>Country</th>\n",
       "      <th>Year</th>\n",
       "      <th>Agricultural production indices</th>\n",
       "      <th>Value</th>\n",
       "      <th>Footnotes</th>\n",
       "      <th>Source</th>\n",
       "    </tr>\n",
       "  </thead>\n",
       "  <tbody>\n",
       "    <tr>\n",
       "      <th>T20</th>\n",
       "      <td>Agricultural production indices</td>\n",
       "      <td>NaN</td>\n",
       "      <td>NaN</td>\n",
       "      <td>NaN</td>\n",
       "      <td>NaN</td>\n",
       "      <td>NaN</td>\n",
       "    </tr>\n",
       "    <tr>\n",
       "      <th>Region/Country/Area</th>\n",
       "      <td>NaN</td>\n",
       "      <td>Year</td>\n",
       "      <td>Series</td>\n",
       "      <td>Value</td>\n",
       "      <td>Footnotes</td>\n",
       "      <td>Source</td>\n",
       "    </tr>\n",
       "    <tr>\n",
       "      <th>4</th>\n",
       "      <td>Afghanistan</td>\n",
       "      <td>1985</td>\n",
       "      <td>Agricultural production (Index Base: 2014-2016...</td>\n",
       "      <td>53.9</td>\n",
       "      <td>NaN</td>\n",
       "      <td>Food and Agriculture Organization of the Unite...</td>\n",
       "    </tr>\n",
       "    <tr>\n",
       "      <th>4</th>\n",
       "      <td>Afghanistan</td>\n",
       "      <td>1995</td>\n",
       "      <td>Agricultural production (Index Base: 2014-2016...</td>\n",
       "      <td>69.7</td>\n",
       "      <td>NaN</td>\n",
       "      <td>Food and Agriculture Organization of the Unite...</td>\n",
       "    </tr>\n",
       "    <tr>\n",
       "      <th>4</th>\n",
       "      <td>Afghanistan</td>\n",
       "      <td>2005</td>\n",
       "      <td>Agricultural production (Index Base: 2014-2016...</td>\n",
       "      <td>84.6</td>\n",
       "      <td>NaN</td>\n",
       "      <td>Food and Agriculture Organization of the Unite...</td>\n",
       "    </tr>\n",
       "    <tr>\n",
       "      <th>...</th>\n",
       "      <td>...</td>\n",
       "      <td>...</td>\n",
       "      <td>...</td>\n",
       "      <td>...</td>\n",
       "      <td>...</td>\n",
       "      <td>...</td>\n",
       "    </tr>\n",
       "    <tr>\n",
       "      <th>716</th>\n",
       "      <td>Zimbabwe</td>\n",
       "      <td>2010</td>\n",
       "      <td>Food production (Index Base: 2014-2016 = 100)</td>\n",
       "      <td>106.5</td>\n",
       "      <td>NaN</td>\n",
       "      <td>Food and Agriculture Organization of the Unite...</td>\n",
       "    </tr>\n",
       "    <tr>\n",
       "      <th>716</th>\n",
       "      <td>Zimbabwe</td>\n",
       "      <td>2015</td>\n",
       "      <td>Food production (Index Base: 2014-2016 = 100)</td>\n",
       "      <td>101.2</td>\n",
       "      <td>NaN</td>\n",
       "      <td>Food and Agriculture Organization of the Unite...</td>\n",
       "    </tr>\n",
       "    <tr>\n",
       "      <th>716</th>\n",
       "      <td>Zimbabwe</td>\n",
       "      <td>2018</td>\n",
       "      <td>Food production (Index Base: 2014-2016 = 100)</td>\n",
       "      <td>108.9</td>\n",
       "      <td>NaN</td>\n",
       "      <td>Food and Agriculture Organization of the Unite...</td>\n",
       "    </tr>\n",
       "    <tr>\n",
       "      <th>716</th>\n",
       "      <td>Zimbabwe</td>\n",
       "      <td>2019</td>\n",
       "      <td>Food production (Index Base: 2014-2016 = 100)</td>\n",
       "      <td>105.6</td>\n",
       "      <td>NaN</td>\n",
       "      <td>Food and Agriculture Organization of the Unite...</td>\n",
       "    </tr>\n",
       "    <tr>\n",
       "      <th>716</th>\n",
       "      <td>Zimbabwe</td>\n",
       "      <td>2020</td>\n",
       "      <td>Food production (Index Base: 2014-2016 = 100)</td>\n",
       "      <td>109.6</td>\n",
       "      <td>NaN</td>\n",
       "      <td>Food and Agriculture Organization of the Unite...</td>\n",
       "    </tr>\n",
       "  </tbody>\n",
       "</table>\n",
       "<p>2970 rows × 6 columns</p>\n",
       "</div>"
      ],
      "text/plain": [
       "                                             Country  Year  \\\n",
       "T20                  Agricultural production indices   NaN   \n",
       "Region/Country/Area                              NaN  Year   \n",
       "4                                        Afghanistan  1985   \n",
       "4                                        Afghanistan  1995   \n",
       "4                                        Afghanistan  2005   \n",
       "...                                              ...   ...   \n",
       "716                                         Zimbabwe  2010   \n",
       "716                                         Zimbabwe  2015   \n",
       "716                                         Zimbabwe  2018   \n",
       "716                                         Zimbabwe  2019   \n",
       "716                                         Zimbabwe  2020   \n",
       "\n",
       "                                       Agricultural production indices  Value  \\\n",
       "T20                                                                NaN    NaN   \n",
       "Region/Country/Area                                             Series  Value   \n",
       "4                    Agricultural production (Index Base: 2014-2016...   53.9   \n",
       "4                    Agricultural production (Index Base: 2014-2016...   69.7   \n",
       "4                    Agricultural production (Index Base: 2014-2016...   84.6   \n",
       "...                                                                ...    ...   \n",
       "716                      Food production (Index Base: 2014-2016 = 100)  106.5   \n",
       "716                      Food production (Index Base: 2014-2016 = 100)  101.2   \n",
       "716                      Food production (Index Base: 2014-2016 = 100)  108.9   \n",
       "716                      Food production (Index Base: 2014-2016 = 100)  105.6   \n",
       "716                      Food production (Index Base: 2014-2016 = 100)  109.6   \n",
       "\n",
       "                     Footnotes  \\\n",
       "T20                        NaN   \n",
       "Region/Country/Area  Footnotes   \n",
       "4                          NaN   \n",
       "4                          NaN   \n",
       "4                          NaN   \n",
       "...                        ...   \n",
       "716                        NaN   \n",
       "716                        NaN   \n",
       "716                        NaN   \n",
       "716                        NaN   \n",
       "716                        NaN   \n",
       "\n",
       "                                                                Source  \n",
       "T20                                                                NaN  \n",
       "Region/Country/Area                                             Source  \n",
       "4                    Food and Agriculture Organization of the Unite...  \n",
       "4                    Food and Agriculture Organization of the Unite...  \n",
       "4                    Food and Agriculture Organization of the Unite...  \n",
       "...                                                                ...  \n",
       "716                  Food and Agriculture Organization of the Unite...  \n",
       "716                  Food and Agriculture Organization of the Unite...  \n",
       "716                  Food and Agriculture Organization of the Unite...  \n",
       "716                  Food and Agriculture Organization of the Unite...  \n",
       "716                  Food and Agriculture Organization of the Unite...  \n",
       "\n",
       "[2970 rows x 6 columns]"
      ]
     },
     "execution_count": 6,
     "metadata": {},
     "output_type": "execute_result"
    }
   ],
   "source": [
    "#To filter only the countries\n",
    "countries = agricultural_index[agricultural_index[\"Country\"].isin(excluded_countries) == False]\n",
    "countries"
   ]
  },
  {
   "cell_type": "code",
   "execution_count": 7,
   "id": "6c52fc30-b980-45bf-987b-44dea28f8a07",
   "metadata": {},
   "outputs": [
    {
     "name": "stderr",
     "output_type": "stream",
     "text": [
      "/var/folders/fh/_f6msrbn5857h7qzxymyndww0000gn/T/ipykernel_36851/1513129731.py:7: SettingWithCopyWarning:\n",
      "\n",
      "\n",
      "A value is trying to be set on a copy of a slice from a DataFrame.\n",
      "Try using .loc[row_indexer,col_indexer] = value instead\n",
      "\n",
      "See the caveats in the documentation: https://pandas.pydata.org/pandas-docs/stable/user_guide/indexing.html#returning-a-view-versus-a-copy\n",
      "\n",
      "/var/folders/fh/_f6msrbn5857h7qzxymyndww0000gn/T/ipykernel_36851/1513129731.py:10: SettingWithCopyWarning:\n",
      "\n",
      "\n",
      "A value is trying to be set on a copy of a slice from a DataFrame.\n",
      "Try using .loc[row_indexer,col_indexer] = value instead\n",
      "\n",
      "See the caveats in the documentation: https://pandas.pydata.org/pandas-docs/stable/user_guide/indexing.html#returning-a-view-versus-a-copy\n",
      "\n"
     ]
    }
   ],
   "source": [
    "# Change type\n",
    "co2['Value'] = co2['Value'].astype(str).str.replace(',', '')\n",
    "co2['Value'] = pd.to_numeric(co2['Value'], errors='coerce')\n",
    "\n",
    "#drop rows where 'value' is NaN (non-valid values)\n",
    "countries = countries.dropna(subset=['Value'])\n",
    "countries['Value'] = countries['Value'].astype(str).str.replace(',', '')\n",
    "\n",
    "co2 = co2.dropna(subset=['Value'])\n",
    "countries['Year'] = countries['Year'].astype(str).str.replace(',', '')\n",
    "\n"
   ]
  },
  {
   "cell_type": "code",
   "execution_count": 8,
   "id": "f9cdcf09-1808-4afe-b24a-e27ad1641388",
   "metadata": {},
   "outputs": [
    {
     "name": "stderr",
     "output_type": "stream",
     "text": [
      "/var/folders/fh/_f6msrbn5857h7qzxymyndww0000gn/T/ipykernel_36851/1379025621.py:1: SettingWithCopyWarning:\n",
      "\n",
      "\n",
      "A value is trying to be set on a copy of a slice from a DataFrame.\n",
      "Try using .loc[row_indexer,col_indexer] = value instead\n",
      "\n",
      "See the caveats in the documentation: https://pandas.pydata.org/pandas-docs/stable/user_guide/indexing.html#returning-a-view-versus-a-copy\n",
      "\n"
     ]
    }
   ],
   "source": [
    "countries['Year'] = countries['Year'].astype(str)\n",
    "co2['Year'] = co2['Year'].astype(str)"
   ]
  },
  {
   "cell_type": "code",
   "execution_count": 9,
   "id": "85929d3b-ad77-421e-abb0-2ed73d1af1df",
   "metadata": {},
   "outputs": [
    {
     "name": "stdout",
     "output_type": "stream",
     "text": [
      "['Series' 'Agricultural production (Index Base: 2014-2016 = 100)'\n",
      " 'Food production (Index Base: 2014-2016 = 100)']\n"
     ]
    }
   ],
   "source": [
    "unique_agr = countries['Agricultural production indices'].unique()\n",
    "print(unique_agr)"
   ]
  },
  {
   "cell_type": "code",
   "execution_count": 10,
   "id": "2e241e34-cd2f-42ee-a676-43753b0192f3",
   "metadata": {},
   "outputs": [
    {
     "data": {
      "text/html": [
       "<div>\n",
       "<style scoped>\n",
       "    .dataframe tbody tr th:only-of-type {\n",
       "        vertical-align: middle;\n",
       "    }\n",
       "\n",
       "    .dataframe tbody tr th {\n",
       "        vertical-align: top;\n",
       "    }\n",
       "\n",
       "    .dataframe thead th {\n",
       "        text-align: right;\n",
       "    }\n",
       "</style>\n",
       "<table border=\"1\" class=\"dataframe\">\n",
       "  <thead>\n",
       "    <tr style=\"text-align: right;\">\n",
       "      <th></th>\n",
       "      <th>Country</th>\n",
       "      <th>Year</th>\n",
       "      <th>Agricultural production indices</th>\n",
       "      <th>Value</th>\n",
       "      <th>Footnotes</th>\n",
       "      <th>Source</th>\n",
       "    </tr>\n",
       "  </thead>\n",
       "  <tbody>\n",
       "    <tr>\n",
       "      <th>4</th>\n",
       "      <td>Afghanistan</td>\n",
       "      <td>1985</td>\n",
       "      <td>Agricultural production (Index Base: 2014-2016...</td>\n",
       "      <td>53.9</td>\n",
       "      <td>NaN</td>\n",
       "      <td>Food and Agriculture Organization of the Unite...</td>\n",
       "    </tr>\n",
       "    <tr>\n",
       "      <th>4</th>\n",
       "      <td>Afghanistan</td>\n",
       "      <td>1995</td>\n",
       "      <td>Agricultural production (Index Base: 2014-2016...</td>\n",
       "      <td>69.7</td>\n",
       "      <td>NaN</td>\n",
       "      <td>Food and Agriculture Organization of the Unite...</td>\n",
       "    </tr>\n",
       "    <tr>\n",
       "      <th>4</th>\n",
       "      <td>Afghanistan</td>\n",
       "      <td>2005</td>\n",
       "      <td>Agricultural production (Index Base: 2014-2016...</td>\n",
       "      <td>84.6</td>\n",
       "      <td>NaN</td>\n",
       "      <td>Food and Agriculture Organization of the Unite...</td>\n",
       "    </tr>\n",
       "    <tr>\n",
       "      <th>4</th>\n",
       "      <td>Afghanistan</td>\n",
       "      <td>2010</td>\n",
       "      <td>Agricultural production (Index Base: 2014-2016...</td>\n",
       "      <td>92.9</td>\n",
       "      <td>NaN</td>\n",
       "      <td>Food and Agriculture Organization of the Unite...</td>\n",
       "    </tr>\n",
       "    <tr>\n",
       "      <th>4</th>\n",
       "      <td>Afghanistan</td>\n",
       "      <td>2015</td>\n",
       "      <td>Agricultural production (Index Base: 2014-2016...</td>\n",
       "      <td>96.1</td>\n",
       "      <td>NaN</td>\n",
       "      <td>Food and Agriculture Organization of the Unite...</td>\n",
       "    </tr>\n",
       "    <tr>\n",
       "      <th>...</th>\n",
       "      <td>...</td>\n",
       "      <td>...</td>\n",
       "      <td>...</td>\n",
       "      <td>...</td>\n",
       "      <td>...</td>\n",
       "      <td>...</td>\n",
       "    </tr>\n",
       "    <tr>\n",
       "      <th>716</th>\n",
       "      <td>Zimbabwe</td>\n",
       "      <td>2010</td>\n",
       "      <td>Agricultural production (Index Base: 2014-2016...</td>\n",
       "      <td>105.1</td>\n",
       "      <td>NaN</td>\n",
       "      <td>Food and Agriculture Organization of the Unite...</td>\n",
       "    </tr>\n",
       "    <tr>\n",
       "      <th>716</th>\n",
       "      <td>Zimbabwe</td>\n",
       "      <td>2015</td>\n",
       "      <td>Agricultural production (Index Base: 2014-2016...</td>\n",
       "      <td>100.6</td>\n",
       "      <td>NaN</td>\n",
       "      <td>Food and Agriculture Organization of the Unite...</td>\n",
       "    </tr>\n",
       "    <tr>\n",
       "      <th>716</th>\n",
       "      <td>Zimbabwe</td>\n",
       "      <td>2018</td>\n",
       "      <td>Agricultural production (Index Base: 2014-2016...</td>\n",
       "      <td>112.9</td>\n",
       "      <td>NaN</td>\n",
       "      <td>Food and Agriculture Organization of the Unite...</td>\n",
       "    </tr>\n",
       "    <tr>\n",
       "      <th>716</th>\n",
       "      <td>Zimbabwe</td>\n",
       "      <td>2019</td>\n",
       "      <td>Agricultural production (Index Base: 2014-2016...</td>\n",
       "      <td>105.9</td>\n",
       "      <td>NaN</td>\n",
       "      <td>Food and Agriculture Organization of the Unite...</td>\n",
       "    </tr>\n",
       "    <tr>\n",
       "      <th>716</th>\n",
       "      <td>Zimbabwe</td>\n",
       "      <td>2020</td>\n",
       "      <td>Agricultural production (Index Base: 2014-2016...</td>\n",
       "      <td>111.3</td>\n",
       "      <td>NaN</td>\n",
       "      <td>Food and Agriculture Organization of the Unite...</td>\n",
       "    </tr>\n",
       "  </tbody>\n",
       "</table>\n",
       "<p>1484 rows × 6 columns</p>\n",
       "</div>"
      ],
      "text/plain": [
       "         Country  Year                    Agricultural production indices  \\\n",
       "4    Afghanistan  1985  Agricultural production (Index Base: 2014-2016...   \n",
       "4    Afghanistan  1995  Agricultural production (Index Base: 2014-2016...   \n",
       "4    Afghanistan  2005  Agricultural production (Index Base: 2014-2016...   \n",
       "4    Afghanistan  2010  Agricultural production (Index Base: 2014-2016...   \n",
       "4    Afghanistan  2015  Agricultural production (Index Base: 2014-2016...   \n",
       "..           ...   ...                                                ...   \n",
       "716     Zimbabwe  2010  Agricultural production (Index Base: 2014-2016...   \n",
       "716     Zimbabwe  2015  Agricultural production (Index Base: 2014-2016...   \n",
       "716     Zimbabwe  2018  Agricultural production (Index Base: 2014-2016...   \n",
       "716     Zimbabwe  2019  Agricultural production (Index Base: 2014-2016...   \n",
       "716     Zimbabwe  2020  Agricultural production (Index Base: 2014-2016...   \n",
       "\n",
       "     Value Footnotes                                             Source  \n",
       "4     53.9       NaN  Food and Agriculture Organization of the Unite...  \n",
       "4     69.7       NaN  Food and Agriculture Organization of the Unite...  \n",
       "4     84.6       NaN  Food and Agriculture Organization of the Unite...  \n",
       "4     92.9       NaN  Food and Agriculture Organization of the Unite...  \n",
       "4     96.1       NaN  Food and Agriculture Organization of the Unite...  \n",
       "..     ...       ...                                                ...  \n",
       "716  105.1       NaN  Food and Agriculture Organization of the Unite...  \n",
       "716  100.6       NaN  Food and Agriculture Organization of the Unite...  \n",
       "716  112.9       NaN  Food and Agriculture Organization of the Unite...  \n",
       "716  105.9       NaN  Food and Agriculture Organization of the Unite...  \n",
       "716  111.3       NaN  Food and Agriculture Organization of the Unite...  \n",
       "\n",
       "[1484 rows x 6 columns]"
      ]
     },
     "execution_count": 10,
     "metadata": {},
     "output_type": "execute_result"
    }
   ],
   "source": [
    "# Filter rows where 'Agricultural production indices' is 'agricultural production'\n",
    "filtered_countries = countries[countries['Agricultural production indices'] == 'Agricultural production (Index Base: 2014-2016 = 100)']\n",
    "filtered_countries"
   ]
  },
  {
   "cell_type": "code",
   "execution_count": 11,
   "id": "37c28f40-3786-4598-b48b-7616a8529ac0",
   "metadata": {},
   "outputs": [
    {
     "data": {
      "text/html": [
       "<div>\n",
       "<style scoped>\n",
       "    .dataframe tbody tr th:only-of-type {\n",
       "        vertical-align: middle;\n",
       "    }\n",
       "\n",
       "    .dataframe tbody tr th {\n",
       "        vertical-align: top;\n",
       "    }\n",
       "\n",
       "    .dataframe thead th {\n",
       "        text-align: right;\n",
       "    }\n",
       "</style>\n",
       "<table border=\"1\" class=\"dataframe\">\n",
       "  <thead>\n",
       "    <tr style=\"text-align: right;\">\n",
       "      <th></th>\n",
       "      <th>N°</th>\n",
       "      <th>Country</th>\n",
       "      <th>Year</th>\n",
       "      <th>Series</th>\n",
       "      <th>Value</th>\n",
       "      <th>Footnotes</th>\n",
       "      <th>Source</th>\n",
       "    </tr>\n",
       "  </thead>\n",
       "  <tbody>\n",
       "    <tr>\n",
       "      <th>8</th>\n",
       "      <td>8</td>\n",
       "      <td>Albania</td>\n",
       "      <td>1975</td>\n",
       "      <td>Emissions per capita (metric tons of carbon di...</td>\n",
       "      <td>1.8</td>\n",
       "      <td>NaN</td>\n",
       "      <td>International Energy Agency, IEA World Energy ...</td>\n",
       "    </tr>\n",
       "    <tr>\n",
       "      <th>9</th>\n",
       "      <td>8</td>\n",
       "      <td>Albania</td>\n",
       "      <td>1985</td>\n",
       "      <td>Emissions per capita (metric tons of carbon di...</td>\n",
       "      <td>2.3</td>\n",
       "      <td>NaN</td>\n",
       "      <td>International Energy Agency, IEA World Energy ...</td>\n",
       "    </tr>\n",
       "    <tr>\n",
       "      <th>10</th>\n",
       "      <td>8</td>\n",
       "      <td>Albania</td>\n",
       "      <td>2005</td>\n",
       "      <td>Emissions per capita (metric tons of carbon di...</td>\n",
       "      <td>1.3</td>\n",
       "      <td>NaN</td>\n",
       "      <td>International Energy Agency, IEA World Energy ...</td>\n",
       "    </tr>\n",
       "    <tr>\n",
       "      <th>11</th>\n",
       "      <td>8</td>\n",
       "      <td>Albania</td>\n",
       "      <td>2010</td>\n",
       "      <td>Emissions per capita (metric tons of carbon di...</td>\n",
       "      <td>1.4</td>\n",
       "      <td>NaN</td>\n",
       "      <td>International Energy Agency, IEA World Energy ...</td>\n",
       "    </tr>\n",
       "    <tr>\n",
       "      <th>12</th>\n",
       "      <td>8</td>\n",
       "      <td>Albania</td>\n",
       "      <td>2015</td>\n",
       "      <td>Emissions per capita (metric tons of carbon di...</td>\n",
       "      <td>1.3</td>\n",
       "      <td>NaN</td>\n",
       "      <td>International Energy Agency, IEA World Energy ...</td>\n",
       "    </tr>\n",
       "    <tr>\n",
       "      <th>...</th>\n",
       "      <td>...</td>\n",
       "      <td>...</td>\n",
       "      <td>...</td>\n",
       "      <td>...</td>\n",
       "      <td>...</td>\n",
       "      <td>...</td>\n",
       "      <td>...</td>\n",
       "    </tr>\n",
       "    <tr>\n",
       "      <th>2259</th>\n",
       "      <td>716</td>\n",
       "      <td>Zimbabwe</td>\n",
       "      <td>2010</td>\n",
       "      <td>Emissions per capita (metric tons of carbon di...</td>\n",
       "      <td>0.7</td>\n",
       "      <td>NaN</td>\n",
       "      <td>International Energy Agency, IEA World Energy ...</td>\n",
       "    </tr>\n",
       "    <tr>\n",
       "      <th>2260</th>\n",
       "      <td>716</td>\n",
       "      <td>Zimbabwe</td>\n",
       "      <td>2015</td>\n",
       "      <td>Emissions per capita (metric tons of carbon di...</td>\n",
       "      <td>0.8</td>\n",
       "      <td>NaN</td>\n",
       "      <td>International Energy Agency, IEA World Energy ...</td>\n",
       "    </tr>\n",
       "    <tr>\n",
       "      <th>2261</th>\n",
       "      <td>716</td>\n",
       "      <td>Zimbabwe</td>\n",
       "      <td>2018</td>\n",
       "      <td>Emissions per capita (metric tons of carbon di...</td>\n",
       "      <td>0.7</td>\n",
       "      <td>NaN</td>\n",
       "      <td>International Energy Agency, IEA World Energy ...</td>\n",
       "    </tr>\n",
       "    <tr>\n",
       "      <th>2262</th>\n",
       "      <td>716</td>\n",
       "      <td>Zimbabwe</td>\n",
       "      <td>2019</td>\n",
       "      <td>Emissions per capita (metric tons of carbon di...</td>\n",
       "      <td>0.7</td>\n",
       "      <td>NaN</td>\n",
       "      <td>International Energy Agency, IEA World Energy ...</td>\n",
       "    </tr>\n",
       "    <tr>\n",
       "      <th>2263</th>\n",
       "      <td>716</td>\n",
       "      <td>Zimbabwe</td>\n",
       "      <td>2020</td>\n",
       "      <td>Emissions per capita (metric tons of carbon di...</td>\n",
       "      <td>0.5</td>\n",
       "      <td>NaN</td>\n",
       "      <td>International Energy Agency, IEA World Energy ...</td>\n",
       "    </tr>\n",
       "  </tbody>\n",
       "</table>\n",
       "<p>1132 rows × 7 columns</p>\n",
       "</div>"
      ],
      "text/plain": [
       "       N°   Country  Year                                             Series  \\\n",
       "8       8   Albania  1975  Emissions per capita (metric tons of carbon di...   \n",
       "9       8   Albania  1985  Emissions per capita (metric tons of carbon di...   \n",
       "10      8   Albania  2005  Emissions per capita (metric tons of carbon di...   \n",
       "11      8   Albania  2010  Emissions per capita (metric tons of carbon di...   \n",
       "12      8   Albania  2015  Emissions per capita (metric tons of carbon di...   \n",
       "...   ...       ...   ...                                                ...   \n",
       "2259  716  Zimbabwe  2010  Emissions per capita (metric tons of carbon di...   \n",
       "2260  716  Zimbabwe  2015  Emissions per capita (metric tons of carbon di...   \n",
       "2261  716  Zimbabwe  2018  Emissions per capita (metric tons of carbon di...   \n",
       "2262  716  Zimbabwe  2019  Emissions per capita (metric tons of carbon di...   \n",
       "2263  716  Zimbabwe  2020  Emissions per capita (metric tons of carbon di...   \n",
       "\n",
       "      Value Footnotes                                             Source  \n",
       "8       1.8       NaN  International Energy Agency, IEA World Energy ...  \n",
       "9       2.3       NaN  International Energy Agency, IEA World Energy ...  \n",
       "10      1.3       NaN  International Energy Agency, IEA World Energy ...  \n",
       "11      1.4       NaN  International Energy Agency, IEA World Energy ...  \n",
       "12      1.3       NaN  International Energy Agency, IEA World Energy ...  \n",
       "...     ...       ...                                                ...  \n",
       "2259    0.7       NaN  International Energy Agency, IEA World Energy ...  \n",
       "2260    0.8       NaN  International Energy Agency, IEA World Energy ...  \n",
       "2261    0.7       NaN  International Energy Agency, IEA World Energy ...  \n",
       "2262    0.7       NaN  International Energy Agency, IEA World Energy ...  \n",
       "2263    0.5       NaN  International Energy Agency, IEA World Energy ...  \n",
       "\n",
       "[1132 rows x 7 columns]"
      ]
     },
     "execution_count": 11,
     "metadata": {},
     "output_type": "execute_result"
    }
   ],
   "source": [
    "# Filter rows where 'Agricultural production indices' is 'agricultural production'\n",
    "filtered_co2 = co2[co2['Series'] == 'Emissions per capita (metric tons of carbon dioxide)']\n",
    "filtered_co2"
   ]
  },
  {
   "cell_type": "code",
   "execution_count": 12,
   "id": "a0b27392-d85b-4d53-b01b-d6e4866fbfc4",
   "metadata": {},
   "outputs": [
    {
     "data": {
      "text/html": [
       "<div>\n",
       "<style scoped>\n",
       "    .dataframe tbody tr th:only-of-type {\n",
       "        vertical-align: middle;\n",
       "    }\n",
       "\n",
       "    .dataframe tbody tr th {\n",
       "        vertical-align: top;\n",
       "    }\n",
       "\n",
       "    .dataframe thead th {\n",
       "        text-align: right;\n",
       "    }\n",
       "</style>\n",
       "<table border=\"1\" class=\"dataframe\">\n",
       "  <thead>\n",
       "    <tr style=\"text-align: right;\">\n",
       "      <th></th>\n",
       "      <th>Country</th>\n",
       "      <th>Year</th>\n",
       "      <th>Agricultural production indices</th>\n",
       "      <th>Value_x</th>\n",
       "      <th>Footnotes_x</th>\n",
       "      <th>Source_x</th>\n",
       "      <th>N°</th>\n",
       "      <th>Series</th>\n",
       "      <th>Value_y</th>\n",
       "      <th>Footnotes_y</th>\n",
       "      <th>Source_y</th>\n",
       "    </tr>\n",
       "  </thead>\n",
       "  <tbody>\n",
       "    <tr>\n",
       "      <th>0</th>\n",
       "      <td>Albania</td>\n",
       "      <td>1985</td>\n",
       "      <td>Agricultural production (Index Base: 2014-2016...</td>\n",
       "      <td>47.6</td>\n",
       "      <td>NaN</td>\n",
       "      <td>Food and Agriculture Organization of the Unite...</td>\n",
       "      <td>8</td>\n",
       "      <td>Emissions per capita (metric tons of carbon di...</td>\n",
       "      <td>2.3</td>\n",
       "      <td>NaN</td>\n",
       "      <td>International Energy Agency, IEA World Energy ...</td>\n",
       "    </tr>\n",
       "    <tr>\n",
       "      <th>1</th>\n",
       "      <td>Albania</td>\n",
       "      <td>2005</td>\n",
       "      <td>Agricultural production (Index Base: 2014-2016...</td>\n",
       "      <td>71.9</td>\n",
       "      <td>NaN</td>\n",
       "      <td>Food and Agriculture Organization of the Unite...</td>\n",
       "      <td>8</td>\n",
       "      <td>Emissions per capita (metric tons of carbon di...</td>\n",
       "      <td>1.3</td>\n",
       "      <td>NaN</td>\n",
       "      <td>International Energy Agency, IEA World Energy ...</td>\n",
       "    </tr>\n",
       "    <tr>\n",
       "      <th>2</th>\n",
       "      <td>Albania</td>\n",
       "      <td>2010</td>\n",
       "      <td>Agricultural production (Index Base: 2014-2016...</td>\n",
       "      <td>85.7</td>\n",
       "      <td>NaN</td>\n",
       "      <td>Food and Agriculture Organization of the Unite...</td>\n",
       "      <td>8</td>\n",
       "      <td>Emissions per capita (metric tons of carbon di...</td>\n",
       "      <td>1.4</td>\n",
       "      <td>NaN</td>\n",
       "      <td>International Energy Agency, IEA World Energy ...</td>\n",
       "    </tr>\n",
       "    <tr>\n",
       "      <th>3</th>\n",
       "      <td>Albania</td>\n",
       "      <td>2015</td>\n",
       "      <td>Agricultural production (Index Base: 2014-2016...</td>\n",
       "      <td>100.1</td>\n",
       "      <td>NaN</td>\n",
       "      <td>Food and Agriculture Organization of the Unite...</td>\n",
       "      <td>8</td>\n",
       "      <td>Emissions per capita (metric tons of carbon di...</td>\n",
       "      <td>1.3</td>\n",
       "      <td>NaN</td>\n",
       "      <td>International Energy Agency, IEA World Energy ...</td>\n",
       "    </tr>\n",
       "    <tr>\n",
       "      <th>4</th>\n",
       "      <td>Albania</td>\n",
       "      <td>2018</td>\n",
       "      <td>Agricultural production (Index Base: 2014-2016...</td>\n",
       "      <td>105.9</td>\n",
       "      <td>NaN</td>\n",
       "      <td>Food and Agriculture Organization of the Unite...</td>\n",
       "      <td>8</td>\n",
       "      <td>Emissions per capita (metric tons of carbon di...</td>\n",
       "      <td>1.5</td>\n",
       "      <td>NaN</td>\n",
       "      <td>International Energy Agency, IEA World Energy ...</td>\n",
       "    </tr>\n",
       "  </tbody>\n",
       "</table>\n",
       "</div>"
      ],
      "text/plain": [
       "   Country  Year                    Agricultural production indices Value_x  \\\n",
       "0  Albania  1985  Agricultural production (Index Base: 2014-2016...    47.6   \n",
       "1  Albania  2005  Agricultural production (Index Base: 2014-2016...    71.9   \n",
       "2  Albania  2010  Agricultural production (Index Base: 2014-2016...    85.7   \n",
       "3  Albania  2015  Agricultural production (Index Base: 2014-2016...   100.1   \n",
       "4  Albania  2018  Agricultural production (Index Base: 2014-2016...   105.9   \n",
       "\n",
       "  Footnotes_x                                           Source_x  N°  \\\n",
       "0         NaN  Food and Agriculture Organization of the Unite...   8   \n",
       "1         NaN  Food and Agriculture Organization of the Unite...   8   \n",
       "2         NaN  Food and Agriculture Organization of the Unite...   8   \n",
       "3         NaN  Food and Agriculture Organization of the Unite...   8   \n",
       "4         NaN  Food and Agriculture Organization of the Unite...   8   \n",
       "\n",
       "                                              Series  Value_y Footnotes_y  \\\n",
       "0  Emissions per capita (metric tons of carbon di...      2.3         NaN   \n",
       "1  Emissions per capita (metric tons of carbon di...      1.3         NaN   \n",
       "2  Emissions per capita (metric tons of carbon di...      1.4         NaN   \n",
       "3  Emissions per capita (metric tons of carbon di...      1.3         NaN   \n",
       "4  Emissions per capita (metric tons of carbon di...      1.5         NaN   \n",
       "\n",
       "                                            Source_y  \n",
       "0  International Energy Agency, IEA World Energy ...  \n",
       "1  International Energy Agency, IEA World Energy ...  \n",
       "2  International Energy Agency, IEA World Energy ...  \n",
       "3  International Energy Agency, IEA World Energy ...  \n",
       "4  International Energy Agency, IEA World Energy ...  "
      ]
     },
     "execution_count": 12,
     "metadata": {},
     "output_type": "execute_result"
    }
   ],
   "source": [
    "merged1 = pd.merge(filtered_countries, filtered_co2, on=['Country', 'Year'], how='inner')\n",
    "merged1.head()"
   ]
  },
  {
   "cell_type": "code",
   "execution_count": 13,
   "id": "332229b6-27a4-4550-8bd4-dbb86f432c04",
   "metadata": {},
   "outputs": [
    {
     "name": "stdout",
     "output_type": "stream",
     "text": [
      "['1985' '2005' '2010' '2015' '2018' '2019' '2020']\n"
     ]
    }
   ],
   "source": [
    "unique_serie = merged1['Year'].unique()\n",
    "print(unique_serie)"
   ]
  },
  {
   "cell_type": "code",
   "execution_count": 14,
   "id": "f45ff9e7-2f95-493b-bf57-fe3b853ba2fa",
   "metadata": {},
   "outputs": [
    {
     "name": "stdout",
     "output_type": "stream",
     "text": [
      "The range of 'value_x' 20.0 a 658.4.\n",
      "The range of 'value_y' 0.0 a 38.4.\n"
     ]
    }
   ],
   "source": [
    "# Change type value X-Agricultural production \n",
    "merged1['Value_x'] = merged1['Value_x'].astype(float)\n",
    "# Range\n",
    "min_x = merged1['Value_x'].min()\n",
    "max_x = merged1['Value_x'].max()\n",
    "min_y = merged1['Value_y'].min()\n",
    "max_y = merged1['Value_y'].max()\n",
    "# Show the range\n",
    "print(f\"The range of 'value_x' {min_x} a {max_x}.\")\n",
    "print(f\"The range of 'value_y' {min_y} a {max_y}.\")"
   ]
  },
  {
   "cell_type": "code",
   "execution_count": 15,
   "id": "307cd1d9-05ed-43fc-8f8d-c0ae13a7da64",
   "metadata": {},
   "outputs": [
    {
     "name": "stdout",
     "output_type": "stream",
     "text": [
      "<class 'pandas.core.frame.DataFrame'>\n",
      "RangeIndex: 983 entries, 0 to 982\n",
      "Data columns (total 11 columns):\n",
      " #   Column                           Non-Null Count  Dtype  \n",
      "---  ------                           --------------  -----  \n",
      " 0   Country                          983 non-null    object \n",
      " 1   Year                             983 non-null    object \n",
      " 2   Agricultural production indices  983 non-null    object \n",
      " 3   Value_x                          983 non-null    float64\n",
      " 4   Footnotes_x                      7 non-null      object \n",
      " 5   Source_x                         983 non-null    object \n",
      " 6   N°                               983 non-null    int64  \n",
      " 7   Series                           983 non-null    object \n",
      " 8   Value_y                          983 non-null    float64\n",
      " 9   Footnotes_y                      111 non-null    object \n",
      " 10  Source_y                         983 non-null    object \n",
      "dtypes: float64(2), int64(1), object(8)\n",
      "memory usage: 84.6+ KB\n"
     ]
    }
   ],
   "source": [
    "merged1.info()"
   ]
  },
  {
   "cell_type": "code",
   "execution_count": 16,
   "id": "395dd93d-5c73-46ac-ba84-a2509bf03216",
   "metadata": {},
   "outputs": [
    {
     "data": {
      "text/html": [
       "<div>\n",
       "<style scoped>\n",
       "    .dataframe tbody tr th:only-of-type {\n",
       "        vertical-align: middle;\n",
       "    }\n",
       "\n",
       "    .dataframe tbody tr th {\n",
       "        vertical-align: top;\n",
       "    }\n",
       "\n",
       "    .dataframe thead th {\n",
       "        text-align: right;\n",
       "    }\n",
       "</style>\n",
       "<table border=\"1\" class=\"dataframe\">\n",
       "  <thead>\n",
       "    <tr style=\"text-align: right;\">\n",
       "      <th></th>\n",
       "      <th>Country</th>\n",
       "      <th>Year</th>\n",
       "      <th>Agricultural production indices</th>\n",
       "      <th>Value_x</th>\n",
       "      <th>Footnotes_x</th>\n",
       "      <th>Source_x</th>\n",
       "      <th>N°</th>\n",
       "      <th>Series</th>\n",
       "      <th>Value_y</th>\n",
       "      <th>Footnotes_y</th>\n",
       "      <th>Source_y</th>\n",
       "    </tr>\n",
       "  </thead>\n",
       "  <tbody>\n",
       "    <tr>\n",
       "      <th>5</th>\n",
       "      <td>Albania</td>\n",
       "      <td>2019</td>\n",
       "      <td>Agricultural production (Index Base: 2014-2016...</td>\n",
       "      <td>104.0</td>\n",
       "      <td>NaN</td>\n",
       "      <td>Food and Agriculture Organization of the Unite...</td>\n",
       "      <td>8</td>\n",
       "      <td>Emissions per capita (metric tons of carbon di...</td>\n",
       "      <td>1.4</td>\n",
       "      <td>NaN</td>\n",
       "      <td>International Energy Agency, IEA World Energy ...</td>\n",
       "    </tr>\n",
       "    <tr>\n",
       "      <th>12</th>\n",
       "      <td>Algeria</td>\n",
       "      <td>2019</td>\n",
       "      <td>Agricultural production (Index Base: 2014-2016...</td>\n",
       "      <td>112.0</td>\n",
       "      <td>NaN</td>\n",
       "      <td>Food and Agriculture Organization of the Unite...</td>\n",
       "      <td>12</td>\n",
       "      <td>Emissions per capita (metric tons of carbon di...</td>\n",
       "      <td>3.3</td>\n",
       "      <td>NaN</td>\n",
       "      <td>International Energy Agency, IEA World Energy ...</td>\n",
       "    </tr>\n",
       "    <tr>\n",
       "      <th>19</th>\n",
       "      <td>Angola</td>\n",
       "      <td>2019</td>\n",
       "      <td>Agricultural production (Index Base: 2014-2016...</td>\n",
       "      <td>107.3</td>\n",
       "      <td>NaN</td>\n",
       "      <td>Food and Agriculture Organization of the Unite...</td>\n",
       "      <td>24</td>\n",
       "      <td>Emissions per capita (metric tons of carbon di...</td>\n",
       "      <td>0.6</td>\n",
       "      <td>NaN</td>\n",
       "      <td>International Energy Agency, IEA World Energy ...</td>\n",
       "    </tr>\n",
       "    <tr>\n",
       "      <th>26</th>\n",
       "      <td>Argentina</td>\n",
       "      <td>2019</td>\n",
       "      <td>Agricultural production (Index Base: 2014-2016...</td>\n",
       "      <td>112.3</td>\n",
       "      <td>NaN</td>\n",
       "      <td>Food and Agriculture Organization of the Unite...</td>\n",
       "      <td>32</td>\n",
       "      <td>Emissions per capita (metric tons of carbon di...</td>\n",
       "      <td>3.6</td>\n",
       "      <td>NaN</td>\n",
       "      <td>International Energy Agency, IEA World Energy ...</td>\n",
       "    </tr>\n",
       "    <tr>\n",
       "      <th>32</th>\n",
       "      <td>Armenia</td>\n",
       "      <td>2019</td>\n",
       "      <td>Agricultural production (Index Base: 2014-2016...</td>\n",
       "      <td>81.2</td>\n",
       "      <td>NaN</td>\n",
       "      <td>Food and Agriculture Organization of the Unite...</td>\n",
       "      <td>51</td>\n",
       "      <td>Emissions per capita (metric tons of carbon di...</td>\n",
       "      <td>2.0</td>\n",
       "      <td>NaN</td>\n",
       "      <td>International Energy Agency, IEA World Energy ...</td>\n",
       "    </tr>\n",
       "    <tr>\n",
       "      <th>...</th>\n",
       "      <td>...</td>\n",
       "      <td>...</td>\n",
       "      <td>...</td>\n",
       "      <td>...</td>\n",
       "      <td>...</td>\n",
       "      <td>...</td>\n",
       "      <td>...</td>\n",
       "      <td>...</td>\n",
       "      <td>...</td>\n",
       "      <td>...</td>\n",
       "      <td>...</td>\n",
       "    </tr>\n",
       "    <tr>\n",
       "      <th>953</th>\n",
       "      <td>Venezuela (Boliv. Rep. of)</td>\n",
       "      <td>2019</td>\n",
       "      <td>Agricultural production (Index Base: 2014-2016...</td>\n",
       "      <td>82.6</td>\n",
       "      <td>NaN</td>\n",
       "      <td>Food and Agriculture Organization of the Unite...</td>\n",
       "      <td>862</td>\n",
       "      <td>Emissions per capita (metric tons of carbon di...</td>\n",
       "      <td>3.1</td>\n",
       "      <td>NaN</td>\n",
       "      <td>International Energy Agency, IEA World Energy ...</td>\n",
       "    </tr>\n",
       "    <tr>\n",
       "      <th>960</th>\n",
       "      <td>Viet Nam</td>\n",
       "      <td>2019</td>\n",
       "      <td>Agricultural production (Index Base: 2014-2016...</td>\n",
       "      <td>105.8</td>\n",
       "      <td>NaN</td>\n",
       "      <td>Food and Agriculture Organization of the Unite...</td>\n",
       "      <td>704</td>\n",
       "      <td>Emissions per capita (metric tons of carbon di...</td>\n",
       "      <td>2.9</td>\n",
       "      <td>NaN</td>\n",
       "      <td>International Energy Agency, IEA World Energy ...</td>\n",
       "    </tr>\n",
       "    <tr>\n",
       "      <th>967</th>\n",
       "      <td>Yemen</td>\n",
       "      <td>2019</td>\n",
       "      <td>Agricultural production (Index Base: 2014-2016...</td>\n",
       "      <td>105.0</td>\n",
       "      <td>NaN</td>\n",
       "      <td>Food and Agriculture Organization of the Unite...</td>\n",
       "      <td>887</td>\n",
       "      <td>Emissions per capita (metric tons of carbon di...</td>\n",
       "      <td>0.3</td>\n",
       "      <td>NaN</td>\n",
       "      <td>International Energy Agency, IEA World Energy ...</td>\n",
       "    </tr>\n",
       "    <tr>\n",
       "      <th>974</th>\n",
       "      <td>Zambia</td>\n",
       "      <td>2019</td>\n",
       "      <td>Agricultural production (Index Base: 2014-2016...</td>\n",
       "      <td>111.0</td>\n",
       "      <td>NaN</td>\n",
       "      <td>Food and Agriculture Organization of the Unite...</td>\n",
       "      <td>894</td>\n",
       "      <td>Emissions per capita (metric tons of carbon di...</td>\n",
       "      <td>0.4</td>\n",
       "      <td>NaN</td>\n",
       "      <td>International Energy Agency, IEA World Energy ...</td>\n",
       "    </tr>\n",
       "    <tr>\n",
       "      <th>981</th>\n",
       "      <td>Zimbabwe</td>\n",
       "      <td>2019</td>\n",
       "      <td>Agricultural production (Index Base: 2014-2016...</td>\n",
       "      <td>105.9</td>\n",
       "      <td>NaN</td>\n",
       "      <td>Food and Agriculture Organization of the Unite...</td>\n",
       "      <td>716</td>\n",
       "      <td>Emissions per capita (metric tons of carbon di...</td>\n",
       "      <td>0.7</td>\n",
       "      <td>NaN</td>\n",
       "      <td>International Energy Agency, IEA World Energy ...</td>\n",
       "    </tr>\n",
       "  </tbody>\n",
       "</table>\n",
       "<p>146 rows × 11 columns</p>\n",
       "</div>"
      ],
      "text/plain": [
       "                        Country  Year  \\\n",
       "5                       Albania  2019   \n",
       "12                      Algeria  2019   \n",
       "19                       Angola  2019   \n",
       "26                    Argentina  2019   \n",
       "32                      Armenia  2019   \n",
       "..                          ...   ...   \n",
       "953  Venezuela (Boliv. Rep. of)  2019   \n",
       "960                    Viet Nam  2019   \n",
       "967                       Yemen  2019   \n",
       "974                      Zambia  2019   \n",
       "981                    Zimbabwe  2019   \n",
       "\n",
       "                       Agricultural production indices  Value_x Footnotes_x  \\\n",
       "5    Agricultural production (Index Base: 2014-2016...    104.0         NaN   \n",
       "12   Agricultural production (Index Base: 2014-2016...    112.0         NaN   \n",
       "19   Agricultural production (Index Base: 2014-2016...    107.3         NaN   \n",
       "26   Agricultural production (Index Base: 2014-2016...    112.3         NaN   \n",
       "32   Agricultural production (Index Base: 2014-2016...     81.2         NaN   \n",
       "..                                                 ...      ...         ...   \n",
       "953  Agricultural production (Index Base: 2014-2016...     82.6         NaN   \n",
       "960  Agricultural production (Index Base: 2014-2016...    105.8         NaN   \n",
       "967  Agricultural production (Index Base: 2014-2016...    105.0         NaN   \n",
       "974  Agricultural production (Index Base: 2014-2016...    111.0         NaN   \n",
       "981  Agricultural production (Index Base: 2014-2016...    105.9         NaN   \n",
       "\n",
       "                                              Source_x   N°  \\\n",
       "5    Food and Agriculture Organization of the Unite...    8   \n",
       "12   Food and Agriculture Organization of the Unite...   12   \n",
       "19   Food and Agriculture Organization of the Unite...   24   \n",
       "26   Food and Agriculture Organization of the Unite...   32   \n",
       "32   Food and Agriculture Organization of the Unite...   51   \n",
       "..                                                 ...  ...   \n",
       "953  Food and Agriculture Organization of the Unite...  862   \n",
       "960  Food and Agriculture Organization of the Unite...  704   \n",
       "967  Food and Agriculture Organization of the Unite...  887   \n",
       "974  Food and Agriculture Organization of the Unite...  894   \n",
       "981  Food and Agriculture Organization of the Unite...  716   \n",
       "\n",
       "                                                Series  Value_y Footnotes_y  \\\n",
       "5    Emissions per capita (metric tons of carbon di...      1.4         NaN   \n",
       "12   Emissions per capita (metric tons of carbon di...      3.3         NaN   \n",
       "19   Emissions per capita (metric tons of carbon di...      0.6         NaN   \n",
       "26   Emissions per capita (metric tons of carbon di...      3.6         NaN   \n",
       "32   Emissions per capita (metric tons of carbon di...      2.0         NaN   \n",
       "..                                                 ...      ...         ...   \n",
       "953  Emissions per capita (metric tons of carbon di...      3.1         NaN   \n",
       "960  Emissions per capita (metric tons of carbon di...      2.9         NaN   \n",
       "967  Emissions per capita (metric tons of carbon di...      0.3         NaN   \n",
       "974  Emissions per capita (metric tons of carbon di...      0.4         NaN   \n",
       "981  Emissions per capita (metric tons of carbon di...      0.7         NaN   \n",
       "\n",
       "                                              Source_y  \n",
       "5    International Energy Agency, IEA World Energy ...  \n",
       "12   International Energy Agency, IEA World Energy ...  \n",
       "19   International Energy Agency, IEA World Energy ...  \n",
       "26   International Energy Agency, IEA World Energy ...  \n",
       "32   International Energy Agency, IEA World Energy ...  \n",
       "..                                                 ...  \n",
       "953  International Energy Agency, IEA World Energy ...  \n",
       "960  International Energy Agency, IEA World Energy ...  \n",
       "967  International Energy Agency, IEA World Energy ...  \n",
       "974  International Energy Agency, IEA World Energy ...  \n",
       "981  International Energy Agency, IEA World Energy ...  \n",
       "\n",
       "[146 rows x 11 columns]"
      ]
     },
     "execution_count": 16,
     "metadata": {},
     "output_type": "execute_result"
    }
   ],
   "source": [
    "#Filtered the DataFrame (df) to select the last pre-pandemic year.\n",
    "filtered_merged1 = merged1[merged1['Year'] == '2019']\n",
    "filtered_merged1"
   ]
  },
  {
   "cell_type": "code",
   "execution_count": 17,
   "id": "5fba25c4-e987-47ad-a169-097c7225d674",
   "metadata": {},
   "outputs": [
    {
     "name": "stdout",
     "output_type": "stream",
     "text": [
      "<class 'pandas.core.frame.DataFrame'>\n",
      "Index: 146 entries, 5 to 981\n",
      "Data columns (total 12 columns):\n",
      " #   Column                           Non-Null Count  Dtype  \n",
      "---  ------                           --------------  -----  \n",
      " 0   Country                          146 non-null    object \n",
      " 1   Year                             146 non-null    object \n",
      " 2   Agricultural production indices  146 non-null    object \n",
      " 3   Value_x                          146 non-null    float64\n",
      " 4   Footnotes_x                      1 non-null      object \n",
      " 5   Source_x                         146 non-null    object \n",
      " 6   N°                               146 non-null    int64  \n",
      " 7   Series                           146 non-null    object \n",
      " 8   Value_y                          146 non-null    float64\n",
      " 9   Footnotes_y                      17 non-null     object \n",
      " 10  Source_y                         146 non-null    object \n",
      " 11  ACE                              145 non-null    float64\n",
      "dtypes: float64(3), int64(1), object(8)\n",
      "memory usage: 14.8+ KB\n"
     ]
    },
    {
     "name": "stderr",
     "output_type": "stream",
     "text": [
      "/var/folders/fh/_f6msrbn5857h7qzxymyndww0000gn/T/ipykernel_36851/2848801300.py:6: SettingWithCopyWarning:\n",
      "\n",
      "\n",
      "A value is trying to be set on a copy of a slice from a DataFrame.\n",
      "Try using .loc[row_indexer,col_indexer] = value instead\n",
      "\n",
      "See the caveats in the documentation: https://pandas.pydata.org/pandas-docs/stable/user_guide/indexing.html#returning-a-view-versus-a-copy\n",
      "\n",
      "/var/folders/fh/_f6msrbn5857h7qzxymyndww0000gn/T/ipykernel_36851/2848801300.py:7: SettingWithCopyWarning:\n",
      "\n",
      "\n",
      "A value is trying to be set on a copy of a slice from a DataFrame.\n",
      "Try using .loc[row_indexer,col_indexer] = value instead\n",
      "\n",
      "See the caveats in the documentation: https://pandas.pydata.org/pandas-docs/stable/user_guide/indexing.html#returning-a-view-versus-a-copy\n",
      "\n"
     ]
    }
   ],
   "source": [
    "#Agricultural Carbon Efficiency (ACE)\n",
    "#Conceptual Meaning:\n",
    "#ACE measures how much agricultural production is achieved per unit of carbon emissions.\n",
    "#A higher ACE suggests greater efficiency (more agricultural output with lower emissions).\n",
    "#A lower ACE suggests inefficiency (high emissions relative to agricultural production).\n",
    "filtered_merged1['ACE'] = filtered_merged1['Value_x'] / filtered_merged1['Value_y']\n",
    "filtered_merged1['ACE'] = filtered_merged1.apply(\n",
    "    lambda row: row['Value_x'] / row['Value_y']\n",
    "    if row['Value_y'] != 0 else None, axis=1\n",
    ")\n",
    "filtered_merged1.info()"
   ]
  },
  {
   "cell_type": "code",
   "execution_count": 18,
   "id": "2fa27d2c-a0b1-4f43-ab12-1d8a15d351f4",
   "metadata": {},
   "outputs": [
    {
     "name": "stderr",
     "output_type": "stream",
     "text": [
      "/var/folders/fh/_f6msrbn5857h7qzxymyndww0000gn/T/ipykernel_36851/3951475805.py:2: SettingWithCopyWarning:\n",
      "\n",
      "\n",
      "A value is trying to be set on a copy of a slice from a DataFrame.\n",
      "Try using .loc[row_indexer,col_indexer] = value instead\n",
      "\n",
      "See the caveats in the documentation: https://pandas.pydata.org/pandas-docs/stable/user_guide/indexing.html#returning-a-view-versus-a-copy\n",
      "\n"
     ]
    }
   ],
   "source": [
    "# Min-Max Normalization\n",
    "filtered_merged1['ACE_Normalized'] = (filtered_merged1['ACE'] - filtered_merged1['ACE'].min()) / (filtered_merged1['ACE'].max() - filtered_merged1['ACE'].min())\n"
   ]
  },
  {
   "cell_type": "code",
   "execution_count": 19,
   "id": "5df8a994-c058-499b-bfab-e5181ac7919f",
   "metadata": {},
   "outputs": [
    {
     "name": "stdout",
     "output_type": "stream",
     "text": [
      "The range of 'ACE' 0.0 a 1.0.\n"
     ]
    }
   ],
   "source": [
    "# range\n",
    "min_ACE = filtered_merged1['ACE_Normalized'].min()\n",
    "max_ACE = filtered_merged1['ACE_Normalized'].max()\n",
    "# Show the range\n",
    "print(f\"The range of 'ACE' {min_ACE} a {max_ACE}.\")"
   ]
  },
  {
   "cell_type": "code",
   "execution_count": 20,
   "id": "3c7c96ff-d93a-464d-9816-441a2709515d",
   "metadata": {},
   "outputs": [
    {
     "data": {
      "text/html": [
       "        <script type=\"text/javascript\">\n",
       "        window.PlotlyConfig = {MathJaxConfig: 'local'};\n",
       "        if (window.MathJax && window.MathJax.Hub && window.MathJax.Hub.Config) {window.MathJax.Hub.Config({SVG: {font: \"STIX-Web\"}});}\n",
       "        if (typeof require !== 'undefined') {\n",
       "        require.undef(\"plotly\");\n",
       "        requirejs.config({\n",
       "            paths: {\n",
       "                'plotly': ['https://cdn.plot.ly/plotly-2.35.2.min']\n",
       "            }\n",
       "        });\n",
       "        require(['plotly'], function(Plotly) {\n",
       "            window._Plotly = Plotly;\n",
       "        });\n",
       "        }\n",
       "        </script>\n",
       "        "
      ]
     },
     "metadata": {},
     "output_type": "display_data"
    },
    {
     "data": {
      "application/vnd.plotly.v1+json": {
       "config": {
        "plotlyServerURL": "https://plot.ly"
       },
       "data": [
        {
         "hovertemplate": "Country=Albania<br>Agricultural Production=%{x}<br>Emissions per Capita=%{y}<extra></extra>",
         "legendgroup": "Albania",
         "marker": {
          "color": "#636efa",
          "symbol": "circle"
         },
         "mode": "markers",
         "name": "Albania",
         "orientation": "v",
         "showlegend": true,
         "type": "scatter",
         "x": [
          104
         ],
         "xaxis": "x",
         "y": [
          1.4
         ],
         "yaxis": "y"
        },
        {
         "hovertemplate": "Country=Algeria<br>Agricultural Production=%{x}<br>Emissions per Capita=%{y}<extra></extra>",
         "legendgroup": "Algeria",
         "marker": {
          "color": "#EF553B",
          "symbol": "circle"
         },
         "mode": "markers",
         "name": "Algeria",
         "orientation": "v",
         "showlegend": true,
         "type": "scatter",
         "x": [
          112
         ],
         "xaxis": "x",
         "y": [
          3.3
         ],
         "yaxis": "y"
        },
        {
         "hovertemplate": "Country=Angola<br>Agricultural Production=%{x}<br>Emissions per Capita=%{y}<extra></extra>",
         "legendgroup": "Angola",
         "marker": {
          "color": "#00cc96",
          "symbol": "circle"
         },
         "mode": "markers",
         "name": "Angola",
         "orientation": "v",
         "showlegend": true,
         "type": "scatter",
         "x": [
          107.3
         ],
         "xaxis": "x",
         "y": [
          0.6
         ],
         "yaxis": "y"
        },
        {
         "hovertemplate": "Country=Argentina<br>Agricultural Production=%{x}<br>Emissions per Capita=%{y}<extra></extra>",
         "legendgroup": "Argentina",
         "marker": {
          "color": "#ab63fa",
          "symbol": "circle"
         },
         "mode": "markers",
         "name": "Argentina",
         "orientation": "v",
         "showlegend": true,
         "type": "scatter",
         "x": [
          112.3
         ],
         "xaxis": "x",
         "y": [
          3.6
         ],
         "yaxis": "y"
        },
        {
         "hovertemplate": "Country=Armenia<br>Agricultural Production=%{x}<br>Emissions per Capita=%{y}<extra></extra>",
         "legendgroup": "Armenia",
         "marker": {
          "color": "#FFA15A",
          "symbol": "circle"
         },
         "mode": "markers",
         "name": "Armenia",
         "orientation": "v",
         "showlegend": true,
         "type": "scatter",
         "x": [
          81.2
         ],
         "xaxis": "x",
         "y": [
          2
         ],
         "yaxis": "y"
        },
        {
         "hovertemplate": "Country=Australia<br>Agricultural Production=%{x}<br>Emissions per Capita=%{y}<extra></extra>",
         "legendgroup": "Australia",
         "marker": {
          "color": "#19d3f3",
          "symbol": "circle"
         },
         "mode": "markers",
         "name": "Australia",
         "orientation": "v",
         "showlegend": true,
         "type": "scatter",
         "x": [
          90.8
         ],
         "xaxis": "x",
         "y": [
          15.4
         ],
         "yaxis": "y"
        },
        {
         "hovertemplate": "Country=Austria<br>Agricultural Production=%{x}<br>Emissions per Capita=%{y}<extra></extra>",
         "legendgroup": "Austria",
         "marker": {
          "color": "#FF6692",
          "symbol": "circle"
         },
         "mode": "markers",
         "name": "Austria",
         "orientation": "v",
         "showlegend": true,
         "type": "scatter",
         "x": [
          99.9
         ],
         "xaxis": "x",
         "y": [
          7.1
         ],
         "yaxis": "y"
        },
        {
         "hovertemplate": "Country=Azerbaijan<br>Agricultural Production=%{x}<br>Emissions per Capita=%{y}<extra></extra>",
         "legendgroup": "Azerbaijan",
         "marker": {
          "color": "#B6E880",
          "symbol": "circle"
         },
         "mode": "markers",
         "name": "Azerbaijan",
         "orientation": "v",
         "showlegend": true,
         "type": "scatter",
         "x": [
          126
         ],
         "xaxis": "x",
         "y": [
          3.4
         ],
         "yaxis": "y"
        },
        {
         "hovertemplate": "Country=Bahrain<br>Agricultural Production=%{x}<br>Emissions per Capita=%{y}<extra></extra>",
         "legendgroup": "Bahrain",
         "marker": {
          "color": "#FF97FF",
          "symbol": "circle"
         },
         "mode": "markers",
         "name": "Bahrain",
         "orientation": "v",
         "showlegend": true,
         "type": "scatter",
         "x": [
          129.9
         ],
         "xaxis": "x",
         "y": [
          19.9
         ],
         "yaxis": "y"
        },
        {
         "hovertemplate": "Country=Bangladesh<br>Agricultural Production=%{x}<br>Emissions per Capita=%{y}<extra></extra>",
         "legendgroup": "Bangladesh",
         "marker": {
          "color": "#FECB52",
          "symbol": "circle"
         },
         "mode": "markers",
         "name": "Bangladesh",
         "orientation": "v",
         "showlegend": true,
         "type": "scatter",
         "x": [
          109.2
         ],
         "xaxis": "x",
         "y": [
          0.6
         ],
         "yaxis": "y"
        },
        {
         "hovertemplate": "Country=Belarus<br>Agricultural Production=%{x}<br>Emissions per Capita=%{y}<extra></extra>",
         "legendgroup": "Belarus",
         "marker": {
          "color": "#636efa",
          "symbol": "circle"
         },
         "mode": "markers",
         "name": "Belarus",
         "orientation": "v",
         "showlegend": true,
         "type": "scatter",
         "x": [
          101.7
         ],
         "xaxis": "x",
         "y": [
          5.9
         ],
         "yaxis": "y"
        },
        {
         "hovertemplate": "Country=Belgium<br>Agricultural Production=%{x}<br>Emissions per Capita=%{y}<extra></extra>",
         "legendgroup": "Belgium",
         "marker": {
          "color": "#EF553B",
          "symbol": "circle"
         },
         "mode": "markers",
         "name": "Belgium",
         "orientation": "v",
         "showlegend": true,
         "type": "scatter",
         "x": [
          101.2
         ],
         "xaxis": "x",
         "y": [
          7.9
         ],
         "yaxis": "y"
        },
        {
         "hovertemplate": "Country=Benin<br>Agricultural Production=%{x}<br>Emissions per Capita=%{y}<extra></extra>",
         "legendgroup": "Benin",
         "marker": {
          "color": "#00cc96",
          "symbol": "circle"
         },
         "mode": "markers",
         "name": "Benin",
         "orientation": "v",
         "showlegend": true,
         "type": "scatter",
         "x": [
          124.1
         ],
         "xaxis": "x",
         "y": [
          0.6
         ],
         "yaxis": "y"
        },
        {
         "hovertemplate": "Country=Bolivia (Plurin. State of)<br>Agricultural Production=%{x}<br>Emissions per Capita=%{y}<extra></extra>",
         "legendgroup": "Bolivia (Plurin. State of)",
         "marker": {
          "color": "#ab63fa",
          "symbol": "circle"
         },
         "mode": "markers",
         "name": "Bolivia (Plurin. State of)",
         "orientation": "v",
         "showlegend": true,
         "type": "scatter",
         "x": [
          109.8
         ],
         "xaxis": "x",
         "y": [
          1.8
         ],
         "yaxis": "y"
        },
        {
         "hovertemplate": "Country=Bosnia and Herzegovina<br>Agricultural Production=%{x}<br>Emissions per Capita=%{y}<extra></extra>",
         "legendgroup": "Bosnia and Herzegovina",
         "marker": {
          "color": "#FFA15A",
          "symbol": "circle"
         },
         "mode": "markers",
         "name": "Bosnia and Herzegovina",
         "orientation": "v",
         "showlegend": true,
         "type": "scatter",
         "x": [
          105.2
         ],
         "xaxis": "x",
         "y": [
          6.3
         ],
         "yaxis": "y"
        },
        {
         "hovertemplate": "Country=Botswana<br>Agricultural Production=%{x}<br>Emissions per Capita=%{y}<extra></extra>",
         "legendgroup": "Botswana",
         "marker": {
          "color": "#19d3f3",
          "symbol": "circle"
         },
         "mode": "markers",
         "name": "Botswana",
         "orientation": "v",
         "showlegend": true,
         "type": "scatter",
         "x": [
          100.9
         ],
         "xaxis": "x",
         "y": [
          3.1
         ],
         "yaxis": "y"
        },
        {
         "hovertemplate": "Country=Brazil<br>Agricultural Production=%{x}<br>Emissions per Capita=%{y}<extra></extra>",
         "legendgroup": "Brazil",
         "marker": {
          "color": "#FF6692",
          "symbol": "circle"
         },
         "mode": "markers",
         "name": "Brazil",
         "orientation": "v",
         "showlegend": true,
         "type": "scatter",
         "x": [
          110.2
         ],
         "xaxis": "x",
         "y": [
          2
         ],
         "yaxis": "y"
        },
        {
         "hovertemplate": "Country=Brunei Darussalam<br>Agricultural Production=%{x}<br>Emissions per Capita=%{y}<extra></extra>",
         "legendgroup": "Brunei Darussalam",
         "marker": {
          "color": "#B6E880",
          "symbol": "circle"
         },
         "mode": "markers",
         "name": "Brunei Darussalam",
         "orientation": "v",
         "showlegend": true,
         "type": "scatter",
         "x": [
          100.3
         ],
         "xaxis": "x",
         "y": [
          15.4
         ],
         "yaxis": "y"
        },
        {
         "hovertemplate": "Country=Bulgaria<br>Agricultural Production=%{x}<br>Emissions per Capita=%{y}<extra></extra>",
         "legendgroup": "Bulgaria",
         "marker": {
          "color": "#FF97FF",
          "symbol": "circle"
         },
         "mode": "markers",
         "name": "Bulgaria",
         "orientation": "v",
         "showlegend": true,
         "type": "scatter",
         "x": [
          106.7
         ],
         "xaxis": "x",
         "y": [
          5.5
         ],
         "yaxis": "y"
        },
        {
         "hovertemplate": "Country=Cambodia<br>Agricultural Production=%{x}<br>Emissions per Capita=%{y}<extra></extra>",
         "legendgroup": "Cambodia",
         "marker": {
          "color": "#FECB52",
          "symbol": "circle"
         },
         "mode": "markers",
         "name": "Cambodia",
         "orientation": "v",
         "showlegend": true,
         "type": "scatter",
         "x": [
          113.8
         ],
         "xaxis": "x",
         "y": [
          0.8
         ],
         "yaxis": "y"
        },
        {
         "hovertemplate": "Country=Cameroon<br>Agricultural Production=%{x}<br>Emissions per Capita=%{y}<extra></extra>",
         "legendgroup": "Cameroon",
         "marker": {
          "color": "#636efa",
          "symbol": "circle"
         },
         "mode": "markers",
         "name": "Cameroon",
         "orientation": "v",
         "showlegend": true,
         "type": "scatter",
         "x": [
          102.3
         ],
         "xaxis": "x",
         "y": [
          0.3
         ],
         "yaxis": "y"
        },
        {
         "hovertemplate": "Country=Canada<br>Agricultural Production=%{x}<br>Emissions per Capita=%{y}<extra></extra>",
         "legendgroup": "Canada",
         "marker": {
          "color": "#EF553B",
          "symbol": "circle"
         },
         "mode": "markers",
         "name": "Canada",
         "orientation": "v",
         "showlegend": true,
         "type": "scatter",
         "x": [
          110
         ],
         "xaxis": "x",
         "y": [
          14.8
         ],
         "yaxis": "y"
        },
        {
         "hovertemplate": "Country=Chile<br>Agricultural Production=%{x}<br>Emissions per Capita=%{y}<extra></extra>",
         "legendgroup": "Chile",
         "marker": {
          "color": "#00cc96",
          "symbol": "circle"
         },
         "mode": "markers",
         "name": "Chile",
         "orientation": "v",
         "showlegend": true,
         "type": "scatter",
         "x": [
          107.6
         ],
         "xaxis": "x",
         "y": [
          4.8
         ],
         "yaxis": "y"
        },
        {
         "hovertemplate": "Country=China<br>Agricultural Production=%{x}<br>Emissions per Capita=%{y}<extra></extra>",
         "legendgroup": "China",
         "marker": {
          "color": "#ab63fa",
          "symbol": "circle"
         },
         "mode": "markers",
         "name": "China",
         "orientation": "v",
         "showlegend": true,
         "type": "scatter",
         "x": [
          104
         ],
         "xaxis": "x",
         "y": [
          7.1
         ],
         "yaxis": "y"
        },
        {
         "hovertemplate": "Country=China, Hong Kong SAR<br>Agricultural Production=%{x}<br>Emissions per Capita=%{y}<extra></extra>",
         "legendgroup": "China, Hong Kong SAR",
         "marker": {
          "color": "#FFA15A",
          "symbol": "circle"
         },
         "mode": "markers",
         "name": "China, Hong Kong SAR",
         "orientation": "v",
         "showlegend": true,
         "type": "scatter",
         "x": [
          210.7
         ],
         "xaxis": "x",
         "y": [
          5.7
         ],
         "yaxis": "y"
        },
        {
         "hovertemplate": "Country=Colombia<br>Agricultural Production=%{x}<br>Emissions per Capita=%{y}<extra></extra>",
         "legendgroup": "Colombia",
         "marker": {
          "color": "#19d3f3",
          "symbol": "circle"
         },
         "mode": "markers",
         "name": "Colombia",
         "orientation": "v",
         "showlegend": true,
         "type": "scatter",
         "x": [
          106.1
         ],
         "xaxis": "x",
         "y": [
          1.5
         ],
         "yaxis": "y"
        },
        {
         "hovertemplate": "Country=Congo<br>Agricultural Production=%{x}<br>Emissions per Capita=%{y}<extra></extra>",
         "legendgroup": "Congo",
         "marker": {
          "color": "#FF6692",
          "symbol": "circle"
         },
         "mode": "markers",
         "name": "Congo",
         "orientation": "v",
         "showlegend": true,
         "type": "scatter",
         "x": [
          103.9
         ],
         "xaxis": "x",
         "y": [
          0.7
         ],
         "yaxis": "y"
        },
        {
         "hovertemplate": "Country=Costa Rica<br>Agricultural Production=%{x}<br>Emissions per Capita=%{y}<extra></extra>",
         "legendgroup": "Costa Rica",
         "marker": {
          "color": "#B6E880",
          "symbol": "circle"
         },
         "mode": "markers",
         "name": "Costa Rica",
         "orientation": "v",
         "showlegend": true,
         "type": "scatter",
         "x": [
          100.9
         ],
         "xaxis": "x",
         "y": [
          1.5
         ],
         "yaxis": "y"
        },
        {
         "hovertemplate": "Country=Côte dIvoire<br>Agricultural Production=%{x}<br>Emissions per Capita=%{y}<extra></extra>",
         "legendgroup": "Côte dIvoire",
         "marker": {
          "color": "#FF97FF",
          "symbol": "circle"
         },
         "mode": "markers",
         "name": "Côte dIvoire",
         "orientation": "v",
         "showlegend": true,
         "type": "scatter",
         "x": [
          120.9
         ],
         "xaxis": "x",
         "y": [
          0.4
         ],
         "yaxis": "y"
        },
        {
         "hovertemplate": "Country=Croatia<br>Agricultural Production=%{x}<br>Emissions per Capita=%{y}<extra></extra>",
         "legendgroup": "Croatia",
         "marker": {
          "color": "#FECB52",
          "symbol": "circle"
         },
         "mode": "markers",
         "name": "Croatia",
         "orientation": "v",
         "showlegend": true,
         "type": "scatter",
         "x": [
          99.2
         ],
         "xaxis": "x",
         "y": [
          3.8
         ],
         "yaxis": "y"
        },
        {
         "hovertemplate": "Country=Cuba<br>Agricultural Production=%{x}<br>Emissions per Capita=%{y}<extra></extra>",
         "legendgroup": "Cuba",
         "marker": {
          "color": "#636efa",
          "symbol": "circle"
         },
         "mode": "markers",
         "name": "Cuba",
         "orientation": "v",
         "showlegend": true,
         "type": "scatter",
         "x": [
          95.8
         ],
         "xaxis": "x",
         "y": [
          2.1
         ],
         "yaxis": "y"
        },
        {
         "hovertemplate": "Country=Cyprus<br>Agricultural Production=%{x}<br>Emissions per Capita=%{y}<extra></extra>",
         "legendgroup": "Cyprus",
         "marker": {
          "color": "#EF553B",
          "symbol": "circle"
         },
         "mode": "markers",
         "name": "Cyprus",
         "orientation": "v",
         "showlegend": true,
         "type": "scatter",
         "x": [
          105.8
         ],
         "xaxis": "x",
         "y": [
          7.3
         ],
         "yaxis": "y"
        },
        {
         "hovertemplate": "Country=Czechia<br>Agricultural Production=%{x}<br>Emissions per Capita=%{y}<extra></extra>",
         "legendgroup": "Czechia",
         "marker": {
          "color": "#00cc96",
          "symbol": "circle"
         },
         "mode": "markers",
         "name": "Czechia",
         "orientation": "v",
         "showlegend": true,
         "type": "scatter",
         "x": [
          92.9
         ],
         "xaxis": "x",
         "y": [
          9
         ],
         "yaxis": "y"
        },
        {
         "hovertemplate": "Country=Dem. People's Rep. Korea<br>Agricultural Production=%{x}<br>Emissions per Capita=%{y}<extra></extra>",
         "legendgroup": "Dem. People's Rep. Korea",
         "marker": {
          "color": "#ab63fa",
          "symbol": "circle"
         },
         "mode": "markers",
         "name": "Dem. People's Rep. Korea",
         "orientation": "v",
         "showlegend": true,
         "type": "scatter",
         "x": [
          102.6
         ],
         "xaxis": "x",
         "y": [
          2.1
         ],
         "yaxis": "y"
        },
        {
         "hovertemplate": "Country=Dem. Rep. of the Congo<br>Agricultural Production=%{x}<br>Emissions per Capita=%{y}<extra></extra>",
         "legendgroup": "Dem. Rep. of the Congo",
         "marker": {
          "color": "#FFA15A",
          "symbol": "circle"
         },
         "mode": "markers",
         "name": "Dem. Rep. of the Congo",
         "orientation": "v",
         "showlegend": true,
         "type": "scatter",
         "x": [
          110.4
         ],
         "xaxis": "x",
         "y": [
          0
         ],
         "yaxis": "y"
        },
        {
         "hovertemplate": "Country=Denmark<br>Agricultural Production=%{x}<br>Emissions per Capita=%{y}<extra></extra>",
         "legendgroup": "Denmark",
         "marker": {
          "color": "#19d3f3",
          "symbol": "circle"
         },
         "mode": "markers",
         "name": "Denmark",
         "orientation": "v",
         "showlegend": true,
         "type": "scatter",
         "x": [
          100.6
         ],
         "xaxis": "x",
         "y": [
          4.9
         ],
         "yaxis": "y"
        },
        {
         "hovertemplate": "Country=Dominican Republic<br>Agricultural Production=%{x}<br>Emissions per Capita=%{y}<extra></extra>",
         "legendgroup": "Dominican Republic",
         "marker": {
          "color": "#FF6692",
          "symbol": "circle"
         },
         "mode": "markers",
         "name": "Dominican Republic",
         "orientation": "v",
         "showlegend": true,
         "type": "scatter",
         "x": [
          116.2
         ],
         "xaxis": "x",
         "y": [
          2.2
         ],
         "yaxis": "y"
        },
        {
         "hovertemplate": "Country=Ecuador<br>Agricultural Production=%{x}<br>Emissions per Capita=%{y}<extra></extra>",
         "legendgroup": "Ecuador",
         "marker": {
          "color": "#B6E880",
          "symbol": "circle"
         },
         "mode": "markers",
         "name": "Ecuador",
         "orientation": "v",
         "showlegend": true,
         "type": "scatter",
         "x": [
          99
         ],
         "xaxis": "x",
         "y": [
          2.1
         ],
         "yaxis": "y"
        },
        {
         "hovertemplate": "Country=Egypt<br>Agricultural Production=%{x}<br>Emissions per Capita=%{y}<extra></extra>",
         "legendgroup": "Egypt",
         "marker": {
          "color": "#FF97FF",
          "symbol": "circle"
         },
         "mode": "markers",
         "name": "Egypt",
         "orientation": "v",
         "showlegend": true,
         "type": "scatter",
         "x": [
          100.8
         ],
         "xaxis": "x",
         "y": [
          1.9
         ],
         "yaxis": "y"
        },
        {
         "hovertemplate": "Country=El Salvador<br>Agricultural Production=%{x}<br>Emissions per Capita=%{y}<extra></extra>",
         "legendgroup": "El Salvador",
         "marker": {
          "color": "#FECB52",
          "symbol": "circle"
         },
         "mode": "markers",
         "name": "El Salvador",
         "orientation": "v",
         "showlegend": true,
         "type": "scatter",
         "x": [
          102
         ],
         "xaxis": "x",
         "y": [
          1.2
         ],
         "yaxis": "y"
        },
        {
         "hovertemplate": "Country=Equatorial Guinea<br>Agricultural Production=%{x}<br>Emissions per Capita=%{y}<extra></extra>",
         "legendgroup": "Equatorial Guinea",
         "marker": {
          "color": "#636efa",
          "symbol": "circle"
         },
         "mode": "markers",
         "name": "Equatorial Guinea",
         "orientation": "v",
         "showlegend": true,
         "type": "scatter",
         "x": [
          102.8
         ],
         "xaxis": "x",
         "y": [
          3.2
         ],
         "yaxis": "y"
        },
        {
         "hovertemplate": "Country=Eritrea<br>Agricultural Production=%{x}<br>Emissions per Capita=%{y}<extra></extra>",
         "legendgroup": "Eritrea",
         "marker": {
          "color": "#EF553B",
          "symbol": "circle"
         },
         "mode": "markers",
         "name": "Eritrea",
         "orientation": "v",
         "showlegend": true,
         "type": "scatter",
         "x": [
          103.9
         ],
         "xaxis": "x",
         "y": [
          0.2
         ],
         "yaxis": "y"
        },
        {
         "hovertemplate": "Country=Estonia<br>Agricultural Production=%{x}<br>Emissions per Capita=%{y}<extra></extra>",
         "legendgroup": "Estonia",
         "marker": {
          "color": "#00cc96",
          "symbol": "circle"
         },
         "mode": "markers",
         "name": "Estonia",
         "orientation": "v",
         "showlegend": true,
         "type": "scatter",
         "x": [
          106.7
         ],
         "xaxis": "x",
         "y": [
          7.4
         ],
         "yaxis": "y"
        },
        {
         "hovertemplate": "Country=Eswatini<br>Agricultural Production=%{x}<br>Emissions per Capita=%{y}<extra></extra>",
         "legendgroup": "Eswatini",
         "marker": {
          "color": "#ab63fa",
          "symbol": "circle"
         },
         "mode": "markers",
         "name": "Eswatini",
         "orientation": "v",
         "showlegend": true,
         "type": "scatter",
         "x": [
          104
         ],
         "xaxis": "x",
         "y": [
          1
         ],
         "yaxis": "y"
        },
        {
         "hovertemplate": "Country=Ethiopia<br>Agricultural Production=%{x}<br>Emissions per Capita=%{y}<extra></extra>",
         "legendgroup": "Ethiopia",
         "marker": {
          "color": "#FFA15A",
          "symbol": "circle"
         },
         "mode": "markers",
         "name": "Ethiopia",
         "orientation": "v",
         "showlegend": true,
         "type": "scatter",
         "x": [
          110.3
         ],
         "xaxis": "x",
         "y": [
          0.1
         ],
         "yaxis": "y"
        },
        {
         "hovertemplate": "Country=Finland<br>Agricultural Production=%{x}<br>Emissions per Capita=%{y}<extra></extra>",
         "legendgroup": "Finland",
         "marker": {
          "color": "#19d3f3",
          "symbol": "circle"
         },
         "mode": "markers",
         "name": "Finland",
         "orientation": "v",
         "showlegend": true,
         "type": "scatter",
         "x": [
          102.2
         ],
         "xaxis": "x",
         "y": [
          7.3
         ],
         "yaxis": "y"
        },
        {
         "hovertemplate": "Country=France<br>Agricultural Production=%{x}<br>Emissions per Capita=%{y}<extra></extra>",
         "legendgroup": "France",
         "marker": {
          "color": "#FF6692",
          "symbol": "circle"
         },
         "mode": "markers",
         "name": "France",
         "orientation": "v",
         "showlegend": true,
         "type": "scatter",
         "x": [
          99
         ],
         "xaxis": "x",
         "y": [
          4.3
         ],
         "yaxis": "y"
        },
        {
         "hovertemplate": "Country=Gabon<br>Agricultural Production=%{x}<br>Emissions per Capita=%{y}<extra></extra>",
         "legendgroup": "Gabon",
         "marker": {
          "color": "#B6E880",
          "symbol": "circle"
         },
         "mode": "markers",
         "name": "Gabon",
         "orientation": "v",
         "showlegend": true,
         "type": "scatter",
         "x": [
          103.6
         ],
         "xaxis": "x",
         "y": [
          1.1
         ],
         "yaxis": "y"
        },
        {
         "hovertemplate": "Country=Georgia<br>Agricultural Production=%{x}<br>Emissions per Capita=%{y}<extra></extra>",
         "legendgroup": "Georgia",
         "marker": {
          "color": "#FF97FF",
          "symbol": "circle"
         },
         "mode": "markers",
         "name": "Georgia",
         "orientation": "v",
         "showlegend": true,
         "type": "scatter",
         "x": [
          105.7
         ],
         "xaxis": "x",
         "y": [
          2.6
         ],
         "yaxis": "y"
        },
        {
         "hovertemplate": "Country=Germany<br>Agricultural Production=%{x}<br>Emissions per Capita=%{y}<extra></extra>",
         "legendgroup": "Germany",
         "marker": {
          "color": "#FECB52",
          "symbol": "circle"
         },
         "mode": "markers",
         "name": "Germany",
         "orientation": "v",
         "showlegend": true,
         "type": "scatter",
         "x": [
          94.3
         ],
         "xaxis": "x",
         "y": [
          7.8
         ],
         "yaxis": "y"
        },
        {
         "hovertemplate": "Country=Ghana<br>Agricultural Production=%{x}<br>Emissions per Capita=%{y}<extra></extra>",
         "legendgroup": "Ghana",
         "marker": {
          "color": "#636efa",
          "symbol": "circle"
         },
         "mode": "markers",
         "name": "Ghana",
         "orientation": "v",
         "showlegend": true,
         "type": "scatter",
         "x": [
          115.7
         ],
         "xaxis": "x",
         "y": [
          0.6
         ],
         "yaxis": "y"
        },
        {
         "hovertemplate": "Country=Greece<br>Agricultural Production=%{x}<br>Emissions per Capita=%{y}<extra></extra>",
         "legendgroup": "Greece",
         "marker": {
          "color": "#EF553B",
          "symbol": "circle"
         },
         "mode": "markers",
         "name": "Greece",
         "orientation": "v",
         "showlegend": true,
         "type": "scatter",
         "x": [
          100.9
         ],
         "xaxis": "x",
         "y": [
          5.3
         ],
         "yaxis": "y"
        },
        {
         "hovertemplate": "Country=Guatemala<br>Agricultural Production=%{x}<br>Emissions per Capita=%{y}<extra></extra>",
         "legendgroup": "Guatemala",
         "marker": {
          "color": "#00cc96",
          "symbol": "circle"
         },
         "mode": "markers",
         "name": "Guatemala",
         "orientation": "v",
         "showlegend": true,
         "type": "scatter",
         "x": [
          98.3
         ],
         "xaxis": "x",
         "y": [
          1.1
         ],
         "yaxis": "y"
        },
        {
         "hovertemplate": "Country=Guyana<br>Agricultural Production=%{x}<br>Emissions per Capita=%{y}<extra></extra>",
         "legendgroup": "Guyana",
         "marker": {
          "color": "#ab63fa",
          "symbol": "circle"
         },
         "mode": "markers",
         "name": "Guyana",
         "orientation": "v",
         "showlegend": true,
         "type": "scatter",
         "x": [
          109.6
         ],
         "xaxis": "x",
         "y": [
          3.4
         ],
         "yaxis": "y"
        },
        {
         "hovertemplate": "Country=Haiti<br>Agricultural Production=%{x}<br>Emissions per Capita=%{y}<extra></extra>",
         "legendgroup": "Haiti",
         "marker": {
          "color": "#FFA15A",
          "symbol": "circle"
         },
         "mode": "markers",
         "name": "Haiti",
         "orientation": "v",
         "showlegend": true,
         "type": "scatter",
         "x": [
          80.6
         ],
         "xaxis": "x",
         "y": [
          0.3
         ],
         "yaxis": "y"
        },
        {
         "hovertemplate": "Country=Honduras<br>Agricultural Production=%{x}<br>Emissions per Capita=%{y}<extra></extra>",
         "legendgroup": "Honduras",
         "marker": {
          "color": "#19d3f3",
          "symbol": "circle"
         },
         "mode": "markers",
         "name": "Honduras",
         "orientation": "v",
         "showlegend": true,
         "type": "scatter",
         "x": [
          115.9
         ],
         "xaxis": "x",
         "y": [
          1
         ],
         "yaxis": "y"
        },
        {
         "hovertemplate": "Country=Hungary<br>Agricultural Production=%{x}<br>Emissions per Capita=%{y}<extra></extra>",
         "legendgroup": "Hungary",
         "marker": {
          "color": "#FF6692",
          "symbol": "circle"
         },
         "mode": "markers",
         "name": "Hungary",
         "orientation": "v",
         "showlegend": true,
         "type": "scatter",
         "x": [
          99.2
         ],
         "xaxis": "x",
         "y": [
          4.7
         ],
         "yaxis": "y"
        },
        {
         "hovertemplate": "Country=Iceland<br>Agricultural Production=%{x}<br>Emissions per Capita=%{y}<extra></extra>",
         "legendgroup": "Iceland",
         "marker": {
          "color": "#B6E880",
          "symbol": "circle"
         },
         "mode": "markers",
         "name": "Iceland",
         "orientation": "v",
         "showlegend": true,
         "type": "scatter",
         "x": [
          106.9
         ],
         "xaxis": "x",
         "y": [
          4.5
         ],
         "yaxis": "y"
        },
        {
         "hovertemplate": "Country=India<br>Agricultural Production=%{x}<br>Emissions per Capita=%{y}<extra></extra>",
         "legendgroup": "India",
         "marker": {
          "color": "#FF97FF",
          "symbol": "circle"
         },
         "mode": "markers",
         "name": "India",
         "orientation": "v",
         "showlegend": true,
         "type": "scatter",
         "x": [
          115.3
         ],
         "xaxis": "x",
         "y": [
          1.7
         ],
         "yaxis": "y"
        },
        {
         "hovertemplate": "Country=Indonesia<br>Agricultural Production=%{x}<br>Emissions per Capita=%{y}<extra></extra>",
         "legendgroup": "Indonesia",
         "marker": {
          "color": "#FECB52",
          "symbol": "circle"
         },
         "mode": "markers",
         "name": "Indonesia",
         "orientation": "v",
         "showlegend": true,
         "type": "scatter",
         "x": [
          114.6
         ],
         "xaxis": "x",
         "y": [
          2.1
         ],
         "yaxis": "y"
        },
        {
         "hovertemplate": "Country=Iran (Islamic Republic of)<br>Agricultural Production=%{x}<br>Emissions per Capita=%{y}<extra></extra>",
         "legendgroup": "Iran (Islamic Republic of)",
         "marker": {
          "color": "#636efa",
          "symbol": "circle"
         },
         "mode": "markers",
         "name": "Iran (Islamic Republic of)",
         "orientation": "v",
         "showlegend": true,
         "type": "scatter",
         "x": [
          91.6
         ],
         "xaxis": "x",
         "y": [
          7
         ],
         "yaxis": "y"
        },
        {
         "hovertemplate": "Country=Iraq<br>Agricultural Production=%{x}<br>Emissions per Capita=%{y}<extra></extra>",
         "legendgroup": "Iraq",
         "marker": {
          "color": "#EF553B",
          "symbol": "circle"
         },
         "mode": "markers",
         "name": "Iraq",
         "orientation": "v",
         "showlegend": true,
         "type": "scatter",
         "x": [
          123.1
         ],
         "xaxis": "x",
         "y": [
          3.5
         ],
         "yaxis": "y"
        },
        {
         "hovertemplate": "Country=Ireland<br>Agricultural Production=%{x}<br>Emissions per Capita=%{y}<extra></extra>",
         "legendgroup": "Ireland",
         "marker": {
          "color": "#00cc96",
          "symbol": "circle"
         },
         "mode": "markers",
         "name": "Ireland",
         "orientation": "v",
         "showlegend": true,
         "type": "scatter",
         "x": [
          113.5
         ],
         "xaxis": "x",
         "y": [
          6.9
         ],
         "yaxis": "y"
        },
        {
         "hovertemplate": "Country=Israel<br>Agricultural Production=%{x}<br>Emissions per Capita=%{y}<extra></extra>",
         "legendgroup": "Israel",
         "marker": {
          "color": "#ab63fa",
          "symbol": "circle"
         },
         "mode": "markers",
         "name": "Israel",
         "orientation": "v",
         "showlegend": true,
         "type": "scatter",
         "x": [
          100.3
         ],
         "xaxis": "x",
         "y": [
          6.8
         ],
         "yaxis": "y"
        },
        {
         "hovertemplate": "Country=Italy<br>Agricultural Production=%{x}<br>Emissions per Capita=%{y}<extra></extra>",
         "legendgroup": "Italy",
         "marker": {
          "color": "#FFA15A",
          "symbol": "circle"
         },
         "mode": "markers",
         "name": "Italy",
         "orientation": "v",
         "showlegend": true,
         "type": "scatter",
         "x": [
          98.4
         ],
         "xaxis": "x",
         "y": [
          5.2
         ],
         "yaxis": "y"
        },
        {
         "hovertemplate": "Country=Jamaica<br>Agricultural Production=%{x}<br>Emissions per Capita=%{y}<extra></extra>",
         "legendgroup": "Jamaica",
         "marker": {
          "color": "#19d3f3",
          "symbol": "circle"
         },
         "mode": "markers",
         "name": "Jamaica",
         "orientation": "v",
         "showlegend": true,
         "type": "scatter",
         "x": [
          104.7
         ],
         "xaxis": "x",
         "y": [
          2.7
         ],
         "yaxis": "y"
        },
        {
         "hovertemplate": "Country=Japan<br>Agricultural Production=%{x}<br>Emissions per Capita=%{y}<extra></extra>",
         "legendgroup": "Japan",
         "marker": {
          "color": "#FF6692",
          "symbol": "circle"
         },
         "mode": "markers",
         "name": "Japan",
         "orientation": "v",
         "showlegend": true,
         "type": "scatter",
         "x": [
          100.4
         ],
         "xaxis": "x",
         "y": [
          8.3
         ],
         "yaxis": "y"
        },
        {
         "hovertemplate": "Country=Jordan<br>Agricultural Production=%{x}<br>Emissions per Capita=%{y}<extra></extra>",
         "legendgroup": "Jordan",
         "marker": {
          "color": "#B6E880",
          "symbol": "circle"
         },
         "mode": "markers",
         "name": "Jordan",
         "orientation": "v",
         "showlegend": true,
         "type": "scatter",
         "x": [
          98.1
         ],
         "xaxis": "x",
         "y": [
          2.2
         ],
         "yaxis": "y"
        },
        {
         "hovertemplate": "Country=Kazakhstan<br>Agricultural Production=%{x}<br>Emissions per Capita=%{y}<extra></extra>",
         "legendgroup": "Kazakhstan",
         "marker": {
          "color": "#FF97FF",
          "symbol": "circle"
         },
         "mode": "markers",
         "name": "Kazakhstan",
         "orientation": "v",
         "showlegend": true,
         "type": "scatter",
         "x": [
          111.7
         ],
         "xaxis": "x",
         "y": [
          10.7
         ],
         "yaxis": "y"
        },
        {
         "hovertemplate": "Country=Kenya<br>Agricultural Production=%{x}<br>Emissions per Capita=%{y}<extra></extra>",
         "legendgroup": "Kenya",
         "marker": {
          "color": "#FECB52",
          "symbol": "circle"
         },
         "mode": "markers",
         "name": "Kenya",
         "orientation": "v",
         "showlegend": true,
         "type": "scatter",
         "x": [
          107.4
         ],
         "xaxis": "x",
         "y": [
          0.3
         ],
         "yaxis": "y"
        },
        {
         "hovertemplate": "Country=Kuwait<br>Agricultural Production=%{x}<br>Emissions per Capita=%{y}<extra></extra>",
         "legendgroup": "Kuwait",
         "marker": {
          "color": "#636efa",
          "symbol": "circle"
         },
         "mode": "markers",
         "name": "Kuwait",
         "orientation": "v",
         "showlegend": true,
         "type": "scatter",
         "x": [
          118.2
         ],
         "xaxis": "x",
         "y": [
          21.6
         ],
         "yaxis": "y"
        },
        {
         "hovertemplate": "Country=Kyrgyzstan<br>Agricultural Production=%{x}<br>Emissions per Capita=%{y}<extra></extra>",
         "legendgroup": "Kyrgyzstan",
         "marker": {
          "color": "#EF553B",
          "symbol": "circle"
         },
         "mode": "markers",
         "name": "Kyrgyzstan",
         "orientation": "v",
         "showlegend": true,
         "type": "scatter",
         "x": [
          109.7
         ],
         "xaxis": "x",
         "y": [
          1.4
         ],
         "yaxis": "y"
        },
        {
         "hovertemplate": "Country=Lao People's Dem. Rep.<br>Agricultural Production=%{x}<br>Emissions per Capita=%{y}<extra></extra>",
         "legendgroup": "Lao People's Dem. Rep.",
         "marker": {
          "color": "#00cc96",
          "symbol": "circle"
         },
         "mode": "markers",
         "name": "Lao People's Dem. Rep.",
         "orientation": "v",
         "showlegend": true,
         "type": "scatter",
         "x": [
          102.6
         ],
         "xaxis": "x",
         "y": [
          2.4
         ],
         "yaxis": "y"
        },
        {
         "hovertemplate": "Country=Latvia<br>Agricultural Production=%{x}<br>Emissions per Capita=%{y}<extra></extra>",
         "legendgroup": "Latvia",
         "marker": {
          "color": "#ab63fa",
          "symbol": "circle"
         },
         "mode": "markers",
         "name": "Latvia",
         "orientation": "v",
         "showlegend": true,
         "type": "scatter",
         "x": [
          104.7
         ],
         "xaxis": "x",
         "y": [
          3.7
         ],
         "yaxis": "y"
        },
        {
         "hovertemplate": "Country=Lebanon<br>Agricultural Production=%{x}<br>Emissions per Capita=%{y}<extra></extra>",
         "legendgroup": "Lebanon",
         "marker": {
          "color": "#FFA15A",
          "symbol": "circle"
         },
         "mode": "markers",
         "name": "Lebanon",
         "orientation": "v",
         "showlegend": true,
         "type": "scatter",
         "x": [
          100.8
         ],
         "xaxis": "x",
         "y": [
          3.7
         ],
         "yaxis": "y"
        },
        {
         "hovertemplate": "Country=Libya<br>Agricultural Production=%{x}<br>Emissions per Capita=%{y}<extra></extra>",
         "legendgroup": "Libya",
         "marker": {
          "color": "#19d3f3",
          "symbol": "circle"
         },
         "mode": "markers",
         "name": "Libya",
         "orientation": "v",
         "showlegend": true,
         "type": "scatter",
         "x": [
          101.9
         ],
         "xaxis": "x",
         "y": [
          6.6
         ],
         "yaxis": "y"
        },
        {
         "hovertemplate": "Country=Lithuania<br>Agricultural Production=%{x}<br>Emissions per Capita=%{y}<extra></extra>",
         "legendgroup": "Lithuania",
         "marker": {
          "color": "#FF6692",
          "symbol": "circle"
         },
         "mode": "markers",
         "name": "Lithuania",
         "orientation": "v",
         "showlegend": true,
         "type": "scatter",
         "x": [
          94.3
         ],
         "xaxis": "x",
         "y": [
          4
         ],
         "yaxis": "y"
        },
        {
         "hovertemplate": "Country=Luxembourg<br>Agricultural Production=%{x}<br>Emissions per Capita=%{y}<extra></extra>",
         "legendgroup": "Luxembourg",
         "marker": {
          "color": "#B6E880",
          "symbol": "circle"
         },
         "mode": "markers",
         "name": "Luxembourg",
         "orientation": "v",
         "showlegend": true,
         "type": "scatter",
         "x": [
          110.4
         ],
         "xaxis": "x",
         "y": [
          14.6
         ],
         "yaxis": "y"
        },
        {
         "hovertemplate": "Country=Madagascar<br>Agricultural Production=%{x}<br>Emissions per Capita=%{y}<extra></extra>",
         "legendgroup": "Madagascar",
         "marker": {
          "color": "#FF97FF",
          "symbol": "circle"
         },
         "mode": "markers",
         "name": "Madagascar",
         "orientation": "v",
         "showlegend": true,
         "type": "scatter",
         "x": [
          101.3
         ],
         "xaxis": "x",
         "y": [
          0.1
         ],
         "yaxis": "y"
        },
        {
         "hovertemplate": "Country=Malaysia<br>Agricultural Production=%{x}<br>Emissions per Capita=%{y}<extra></extra>",
         "legendgroup": "Malaysia",
         "marker": {
          "color": "#FECB52",
          "symbol": "circle"
         },
         "mode": "markers",
         "name": "Malaysia",
         "orientation": "v",
         "showlegend": true,
         "type": "scatter",
         "x": [
          101.7
         ],
         "xaxis": "x",
         "y": [
          7.2
         ],
         "yaxis": "y"
        },
        {
         "hovertemplate": "Country=Malta<br>Agricultural Production=%{x}<br>Emissions per Capita=%{y}<extra></extra>",
         "legendgroup": "Malta",
         "marker": {
          "color": "#636efa",
          "symbol": "circle"
         },
         "mode": "markers",
         "name": "Malta",
         "orientation": "v",
         "showlegend": true,
         "type": "scatter",
         "x": [
          73.6
         ],
         "xaxis": "x",
         "y": [
          3.3
         ],
         "yaxis": "y"
        },
        {
         "hovertemplate": "Country=Mauritius<br>Agricultural Production=%{x}<br>Emissions per Capita=%{y}<extra></extra>",
         "legendgroup": "Mauritius",
         "marker": {
          "color": "#EF553B",
          "symbol": "circle"
         },
         "mode": "markers",
         "name": "Mauritius",
         "orientation": "v",
         "showlegend": true,
         "type": "scatter",
         "x": [
          94.4
         ],
         "xaxis": "x",
         "y": [
          3.3
         ],
         "yaxis": "y"
        },
        {
         "hovertemplate": "Country=Mexico<br>Agricultural Production=%{x}<br>Emissions per Capita=%{y}<extra></extra>",
         "legendgroup": "Mexico",
         "marker": {
          "color": "#00cc96",
          "symbol": "circle"
         },
         "mode": "markers",
         "name": "Mexico",
         "orientation": "v",
         "showlegend": true,
         "type": "scatter",
         "x": [
          112.1
         ],
         "xaxis": "x",
         "y": [
          3.4
         ],
         "yaxis": "y"
        },
        {
         "hovertemplate": "Country=Mongolia<br>Agricultural Production=%{x}<br>Emissions per Capita=%{y}<extra></extra>",
         "legendgroup": "Mongolia",
         "marker": {
          "color": "#ab63fa",
          "symbol": "circle"
         },
         "mode": "markers",
         "name": "Mongolia",
         "orientation": "v",
         "showlegend": true,
         "type": "scatter",
         "x": [
          130.3
         ],
         "xaxis": "x",
         "y": [
          7
         ],
         "yaxis": "y"
        },
        {
         "hovertemplate": "Country=Montenegro<br>Agricultural Production=%{x}<br>Emissions per Capita=%{y}<extra></extra>",
         "legendgroup": "Montenegro",
         "marker": {
          "color": "#FFA15A",
          "symbol": "circle"
         },
         "mode": "markers",
         "name": "Montenegro",
         "orientation": "v",
         "showlegend": true,
         "type": "scatter",
         "x": [
          97.7
         ],
         "xaxis": "x",
         "y": [
          4.2
         ],
         "yaxis": "y"
        },
        {
         "hovertemplate": "Country=Morocco<br>Agricultural Production=%{x}<br>Emissions per Capita=%{y}<extra></extra>",
         "legendgroup": "Morocco",
         "marker": {
          "color": "#19d3f3",
          "symbol": "circle"
         },
         "mode": "markers",
         "name": "Morocco",
         "orientation": "v",
         "showlegend": true,
         "type": "scatter",
         "x": [
          110.1
         ],
         "xaxis": "x",
         "y": [
          1.8
         ],
         "yaxis": "y"
        },
        {
         "hovertemplate": "Country=Mozambique<br>Agricultural Production=%{x}<br>Emissions per Capita=%{y}<extra></extra>",
         "legendgroup": "Mozambique",
         "marker": {
          "color": "#FF6692",
          "symbol": "circle"
         },
         "mode": "markers",
         "name": "Mozambique",
         "orientation": "v",
         "showlegend": true,
         "type": "scatter",
         "x": [
          135.6
         ],
         "xaxis": "x",
         "y": [
          0.2
         ],
         "yaxis": "y"
        },
        {
         "hovertemplate": "Country=Myanmar<br>Agricultural Production=%{x}<br>Emissions per Capita=%{y}<extra></extra>",
         "legendgroup": "Myanmar",
         "marker": {
          "color": "#B6E880",
          "symbol": "circle"
         },
         "mode": "markers",
         "name": "Myanmar",
         "orientation": "v",
         "showlegend": true,
         "type": "scatter",
         "x": [
          80.5
         ],
         "xaxis": "x",
         "y": [
          0.6
         ],
         "yaxis": "y"
        },
        {
         "hovertemplate": "Country=Namibia<br>Agricultural Production=%{x}<br>Emissions per Capita=%{y}<extra></extra>",
         "legendgroup": "Namibia",
         "marker": {
          "color": "#FF97FF",
          "symbol": "circle"
         },
         "mode": "markers",
         "name": "Namibia",
         "orientation": "v",
         "showlegend": true,
         "type": "scatter",
         "x": [
          97.4
         ],
         "xaxis": "x",
         "y": [
          1.5
         ],
         "yaxis": "y"
        },
        {
         "hovertemplate": "Country=Nepal<br>Agricultural Production=%{x}<br>Emissions per Capita=%{y}<extra></extra>",
         "legendgroup": "Nepal",
         "marker": {
          "color": "#FECB52",
          "symbol": "circle"
         },
         "mode": "markers",
         "name": "Nepal",
         "orientation": "v",
         "showlegend": true,
         "type": "scatter",
         "x": [
          114
         ],
         "xaxis": "x",
         "y": [
          0.4
         ],
         "yaxis": "y"
        },
        {
         "hovertemplate": "Country=Netherlands (Kingdom of the)<br>Agricultural Production=%{x}<br>Emissions per Capita=%{y}<extra></extra>",
         "legendgroup": "Netherlands (Kingdom of the)",
         "marker": {
          "color": "#636efa",
          "symbol": "circle"
         },
         "mode": "markers",
         "name": "Netherlands (Kingdom of the)",
         "orientation": "v",
         "showlegend": true,
         "type": "scatter",
         "x": [
          100.8
         ],
         "xaxis": "x",
         "y": [
          8.4
         ],
         "yaxis": "y"
        },
        {
         "hovertemplate": "Country=New Zealand<br>Agricultural Production=%{x}<br>Emissions per Capita=%{y}<extra></extra>",
         "legendgroup": "New Zealand",
         "marker": {
          "color": "#EF553B",
          "symbol": "circle"
         },
         "mode": "markers",
         "name": "New Zealand",
         "orientation": "v",
         "showlegend": true,
         "type": "scatter",
         "x": [
          101.4
         ],
         "xaxis": "x",
         "y": [
          6.7
         ],
         "yaxis": "y"
        },
        {
         "hovertemplate": "Country=Nicaragua<br>Agricultural Production=%{x}<br>Emissions per Capita=%{y}<extra></extra>",
         "legendgroup": "Nicaragua",
         "marker": {
          "color": "#00cc96",
          "symbol": "circle"
         },
         "mode": "markers",
         "name": "Nicaragua",
         "orientation": "v",
         "showlegend": true,
         "type": "scatter",
         "x": [
          118.8
         ],
         "xaxis": "x",
         "y": [
          0.8
         ],
         "yaxis": "y"
        },
        {
         "hovertemplate": "Country=Niger<br>Agricultural Production=%{x}<br>Emissions per Capita=%{y}<extra></extra>",
         "legendgroup": "Niger",
         "marker": {
          "color": "#ab63fa",
          "symbol": "circle"
         },
         "mode": "markers",
         "name": "Niger",
         "orientation": "v",
         "showlegend": true,
         "type": "scatter",
         "x": [
          118.8
         ],
         "xaxis": "x",
         "y": [
          0.1
         ],
         "yaxis": "y"
        },
        {
         "hovertemplate": "Country=Nigeria<br>Agricultural Production=%{x}<br>Emissions per Capita=%{y}<extra></extra>",
         "legendgroup": "Nigeria",
         "marker": {
          "color": "#FFA15A",
          "symbol": "circle"
         },
         "mode": "markers",
         "name": "Nigeria",
         "orientation": "v",
         "showlegend": true,
         "type": "scatter",
         "x": [
          107.5
         ],
         "xaxis": "x",
         "y": [
          0.5
         ],
         "yaxis": "y"
        },
        {
         "hovertemplate": "Country=North Macedonia<br>Agricultural Production=%{x}<br>Emissions per Capita=%{y}<extra></extra>",
         "legendgroup": "North Macedonia",
         "marker": {
          "color": "#19d3f3",
          "symbol": "circle"
         },
         "mode": "markers",
         "name": "North Macedonia",
         "orientation": "v",
         "showlegend": true,
         "type": "scatter",
         "x": [
          96
         ],
         "xaxis": "x",
         "y": [
          3.8
         ],
         "yaxis": "y"
        },
        {
         "hovertemplate": "Country=Norway<br>Agricultural Production=%{x}<br>Emissions per Capita=%{y}<extra></extra>",
         "legendgroup": "Norway",
         "marker": {
          "color": "#FF6692",
          "symbol": "circle"
         },
         "mode": "markers",
         "name": "Norway",
         "orientation": "v",
         "showlegend": true,
         "type": "scatter",
         "x": [
          101.5
         ],
         "xaxis": "x",
         "y": [
          6.8
         ],
         "yaxis": "y"
        },
        {
         "hovertemplate": "Country=Oman<br>Agricultural Production=%{x}<br>Emissions per Capita=%{y}<extra></extra>",
         "legendgroup": "Oman",
         "marker": {
          "color": "#B6E880",
          "symbol": "circle"
         },
         "mode": "markers",
         "name": "Oman",
         "orientation": "v",
         "showlegend": true,
         "type": "scatter",
         "x": [
          127.8
         ],
         "xaxis": "x",
         "y": [
          13.8
         ],
         "yaxis": "y"
        },
        {
         "hovertemplate": "Country=Pakistan<br>Agricultural Production=%{x}<br>Emissions per Capita=%{y}<extra></extra>",
         "legendgroup": "Pakistan",
         "marker": {
          "color": "#FF97FF",
          "symbol": "circle"
         },
         "mode": "markers",
         "name": "Pakistan",
         "orientation": "v",
         "showlegend": true,
         "type": "scatter",
         "x": [
          110.8
         ],
         "xaxis": "x",
         "y": [
          0.8
         ],
         "yaxis": "y"
        },
        {
         "hovertemplate": "Country=Panama<br>Agricultural Production=%{x}<br>Emissions per Capita=%{y}<extra></extra>",
         "legendgroup": "Panama",
         "marker": {
          "color": "#FECB52",
          "symbol": "circle"
         },
         "mode": "markers",
         "name": "Panama",
         "orientation": "v",
         "showlegend": true,
         "type": "scatter",
         "x": [
          110.7
         ],
         "xaxis": "x",
         "y": [
          3
         ],
         "yaxis": "y"
        },
        {
         "hovertemplate": "Country=Paraguay<br>Agricultural Production=%{x}<br>Emissions per Capita=%{y}<extra></extra>",
         "legendgroup": "Paraguay",
         "marker": {
          "color": "#636efa",
          "symbol": "circle"
         },
         "mode": "markers",
         "name": "Paraguay",
         "orientation": "v",
         "showlegend": true,
         "type": "scatter",
         "x": [
          102.4
         ],
         "xaxis": "x",
         "y": [
          1.1
         ],
         "yaxis": "y"
        },
        {
         "hovertemplate": "Country=Peru<br>Agricultural Production=%{x}<br>Emissions per Capita=%{y}<extra></extra>",
         "legendgroup": "Peru",
         "marker": {
          "color": "#EF553B",
          "symbol": "circle"
         },
         "mode": "markers",
         "name": "Peru",
         "orientation": "v",
         "showlegend": true,
         "type": "scatter",
         "x": [
          116.6
         ],
         "xaxis": "x",
         "y": [
          1.6
         ],
         "yaxis": "y"
        },
        {
         "hovertemplate": "Country=Philippines<br>Agricultural Production=%{x}<br>Emissions per Capita=%{y}<extra></extra>",
         "legendgroup": "Philippines",
         "marker": {
          "color": "#00cc96",
          "symbol": "circle"
         },
         "mode": "markers",
         "name": "Philippines",
         "orientation": "v",
         "showlegend": true,
         "type": "scatter",
         "x": [
          101.2
         ],
         "xaxis": "x",
         "y": [
          1.3
         ],
         "yaxis": "y"
        },
        {
         "hovertemplate": "Country=Poland<br>Agricultural Production=%{x}<br>Emissions per Capita=%{y}<extra></extra>",
         "legendgroup": "Poland",
         "marker": {
          "color": "#ab63fa",
          "symbol": "circle"
         },
         "mode": "markers",
         "name": "Poland",
         "orientation": "v",
         "showlegend": true,
         "type": "scatter",
         "x": [
          101.9
         ],
         "xaxis": "x",
         "y": [
          7.5
         ],
         "yaxis": "y"
        },
        {
         "hovertemplate": "Country=Portugal<br>Agricultural Production=%{x}<br>Emissions per Capita=%{y}<extra></extra>",
         "legendgroup": "Portugal",
         "marker": {
          "color": "#FFA15A",
          "symbol": "circle"
         },
         "mode": "markers",
         "name": "Portugal",
         "orientation": "v",
         "showlegend": true,
         "type": "scatter",
         "x": [
          111.2
         ],
         "xaxis": "x",
         "y": [
          4.1
         ],
         "yaxis": "y"
        },
        {
         "hovertemplate": "Country=Qatar<br>Agricultural Production=%{x}<br>Emissions per Capita=%{y}<extra></extra>",
         "legendgroup": "Qatar",
         "marker": {
          "color": "#19d3f3",
          "symbol": "circle"
         },
         "mode": "markers",
         "name": "Qatar",
         "orientation": "v",
         "showlegend": true,
         "type": "scatter",
         "x": [
          136.8
         ],
         "xaxis": "x",
         "y": [
          30.1
         ],
         "yaxis": "y"
        },
        {
         "hovertemplate": "Country=Republic of Korea<br>Agricultural Production=%{x}<br>Emissions per Capita=%{y}<extra></extra>",
         "legendgroup": "Republic of Korea",
         "marker": {
          "color": "#FF6692",
          "symbol": "circle"
         },
         "mode": "markers",
         "name": "Republic of Korea",
         "orientation": "v",
         "showlegend": true,
         "type": "scatter",
         "x": [
          101
         ],
         "xaxis": "x",
         "y": [
          11.4
         ],
         "yaxis": "y"
        },
        {
         "hovertemplate": "Country=Republic of Moldova<br>Agricultural Production=%{x}<br>Emissions per Capita=%{y}<extra></extra>",
         "legendgroup": "Republic of Moldova",
         "marker": {
          "color": "#B6E880",
          "symbol": "circle"
         },
         "mode": "markers",
         "name": "Republic of Moldova",
         "orientation": "v",
         "showlegend": true,
         "type": "scatter",
         "x": [
          118.5
         ],
         "xaxis": "x",
         "y": [
          3.1
         ],
         "yaxis": "y"
        },
        {
         "hovertemplate": "Country=Romania<br>Agricultural Production=%{x}<br>Emissions per Capita=%{y}<extra></extra>",
         "legendgroup": "Romania",
         "marker": {
          "color": "#FF97FF",
          "symbol": "circle"
         },
         "mode": "markers",
         "name": "Romania",
         "orientation": "v",
         "showlegend": true,
         "type": "scatter",
         "x": [
          112
         ],
         "xaxis": "x",
         "y": [
          3.6
         ],
         "yaxis": "y"
        },
        {
         "hovertemplate": "Country=Russian Federation<br>Agricultural Production=%{x}<br>Emissions per Capita=%{y}<extra></extra>",
         "legendgroup": "Russian Federation",
         "marker": {
          "color": "#FECB52",
          "symbol": "circle"
         },
         "mode": "markers",
         "name": "Russian Federation",
         "orientation": "v",
         "showlegend": true,
         "type": "scatter",
         "x": [
          110
         ],
         "xaxis": "x",
         "y": [
          11.4
         ],
         "yaxis": "y"
        },
        {
         "hovertemplate": "Country=Rwanda<br>Agricultural Production=%{x}<br>Emissions per Capita=%{y}<extra></extra>",
         "legendgroup": "Rwanda",
         "marker": {
          "color": "#636efa",
          "symbol": "circle"
         },
         "mode": "markers",
         "name": "Rwanda",
         "orientation": "v",
         "showlegend": true,
         "type": "scatter",
         "x": [
          123
         ],
         "xaxis": "x",
         "y": [
          0.1
         ],
         "yaxis": "y"
        },
        {
         "hovertemplate": "Country=Saudi Arabia<br>Agricultural Production=%{x}<br>Emissions per Capita=%{y}<extra></extra>",
         "legendgroup": "Saudi Arabia",
         "marker": {
          "color": "#EF553B",
          "symbol": "circle"
         },
         "mode": "markers",
         "name": "Saudi Arabia",
         "orientation": "v",
         "showlegend": true,
         "type": "scatter",
         "x": [
          136.8
         ],
         "xaxis": "x",
         "y": [
          14.5
         ],
         "yaxis": "y"
        },
        {
         "hovertemplate": "Country=Senegal<br>Agricultural Production=%{x}<br>Emissions per Capita=%{y}<extra></extra>",
         "legendgroup": "Senegal",
         "marker": {
          "color": "#00cc96",
          "symbol": "circle"
         },
         "mode": "markers",
         "name": "Senegal",
         "orientation": "v",
         "showlegend": true,
         "type": "scatter",
         "x": [
          151.2
         ],
         "xaxis": "x",
         "y": [
          0.6
         ],
         "yaxis": "y"
        },
        {
         "hovertemplate": "Country=Serbia<br>Agricultural Production=%{x}<br>Emissions per Capita=%{y}<extra></extra>",
         "legendgroup": "Serbia",
         "marker": {
          "color": "#ab63fa",
          "symbol": "circle"
         },
         "mode": "markers",
         "name": "Serbia",
         "orientation": "v",
         "showlegend": true,
         "type": "scatter",
         "x": [
          107.8
         ],
         "xaxis": "x",
         "y": [
          6.5
         ],
         "yaxis": "y"
        },
        {
         "hovertemplate": "Country=Singapore<br>Agricultural Production=%{x}<br>Emissions per Capita=%{y}<extra></extra>",
         "legendgroup": "Singapore",
         "marker": {
          "color": "#FFA15A",
          "symbol": "circle"
         },
         "mode": "markers",
         "name": "Singapore",
         "orientation": "v",
         "showlegend": true,
         "type": "scatter",
         "x": [
          123.8
         ],
         "xaxis": "x",
         "y": [
          7.9
         ],
         "yaxis": "y"
        },
        {
         "hovertemplate": "Country=Slovakia<br>Agricultural Production=%{x}<br>Emissions per Capita=%{y}<extra></extra>",
         "legendgroup": "Slovakia",
         "marker": {
          "color": "#19d3f3",
          "symbol": "circle"
         },
         "mode": "markers",
         "name": "Slovakia",
         "orientation": "v",
         "showlegend": true,
         "type": "scatter",
         "x": [
          97.8
         ],
         "xaxis": "x",
         "y": [
          5.4
         ],
         "yaxis": "y"
        },
        {
         "hovertemplate": "Country=Slovenia<br>Agricultural Production=%{x}<br>Emissions per Capita=%{y}<extra></extra>",
         "legendgroup": "Slovenia",
         "marker": {
          "color": "#FF6692",
          "symbol": "circle"
         },
         "mode": "markers",
         "name": "Slovenia",
         "orientation": "v",
         "showlegend": true,
         "type": "scatter",
         "x": [
          99.9
         ],
         "xaxis": "x",
         "y": [
          6.3
         ],
         "yaxis": "y"
        },
        {
         "hovertemplate": "Country=South Africa<br>Agricultural Production=%{x}<br>Emissions per Capita=%{y}<extra></extra>",
         "legendgroup": "South Africa",
         "marker": {
          "color": "#B6E880",
          "symbol": "circle"
         },
         "mode": "markers",
         "name": "South Africa",
         "orientation": "v",
         "showlegend": true,
         "type": "scatter",
         "x": [
          104.9
         ],
         "xaxis": "x",
         "y": [
          7.5
         ],
         "yaxis": "y"
        },
        {
         "hovertemplate": "Country=South Sudan<br>Agricultural Production=%{x}<br>Emissions per Capita=%{y}<extra></extra>",
         "legendgroup": "South Sudan",
         "marker": {
          "color": "#FF97FF",
          "symbol": "circle"
         },
         "mode": "markers",
         "name": "South Sudan",
         "orientation": "v",
         "showlegend": true,
         "type": "scatter",
         "x": [
          107
         ],
         "xaxis": "x",
         "y": [
          0.2
         ],
         "yaxis": "y"
        },
        {
         "hovertemplate": "Country=Spain<br>Agricultural Production=%{x}<br>Emissions per Capita=%{y}<extra></extra>",
         "legendgroup": "Spain",
         "marker": {
          "color": "#FECB52",
          "symbol": "circle"
         },
         "mode": "markers",
         "name": "Spain",
         "orientation": "v",
         "showlegend": true,
         "type": "scatter",
         "x": [
          106.4
         ],
         "xaxis": "x",
         "y": [
          4.9
         ],
         "yaxis": "y"
        },
        {
         "hovertemplate": "Country=Sri Lanka<br>Agricultural Production=%{x}<br>Emissions per Capita=%{y}<extra></extra>",
         "legendgroup": "Sri Lanka",
         "marker": {
          "color": "#636efa",
          "symbol": "circle"
         },
         "mode": "markers",
         "name": "Sri Lanka",
         "orientation": "v",
         "showlegend": true,
         "type": "scatter",
         "x": [
          102.4
         ],
         "xaxis": "x",
         "y": [
          1
         ],
         "yaxis": "y"
        },
        {
         "hovertemplate": "Country=Sudan<br>Agricultural Production=%{x}<br>Emissions per Capita=%{y}<extra></extra>",
         "legendgroup": "Sudan",
         "marker": {
          "color": "#EF553B",
          "symbol": "circle"
         },
         "mode": "markers",
         "name": "Sudan",
         "orientation": "v",
         "showlegend": true,
         "type": "scatter",
         "x": [
          116
         ],
         "xaxis": "x",
         "y": [
          0.5
         ],
         "yaxis": "y"
        },
        {
         "hovertemplate": "Country=Suriname<br>Agricultural Production=%{x}<br>Emissions per Capita=%{y}<extra></extra>",
         "legendgroup": "Suriname",
         "marker": {
          "color": "#00cc96",
          "symbol": "circle"
         },
         "mode": "markers",
         "name": "Suriname",
         "orientation": "v",
         "showlegend": true,
         "type": "scatter",
         "x": [
          94.7
         ],
         "xaxis": "x",
         "y": [
          4.5
         ],
         "yaxis": "y"
        },
        {
         "hovertemplate": "Country=Sweden<br>Agricultural Production=%{x}<br>Emissions per Capita=%{y}<extra></extra>",
         "legendgroup": "Sweden",
         "marker": {
          "color": "#ab63fa",
          "symbol": "circle"
         },
         "mode": "markers",
         "name": "Sweden",
         "orientation": "v",
         "showlegend": true,
         "type": "scatter",
         "x": [
          100.7
         ],
         "xaxis": "x",
         "y": [
          3.3
         ],
         "yaxis": "y"
        },
        {
         "hovertemplate": "Country=Switzerland<br>Agricultural Production=%{x}<br>Emissions per Capita=%{y}<extra></extra>",
         "legendgroup": "Switzerland",
         "marker": {
          "color": "#FFA15A",
          "symbol": "circle"
         },
         "mode": "markers",
         "name": "Switzerland",
         "orientation": "v",
         "showlegend": true,
         "type": "scatter",
         "x": [
          97.3
         ],
         "xaxis": "x",
         "y": [
          4.2
         ],
         "yaxis": "y"
        },
        {
         "hovertemplate": "Country=Syrian Arab Republic<br>Agricultural Production=%{x}<br>Emissions per Capita=%{y}<extra></extra>",
         "legendgroup": "Syrian Arab Republic",
         "marker": {
          "color": "#19d3f3",
          "symbol": "circle"
         },
         "mode": "markers",
         "name": "Syrian Arab Republic",
         "orientation": "v",
         "showlegend": true,
         "type": "scatter",
         "x": [
          113.3
         ],
         "xaxis": "x",
         "y": [
          1.4
         ],
         "yaxis": "y"
        },
        {
         "hovertemplate": "Country=Tajikistan<br>Agricultural Production=%{x}<br>Emissions per Capita=%{y}<extra></extra>",
         "legendgroup": "Tajikistan",
         "marker": {
          "color": "#FF6692",
          "symbol": "circle"
         },
         "mode": "markers",
         "name": "Tajikistan",
         "orientation": "v",
         "showlegend": true,
         "type": "scatter",
         "x": [
          137.7
         ],
         "xaxis": "x",
         "y": [
          0.7
         ],
         "yaxis": "y"
        },
        {
         "hovertemplate": "Country=Thailand<br>Agricultural Production=%{x}<br>Emissions per Capita=%{y}<extra></extra>",
         "legendgroup": "Thailand",
         "marker": {
          "color": "#B6E880",
          "symbol": "circle"
         },
         "mode": "markers",
         "name": "Thailand",
         "orientation": "v",
         "showlegend": true,
         "type": "scatter",
         "x": [
          102.3
         ],
         "xaxis": "x",
         "y": [
          3.6
         ],
         "yaxis": "y"
        },
        {
         "hovertemplate": "Country=Togo<br>Agricultural Production=%{x}<br>Emissions per Capita=%{y}<extra></extra>",
         "legendgroup": "Togo",
         "marker": {
          "color": "#FF97FF",
          "symbol": "circle"
         },
         "mode": "markers",
         "name": "Togo",
         "orientation": "v",
         "showlegend": true,
         "type": "scatter",
         "x": [
          110.1
         ],
         "xaxis": "x",
         "y": [
          0.2
         ],
         "yaxis": "y"
        },
        {
         "hovertemplate": "Country=Trinidad and Tobago<br>Agricultural Production=%{x}<br>Emissions per Capita=%{y}<extra></extra>",
         "legendgroup": "Trinidad and Tobago",
         "marker": {
          "color": "#FECB52",
          "symbol": "circle"
         },
         "mode": "markers",
         "name": "Trinidad and Tobago",
         "orientation": "v",
         "showlegend": true,
         "type": "scatter",
         "x": [
          94.6
         ],
         "xaxis": "x",
         "y": [
          11.9
         ],
         "yaxis": "y"
        },
        {
         "hovertemplate": "Country=Tunisia<br>Agricultural Production=%{x}<br>Emissions per Capita=%{y}<extra></extra>",
         "legendgroup": "Tunisia",
         "marker": {
          "color": "#636efa",
          "symbol": "circle"
         },
         "mode": "markers",
         "name": "Tunisia",
         "orientation": "v",
         "showlegend": true,
         "type": "scatter",
         "x": [
          104.2
         ],
         "xaxis": "x",
         "y": [
          2.3
         ],
         "yaxis": "y"
        },
        {
         "hovertemplate": "Country=Türkiye<br>Agricultural Production=%{x}<br>Emissions per Capita=%{y}<extra></extra>",
         "legendgroup": "Türkiye",
         "marker": {
          "color": "#EF553B",
          "symbol": "circle"
         },
         "mode": "markers",
         "name": "Türkiye",
         "orientation": "v",
         "showlegend": true,
         "type": "scatter",
         "x": [
          114.3
         ],
         "xaxis": "x",
         "y": [
          4.4
         ],
         "yaxis": "y"
        },
        {
         "hovertemplate": "Country=Turkmenistan<br>Agricultural Production=%{x}<br>Emissions per Capita=%{y}<extra></extra>",
         "legendgroup": "Turkmenistan",
         "marker": {
          "color": "#00cc96",
          "symbol": "circle"
         },
         "mode": "markers",
         "name": "Turkmenistan",
         "orientation": "v",
         "showlegend": true,
         "type": "scatter",
         "x": [
          118.2
         ],
         "xaxis": "x",
         "y": [
          10.1
         ],
         "yaxis": "y"
        },
        {
         "hovertemplate": "Country=Uganda<br>Agricultural Production=%{x}<br>Emissions per Capita=%{y}<extra></extra>",
         "legendgroup": "Uganda",
         "marker": {
          "color": "#ab63fa",
          "symbol": "circle"
         },
         "mode": "markers",
         "name": "Uganda",
         "orientation": "v",
         "showlegend": true,
         "type": "scatter",
         "x": [
          118.8
         ],
         "xaxis": "x",
         "y": [
          0.1
         ],
         "yaxis": "y"
        },
        {
         "hovertemplate": "Country=Ukraine<br>Agricultural Production=%{x}<br>Emissions per Capita=%{y}<extra></extra>",
         "legendgroup": "Ukraine",
         "marker": {
          "color": "#FFA15A",
          "symbol": "circle"
         },
         "mode": "markers",
         "name": "Ukraine",
         "orientation": "v",
         "showlegend": true,
         "type": "scatter",
         "x": [
          109.3
         ],
         "xaxis": "x",
         "y": [
          3.8
         ],
         "yaxis": "y"
        },
        {
         "hovertemplate": "Country=United Arab Emirates<br>Agricultural Production=%{x}<br>Emissions per Capita=%{y}<extra></extra>",
         "legendgroup": "United Arab Emirates",
         "marker": {
          "color": "#19d3f3",
          "symbol": "circle"
         },
         "mode": "markers",
         "name": "United Arab Emirates",
         "orientation": "v",
         "showlegend": true,
         "type": "scatter",
         "x": [
          114.5
         ],
         "xaxis": "x",
         "y": [
          18.2
         ],
         "yaxis": "y"
        },
        {
         "hovertemplate": "Country=United Kingdom<br>Agricultural Production=%{x}<br>Emissions per Capita=%{y}<extra></extra>",
         "legendgroup": "United Kingdom",
         "marker": {
          "color": "#FF6692",
          "symbol": "circle"
         },
         "mode": "markers",
         "name": "United Kingdom",
         "orientation": "v",
         "showlegend": true,
         "type": "scatter",
         "x": [
          103.5
         ],
         "xaxis": "x",
         "y": [
          5.1
         ],
         "yaxis": "y"
        },
        {
         "hovertemplate": "Country=United Rep. of Tanzania<br>Agricultural Production=%{x}<br>Emissions per Capita=%{y}<extra></extra>",
         "legendgroup": "United Rep. of Tanzania",
         "marker": {
          "color": "#B6E880",
          "symbol": "circle"
         },
         "mode": "markers",
         "name": "United Rep. of Tanzania",
         "orientation": "v",
         "showlegend": true,
         "type": "scatter",
         "x": [
          109.1
         ],
         "xaxis": "x",
         "y": [
          0.2
         ],
         "yaxis": "y"
        },
        {
         "hovertemplate": "Country=United States of America<br>Agricultural Production=%{x}<br>Emissions per Capita=%{y}<extra></extra>",
         "legendgroup": "United States of America",
         "marker": {
          "color": "#FF97FF",
          "symbol": "circle"
         },
         "mode": "markers",
         "name": "United States of America",
         "orientation": "v",
         "showlegend": true,
         "type": "scatter",
         "x": [
          100.4
         ],
         "xaxis": "x",
         "y": [
          14.4
         ],
         "yaxis": "y"
        },
        {
         "hovertemplate": "Country=Uruguay<br>Agricultural Production=%{x}<br>Emissions per Capita=%{y}<extra></extra>",
         "legendgroup": "Uruguay",
         "marker": {
          "color": "#FECB52",
          "symbol": "circle"
         },
         "mode": "markers",
         "name": "Uruguay",
         "orientation": "v",
         "showlegend": true,
         "type": "scatter",
         "x": [
          101.2
         ],
         "xaxis": "x",
         "y": [
          1.9
         ],
         "yaxis": "y"
        },
        {
         "hovertemplate": "Country=Uzbekistan<br>Agricultural Production=%{x}<br>Emissions per Capita=%{y}<extra></extra>",
         "legendgroup": "Uzbekistan",
         "marker": {
          "color": "#636efa",
          "symbol": "circle"
         },
         "mode": "markers",
         "name": "Uzbekistan",
         "orientation": "v",
         "showlegend": true,
         "type": "scatter",
         "x": [
          102.2
         ],
         "xaxis": "x",
         "y": [
          3.3
         ],
         "yaxis": "y"
        },
        {
         "hovertemplate": "Country=Venezuela (Boliv. Rep. of)<br>Agricultural Production=%{x}<br>Emissions per Capita=%{y}<extra></extra>",
         "legendgroup": "Venezuela (Boliv. Rep. of)",
         "marker": {
          "color": "#EF553B",
          "symbol": "circle"
         },
         "mode": "markers",
         "name": "Venezuela (Boliv. Rep. of)",
         "orientation": "v",
         "showlegend": true,
         "type": "scatter",
         "x": [
          82.6
         ],
         "xaxis": "x",
         "y": [
          3.1
         ],
         "yaxis": "y"
        },
        {
         "hovertemplate": "Country=Viet Nam<br>Agricultural Production=%{x}<br>Emissions per Capita=%{y}<extra></extra>",
         "legendgroup": "Viet Nam",
         "marker": {
          "color": "#00cc96",
          "symbol": "circle"
         },
         "mode": "markers",
         "name": "Viet Nam",
         "orientation": "v",
         "showlegend": true,
         "type": "scatter",
         "x": [
          105.8
         ],
         "xaxis": "x",
         "y": [
          2.9
         ],
         "yaxis": "y"
        },
        {
         "hovertemplate": "Country=Yemen<br>Agricultural Production=%{x}<br>Emissions per Capita=%{y}<extra></extra>",
         "legendgroup": "Yemen",
         "marker": {
          "color": "#ab63fa",
          "symbol": "circle"
         },
         "mode": "markers",
         "name": "Yemen",
         "orientation": "v",
         "showlegend": true,
         "type": "scatter",
         "x": [
          105
         ],
         "xaxis": "x",
         "y": [
          0.3
         ],
         "yaxis": "y"
        },
        {
         "hovertemplate": "Country=Zambia<br>Agricultural Production=%{x}<br>Emissions per Capita=%{y}<extra></extra>",
         "legendgroup": "Zambia",
         "marker": {
          "color": "#FFA15A",
          "symbol": "circle"
         },
         "mode": "markers",
         "name": "Zambia",
         "orientation": "v",
         "showlegend": true,
         "type": "scatter",
         "x": [
          111
         ],
         "xaxis": "x",
         "y": [
          0.4
         ],
         "yaxis": "y"
        },
        {
         "hovertemplate": "Country=Zimbabwe<br>Agricultural Production=%{x}<br>Emissions per Capita=%{y}<extra></extra>",
         "legendgroup": "Zimbabwe",
         "marker": {
          "color": "#19d3f3",
          "symbol": "circle"
         },
         "mode": "markers",
         "name": "Zimbabwe",
         "orientation": "v",
         "showlegend": true,
         "type": "scatter",
         "x": [
          105.9
         ],
         "xaxis": "x",
         "y": [
          0.7
         ],
         "yaxis": "y"
        }
       ],
       "layout": {
        "legend": {
         "title": {
          "text": "Country"
         },
         "tracegroupgap": 0
        },
        "template": {
         "data": {
          "bar": [
           {
            "error_x": {
             "color": "#2a3f5f"
            },
            "error_y": {
             "color": "#2a3f5f"
            },
            "marker": {
             "line": {
              "color": "#E5ECF6",
              "width": 0.5
             },
             "pattern": {
              "fillmode": "overlay",
              "size": 10,
              "solidity": 0.2
             }
            },
            "type": "bar"
           }
          ],
          "barpolar": [
           {
            "marker": {
             "line": {
              "color": "#E5ECF6",
              "width": 0.5
             },
             "pattern": {
              "fillmode": "overlay",
              "size": 10,
              "solidity": 0.2
             }
            },
            "type": "barpolar"
           }
          ],
          "carpet": [
           {
            "aaxis": {
             "endlinecolor": "#2a3f5f",
             "gridcolor": "white",
             "linecolor": "white",
             "minorgridcolor": "white",
             "startlinecolor": "#2a3f5f"
            },
            "baxis": {
             "endlinecolor": "#2a3f5f",
             "gridcolor": "white",
             "linecolor": "white",
             "minorgridcolor": "white",
             "startlinecolor": "#2a3f5f"
            },
            "type": "carpet"
           }
          ],
          "choropleth": [
           {
            "colorbar": {
             "outlinewidth": 0,
             "ticks": ""
            },
            "type": "choropleth"
           }
          ],
          "contour": [
           {
            "colorbar": {
             "outlinewidth": 0,
             "ticks": ""
            },
            "colorscale": [
             [
              0,
              "#0d0887"
             ],
             [
              0.1111111111111111,
              "#46039f"
             ],
             [
              0.2222222222222222,
              "#7201a8"
             ],
             [
              0.3333333333333333,
              "#9c179e"
             ],
             [
              0.4444444444444444,
              "#bd3786"
             ],
             [
              0.5555555555555556,
              "#d8576b"
             ],
             [
              0.6666666666666666,
              "#ed7953"
             ],
             [
              0.7777777777777778,
              "#fb9f3a"
             ],
             [
              0.8888888888888888,
              "#fdca26"
             ],
             [
              1,
              "#f0f921"
             ]
            ],
            "type": "contour"
           }
          ],
          "contourcarpet": [
           {
            "colorbar": {
             "outlinewidth": 0,
             "ticks": ""
            },
            "type": "contourcarpet"
           }
          ],
          "heatmap": [
           {
            "colorbar": {
             "outlinewidth": 0,
             "ticks": ""
            },
            "colorscale": [
             [
              0,
              "#0d0887"
             ],
             [
              0.1111111111111111,
              "#46039f"
             ],
             [
              0.2222222222222222,
              "#7201a8"
             ],
             [
              0.3333333333333333,
              "#9c179e"
             ],
             [
              0.4444444444444444,
              "#bd3786"
             ],
             [
              0.5555555555555556,
              "#d8576b"
             ],
             [
              0.6666666666666666,
              "#ed7953"
             ],
             [
              0.7777777777777778,
              "#fb9f3a"
             ],
             [
              0.8888888888888888,
              "#fdca26"
             ],
             [
              1,
              "#f0f921"
             ]
            ],
            "type": "heatmap"
           }
          ],
          "heatmapgl": [
           {
            "colorbar": {
             "outlinewidth": 0,
             "ticks": ""
            },
            "colorscale": [
             [
              0,
              "#0d0887"
             ],
             [
              0.1111111111111111,
              "#46039f"
             ],
             [
              0.2222222222222222,
              "#7201a8"
             ],
             [
              0.3333333333333333,
              "#9c179e"
             ],
             [
              0.4444444444444444,
              "#bd3786"
             ],
             [
              0.5555555555555556,
              "#d8576b"
             ],
             [
              0.6666666666666666,
              "#ed7953"
             ],
             [
              0.7777777777777778,
              "#fb9f3a"
             ],
             [
              0.8888888888888888,
              "#fdca26"
             ],
             [
              1,
              "#f0f921"
             ]
            ],
            "type": "heatmapgl"
           }
          ],
          "histogram": [
           {
            "marker": {
             "pattern": {
              "fillmode": "overlay",
              "size": 10,
              "solidity": 0.2
             }
            },
            "type": "histogram"
           }
          ],
          "histogram2d": [
           {
            "colorbar": {
             "outlinewidth": 0,
             "ticks": ""
            },
            "colorscale": [
             [
              0,
              "#0d0887"
             ],
             [
              0.1111111111111111,
              "#46039f"
             ],
             [
              0.2222222222222222,
              "#7201a8"
             ],
             [
              0.3333333333333333,
              "#9c179e"
             ],
             [
              0.4444444444444444,
              "#bd3786"
             ],
             [
              0.5555555555555556,
              "#d8576b"
             ],
             [
              0.6666666666666666,
              "#ed7953"
             ],
             [
              0.7777777777777778,
              "#fb9f3a"
             ],
             [
              0.8888888888888888,
              "#fdca26"
             ],
             [
              1,
              "#f0f921"
             ]
            ],
            "type": "histogram2d"
           }
          ],
          "histogram2dcontour": [
           {
            "colorbar": {
             "outlinewidth": 0,
             "ticks": ""
            },
            "colorscale": [
             [
              0,
              "#0d0887"
             ],
             [
              0.1111111111111111,
              "#46039f"
             ],
             [
              0.2222222222222222,
              "#7201a8"
             ],
             [
              0.3333333333333333,
              "#9c179e"
             ],
             [
              0.4444444444444444,
              "#bd3786"
             ],
             [
              0.5555555555555556,
              "#d8576b"
             ],
             [
              0.6666666666666666,
              "#ed7953"
             ],
             [
              0.7777777777777778,
              "#fb9f3a"
             ],
             [
              0.8888888888888888,
              "#fdca26"
             ],
             [
              1,
              "#f0f921"
             ]
            ],
            "type": "histogram2dcontour"
           }
          ],
          "mesh3d": [
           {
            "colorbar": {
             "outlinewidth": 0,
             "ticks": ""
            },
            "type": "mesh3d"
           }
          ],
          "parcoords": [
           {
            "line": {
             "colorbar": {
              "outlinewidth": 0,
              "ticks": ""
             }
            },
            "type": "parcoords"
           }
          ],
          "pie": [
           {
            "automargin": true,
            "type": "pie"
           }
          ],
          "scatter": [
           {
            "fillpattern": {
             "fillmode": "overlay",
             "size": 10,
             "solidity": 0.2
            },
            "type": "scatter"
           }
          ],
          "scatter3d": [
           {
            "line": {
             "colorbar": {
              "outlinewidth": 0,
              "ticks": ""
             }
            },
            "marker": {
             "colorbar": {
              "outlinewidth": 0,
              "ticks": ""
             }
            },
            "type": "scatter3d"
           }
          ],
          "scattercarpet": [
           {
            "marker": {
             "colorbar": {
              "outlinewidth": 0,
              "ticks": ""
             }
            },
            "type": "scattercarpet"
           }
          ],
          "scattergeo": [
           {
            "marker": {
             "colorbar": {
              "outlinewidth": 0,
              "ticks": ""
             }
            },
            "type": "scattergeo"
           }
          ],
          "scattergl": [
           {
            "marker": {
             "colorbar": {
              "outlinewidth": 0,
              "ticks": ""
             }
            },
            "type": "scattergl"
           }
          ],
          "scattermapbox": [
           {
            "marker": {
             "colorbar": {
              "outlinewidth": 0,
              "ticks": ""
             }
            },
            "type": "scattermapbox"
           }
          ],
          "scatterpolar": [
           {
            "marker": {
             "colorbar": {
              "outlinewidth": 0,
              "ticks": ""
             }
            },
            "type": "scatterpolar"
           }
          ],
          "scatterpolargl": [
           {
            "marker": {
             "colorbar": {
              "outlinewidth": 0,
              "ticks": ""
             }
            },
            "type": "scatterpolargl"
           }
          ],
          "scatterternary": [
           {
            "marker": {
             "colorbar": {
              "outlinewidth": 0,
              "ticks": ""
             }
            },
            "type": "scatterternary"
           }
          ],
          "surface": [
           {
            "colorbar": {
             "outlinewidth": 0,
             "ticks": ""
            },
            "colorscale": [
             [
              0,
              "#0d0887"
             ],
             [
              0.1111111111111111,
              "#46039f"
             ],
             [
              0.2222222222222222,
              "#7201a8"
             ],
             [
              0.3333333333333333,
              "#9c179e"
             ],
             [
              0.4444444444444444,
              "#bd3786"
             ],
             [
              0.5555555555555556,
              "#d8576b"
             ],
             [
              0.6666666666666666,
              "#ed7953"
             ],
             [
              0.7777777777777778,
              "#fb9f3a"
             ],
             [
              0.8888888888888888,
              "#fdca26"
             ],
             [
              1,
              "#f0f921"
             ]
            ],
            "type": "surface"
           }
          ],
          "table": [
           {
            "cells": {
             "fill": {
              "color": "#EBF0F8"
             },
             "line": {
              "color": "white"
             }
            },
            "header": {
             "fill": {
              "color": "#C8D4E3"
             },
             "line": {
              "color": "white"
             }
            },
            "type": "table"
           }
          ]
         },
         "layout": {
          "annotationdefaults": {
           "arrowcolor": "#2a3f5f",
           "arrowhead": 0,
           "arrowwidth": 1
          },
          "autotypenumbers": "strict",
          "coloraxis": {
           "colorbar": {
            "outlinewidth": 0,
            "ticks": ""
           }
          },
          "colorscale": {
           "diverging": [
            [
             0,
             "#8e0152"
            ],
            [
             0.1,
             "#c51b7d"
            ],
            [
             0.2,
             "#de77ae"
            ],
            [
             0.3,
             "#f1b6da"
            ],
            [
             0.4,
             "#fde0ef"
            ],
            [
             0.5,
             "#f7f7f7"
            ],
            [
             0.6,
             "#e6f5d0"
            ],
            [
             0.7,
             "#b8e186"
            ],
            [
             0.8,
             "#7fbc41"
            ],
            [
             0.9,
             "#4d9221"
            ],
            [
             1,
             "#276419"
            ]
           ],
           "sequential": [
            [
             0,
             "#0d0887"
            ],
            [
             0.1111111111111111,
             "#46039f"
            ],
            [
             0.2222222222222222,
             "#7201a8"
            ],
            [
             0.3333333333333333,
             "#9c179e"
            ],
            [
             0.4444444444444444,
             "#bd3786"
            ],
            [
             0.5555555555555556,
             "#d8576b"
            ],
            [
             0.6666666666666666,
             "#ed7953"
            ],
            [
             0.7777777777777778,
             "#fb9f3a"
            ],
            [
             0.8888888888888888,
             "#fdca26"
            ],
            [
             1,
             "#f0f921"
            ]
           ],
           "sequentialminus": [
            [
             0,
             "#0d0887"
            ],
            [
             0.1111111111111111,
             "#46039f"
            ],
            [
             0.2222222222222222,
             "#7201a8"
            ],
            [
             0.3333333333333333,
             "#9c179e"
            ],
            [
             0.4444444444444444,
             "#bd3786"
            ],
            [
             0.5555555555555556,
             "#d8576b"
            ],
            [
             0.6666666666666666,
             "#ed7953"
            ],
            [
             0.7777777777777778,
             "#fb9f3a"
            ],
            [
             0.8888888888888888,
             "#fdca26"
            ],
            [
             1,
             "#f0f921"
            ]
           ]
          },
          "colorway": [
           "#636efa",
           "#EF553B",
           "#00cc96",
           "#ab63fa",
           "#FFA15A",
           "#19d3f3",
           "#FF6692",
           "#B6E880",
           "#FF97FF",
           "#FECB52"
          ],
          "font": {
           "color": "#2a3f5f"
          },
          "geo": {
           "bgcolor": "white",
           "lakecolor": "white",
           "landcolor": "#E5ECF6",
           "showlakes": true,
           "showland": true,
           "subunitcolor": "white"
          },
          "hoverlabel": {
           "align": "left"
          },
          "hovermode": "closest",
          "mapbox": {
           "style": "light"
          },
          "paper_bgcolor": "white",
          "plot_bgcolor": "#E5ECF6",
          "polar": {
           "angularaxis": {
            "gridcolor": "white",
            "linecolor": "white",
            "ticks": ""
           },
           "bgcolor": "#E5ECF6",
           "radialaxis": {
            "gridcolor": "white",
            "linecolor": "white",
            "ticks": ""
           }
          },
          "scene": {
           "xaxis": {
            "backgroundcolor": "#E5ECF6",
            "gridcolor": "white",
            "gridwidth": 2,
            "linecolor": "white",
            "showbackground": true,
            "ticks": "",
            "zerolinecolor": "white"
           },
           "yaxis": {
            "backgroundcolor": "#E5ECF6",
            "gridcolor": "white",
            "gridwidth": 2,
            "linecolor": "white",
            "showbackground": true,
            "ticks": "",
            "zerolinecolor": "white"
           },
           "zaxis": {
            "backgroundcolor": "#E5ECF6",
            "gridcolor": "white",
            "gridwidth": 2,
            "linecolor": "white",
            "showbackground": true,
            "ticks": "",
            "zerolinecolor": "white"
           }
          },
          "shapedefaults": {
           "line": {
            "color": "#2a3f5f"
           }
          },
          "ternary": {
           "aaxis": {
            "gridcolor": "white",
            "linecolor": "white",
            "ticks": ""
           },
           "baxis": {
            "gridcolor": "white",
            "linecolor": "white",
            "ticks": ""
           },
           "bgcolor": "#E5ECF6",
           "caxis": {
            "gridcolor": "white",
            "linecolor": "white",
            "ticks": ""
           }
          },
          "title": {
           "x": 0.05
          },
          "xaxis": {
           "automargin": true,
           "gridcolor": "white",
           "linecolor": "white",
           "ticks": "",
           "title": {
            "standoff": 15
           },
           "zerolinecolor": "white",
           "zerolinewidth": 2
          },
          "yaxis": {
           "automargin": true,
           "gridcolor": "white",
           "linecolor": "white",
           "ticks": "",
           "title": {
            "standoff": 15
           },
           "zerolinecolor": "white",
           "zerolinewidth": 2
          }
         }
        },
        "title": {
         "text": "Agricultural Production and Carbon Emissions per Capita (2019)"
        },
        "xaxis": {
         "anchor": "y",
         "domain": [
          0,
          1
         ],
         "title": {
          "text": "Agricultural Production"
         }
        },
        "yaxis": {
         "anchor": "x",
         "domain": [
          0,
          1
         ],
         "title": {
          "text": "Emissions per Capita"
         }
        }
       }
      },
      "text/html": [
       "<div>                            <div id=\"82d4e27e-8b04-4905-a887-6916b3b3c801\" class=\"plotly-graph-div\" style=\"height:525px; width:100%;\"></div>            <script type=\"text/javascript\">                require([\"plotly\"], function(Plotly) {                    window.PLOTLYENV=window.PLOTLYENV || {};                                    if (document.getElementById(\"82d4e27e-8b04-4905-a887-6916b3b3c801\")) {                    Plotly.newPlot(                        \"82d4e27e-8b04-4905-a887-6916b3b3c801\",                        [{\"hovertemplate\":\"Country=Albania\\u003cbr\\u003eAgricultural Production=%{x}\\u003cbr\\u003eEmissions per Capita=%{y}\\u003cextra\\u003e\\u003c\\u002fextra\\u003e\",\"legendgroup\":\"Albania\",\"marker\":{\"color\":\"#636efa\",\"symbol\":\"circle\"},\"mode\":\"markers\",\"name\":\"Albania\",\"orientation\":\"v\",\"showlegend\":true,\"x\":[104.0],\"xaxis\":\"x\",\"y\":[1.4],\"yaxis\":\"y\",\"type\":\"scatter\"},{\"hovertemplate\":\"Country=Algeria\\u003cbr\\u003eAgricultural Production=%{x}\\u003cbr\\u003eEmissions per Capita=%{y}\\u003cextra\\u003e\\u003c\\u002fextra\\u003e\",\"legendgroup\":\"Algeria\",\"marker\":{\"color\":\"#EF553B\",\"symbol\":\"circle\"},\"mode\":\"markers\",\"name\":\"Algeria\",\"orientation\":\"v\",\"showlegend\":true,\"x\":[112.0],\"xaxis\":\"x\",\"y\":[3.3],\"yaxis\":\"y\",\"type\":\"scatter\"},{\"hovertemplate\":\"Country=Angola\\u003cbr\\u003eAgricultural Production=%{x}\\u003cbr\\u003eEmissions per Capita=%{y}\\u003cextra\\u003e\\u003c\\u002fextra\\u003e\",\"legendgroup\":\"Angola\",\"marker\":{\"color\":\"#00cc96\",\"symbol\":\"circle\"},\"mode\":\"markers\",\"name\":\"Angola\",\"orientation\":\"v\",\"showlegend\":true,\"x\":[107.3],\"xaxis\":\"x\",\"y\":[0.6],\"yaxis\":\"y\",\"type\":\"scatter\"},{\"hovertemplate\":\"Country=Argentina\\u003cbr\\u003eAgricultural Production=%{x}\\u003cbr\\u003eEmissions per Capita=%{y}\\u003cextra\\u003e\\u003c\\u002fextra\\u003e\",\"legendgroup\":\"Argentina\",\"marker\":{\"color\":\"#ab63fa\",\"symbol\":\"circle\"},\"mode\":\"markers\",\"name\":\"Argentina\",\"orientation\":\"v\",\"showlegend\":true,\"x\":[112.3],\"xaxis\":\"x\",\"y\":[3.6],\"yaxis\":\"y\",\"type\":\"scatter\"},{\"hovertemplate\":\"Country=Armenia\\u003cbr\\u003eAgricultural Production=%{x}\\u003cbr\\u003eEmissions per Capita=%{y}\\u003cextra\\u003e\\u003c\\u002fextra\\u003e\",\"legendgroup\":\"Armenia\",\"marker\":{\"color\":\"#FFA15A\",\"symbol\":\"circle\"},\"mode\":\"markers\",\"name\":\"Armenia\",\"orientation\":\"v\",\"showlegend\":true,\"x\":[81.2],\"xaxis\":\"x\",\"y\":[2.0],\"yaxis\":\"y\",\"type\":\"scatter\"},{\"hovertemplate\":\"Country=Australia\\u003cbr\\u003eAgricultural Production=%{x}\\u003cbr\\u003eEmissions per Capita=%{y}\\u003cextra\\u003e\\u003c\\u002fextra\\u003e\",\"legendgroup\":\"Australia\",\"marker\":{\"color\":\"#19d3f3\",\"symbol\":\"circle\"},\"mode\":\"markers\",\"name\":\"Australia\",\"orientation\":\"v\",\"showlegend\":true,\"x\":[90.8],\"xaxis\":\"x\",\"y\":[15.4],\"yaxis\":\"y\",\"type\":\"scatter\"},{\"hovertemplate\":\"Country=Austria\\u003cbr\\u003eAgricultural Production=%{x}\\u003cbr\\u003eEmissions per Capita=%{y}\\u003cextra\\u003e\\u003c\\u002fextra\\u003e\",\"legendgroup\":\"Austria\",\"marker\":{\"color\":\"#FF6692\",\"symbol\":\"circle\"},\"mode\":\"markers\",\"name\":\"Austria\",\"orientation\":\"v\",\"showlegend\":true,\"x\":[99.9],\"xaxis\":\"x\",\"y\":[7.1],\"yaxis\":\"y\",\"type\":\"scatter\"},{\"hovertemplate\":\"Country=Azerbaijan\\u003cbr\\u003eAgricultural Production=%{x}\\u003cbr\\u003eEmissions per Capita=%{y}\\u003cextra\\u003e\\u003c\\u002fextra\\u003e\",\"legendgroup\":\"Azerbaijan\",\"marker\":{\"color\":\"#B6E880\",\"symbol\":\"circle\"},\"mode\":\"markers\",\"name\":\"Azerbaijan\",\"orientation\":\"v\",\"showlegend\":true,\"x\":[126.0],\"xaxis\":\"x\",\"y\":[3.4],\"yaxis\":\"y\",\"type\":\"scatter\"},{\"hovertemplate\":\"Country=Bahrain\\u003cbr\\u003eAgricultural Production=%{x}\\u003cbr\\u003eEmissions per Capita=%{y}\\u003cextra\\u003e\\u003c\\u002fextra\\u003e\",\"legendgroup\":\"Bahrain\",\"marker\":{\"color\":\"#FF97FF\",\"symbol\":\"circle\"},\"mode\":\"markers\",\"name\":\"Bahrain\",\"orientation\":\"v\",\"showlegend\":true,\"x\":[129.9],\"xaxis\":\"x\",\"y\":[19.9],\"yaxis\":\"y\",\"type\":\"scatter\"},{\"hovertemplate\":\"Country=Bangladesh\\u003cbr\\u003eAgricultural Production=%{x}\\u003cbr\\u003eEmissions per Capita=%{y}\\u003cextra\\u003e\\u003c\\u002fextra\\u003e\",\"legendgroup\":\"Bangladesh\",\"marker\":{\"color\":\"#FECB52\",\"symbol\":\"circle\"},\"mode\":\"markers\",\"name\":\"Bangladesh\",\"orientation\":\"v\",\"showlegend\":true,\"x\":[109.2],\"xaxis\":\"x\",\"y\":[0.6],\"yaxis\":\"y\",\"type\":\"scatter\"},{\"hovertemplate\":\"Country=Belarus\\u003cbr\\u003eAgricultural Production=%{x}\\u003cbr\\u003eEmissions per Capita=%{y}\\u003cextra\\u003e\\u003c\\u002fextra\\u003e\",\"legendgroup\":\"Belarus\",\"marker\":{\"color\":\"#636efa\",\"symbol\":\"circle\"},\"mode\":\"markers\",\"name\":\"Belarus\",\"orientation\":\"v\",\"showlegend\":true,\"x\":[101.7],\"xaxis\":\"x\",\"y\":[5.9],\"yaxis\":\"y\",\"type\":\"scatter\"},{\"hovertemplate\":\"Country=Belgium\\u003cbr\\u003eAgricultural Production=%{x}\\u003cbr\\u003eEmissions per Capita=%{y}\\u003cextra\\u003e\\u003c\\u002fextra\\u003e\",\"legendgroup\":\"Belgium\",\"marker\":{\"color\":\"#EF553B\",\"symbol\":\"circle\"},\"mode\":\"markers\",\"name\":\"Belgium\",\"orientation\":\"v\",\"showlegend\":true,\"x\":[101.2],\"xaxis\":\"x\",\"y\":[7.9],\"yaxis\":\"y\",\"type\":\"scatter\"},{\"hovertemplate\":\"Country=Benin\\u003cbr\\u003eAgricultural Production=%{x}\\u003cbr\\u003eEmissions per Capita=%{y}\\u003cextra\\u003e\\u003c\\u002fextra\\u003e\",\"legendgroup\":\"Benin\",\"marker\":{\"color\":\"#00cc96\",\"symbol\":\"circle\"},\"mode\":\"markers\",\"name\":\"Benin\",\"orientation\":\"v\",\"showlegend\":true,\"x\":[124.1],\"xaxis\":\"x\",\"y\":[0.6],\"yaxis\":\"y\",\"type\":\"scatter\"},{\"hovertemplate\":\"Country=Bolivia (Plurin. State of)\\u003cbr\\u003eAgricultural Production=%{x}\\u003cbr\\u003eEmissions per Capita=%{y}\\u003cextra\\u003e\\u003c\\u002fextra\\u003e\",\"legendgroup\":\"Bolivia (Plurin. State of)\",\"marker\":{\"color\":\"#ab63fa\",\"symbol\":\"circle\"},\"mode\":\"markers\",\"name\":\"Bolivia (Plurin. State of)\",\"orientation\":\"v\",\"showlegend\":true,\"x\":[109.8],\"xaxis\":\"x\",\"y\":[1.8],\"yaxis\":\"y\",\"type\":\"scatter\"},{\"hovertemplate\":\"Country=Bosnia and Herzegovina\\u003cbr\\u003eAgricultural Production=%{x}\\u003cbr\\u003eEmissions per Capita=%{y}\\u003cextra\\u003e\\u003c\\u002fextra\\u003e\",\"legendgroup\":\"Bosnia and Herzegovina\",\"marker\":{\"color\":\"#FFA15A\",\"symbol\":\"circle\"},\"mode\":\"markers\",\"name\":\"Bosnia and Herzegovina\",\"orientation\":\"v\",\"showlegend\":true,\"x\":[105.2],\"xaxis\":\"x\",\"y\":[6.3],\"yaxis\":\"y\",\"type\":\"scatter\"},{\"hovertemplate\":\"Country=Botswana\\u003cbr\\u003eAgricultural Production=%{x}\\u003cbr\\u003eEmissions per Capita=%{y}\\u003cextra\\u003e\\u003c\\u002fextra\\u003e\",\"legendgroup\":\"Botswana\",\"marker\":{\"color\":\"#19d3f3\",\"symbol\":\"circle\"},\"mode\":\"markers\",\"name\":\"Botswana\",\"orientation\":\"v\",\"showlegend\":true,\"x\":[100.9],\"xaxis\":\"x\",\"y\":[3.1],\"yaxis\":\"y\",\"type\":\"scatter\"},{\"hovertemplate\":\"Country=Brazil\\u003cbr\\u003eAgricultural Production=%{x}\\u003cbr\\u003eEmissions per Capita=%{y}\\u003cextra\\u003e\\u003c\\u002fextra\\u003e\",\"legendgroup\":\"Brazil\",\"marker\":{\"color\":\"#FF6692\",\"symbol\":\"circle\"},\"mode\":\"markers\",\"name\":\"Brazil\",\"orientation\":\"v\",\"showlegend\":true,\"x\":[110.2],\"xaxis\":\"x\",\"y\":[2.0],\"yaxis\":\"y\",\"type\":\"scatter\"},{\"hovertemplate\":\"Country=Brunei Darussalam\\u003cbr\\u003eAgricultural Production=%{x}\\u003cbr\\u003eEmissions per Capita=%{y}\\u003cextra\\u003e\\u003c\\u002fextra\\u003e\",\"legendgroup\":\"Brunei Darussalam\",\"marker\":{\"color\":\"#B6E880\",\"symbol\":\"circle\"},\"mode\":\"markers\",\"name\":\"Brunei Darussalam\",\"orientation\":\"v\",\"showlegend\":true,\"x\":[100.3],\"xaxis\":\"x\",\"y\":[15.4],\"yaxis\":\"y\",\"type\":\"scatter\"},{\"hovertemplate\":\"Country=Bulgaria\\u003cbr\\u003eAgricultural Production=%{x}\\u003cbr\\u003eEmissions per Capita=%{y}\\u003cextra\\u003e\\u003c\\u002fextra\\u003e\",\"legendgroup\":\"Bulgaria\",\"marker\":{\"color\":\"#FF97FF\",\"symbol\":\"circle\"},\"mode\":\"markers\",\"name\":\"Bulgaria\",\"orientation\":\"v\",\"showlegend\":true,\"x\":[106.7],\"xaxis\":\"x\",\"y\":[5.5],\"yaxis\":\"y\",\"type\":\"scatter\"},{\"hovertemplate\":\"Country=Cambodia\\u003cbr\\u003eAgricultural Production=%{x}\\u003cbr\\u003eEmissions per Capita=%{y}\\u003cextra\\u003e\\u003c\\u002fextra\\u003e\",\"legendgroup\":\"Cambodia\",\"marker\":{\"color\":\"#FECB52\",\"symbol\":\"circle\"},\"mode\":\"markers\",\"name\":\"Cambodia\",\"orientation\":\"v\",\"showlegend\":true,\"x\":[113.8],\"xaxis\":\"x\",\"y\":[0.8],\"yaxis\":\"y\",\"type\":\"scatter\"},{\"hovertemplate\":\"Country=Cameroon\\u003cbr\\u003eAgricultural Production=%{x}\\u003cbr\\u003eEmissions per Capita=%{y}\\u003cextra\\u003e\\u003c\\u002fextra\\u003e\",\"legendgroup\":\"Cameroon\",\"marker\":{\"color\":\"#636efa\",\"symbol\":\"circle\"},\"mode\":\"markers\",\"name\":\"Cameroon\",\"orientation\":\"v\",\"showlegend\":true,\"x\":[102.3],\"xaxis\":\"x\",\"y\":[0.3],\"yaxis\":\"y\",\"type\":\"scatter\"},{\"hovertemplate\":\"Country=Canada\\u003cbr\\u003eAgricultural Production=%{x}\\u003cbr\\u003eEmissions per Capita=%{y}\\u003cextra\\u003e\\u003c\\u002fextra\\u003e\",\"legendgroup\":\"Canada\",\"marker\":{\"color\":\"#EF553B\",\"symbol\":\"circle\"},\"mode\":\"markers\",\"name\":\"Canada\",\"orientation\":\"v\",\"showlegend\":true,\"x\":[110.0],\"xaxis\":\"x\",\"y\":[14.8],\"yaxis\":\"y\",\"type\":\"scatter\"},{\"hovertemplate\":\"Country=Chile\\u003cbr\\u003eAgricultural Production=%{x}\\u003cbr\\u003eEmissions per Capita=%{y}\\u003cextra\\u003e\\u003c\\u002fextra\\u003e\",\"legendgroup\":\"Chile\",\"marker\":{\"color\":\"#00cc96\",\"symbol\":\"circle\"},\"mode\":\"markers\",\"name\":\"Chile\",\"orientation\":\"v\",\"showlegend\":true,\"x\":[107.6],\"xaxis\":\"x\",\"y\":[4.8],\"yaxis\":\"y\",\"type\":\"scatter\"},{\"hovertemplate\":\"Country=China\\u003cbr\\u003eAgricultural Production=%{x}\\u003cbr\\u003eEmissions per Capita=%{y}\\u003cextra\\u003e\\u003c\\u002fextra\\u003e\",\"legendgroup\":\"China\",\"marker\":{\"color\":\"#ab63fa\",\"symbol\":\"circle\"},\"mode\":\"markers\",\"name\":\"China\",\"orientation\":\"v\",\"showlegend\":true,\"x\":[104.0],\"xaxis\":\"x\",\"y\":[7.1],\"yaxis\":\"y\",\"type\":\"scatter\"},{\"hovertemplate\":\"Country=China, Hong Kong SAR\\u003cbr\\u003eAgricultural Production=%{x}\\u003cbr\\u003eEmissions per Capita=%{y}\\u003cextra\\u003e\\u003c\\u002fextra\\u003e\",\"legendgroup\":\"China, Hong Kong SAR\",\"marker\":{\"color\":\"#FFA15A\",\"symbol\":\"circle\"},\"mode\":\"markers\",\"name\":\"China, Hong Kong SAR\",\"orientation\":\"v\",\"showlegend\":true,\"x\":[210.7],\"xaxis\":\"x\",\"y\":[5.7],\"yaxis\":\"y\",\"type\":\"scatter\"},{\"hovertemplate\":\"Country=Colombia\\u003cbr\\u003eAgricultural Production=%{x}\\u003cbr\\u003eEmissions per Capita=%{y}\\u003cextra\\u003e\\u003c\\u002fextra\\u003e\",\"legendgroup\":\"Colombia\",\"marker\":{\"color\":\"#19d3f3\",\"symbol\":\"circle\"},\"mode\":\"markers\",\"name\":\"Colombia\",\"orientation\":\"v\",\"showlegend\":true,\"x\":[106.1],\"xaxis\":\"x\",\"y\":[1.5],\"yaxis\":\"y\",\"type\":\"scatter\"},{\"hovertemplate\":\"Country=Congo\\u003cbr\\u003eAgricultural Production=%{x}\\u003cbr\\u003eEmissions per Capita=%{y}\\u003cextra\\u003e\\u003c\\u002fextra\\u003e\",\"legendgroup\":\"Congo\",\"marker\":{\"color\":\"#FF6692\",\"symbol\":\"circle\"},\"mode\":\"markers\",\"name\":\"Congo\",\"orientation\":\"v\",\"showlegend\":true,\"x\":[103.9],\"xaxis\":\"x\",\"y\":[0.7],\"yaxis\":\"y\",\"type\":\"scatter\"},{\"hovertemplate\":\"Country=Costa Rica\\u003cbr\\u003eAgricultural Production=%{x}\\u003cbr\\u003eEmissions per Capita=%{y}\\u003cextra\\u003e\\u003c\\u002fextra\\u003e\",\"legendgroup\":\"Costa Rica\",\"marker\":{\"color\":\"#B6E880\",\"symbol\":\"circle\"},\"mode\":\"markers\",\"name\":\"Costa Rica\",\"orientation\":\"v\",\"showlegend\":true,\"x\":[100.9],\"xaxis\":\"x\",\"y\":[1.5],\"yaxis\":\"y\",\"type\":\"scatter\"},{\"hovertemplate\":\"Country=C\\u00f4te d\\u0092Ivoire\\u003cbr\\u003eAgricultural Production=%{x}\\u003cbr\\u003eEmissions per Capita=%{y}\\u003cextra\\u003e\\u003c\\u002fextra\\u003e\",\"legendgroup\":\"C\\u00f4te d\\u0092Ivoire\",\"marker\":{\"color\":\"#FF97FF\",\"symbol\":\"circle\"},\"mode\":\"markers\",\"name\":\"C\\u00f4te d\\u0092Ivoire\",\"orientation\":\"v\",\"showlegend\":true,\"x\":[120.9],\"xaxis\":\"x\",\"y\":[0.4],\"yaxis\":\"y\",\"type\":\"scatter\"},{\"hovertemplate\":\"Country=Croatia\\u003cbr\\u003eAgricultural Production=%{x}\\u003cbr\\u003eEmissions per Capita=%{y}\\u003cextra\\u003e\\u003c\\u002fextra\\u003e\",\"legendgroup\":\"Croatia\",\"marker\":{\"color\":\"#FECB52\",\"symbol\":\"circle\"},\"mode\":\"markers\",\"name\":\"Croatia\",\"orientation\":\"v\",\"showlegend\":true,\"x\":[99.2],\"xaxis\":\"x\",\"y\":[3.8],\"yaxis\":\"y\",\"type\":\"scatter\"},{\"hovertemplate\":\"Country=Cuba\\u003cbr\\u003eAgricultural Production=%{x}\\u003cbr\\u003eEmissions per Capita=%{y}\\u003cextra\\u003e\\u003c\\u002fextra\\u003e\",\"legendgroup\":\"Cuba\",\"marker\":{\"color\":\"#636efa\",\"symbol\":\"circle\"},\"mode\":\"markers\",\"name\":\"Cuba\",\"orientation\":\"v\",\"showlegend\":true,\"x\":[95.8],\"xaxis\":\"x\",\"y\":[2.1],\"yaxis\":\"y\",\"type\":\"scatter\"},{\"hovertemplate\":\"Country=Cyprus\\u003cbr\\u003eAgricultural Production=%{x}\\u003cbr\\u003eEmissions per Capita=%{y}\\u003cextra\\u003e\\u003c\\u002fextra\\u003e\",\"legendgroup\":\"Cyprus\",\"marker\":{\"color\":\"#EF553B\",\"symbol\":\"circle\"},\"mode\":\"markers\",\"name\":\"Cyprus\",\"orientation\":\"v\",\"showlegend\":true,\"x\":[105.8],\"xaxis\":\"x\",\"y\":[7.3],\"yaxis\":\"y\",\"type\":\"scatter\"},{\"hovertemplate\":\"Country=Czechia\\u003cbr\\u003eAgricultural Production=%{x}\\u003cbr\\u003eEmissions per Capita=%{y}\\u003cextra\\u003e\\u003c\\u002fextra\\u003e\",\"legendgroup\":\"Czechia\",\"marker\":{\"color\":\"#00cc96\",\"symbol\":\"circle\"},\"mode\":\"markers\",\"name\":\"Czechia\",\"orientation\":\"v\",\"showlegend\":true,\"x\":[92.9],\"xaxis\":\"x\",\"y\":[9.0],\"yaxis\":\"y\",\"type\":\"scatter\"},{\"hovertemplate\":\"Country=Dem. People's Rep. Korea\\u003cbr\\u003eAgricultural Production=%{x}\\u003cbr\\u003eEmissions per Capita=%{y}\\u003cextra\\u003e\\u003c\\u002fextra\\u003e\",\"legendgroup\":\"Dem. People's Rep. Korea\",\"marker\":{\"color\":\"#ab63fa\",\"symbol\":\"circle\"},\"mode\":\"markers\",\"name\":\"Dem. People's Rep. Korea\",\"orientation\":\"v\",\"showlegend\":true,\"x\":[102.6],\"xaxis\":\"x\",\"y\":[2.1],\"yaxis\":\"y\",\"type\":\"scatter\"},{\"hovertemplate\":\"Country=Dem. Rep. of the Congo\\u003cbr\\u003eAgricultural Production=%{x}\\u003cbr\\u003eEmissions per Capita=%{y}\\u003cextra\\u003e\\u003c\\u002fextra\\u003e\",\"legendgroup\":\"Dem. Rep. of the Congo\",\"marker\":{\"color\":\"#FFA15A\",\"symbol\":\"circle\"},\"mode\":\"markers\",\"name\":\"Dem. Rep. of the Congo\",\"orientation\":\"v\",\"showlegend\":true,\"x\":[110.4],\"xaxis\":\"x\",\"y\":[0.0],\"yaxis\":\"y\",\"type\":\"scatter\"},{\"hovertemplate\":\"Country=Denmark\\u003cbr\\u003eAgricultural Production=%{x}\\u003cbr\\u003eEmissions per Capita=%{y}\\u003cextra\\u003e\\u003c\\u002fextra\\u003e\",\"legendgroup\":\"Denmark\",\"marker\":{\"color\":\"#19d3f3\",\"symbol\":\"circle\"},\"mode\":\"markers\",\"name\":\"Denmark\",\"orientation\":\"v\",\"showlegend\":true,\"x\":[100.6],\"xaxis\":\"x\",\"y\":[4.9],\"yaxis\":\"y\",\"type\":\"scatter\"},{\"hovertemplate\":\"Country=Dominican Republic\\u003cbr\\u003eAgricultural Production=%{x}\\u003cbr\\u003eEmissions per Capita=%{y}\\u003cextra\\u003e\\u003c\\u002fextra\\u003e\",\"legendgroup\":\"Dominican Republic\",\"marker\":{\"color\":\"#FF6692\",\"symbol\":\"circle\"},\"mode\":\"markers\",\"name\":\"Dominican Republic\",\"orientation\":\"v\",\"showlegend\":true,\"x\":[116.2],\"xaxis\":\"x\",\"y\":[2.2],\"yaxis\":\"y\",\"type\":\"scatter\"},{\"hovertemplate\":\"Country=Ecuador\\u003cbr\\u003eAgricultural Production=%{x}\\u003cbr\\u003eEmissions per Capita=%{y}\\u003cextra\\u003e\\u003c\\u002fextra\\u003e\",\"legendgroup\":\"Ecuador\",\"marker\":{\"color\":\"#B6E880\",\"symbol\":\"circle\"},\"mode\":\"markers\",\"name\":\"Ecuador\",\"orientation\":\"v\",\"showlegend\":true,\"x\":[99.0],\"xaxis\":\"x\",\"y\":[2.1],\"yaxis\":\"y\",\"type\":\"scatter\"},{\"hovertemplate\":\"Country=Egypt\\u003cbr\\u003eAgricultural Production=%{x}\\u003cbr\\u003eEmissions per Capita=%{y}\\u003cextra\\u003e\\u003c\\u002fextra\\u003e\",\"legendgroup\":\"Egypt\",\"marker\":{\"color\":\"#FF97FF\",\"symbol\":\"circle\"},\"mode\":\"markers\",\"name\":\"Egypt\",\"orientation\":\"v\",\"showlegend\":true,\"x\":[100.8],\"xaxis\":\"x\",\"y\":[1.9],\"yaxis\":\"y\",\"type\":\"scatter\"},{\"hovertemplate\":\"Country=El Salvador\\u003cbr\\u003eAgricultural Production=%{x}\\u003cbr\\u003eEmissions per Capita=%{y}\\u003cextra\\u003e\\u003c\\u002fextra\\u003e\",\"legendgroup\":\"El Salvador\",\"marker\":{\"color\":\"#FECB52\",\"symbol\":\"circle\"},\"mode\":\"markers\",\"name\":\"El Salvador\",\"orientation\":\"v\",\"showlegend\":true,\"x\":[102.0],\"xaxis\":\"x\",\"y\":[1.2],\"yaxis\":\"y\",\"type\":\"scatter\"},{\"hovertemplate\":\"Country=Equatorial Guinea\\u003cbr\\u003eAgricultural Production=%{x}\\u003cbr\\u003eEmissions per Capita=%{y}\\u003cextra\\u003e\\u003c\\u002fextra\\u003e\",\"legendgroup\":\"Equatorial Guinea\",\"marker\":{\"color\":\"#636efa\",\"symbol\":\"circle\"},\"mode\":\"markers\",\"name\":\"Equatorial Guinea\",\"orientation\":\"v\",\"showlegend\":true,\"x\":[102.8],\"xaxis\":\"x\",\"y\":[3.2],\"yaxis\":\"y\",\"type\":\"scatter\"},{\"hovertemplate\":\"Country=Eritrea\\u003cbr\\u003eAgricultural Production=%{x}\\u003cbr\\u003eEmissions per Capita=%{y}\\u003cextra\\u003e\\u003c\\u002fextra\\u003e\",\"legendgroup\":\"Eritrea\",\"marker\":{\"color\":\"#EF553B\",\"symbol\":\"circle\"},\"mode\":\"markers\",\"name\":\"Eritrea\",\"orientation\":\"v\",\"showlegend\":true,\"x\":[103.9],\"xaxis\":\"x\",\"y\":[0.2],\"yaxis\":\"y\",\"type\":\"scatter\"},{\"hovertemplate\":\"Country=Estonia\\u003cbr\\u003eAgricultural Production=%{x}\\u003cbr\\u003eEmissions per Capita=%{y}\\u003cextra\\u003e\\u003c\\u002fextra\\u003e\",\"legendgroup\":\"Estonia\",\"marker\":{\"color\":\"#00cc96\",\"symbol\":\"circle\"},\"mode\":\"markers\",\"name\":\"Estonia\",\"orientation\":\"v\",\"showlegend\":true,\"x\":[106.7],\"xaxis\":\"x\",\"y\":[7.4],\"yaxis\":\"y\",\"type\":\"scatter\"},{\"hovertemplate\":\"Country=Eswatini\\u003cbr\\u003eAgricultural Production=%{x}\\u003cbr\\u003eEmissions per Capita=%{y}\\u003cextra\\u003e\\u003c\\u002fextra\\u003e\",\"legendgroup\":\"Eswatini\",\"marker\":{\"color\":\"#ab63fa\",\"symbol\":\"circle\"},\"mode\":\"markers\",\"name\":\"Eswatini\",\"orientation\":\"v\",\"showlegend\":true,\"x\":[104.0],\"xaxis\":\"x\",\"y\":[1.0],\"yaxis\":\"y\",\"type\":\"scatter\"},{\"hovertemplate\":\"Country=Ethiopia\\u003cbr\\u003eAgricultural Production=%{x}\\u003cbr\\u003eEmissions per Capita=%{y}\\u003cextra\\u003e\\u003c\\u002fextra\\u003e\",\"legendgroup\":\"Ethiopia\",\"marker\":{\"color\":\"#FFA15A\",\"symbol\":\"circle\"},\"mode\":\"markers\",\"name\":\"Ethiopia\",\"orientation\":\"v\",\"showlegend\":true,\"x\":[110.3],\"xaxis\":\"x\",\"y\":[0.1],\"yaxis\":\"y\",\"type\":\"scatter\"},{\"hovertemplate\":\"Country=Finland\\u003cbr\\u003eAgricultural Production=%{x}\\u003cbr\\u003eEmissions per Capita=%{y}\\u003cextra\\u003e\\u003c\\u002fextra\\u003e\",\"legendgroup\":\"Finland\",\"marker\":{\"color\":\"#19d3f3\",\"symbol\":\"circle\"},\"mode\":\"markers\",\"name\":\"Finland\",\"orientation\":\"v\",\"showlegend\":true,\"x\":[102.2],\"xaxis\":\"x\",\"y\":[7.3],\"yaxis\":\"y\",\"type\":\"scatter\"},{\"hovertemplate\":\"Country=France\\u003cbr\\u003eAgricultural Production=%{x}\\u003cbr\\u003eEmissions per Capita=%{y}\\u003cextra\\u003e\\u003c\\u002fextra\\u003e\",\"legendgroup\":\"France\",\"marker\":{\"color\":\"#FF6692\",\"symbol\":\"circle\"},\"mode\":\"markers\",\"name\":\"France\",\"orientation\":\"v\",\"showlegend\":true,\"x\":[99.0],\"xaxis\":\"x\",\"y\":[4.3],\"yaxis\":\"y\",\"type\":\"scatter\"},{\"hovertemplate\":\"Country=Gabon\\u003cbr\\u003eAgricultural Production=%{x}\\u003cbr\\u003eEmissions per Capita=%{y}\\u003cextra\\u003e\\u003c\\u002fextra\\u003e\",\"legendgroup\":\"Gabon\",\"marker\":{\"color\":\"#B6E880\",\"symbol\":\"circle\"},\"mode\":\"markers\",\"name\":\"Gabon\",\"orientation\":\"v\",\"showlegend\":true,\"x\":[103.6],\"xaxis\":\"x\",\"y\":[1.1],\"yaxis\":\"y\",\"type\":\"scatter\"},{\"hovertemplate\":\"Country=Georgia\\u003cbr\\u003eAgricultural Production=%{x}\\u003cbr\\u003eEmissions per Capita=%{y}\\u003cextra\\u003e\\u003c\\u002fextra\\u003e\",\"legendgroup\":\"Georgia\",\"marker\":{\"color\":\"#FF97FF\",\"symbol\":\"circle\"},\"mode\":\"markers\",\"name\":\"Georgia\",\"orientation\":\"v\",\"showlegend\":true,\"x\":[105.7],\"xaxis\":\"x\",\"y\":[2.6],\"yaxis\":\"y\",\"type\":\"scatter\"},{\"hovertemplate\":\"Country=Germany\\u003cbr\\u003eAgricultural Production=%{x}\\u003cbr\\u003eEmissions per Capita=%{y}\\u003cextra\\u003e\\u003c\\u002fextra\\u003e\",\"legendgroup\":\"Germany\",\"marker\":{\"color\":\"#FECB52\",\"symbol\":\"circle\"},\"mode\":\"markers\",\"name\":\"Germany\",\"orientation\":\"v\",\"showlegend\":true,\"x\":[94.3],\"xaxis\":\"x\",\"y\":[7.8],\"yaxis\":\"y\",\"type\":\"scatter\"},{\"hovertemplate\":\"Country=Ghana\\u003cbr\\u003eAgricultural Production=%{x}\\u003cbr\\u003eEmissions per Capita=%{y}\\u003cextra\\u003e\\u003c\\u002fextra\\u003e\",\"legendgroup\":\"Ghana\",\"marker\":{\"color\":\"#636efa\",\"symbol\":\"circle\"},\"mode\":\"markers\",\"name\":\"Ghana\",\"orientation\":\"v\",\"showlegend\":true,\"x\":[115.7],\"xaxis\":\"x\",\"y\":[0.6],\"yaxis\":\"y\",\"type\":\"scatter\"},{\"hovertemplate\":\"Country=Greece\\u003cbr\\u003eAgricultural Production=%{x}\\u003cbr\\u003eEmissions per Capita=%{y}\\u003cextra\\u003e\\u003c\\u002fextra\\u003e\",\"legendgroup\":\"Greece\",\"marker\":{\"color\":\"#EF553B\",\"symbol\":\"circle\"},\"mode\":\"markers\",\"name\":\"Greece\",\"orientation\":\"v\",\"showlegend\":true,\"x\":[100.9],\"xaxis\":\"x\",\"y\":[5.3],\"yaxis\":\"y\",\"type\":\"scatter\"},{\"hovertemplate\":\"Country=Guatemala\\u003cbr\\u003eAgricultural Production=%{x}\\u003cbr\\u003eEmissions per Capita=%{y}\\u003cextra\\u003e\\u003c\\u002fextra\\u003e\",\"legendgroup\":\"Guatemala\",\"marker\":{\"color\":\"#00cc96\",\"symbol\":\"circle\"},\"mode\":\"markers\",\"name\":\"Guatemala\",\"orientation\":\"v\",\"showlegend\":true,\"x\":[98.3],\"xaxis\":\"x\",\"y\":[1.1],\"yaxis\":\"y\",\"type\":\"scatter\"},{\"hovertemplate\":\"Country=Guyana\\u003cbr\\u003eAgricultural Production=%{x}\\u003cbr\\u003eEmissions per Capita=%{y}\\u003cextra\\u003e\\u003c\\u002fextra\\u003e\",\"legendgroup\":\"Guyana\",\"marker\":{\"color\":\"#ab63fa\",\"symbol\":\"circle\"},\"mode\":\"markers\",\"name\":\"Guyana\",\"orientation\":\"v\",\"showlegend\":true,\"x\":[109.6],\"xaxis\":\"x\",\"y\":[3.4],\"yaxis\":\"y\",\"type\":\"scatter\"},{\"hovertemplate\":\"Country=Haiti\\u003cbr\\u003eAgricultural Production=%{x}\\u003cbr\\u003eEmissions per Capita=%{y}\\u003cextra\\u003e\\u003c\\u002fextra\\u003e\",\"legendgroup\":\"Haiti\",\"marker\":{\"color\":\"#FFA15A\",\"symbol\":\"circle\"},\"mode\":\"markers\",\"name\":\"Haiti\",\"orientation\":\"v\",\"showlegend\":true,\"x\":[80.6],\"xaxis\":\"x\",\"y\":[0.3],\"yaxis\":\"y\",\"type\":\"scatter\"},{\"hovertemplate\":\"Country=Honduras\\u003cbr\\u003eAgricultural Production=%{x}\\u003cbr\\u003eEmissions per Capita=%{y}\\u003cextra\\u003e\\u003c\\u002fextra\\u003e\",\"legendgroup\":\"Honduras\",\"marker\":{\"color\":\"#19d3f3\",\"symbol\":\"circle\"},\"mode\":\"markers\",\"name\":\"Honduras\",\"orientation\":\"v\",\"showlegend\":true,\"x\":[115.9],\"xaxis\":\"x\",\"y\":[1.0],\"yaxis\":\"y\",\"type\":\"scatter\"},{\"hovertemplate\":\"Country=Hungary\\u003cbr\\u003eAgricultural Production=%{x}\\u003cbr\\u003eEmissions per Capita=%{y}\\u003cextra\\u003e\\u003c\\u002fextra\\u003e\",\"legendgroup\":\"Hungary\",\"marker\":{\"color\":\"#FF6692\",\"symbol\":\"circle\"},\"mode\":\"markers\",\"name\":\"Hungary\",\"orientation\":\"v\",\"showlegend\":true,\"x\":[99.2],\"xaxis\":\"x\",\"y\":[4.7],\"yaxis\":\"y\",\"type\":\"scatter\"},{\"hovertemplate\":\"Country=Iceland\\u003cbr\\u003eAgricultural Production=%{x}\\u003cbr\\u003eEmissions per Capita=%{y}\\u003cextra\\u003e\\u003c\\u002fextra\\u003e\",\"legendgroup\":\"Iceland\",\"marker\":{\"color\":\"#B6E880\",\"symbol\":\"circle\"},\"mode\":\"markers\",\"name\":\"Iceland\",\"orientation\":\"v\",\"showlegend\":true,\"x\":[106.9],\"xaxis\":\"x\",\"y\":[4.5],\"yaxis\":\"y\",\"type\":\"scatter\"},{\"hovertemplate\":\"Country=India\\u003cbr\\u003eAgricultural Production=%{x}\\u003cbr\\u003eEmissions per Capita=%{y}\\u003cextra\\u003e\\u003c\\u002fextra\\u003e\",\"legendgroup\":\"India\",\"marker\":{\"color\":\"#FF97FF\",\"symbol\":\"circle\"},\"mode\":\"markers\",\"name\":\"India\",\"orientation\":\"v\",\"showlegend\":true,\"x\":[115.3],\"xaxis\":\"x\",\"y\":[1.7],\"yaxis\":\"y\",\"type\":\"scatter\"},{\"hovertemplate\":\"Country=Indonesia\\u003cbr\\u003eAgricultural Production=%{x}\\u003cbr\\u003eEmissions per Capita=%{y}\\u003cextra\\u003e\\u003c\\u002fextra\\u003e\",\"legendgroup\":\"Indonesia\",\"marker\":{\"color\":\"#FECB52\",\"symbol\":\"circle\"},\"mode\":\"markers\",\"name\":\"Indonesia\",\"orientation\":\"v\",\"showlegend\":true,\"x\":[114.6],\"xaxis\":\"x\",\"y\":[2.1],\"yaxis\":\"y\",\"type\":\"scatter\"},{\"hovertemplate\":\"Country=Iran (Islamic Republic of)\\u003cbr\\u003eAgricultural Production=%{x}\\u003cbr\\u003eEmissions per Capita=%{y}\\u003cextra\\u003e\\u003c\\u002fextra\\u003e\",\"legendgroup\":\"Iran (Islamic Republic of)\",\"marker\":{\"color\":\"#636efa\",\"symbol\":\"circle\"},\"mode\":\"markers\",\"name\":\"Iran (Islamic Republic of)\",\"orientation\":\"v\",\"showlegend\":true,\"x\":[91.6],\"xaxis\":\"x\",\"y\":[7.0],\"yaxis\":\"y\",\"type\":\"scatter\"},{\"hovertemplate\":\"Country=Iraq\\u003cbr\\u003eAgricultural Production=%{x}\\u003cbr\\u003eEmissions per Capita=%{y}\\u003cextra\\u003e\\u003c\\u002fextra\\u003e\",\"legendgroup\":\"Iraq\",\"marker\":{\"color\":\"#EF553B\",\"symbol\":\"circle\"},\"mode\":\"markers\",\"name\":\"Iraq\",\"orientation\":\"v\",\"showlegend\":true,\"x\":[123.1],\"xaxis\":\"x\",\"y\":[3.5],\"yaxis\":\"y\",\"type\":\"scatter\"},{\"hovertemplate\":\"Country=Ireland\\u003cbr\\u003eAgricultural Production=%{x}\\u003cbr\\u003eEmissions per Capita=%{y}\\u003cextra\\u003e\\u003c\\u002fextra\\u003e\",\"legendgroup\":\"Ireland\",\"marker\":{\"color\":\"#00cc96\",\"symbol\":\"circle\"},\"mode\":\"markers\",\"name\":\"Ireland\",\"orientation\":\"v\",\"showlegend\":true,\"x\":[113.5],\"xaxis\":\"x\",\"y\":[6.9],\"yaxis\":\"y\",\"type\":\"scatter\"},{\"hovertemplate\":\"Country=Israel\\u003cbr\\u003eAgricultural Production=%{x}\\u003cbr\\u003eEmissions per Capita=%{y}\\u003cextra\\u003e\\u003c\\u002fextra\\u003e\",\"legendgroup\":\"Israel\",\"marker\":{\"color\":\"#ab63fa\",\"symbol\":\"circle\"},\"mode\":\"markers\",\"name\":\"Israel\",\"orientation\":\"v\",\"showlegend\":true,\"x\":[100.3],\"xaxis\":\"x\",\"y\":[6.8],\"yaxis\":\"y\",\"type\":\"scatter\"},{\"hovertemplate\":\"Country=Italy\\u003cbr\\u003eAgricultural Production=%{x}\\u003cbr\\u003eEmissions per Capita=%{y}\\u003cextra\\u003e\\u003c\\u002fextra\\u003e\",\"legendgroup\":\"Italy\",\"marker\":{\"color\":\"#FFA15A\",\"symbol\":\"circle\"},\"mode\":\"markers\",\"name\":\"Italy\",\"orientation\":\"v\",\"showlegend\":true,\"x\":[98.4],\"xaxis\":\"x\",\"y\":[5.2],\"yaxis\":\"y\",\"type\":\"scatter\"},{\"hovertemplate\":\"Country=Jamaica\\u003cbr\\u003eAgricultural Production=%{x}\\u003cbr\\u003eEmissions per Capita=%{y}\\u003cextra\\u003e\\u003c\\u002fextra\\u003e\",\"legendgroup\":\"Jamaica\",\"marker\":{\"color\":\"#19d3f3\",\"symbol\":\"circle\"},\"mode\":\"markers\",\"name\":\"Jamaica\",\"orientation\":\"v\",\"showlegend\":true,\"x\":[104.7],\"xaxis\":\"x\",\"y\":[2.7],\"yaxis\":\"y\",\"type\":\"scatter\"},{\"hovertemplate\":\"Country=Japan\\u003cbr\\u003eAgricultural Production=%{x}\\u003cbr\\u003eEmissions per Capita=%{y}\\u003cextra\\u003e\\u003c\\u002fextra\\u003e\",\"legendgroup\":\"Japan\",\"marker\":{\"color\":\"#FF6692\",\"symbol\":\"circle\"},\"mode\":\"markers\",\"name\":\"Japan\",\"orientation\":\"v\",\"showlegend\":true,\"x\":[100.4],\"xaxis\":\"x\",\"y\":[8.3],\"yaxis\":\"y\",\"type\":\"scatter\"},{\"hovertemplate\":\"Country=Jordan\\u003cbr\\u003eAgricultural Production=%{x}\\u003cbr\\u003eEmissions per Capita=%{y}\\u003cextra\\u003e\\u003c\\u002fextra\\u003e\",\"legendgroup\":\"Jordan\",\"marker\":{\"color\":\"#B6E880\",\"symbol\":\"circle\"},\"mode\":\"markers\",\"name\":\"Jordan\",\"orientation\":\"v\",\"showlegend\":true,\"x\":[98.1],\"xaxis\":\"x\",\"y\":[2.2],\"yaxis\":\"y\",\"type\":\"scatter\"},{\"hovertemplate\":\"Country=Kazakhstan\\u003cbr\\u003eAgricultural Production=%{x}\\u003cbr\\u003eEmissions per Capita=%{y}\\u003cextra\\u003e\\u003c\\u002fextra\\u003e\",\"legendgroup\":\"Kazakhstan\",\"marker\":{\"color\":\"#FF97FF\",\"symbol\":\"circle\"},\"mode\":\"markers\",\"name\":\"Kazakhstan\",\"orientation\":\"v\",\"showlegend\":true,\"x\":[111.7],\"xaxis\":\"x\",\"y\":[10.7],\"yaxis\":\"y\",\"type\":\"scatter\"},{\"hovertemplate\":\"Country=Kenya\\u003cbr\\u003eAgricultural Production=%{x}\\u003cbr\\u003eEmissions per Capita=%{y}\\u003cextra\\u003e\\u003c\\u002fextra\\u003e\",\"legendgroup\":\"Kenya\",\"marker\":{\"color\":\"#FECB52\",\"symbol\":\"circle\"},\"mode\":\"markers\",\"name\":\"Kenya\",\"orientation\":\"v\",\"showlegend\":true,\"x\":[107.4],\"xaxis\":\"x\",\"y\":[0.3],\"yaxis\":\"y\",\"type\":\"scatter\"},{\"hovertemplate\":\"Country=Kuwait\\u003cbr\\u003eAgricultural Production=%{x}\\u003cbr\\u003eEmissions per Capita=%{y}\\u003cextra\\u003e\\u003c\\u002fextra\\u003e\",\"legendgroup\":\"Kuwait\",\"marker\":{\"color\":\"#636efa\",\"symbol\":\"circle\"},\"mode\":\"markers\",\"name\":\"Kuwait\",\"orientation\":\"v\",\"showlegend\":true,\"x\":[118.2],\"xaxis\":\"x\",\"y\":[21.6],\"yaxis\":\"y\",\"type\":\"scatter\"},{\"hovertemplate\":\"Country=Kyrgyzstan\\u003cbr\\u003eAgricultural Production=%{x}\\u003cbr\\u003eEmissions per Capita=%{y}\\u003cextra\\u003e\\u003c\\u002fextra\\u003e\",\"legendgroup\":\"Kyrgyzstan\",\"marker\":{\"color\":\"#EF553B\",\"symbol\":\"circle\"},\"mode\":\"markers\",\"name\":\"Kyrgyzstan\",\"orientation\":\"v\",\"showlegend\":true,\"x\":[109.7],\"xaxis\":\"x\",\"y\":[1.4],\"yaxis\":\"y\",\"type\":\"scatter\"},{\"hovertemplate\":\"Country=Lao People's Dem. Rep.\\u003cbr\\u003eAgricultural Production=%{x}\\u003cbr\\u003eEmissions per Capita=%{y}\\u003cextra\\u003e\\u003c\\u002fextra\\u003e\",\"legendgroup\":\"Lao People's Dem. Rep.\",\"marker\":{\"color\":\"#00cc96\",\"symbol\":\"circle\"},\"mode\":\"markers\",\"name\":\"Lao People's Dem. Rep.\",\"orientation\":\"v\",\"showlegend\":true,\"x\":[102.6],\"xaxis\":\"x\",\"y\":[2.4],\"yaxis\":\"y\",\"type\":\"scatter\"},{\"hovertemplate\":\"Country=Latvia\\u003cbr\\u003eAgricultural Production=%{x}\\u003cbr\\u003eEmissions per Capita=%{y}\\u003cextra\\u003e\\u003c\\u002fextra\\u003e\",\"legendgroup\":\"Latvia\",\"marker\":{\"color\":\"#ab63fa\",\"symbol\":\"circle\"},\"mode\":\"markers\",\"name\":\"Latvia\",\"orientation\":\"v\",\"showlegend\":true,\"x\":[104.7],\"xaxis\":\"x\",\"y\":[3.7],\"yaxis\":\"y\",\"type\":\"scatter\"},{\"hovertemplate\":\"Country=Lebanon\\u003cbr\\u003eAgricultural Production=%{x}\\u003cbr\\u003eEmissions per Capita=%{y}\\u003cextra\\u003e\\u003c\\u002fextra\\u003e\",\"legendgroup\":\"Lebanon\",\"marker\":{\"color\":\"#FFA15A\",\"symbol\":\"circle\"},\"mode\":\"markers\",\"name\":\"Lebanon\",\"orientation\":\"v\",\"showlegend\":true,\"x\":[100.8],\"xaxis\":\"x\",\"y\":[3.7],\"yaxis\":\"y\",\"type\":\"scatter\"},{\"hovertemplate\":\"Country=Libya\\u003cbr\\u003eAgricultural Production=%{x}\\u003cbr\\u003eEmissions per Capita=%{y}\\u003cextra\\u003e\\u003c\\u002fextra\\u003e\",\"legendgroup\":\"Libya\",\"marker\":{\"color\":\"#19d3f3\",\"symbol\":\"circle\"},\"mode\":\"markers\",\"name\":\"Libya\",\"orientation\":\"v\",\"showlegend\":true,\"x\":[101.9],\"xaxis\":\"x\",\"y\":[6.6],\"yaxis\":\"y\",\"type\":\"scatter\"},{\"hovertemplate\":\"Country=Lithuania\\u003cbr\\u003eAgricultural Production=%{x}\\u003cbr\\u003eEmissions per Capita=%{y}\\u003cextra\\u003e\\u003c\\u002fextra\\u003e\",\"legendgroup\":\"Lithuania\",\"marker\":{\"color\":\"#FF6692\",\"symbol\":\"circle\"},\"mode\":\"markers\",\"name\":\"Lithuania\",\"orientation\":\"v\",\"showlegend\":true,\"x\":[94.3],\"xaxis\":\"x\",\"y\":[4.0],\"yaxis\":\"y\",\"type\":\"scatter\"},{\"hovertemplate\":\"Country=Luxembourg\\u003cbr\\u003eAgricultural Production=%{x}\\u003cbr\\u003eEmissions per Capita=%{y}\\u003cextra\\u003e\\u003c\\u002fextra\\u003e\",\"legendgroup\":\"Luxembourg\",\"marker\":{\"color\":\"#B6E880\",\"symbol\":\"circle\"},\"mode\":\"markers\",\"name\":\"Luxembourg\",\"orientation\":\"v\",\"showlegend\":true,\"x\":[110.4],\"xaxis\":\"x\",\"y\":[14.6],\"yaxis\":\"y\",\"type\":\"scatter\"},{\"hovertemplate\":\"Country=Madagascar\\u003cbr\\u003eAgricultural Production=%{x}\\u003cbr\\u003eEmissions per Capita=%{y}\\u003cextra\\u003e\\u003c\\u002fextra\\u003e\",\"legendgroup\":\"Madagascar\",\"marker\":{\"color\":\"#FF97FF\",\"symbol\":\"circle\"},\"mode\":\"markers\",\"name\":\"Madagascar\",\"orientation\":\"v\",\"showlegend\":true,\"x\":[101.3],\"xaxis\":\"x\",\"y\":[0.1],\"yaxis\":\"y\",\"type\":\"scatter\"},{\"hovertemplate\":\"Country=Malaysia\\u003cbr\\u003eAgricultural Production=%{x}\\u003cbr\\u003eEmissions per Capita=%{y}\\u003cextra\\u003e\\u003c\\u002fextra\\u003e\",\"legendgroup\":\"Malaysia\",\"marker\":{\"color\":\"#FECB52\",\"symbol\":\"circle\"},\"mode\":\"markers\",\"name\":\"Malaysia\",\"orientation\":\"v\",\"showlegend\":true,\"x\":[101.7],\"xaxis\":\"x\",\"y\":[7.2],\"yaxis\":\"y\",\"type\":\"scatter\"},{\"hovertemplate\":\"Country=Malta\\u003cbr\\u003eAgricultural Production=%{x}\\u003cbr\\u003eEmissions per Capita=%{y}\\u003cextra\\u003e\\u003c\\u002fextra\\u003e\",\"legendgroup\":\"Malta\",\"marker\":{\"color\":\"#636efa\",\"symbol\":\"circle\"},\"mode\":\"markers\",\"name\":\"Malta\",\"orientation\":\"v\",\"showlegend\":true,\"x\":[73.6],\"xaxis\":\"x\",\"y\":[3.3],\"yaxis\":\"y\",\"type\":\"scatter\"},{\"hovertemplate\":\"Country=Mauritius\\u003cbr\\u003eAgricultural Production=%{x}\\u003cbr\\u003eEmissions per Capita=%{y}\\u003cextra\\u003e\\u003c\\u002fextra\\u003e\",\"legendgroup\":\"Mauritius\",\"marker\":{\"color\":\"#EF553B\",\"symbol\":\"circle\"},\"mode\":\"markers\",\"name\":\"Mauritius\",\"orientation\":\"v\",\"showlegend\":true,\"x\":[94.4],\"xaxis\":\"x\",\"y\":[3.3],\"yaxis\":\"y\",\"type\":\"scatter\"},{\"hovertemplate\":\"Country=Mexico\\u003cbr\\u003eAgricultural Production=%{x}\\u003cbr\\u003eEmissions per Capita=%{y}\\u003cextra\\u003e\\u003c\\u002fextra\\u003e\",\"legendgroup\":\"Mexico\",\"marker\":{\"color\":\"#00cc96\",\"symbol\":\"circle\"},\"mode\":\"markers\",\"name\":\"Mexico\",\"orientation\":\"v\",\"showlegend\":true,\"x\":[112.1],\"xaxis\":\"x\",\"y\":[3.4],\"yaxis\":\"y\",\"type\":\"scatter\"},{\"hovertemplate\":\"Country=Mongolia\\u003cbr\\u003eAgricultural Production=%{x}\\u003cbr\\u003eEmissions per Capita=%{y}\\u003cextra\\u003e\\u003c\\u002fextra\\u003e\",\"legendgroup\":\"Mongolia\",\"marker\":{\"color\":\"#ab63fa\",\"symbol\":\"circle\"},\"mode\":\"markers\",\"name\":\"Mongolia\",\"orientation\":\"v\",\"showlegend\":true,\"x\":[130.3],\"xaxis\":\"x\",\"y\":[7.0],\"yaxis\":\"y\",\"type\":\"scatter\"},{\"hovertemplate\":\"Country=Montenegro\\u003cbr\\u003eAgricultural Production=%{x}\\u003cbr\\u003eEmissions per Capita=%{y}\\u003cextra\\u003e\\u003c\\u002fextra\\u003e\",\"legendgroup\":\"Montenegro\",\"marker\":{\"color\":\"#FFA15A\",\"symbol\":\"circle\"},\"mode\":\"markers\",\"name\":\"Montenegro\",\"orientation\":\"v\",\"showlegend\":true,\"x\":[97.7],\"xaxis\":\"x\",\"y\":[4.2],\"yaxis\":\"y\",\"type\":\"scatter\"},{\"hovertemplate\":\"Country=Morocco\\u003cbr\\u003eAgricultural Production=%{x}\\u003cbr\\u003eEmissions per Capita=%{y}\\u003cextra\\u003e\\u003c\\u002fextra\\u003e\",\"legendgroup\":\"Morocco\",\"marker\":{\"color\":\"#19d3f3\",\"symbol\":\"circle\"},\"mode\":\"markers\",\"name\":\"Morocco\",\"orientation\":\"v\",\"showlegend\":true,\"x\":[110.1],\"xaxis\":\"x\",\"y\":[1.8],\"yaxis\":\"y\",\"type\":\"scatter\"},{\"hovertemplate\":\"Country=Mozambique\\u003cbr\\u003eAgricultural Production=%{x}\\u003cbr\\u003eEmissions per Capita=%{y}\\u003cextra\\u003e\\u003c\\u002fextra\\u003e\",\"legendgroup\":\"Mozambique\",\"marker\":{\"color\":\"#FF6692\",\"symbol\":\"circle\"},\"mode\":\"markers\",\"name\":\"Mozambique\",\"orientation\":\"v\",\"showlegend\":true,\"x\":[135.6],\"xaxis\":\"x\",\"y\":[0.2],\"yaxis\":\"y\",\"type\":\"scatter\"},{\"hovertemplate\":\"Country=Myanmar\\u003cbr\\u003eAgricultural Production=%{x}\\u003cbr\\u003eEmissions per Capita=%{y}\\u003cextra\\u003e\\u003c\\u002fextra\\u003e\",\"legendgroup\":\"Myanmar\",\"marker\":{\"color\":\"#B6E880\",\"symbol\":\"circle\"},\"mode\":\"markers\",\"name\":\"Myanmar\",\"orientation\":\"v\",\"showlegend\":true,\"x\":[80.5],\"xaxis\":\"x\",\"y\":[0.6],\"yaxis\":\"y\",\"type\":\"scatter\"},{\"hovertemplate\":\"Country=Namibia\\u003cbr\\u003eAgricultural Production=%{x}\\u003cbr\\u003eEmissions per Capita=%{y}\\u003cextra\\u003e\\u003c\\u002fextra\\u003e\",\"legendgroup\":\"Namibia\",\"marker\":{\"color\":\"#FF97FF\",\"symbol\":\"circle\"},\"mode\":\"markers\",\"name\":\"Namibia\",\"orientation\":\"v\",\"showlegend\":true,\"x\":[97.4],\"xaxis\":\"x\",\"y\":[1.5],\"yaxis\":\"y\",\"type\":\"scatter\"},{\"hovertemplate\":\"Country=Nepal\\u003cbr\\u003eAgricultural Production=%{x}\\u003cbr\\u003eEmissions per Capita=%{y}\\u003cextra\\u003e\\u003c\\u002fextra\\u003e\",\"legendgroup\":\"Nepal\",\"marker\":{\"color\":\"#FECB52\",\"symbol\":\"circle\"},\"mode\":\"markers\",\"name\":\"Nepal\",\"orientation\":\"v\",\"showlegend\":true,\"x\":[114.0],\"xaxis\":\"x\",\"y\":[0.4],\"yaxis\":\"y\",\"type\":\"scatter\"},{\"hovertemplate\":\"Country=Netherlands (Kingdom of the)\\u003cbr\\u003eAgricultural Production=%{x}\\u003cbr\\u003eEmissions per Capita=%{y}\\u003cextra\\u003e\\u003c\\u002fextra\\u003e\",\"legendgroup\":\"Netherlands (Kingdom of the)\",\"marker\":{\"color\":\"#636efa\",\"symbol\":\"circle\"},\"mode\":\"markers\",\"name\":\"Netherlands (Kingdom of the)\",\"orientation\":\"v\",\"showlegend\":true,\"x\":[100.8],\"xaxis\":\"x\",\"y\":[8.4],\"yaxis\":\"y\",\"type\":\"scatter\"},{\"hovertemplate\":\"Country=New Zealand\\u003cbr\\u003eAgricultural Production=%{x}\\u003cbr\\u003eEmissions per Capita=%{y}\\u003cextra\\u003e\\u003c\\u002fextra\\u003e\",\"legendgroup\":\"New Zealand\",\"marker\":{\"color\":\"#EF553B\",\"symbol\":\"circle\"},\"mode\":\"markers\",\"name\":\"New Zealand\",\"orientation\":\"v\",\"showlegend\":true,\"x\":[101.4],\"xaxis\":\"x\",\"y\":[6.7],\"yaxis\":\"y\",\"type\":\"scatter\"},{\"hovertemplate\":\"Country=Nicaragua\\u003cbr\\u003eAgricultural Production=%{x}\\u003cbr\\u003eEmissions per Capita=%{y}\\u003cextra\\u003e\\u003c\\u002fextra\\u003e\",\"legendgroup\":\"Nicaragua\",\"marker\":{\"color\":\"#00cc96\",\"symbol\":\"circle\"},\"mode\":\"markers\",\"name\":\"Nicaragua\",\"orientation\":\"v\",\"showlegend\":true,\"x\":[118.8],\"xaxis\":\"x\",\"y\":[0.8],\"yaxis\":\"y\",\"type\":\"scatter\"},{\"hovertemplate\":\"Country=Niger\\u003cbr\\u003eAgricultural Production=%{x}\\u003cbr\\u003eEmissions per Capita=%{y}\\u003cextra\\u003e\\u003c\\u002fextra\\u003e\",\"legendgroup\":\"Niger\",\"marker\":{\"color\":\"#ab63fa\",\"symbol\":\"circle\"},\"mode\":\"markers\",\"name\":\"Niger\",\"orientation\":\"v\",\"showlegend\":true,\"x\":[118.8],\"xaxis\":\"x\",\"y\":[0.1],\"yaxis\":\"y\",\"type\":\"scatter\"},{\"hovertemplate\":\"Country=Nigeria\\u003cbr\\u003eAgricultural Production=%{x}\\u003cbr\\u003eEmissions per Capita=%{y}\\u003cextra\\u003e\\u003c\\u002fextra\\u003e\",\"legendgroup\":\"Nigeria\",\"marker\":{\"color\":\"#FFA15A\",\"symbol\":\"circle\"},\"mode\":\"markers\",\"name\":\"Nigeria\",\"orientation\":\"v\",\"showlegend\":true,\"x\":[107.5],\"xaxis\":\"x\",\"y\":[0.5],\"yaxis\":\"y\",\"type\":\"scatter\"},{\"hovertemplate\":\"Country=North Macedonia\\u003cbr\\u003eAgricultural Production=%{x}\\u003cbr\\u003eEmissions per Capita=%{y}\\u003cextra\\u003e\\u003c\\u002fextra\\u003e\",\"legendgroup\":\"North Macedonia\",\"marker\":{\"color\":\"#19d3f3\",\"symbol\":\"circle\"},\"mode\":\"markers\",\"name\":\"North Macedonia\",\"orientation\":\"v\",\"showlegend\":true,\"x\":[96.0],\"xaxis\":\"x\",\"y\":[3.8],\"yaxis\":\"y\",\"type\":\"scatter\"},{\"hovertemplate\":\"Country=Norway\\u003cbr\\u003eAgricultural Production=%{x}\\u003cbr\\u003eEmissions per Capita=%{y}\\u003cextra\\u003e\\u003c\\u002fextra\\u003e\",\"legendgroup\":\"Norway\",\"marker\":{\"color\":\"#FF6692\",\"symbol\":\"circle\"},\"mode\":\"markers\",\"name\":\"Norway\",\"orientation\":\"v\",\"showlegend\":true,\"x\":[101.5],\"xaxis\":\"x\",\"y\":[6.8],\"yaxis\":\"y\",\"type\":\"scatter\"},{\"hovertemplate\":\"Country=Oman\\u003cbr\\u003eAgricultural Production=%{x}\\u003cbr\\u003eEmissions per Capita=%{y}\\u003cextra\\u003e\\u003c\\u002fextra\\u003e\",\"legendgroup\":\"Oman\",\"marker\":{\"color\":\"#B6E880\",\"symbol\":\"circle\"},\"mode\":\"markers\",\"name\":\"Oman\",\"orientation\":\"v\",\"showlegend\":true,\"x\":[127.8],\"xaxis\":\"x\",\"y\":[13.8],\"yaxis\":\"y\",\"type\":\"scatter\"},{\"hovertemplate\":\"Country=Pakistan\\u003cbr\\u003eAgricultural Production=%{x}\\u003cbr\\u003eEmissions per Capita=%{y}\\u003cextra\\u003e\\u003c\\u002fextra\\u003e\",\"legendgroup\":\"Pakistan\",\"marker\":{\"color\":\"#FF97FF\",\"symbol\":\"circle\"},\"mode\":\"markers\",\"name\":\"Pakistan\",\"orientation\":\"v\",\"showlegend\":true,\"x\":[110.8],\"xaxis\":\"x\",\"y\":[0.8],\"yaxis\":\"y\",\"type\":\"scatter\"},{\"hovertemplate\":\"Country=Panama\\u003cbr\\u003eAgricultural Production=%{x}\\u003cbr\\u003eEmissions per Capita=%{y}\\u003cextra\\u003e\\u003c\\u002fextra\\u003e\",\"legendgroup\":\"Panama\",\"marker\":{\"color\":\"#FECB52\",\"symbol\":\"circle\"},\"mode\":\"markers\",\"name\":\"Panama\",\"orientation\":\"v\",\"showlegend\":true,\"x\":[110.7],\"xaxis\":\"x\",\"y\":[3.0],\"yaxis\":\"y\",\"type\":\"scatter\"},{\"hovertemplate\":\"Country=Paraguay\\u003cbr\\u003eAgricultural Production=%{x}\\u003cbr\\u003eEmissions per Capita=%{y}\\u003cextra\\u003e\\u003c\\u002fextra\\u003e\",\"legendgroup\":\"Paraguay\",\"marker\":{\"color\":\"#636efa\",\"symbol\":\"circle\"},\"mode\":\"markers\",\"name\":\"Paraguay\",\"orientation\":\"v\",\"showlegend\":true,\"x\":[102.4],\"xaxis\":\"x\",\"y\":[1.1],\"yaxis\":\"y\",\"type\":\"scatter\"},{\"hovertemplate\":\"Country=Peru\\u003cbr\\u003eAgricultural Production=%{x}\\u003cbr\\u003eEmissions per Capita=%{y}\\u003cextra\\u003e\\u003c\\u002fextra\\u003e\",\"legendgroup\":\"Peru\",\"marker\":{\"color\":\"#EF553B\",\"symbol\":\"circle\"},\"mode\":\"markers\",\"name\":\"Peru\",\"orientation\":\"v\",\"showlegend\":true,\"x\":[116.6],\"xaxis\":\"x\",\"y\":[1.6],\"yaxis\":\"y\",\"type\":\"scatter\"},{\"hovertemplate\":\"Country=Philippines\\u003cbr\\u003eAgricultural Production=%{x}\\u003cbr\\u003eEmissions per Capita=%{y}\\u003cextra\\u003e\\u003c\\u002fextra\\u003e\",\"legendgroup\":\"Philippines\",\"marker\":{\"color\":\"#00cc96\",\"symbol\":\"circle\"},\"mode\":\"markers\",\"name\":\"Philippines\",\"orientation\":\"v\",\"showlegend\":true,\"x\":[101.2],\"xaxis\":\"x\",\"y\":[1.3],\"yaxis\":\"y\",\"type\":\"scatter\"},{\"hovertemplate\":\"Country=Poland\\u003cbr\\u003eAgricultural Production=%{x}\\u003cbr\\u003eEmissions per Capita=%{y}\\u003cextra\\u003e\\u003c\\u002fextra\\u003e\",\"legendgroup\":\"Poland\",\"marker\":{\"color\":\"#ab63fa\",\"symbol\":\"circle\"},\"mode\":\"markers\",\"name\":\"Poland\",\"orientation\":\"v\",\"showlegend\":true,\"x\":[101.9],\"xaxis\":\"x\",\"y\":[7.5],\"yaxis\":\"y\",\"type\":\"scatter\"},{\"hovertemplate\":\"Country=Portugal\\u003cbr\\u003eAgricultural Production=%{x}\\u003cbr\\u003eEmissions per Capita=%{y}\\u003cextra\\u003e\\u003c\\u002fextra\\u003e\",\"legendgroup\":\"Portugal\",\"marker\":{\"color\":\"#FFA15A\",\"symbol\":\"circle\"},\"mode\":\"markers\",\"name\":\"Portugal\",\"orientation\":\"v\",\"showlegend\":true,\"x\":[111.2],\"xaxis\":\"x\",\"y\":[4.1],\"yaxis\":\"y\",\"type\":\"scatter\"},{\"hovertemplate\":\"Country=Qatar\\u003cbr\\u003eAgricultural Production=%{x}\\u003cbr\\u003eEmissions per Capita=%{y}\\u003cextra\\u003e\\u003c\\u002fextra\\u003e\",\"legendgroup\":\"Qatar\",\"marker\":{\"color\":\"#19d3f3\",\"symbol\":\"circle\"},\"mode\":\"markers\",\"name\":\"Qatar\",\"orientation\":\"v\",\"showlegend\":true,\"x\":[136.8],\"xaxis\":\"x\",\"y\":[30.1],\"yaxis\":\"y\",\"type\":\"scatter\"},{\"hovertemplate\":\"Country=Republic of Korea\\u003cbr\\u003eAgricultural Production=%{x}\\u003cbr\\u003eEmissions per Capita=%{y}\\u003cextra\\u003e\\u003c\\u002fextra\\u003e\",\"legendgroup\":\"Republic of Korea\",\"marker\":{\"color\":\"#FF6692\",\"symbol\":\"circle\"},\"mode\":\"markers\",\"name\":\"Republic of Korea\",\"orientation\":\"v\",\"showlegend\":true,\"x\":[101.0],\"xaxis\":\"x\",\"y\":[11.4],\"yaxis\":\"y\",\"type\":\"scatter\"},{\"hovertemplate\":\"Country=Republic of Moldova\\u003cbr\\u003eAgricultural Production=%{x}\\u003cbr\\u003eEmissions per Capita=%{y}\\u003cextra\\u003e\\u003c\\u002fextra\\u003e\",\"legendgroup\":\"Republic of Moldova\",\"marker\":{\"color\":\"#B6E880\",\"symbol\":\"circle\"},\"mode\":\"markers\",\"name\":\"Republic of Moldova\",\"orientation\":\"v\",\"showlegend\":true,\"x\":[118.5],\"xaxis\":\"x\",\"y\":[3.1],\"yaxis\":\"y\",\"type\":\"scatter\"},{\"hovertemplate\":\"Country=Romania\\u003cbr\\u003eAgricultural Production=%{x}\\u003cbr\\u003eEmissions per Capita=%{y}\\u003cextra\\u003e\\u003c\\u002fextra\\u003e\",\"legendgroup\":\"Romania\",\"marker\":{\"color\":\"#FF97FF\",\"symbol\":\"circle\"},\"mode\":\"markers\",\"name\":\"Romania\",\"orientation\":\"v\",\"showlegend\":true,\"x\":[112.0],\"xaxis\":\"x\",\"y\":[3.6],\"yaxis\":\"y\",\"type\":\"scatter\"},{\"hovertemplate\":\"Country=Russian Federation\\u003cbr\\u003eAgricultural Production=%{x}\\u003cbr\\u003eEmissions per Capita=%{y}\\u003cextra\\u003e\\u003c\\u002fextra\\u003e\",\"legendgroup\":\"Russian Federation\",\"marker\":{\"color\":\"#FECB52\",\"symbol\":\"circle\"},\"mode\":\"markers\",\"name\":\"Russian Federation\",\"orientation\":\"v\",\"showlegend\":true,\"x\":[110.0],\"xaxis\":\"x\",\"y\":[11.4],\"yaxis\":\"y\",\"type\":\"scatter\"},{\"hovertemplate\":\"Country=Rwanda\\u003cbr\\u003eAgricultural Production=%{x}\\u003cbr\\u003eEmissions per Capita=%{y}\\u003cextra\\u003e\\u003c\\u002fextra\\u003e\",\"legendgroup\":\"Rwanda\",\"marker\":{\"color\":\"#636efa\",\"symbol\":\"circle\"},\"mode\":\"markers\",\"name\":\"Rwanda\",\"orientation\":\"v\",\"showlegend\":true,\"x\":[123.0],\"xaxis\":\"x\",\"y\":[0.1],\"yaxis\":\"y\",\"type\":\"scatter\"},{\"hovertemplate\":\"Country=Saudi Arabia\\u003cbr\\u003eAgricultural Production=%{x}\\u003cbr\\u003eEmissions per Capita=%{y}\\u003cextra\\u003e\\u003c\\u002fextra\\u003e\",\"legendgroup\":\"Saudi Arabia\",\"marker\":{\"color\":\"#EF553B\",\"symbol\":\"circle\"},\"mode\":\"markers\",\"name\":\"Saudi Arabia\",\"orientation\":\"v\",\"showlegend\":true,\"x\":[136.8],\"xaxis\":\"x\",\"y\":[14.5],\"yaxis\":\"y\",\"type\":\"scatter\"},{\"hovertemplate\":\"Country=Senegal\\u003cbr\\u003eAgricultural Production=%{x}\\u003cbr\\u003eEmissions per Capita=%{y}\\u003cextra\\u003e\\u003c\\u002fextra\\u003e\",\"legendgroup\":\"Senegal\",\"marker\":{\"color\":\"#00cc96\",\"symbol\":\"circle\"},\"mode\":\"markers\",\"name\":\"Senegal\",\"orientation\":\"v\",\"showlegend\":true,\"x\":[151.2],\"xaxis\":\"x\",\"y\":[0.6],\"yaxis\":\"y\",\"type\":\"scatter\"},{\"hovertemplate\":\"Country=Serbia\\u003cbr\\u003eAgricultural Production=%{x}\\u003cbr\\u003eEmissions per Capita=%{y}\\u003cextra\\u003e\\u003c\\u002fextra\\u003e\",\"legendgroup\":\"Serbia\",\"marker\":{\"color\":\"#ab63fa\",\"symbol\":\"circle\"},\"mode\":\"markers\",\"name\":\"Serbia\",\"orientation\":\"v\",\"showlegend\":true,\"x\":[107.8],\"xaxis\":\"x\",\"y\":[6.5],\"yaxis\":\"y\",\"type\":\"scatter\"},{\"hovertemplate\":\"Country=Singapore\\u003cbr\\u003eAgricultural Production=%{x}\\u003cbr\\u003eEmissions per Capita=%{y}\\u003cextra\\u003e\\u003c\\u002fextra\\u003e\",\"legendgroup\":\"Singapore\",\"marker\":{\"color\":\"#FFA15A\",\"symbol\":\"circle\"},\"mode\":\"markers\",\"name\":\"Singapore\",\"orientation\":\"v\",\"showlegend\":true,\"x\":[123.8],\"xaxis\":\"x\",\"y\":[7.9],\"yaxis\":\"y\",\"type\":\"scatter\"},{\"hovertemplate\":\"Country=Slovakia\\u003cbr\\u003eAgricultural Production=%{x}\\u003cbr\\u003eEmissions per Capita=%{y}\\u003cextra\\u003e\\u003c\\u002fextra\\u003e\",\"legendgroup\":\"Slovakia\",\"marker\":{\"color\":\"#19d3f3\",\"symbol\":\"circle\"},\"mode\":\"markers\",\"name\":\"Slovakia\",\"orientation\":\"v\",\"showlegend\":true,\"x\":[97.8],\"xaxis\":\"x\",\"y\":[5.4],\"yaxis\":\"y\",\"type\":\"scatter\"},{\"hovertemplate\":\"Country=Slovenia\\u003cbr\\u003eAgricultural Production=%{x}\\u003cbr\\u003eEmissions per Capita=%{y}\\u003cextra\\u003e\\u003c\\u002fextra\\u003e\",\"legendgroup\":\"Slovenia\",\"marker\":{\"color\":\"#FF6692\",\"symbol\":\"circle\"},\"mode\":\"markers\",\"name\":\"Slovenia\",\"orientation\":\"v\",\"showlegend\":true,\"x\":[99.9],\"xaxis\":\"x\",\"y\":[6.3],\"yaxis\":\"y\",\"type\":\"scatter\"},{\"hovertemplate\":\"Country=South Africa\\u003cbr\\u003eAgricultural Production=%{x}\\u003cbr\\u003eEmissions per Capita=%{y}\\u003cextra\\u003e\\u003c\\u002fextra\\u003e\",\"legendgroup\":\"South Africa\",\"marker\":{\"color\":\"#B6E880\",\"symbol\":\"circle\"},\"mode\":\"markers\",\"name\":\"South Africa\",\"orientation\":\"v\",\"showlegend\":true,\"x\":[104.9],\"xaxis\":\"x\",\"y\":[7.5],\"yaxis\":\"y\",\"type\":\"scatter\"},{\"hovertemplate\":\"Country=South Sudan\\u003cbr\\u003eAgricultural Production=%{x}\\u003cbr\\u003eEmissions per Capita=%{y}\\u003cextra\\u003e\\u003c\\u002fextra\\u003e\",\"legendgroup\":\"South Sudan\",\"marker\":{\"color\":\"#FF97FF\",\"symbol\":\"circle\"},\"mode\":\"markers\",\"name\":\"South Sudan\",\"orientation\":\"v\",\"showlegend\":true,\"x\":[107.0],\"xaxis\":\"x\",\"y\":[0.2],\"yaxis\":\"y\",\"type\":\"scatter\"},{\"hovertemplate\":\"Country=Spain\\u003cbr\\u003eAgricultural Production=%{x}\\u003cbr\\u003eEmissions per Capita=%{y}\\u003cextra\\u003e\\u003c\\u002fextra\\u003e\",\"legendgroup\":\"Spain\",\"marker\":{\"color\":\"#FECB52\",\"symbol\":\"circle\"},\"mode\":\"markers\",\"name\":\"Spain\",\"orientation\":\"v\",\"showlegend\":true,\"x\":[106.4],\"xaxis\":\"x\",\"y\":[4.9],\"yaxis\":\"y\",\"type\":\"scatter\"},{\"hovertemplate\":\"Country=Sri Lanka\\u003cbr\\u003eAgricultural Production=%{x}\\u003cbr\\u003eEmissions per Capita=%{y}\\u003cextra\\u003e\\u003c\\u002fextra\\u003e\",\"legendgroup\":\"Sri Lanka\",\"marker\":{\"color\":\"#636efa\",\"symbol\":\"circle\"},\"mode\":\"markers\",\"name\":\"Sri Lanka\",\"orientation\":\"v\",\"showlegend\":true,\"x\":[102.4],\"xaxis\":\"x\",\"y\":[1.0],\"yaxis\":\"y\",\"type\":\"scatter\"},{\"hovertemplate\":\"Country=Sudan\\u003cbr\\u003eAgricultural Production=%{x}\\u003cbr\\u003eEmissions per Capita=%{y}\\u003cextra\\u003e\\u003c\\u002fextra\\u003e\",\"legendgroup\":\"Sudan\",\"marker\":{\"color\":\"#EF553B\",\"symbol\":\"circle\"},\"mode\":\"markers\",\"name\":\"Sudan\",\"orientation\":\"v\",\"showlegend\":true,\"x\":[116.0],\"xaxis\":\"x\",\"y\":[0.5],\"yaxis\":\"y\",\"type\":\"scatter\"},{\"hovertemplate\":\"Country=Suriname\\u003cbr\\u003eAgricultural Production=%{x}\\u003cbr\\u003eEmissions per Capita=%{y}\\u003cextra\\u003e\\u003c\\u002fextra\\u003e\",\"legendgroup\":\"Suriname\",\"marker\":{\"color\":\"#00cc96\",\"symbol\":\"circle\"},\"mode\":\"markers\",\"name\":\"Suriname\",\"orientation\":\"v\",\"showlegend\":true,\"x\":[94.7],\"xaxis\":\"x\",\"y\":[4.5],\"yaxis\":\"y\",\"type\":\"scatter\"},{\"hovertemplate\":\"Country=Sweden\\u003cbr\\u003eAgricultural Production=%{x}\\u003cbr\\u003eEmissions per Capita=%{y}\\u003cextra\\u003e\\u003c\\u002fextra\\u003e\",\"legendgroup\":\"Sweden\",\"marker\":{\"color\":\"#ab63fa\",\"symbol\":\"circle\"},\"mode\":\"markers\",\"name\":\"Sweden\",\"orientation\":\"v\",\"showlegend\":true,\"x\":[100.7],\"xaxis\":\"x\",\"y\":[3.3],\"yaxis\":\"y\",\"type\":\"scatter\"},{\"hovertemplate\":\"Country=Switzerland\\u003cbr\\u003eAgricultural Production=%{x}\\u003cbr\\u003eEmissions per Capita=%{y}\\u003cextra\\u003e\\u003c\\u002fextra\\u003e\",\"legendgroup\":\"Switzerland\",\"marker\":{\"color\":\"#FFA15A\",\"symbol\":\"circle\"},\"mode\":\"markers\",\"name\":\"Switzerland\",\"orientation\":\"v\",\"showlegend\":true,\"x\":[97.3],\"xaxis\":\"x\",\"y\":[4.2],\"yaxis\":\"y\",\"type\":\"scatter\"},{\"hovertemplate\":\"Country=Syrian Arab Republic\\u003cbr\\u003eAgricultural Production=%{x}\\u003cbr\\u003eEmissions per Capita=%{y}\\u003cextra\\u003e\\u003c\\u002fextra\\u003e\",\"legendgroup\":\"Syrian Arab Republic\",\"marker\":{\"color\":\"#19d3f3\",\"symbol\":\"circle\"},\"mode\":\"markers\",\"name\":\"Syrian Arab Republic\",\"orientation\":\"v\",\"showlegend\":true,\"x\":[113.3],\"xaxis\":\"x\",\"y\":[1.4],\"yaxis\":\"y\",\"type\":\"scatter\"},{\"hovertemplate\":\"Country=Tajikistan\\u003cbr\\u003eAgricultural Production=%{x}\\u003cbr\\u003eEmissions per Capita=%{y}\\u003cextra\\u003e\\u003c\\u002fextra\\u003e\",\"legendgroup\":\"Tajikistan\",\"marker\":{\"color\":\"#FF6692\",\"symbol\":\"circle\"},\"mode\":\"markers\",\"name\":\"Tajikistan\",\"orientation\":\"v\",\"showlegend\":true,\"x\":[137.7],\"xaxis\":\"x\",\"y\":[0.7],\"yaxis\":\"y\",\"type\":\"scatter\"},{\"hovertemplate\":\"Country=Thailand\\u003cbr\\u003eAgricultural Production=%{x}\\u003cbr\\u003eEmissions per Capita=%{y}\\u003cextra\\u003e\\u003c\\u002fextra\\u003e\",\"legendgroup\":\"Thailand\",\"marker\":{\"color\":\"#B6E880\",\"symbol\":\"circle\"},\"mode\":\"markers\",\"name\":\"Thailand\",\"orientation\":\"v\",\"showlegend\":true,\"x\":[102.3],\"xaxis\":\"x\",\"y\":[3.6],\"yaxis\":\"y\",\"type\":\"scatter\"},{\"hovertemplate\":\"Country=Togo\\u003cbr\\u003eAgricultural Production=%{x}\\u003cbr\\u003eEmissions per Capita=%{y}\\u003cextra\\u003e\\u003c\\u002fextra\\u003e\",\"legendgroup\":\"Togo\",\"marker\":{\"color\":\"#FF97FF\",\"symbol\":\"circle\"},\"mode\":\"markers\",\"name\":\"Togo\",\"orientation\":\"v\",\"showlegend\":true,\"x\":[110.1],\"xaxis\":\"x\",\"y\":[0.2],\"yaxis\":\"y\",\"type\":\"scatter\"},{\"hovertemplate\":\"Country=Trinidad and Tobago\\u003cbr\\u003eAgricultural Production=%{x}\\u003cbr\\u003eEmissions per Capita=%{y}\\u003cextra\\u003e\\u003c\\u002fextra\\u003e\",\"legendgroup\":\"Trinidad and Tobago\",\"marker\":{\"color\":\"#FECB52\",\"symbol\":\"circle\"},\"mode\":\"markers\",\"name\":\"Trinidad and Tobago\",\"orientation\":\"v\",\"showlegend\":true,\"x\":[94.6],\"xaxis\":\"x\",\"y\":[11.9],\"yaxis\":\"y\",\"type\":\"scatter\"},{\"hovertemplate\":\"Country=Tunisia\\u003cbr\\u003eAgricultural Production=%{x}\\u003cbr\\u003eEmissions per Capita=%{y}\\u003cextra\\u003e\\u003c\\u002fextra\\u003e\",\"legendgroup\":\"Tunisia\",\"marker\":{\"color\":\"#636efa\",\"symbol\":\"circle\"},\"mode\":\"markers\",\"name\":\"Tunisia\",\"orientation\":\"v\",\"showlegend\":true,\"x\":[104.2],\"xaxis\":\"x\",\"y\":[2.3],\"yaxis\":\"y\",\"type\":\"scatter\"},{\"hovertemplate\":\"Country=T\\u00fcrkiye\\u003cbr\\u003eAgricultural Production=%{x}\\u003cbr\\u003eEmissions per Capita=%{y}\\u003cextra\\u003e\\u003c\\u002fextra\\u003e\",\"legendgroup\":\"T\\u00fcrkiye\",\"marker\":{\"color\":\"#EF553B\",\"symbol\":\"circle\"},\"mode\":\"markers\",\"name\":\"T\\u00fcrkiye\",\"orientation\":\"v\",\"showlegend\":true,\"x\":[114.3],\"xaxis\":\"x\",\"y\":[4.4],\"yaxis\":\"y\",\"type\":\"scatter\"},{\"hovertemplate\":\"Country=Turkmenistan\\u003cbr\\u003eAgricultural Production=%{x}\\u003cbr\\u003eEmissions per Capita=%{y}\\u003cextra\\u003e\\u003c\\u002fextra\\u003e\",\"legendgroup\":\"Turkmenistan\",\"marker\":{\"color\":\"#00cc96\",\"symbol\":\"circle\"},\"mode\":\"markers\",\"name\":\"Turkmenistan\",\"orientation\":\"v\",\"showlegend\":true,\"x\":[118.2],\"xaxis\":\"x\",\"y\":[10.1],\"yaxis\":\"y\",\"type\":\"scatter\"},{\"hovertemplate\":\"Country=Uganda\\u003cbr\\u003eAgricultural Production=%{x}\\u003cbr\\u003eEmissions per Capita=%{y}\\u003cextra\\u003e\\u003c\\u002fextra\\u003e\",\"legendgroup\":\"Uganda\",\"marker\":{\"color\":\"#ab63fa\",\"symbol\":\"circle\"},\"mode\":\"markers\",\"name\":\"Uganda\",\"orientation\":\"v\",\"showlegend\":true,\"x\":[118.8],\"xaxis\":\"x\",\"y\":[0.1],\"yaxis\":\"y\",\"type\":\"scatter\"},{\"hovertemplate\":\"Country=Ukraine\\u003cbr\\u003eAgricultural Production=%{x}\\u003cbr\\u003eEmissions per Capita=%{y}\\u003cextra\\u003e\\u003c\\u002fextra\\u003e\",\"legendgroup\":\"Ukraine\",\"marker\":{\"color\":\"#FFA15A\",\"symbol\":\"circle\"},\"mode\":\"markers\",\"name\":\"Ukraine\",\"orientation\":\"v\",\"showlegend\":true,\"x\":[109.3],\"xaxis\":\"x\",\"y\":[3.8],\"yaxis\":\"y\",\"type\":\"scatter\"},{\"hovertemplate\":\"Country=United Arab Emirates\\u003cbr\\u003eAgricultural Production=%{x}\\u003cbr\\u003eEmissions per Capita=%{y}\\u003cextra\\u003e\\u003c\\u002fextra\\u003e\",\"legendgroup\":\"United Arab Emirates\",\"marker\":{\"color\":\"#19d3f3\",\"symbol\":\"circle\"},\"mode\":\"markers\",\"name\":\"United Arab Emirates\",\"orientation\":\"v\",\"showlegend\":true,\"x\":[114.5],\"xaxis\":\"x\",\"y\":[18.2],\"yaxis\":\"y\",\"type\":\"scatter\"},{\"hovertemplate\":\"Country=United Kingdom\\u003cbr\\u003eAgricultural Production=%{x}\\u003cbr\\u003eEmissions per Capita=%{y}\\u003cextra\\u003e\\u003c\\u002fextra\\u003e\",\"legendgroup\":\"United Kingdom\",\"marker\":{\"color\":\"#FF6692\",\"symbol\":\"circle\"},\"mode\":\"markers\",\"name\":\"United Kingdom\",\"orientation\":\"v\",\"showlegend\":true,\"x\":[103.5],\"xaxis\":\"x\",\"y\":[5.1],\"yaxis\":\"y\",\"type\":\"scatter\"},{\"hovertemplate\":\"Country=United Rep. of Tanzania\\u003cbr\\u003eAgricultural Production=%{x}\\u003cbr\\u003eEmissions per Capita=%{y}\\u003cextra\\u003e\\u003c\\u002fextra\\u003e\",\"legendgroup\":\"United Rep. of Tanzania\",\"marker\":{\"color\":\"#B6E880\",\"symbol\":\"circle\"},\"mode\":\"markers\",\"name\":\"United Rep. of Tanzania\",\"orientation\":\"v\",\"showlegend\":true,\"x\":[109.1],\"xaxis\":\"x\",\"y\":[0.2],\"yaxis\":\"y\",\"type\":\"scatter\"},{\"hovertemplate\":\"Country=United States of America\\u003cbr\\u003eAgricultural Production=%{x}\\u003cbr\\u003eEmissions per Capita=%{y}\\u003cextra\\u003e\\u003c\\u002fextra\\u003e\",\"legendgroup\":\"United States of America\",\"marker\":{\"color\":\"#FF97FF\",\"symbol\":\"circle\"},\"mode\":\"markers\",\"name\":\"United States of America\",\"orientation\":\"v\",\"showlegend\":true,\"x\":[100.4],\"xaxis\":\"x\",\"y\":[14.4],\"yaxis\":\"y\",\"type\":\"scatter\"},{\"hovertemplate\":\"Country=Uruguay\\u003cbr\\u003eAgricultural Production=%{x}\\u003cbr\\u003eEmissions per Capita=%{y}\\u003cextra\\u003e\\u003c\\u002fextra\\u003e\",\"legendgroup\":\"Uruguay\",\"marker\":{\"color\":\"#FECB52\",\"symbol\":\"circle\"},\"mode\":\"markers\",\"name\":\"Uruguay\",\"orientation\":\"v\",\"showlegend\":true,\"x\":[101.2],\"xaxis\":\"x\",\"y\":[1.9],\"yaxis\":\"y\",\"type\":\"scatter\"},{\"hovertemplate\":\"Country=Uzbekistan\\u003cbr\\u003eAgricultural Production=%{x}\\u003cbr\\u003eEmissions per Capita=%{y}\\u003cextra\\u003e\\u003c\\u002fextra\\u003e\",\"legendgroup\":\"Uzbekistan\",\"marker\":{\"color\":\"#636efa\",\"symbol\":\"circle\"},\"mode\":\"markers\",\"name\":\"Uzbekistan\",\"orientation\":\"v\",\"showlegend\":true,\"x\":[102.2],\"xaxis\":\"x\",\"y\":[3.3],\"yaxis\":\"y\",\"type\":\"scatter\"},{\"hovertemplate\":\"Country=Venezuela (Boliv. Rep. of)\\u003cbr\\u003eAgricultural Production=%{x}\\u003cbr\\u003eEmissions per Capita=%{y}\\u003cextra\\u003e\\u003c\\u002fextra\\u003e\",\"legendgroup\":\"Venezuela (Boliv. Rep. of)\",\"marker\":{\"color\":\"#EF553B\",\"symbol\":\"circle\"},\"mode\":\"markers\",\"name\":\"Venezuela (Boliv. Rep. of)\",\"orientation\":\"v\",\"showlegend\":true,\"x\":[82.6],\"xaxis\":\"x\",\"y\":[3.1],\"yaxis\":\"y\",\"type\":\"scatter\"},{\"hovertemplate\":\"Country=Viet Nam\\u003cbr\\u003eAgricultural Production=%{x}\\u003cbr\\u003eEmissions per Capita=%{y}\\u003cextra\\u003e\\u003c\\u002fextra\\u003e\",\"legendgroup\":\"Viet Nam\",\"marker\":{\"color\":\"#00cc96\",\"symbol\":\"circle\"},\"mode\":\"markers\",\"name\":\"Viet Nam\",\"orientation\":\"v\",\"showlegend\":true,\"x\":[105.8],\"xaxis\":\"x\",\"y\":[2.9],\"yaxis\":\"y\",\"type\":\"scatter\"},{\"hovertemplate\":\"Country=Yemen\\u003cbr\\u003eAgricultural Production=%{x}\\u003cbr\\u003eEmissions per Capita=%{y}\\u003cextra\\u003e\\u003c\\u002fextra\\u003e\",\"legendgroup\":\"Yemen\",\"marker\":{\"color\":\"#ab63fa\",\"symbol\":\"circle\"},\"mode\":\"markers\",\"name\":\"Yemen\",\"orientation\":\"v\",\"showlegend\":true,\"x\":[105.0],\"xaxis\":\"x\",\"y\":[0.3],\"yaxis\":\"y\",\"type\":\"scatter\"},{\"hovertemplate\":\"Country=Zambia\\u003cbr\\u003eAgricultural Production=%{x}\\u003cbr\\u003eEmissions per Capita=%{y}\\u003cextra\\u003e\\u003c\\u002fextra\\u003e\",\"legendgroup\":\"Zambia\",\"marker\":{\"color\":\"#FFA15A\",\"symbol\":\"circle\"},\"mode\":\"markers\",\"name\":\"Zambia\",\"orientation\":\"v\",\"showlegend\":true,\"x\":[111.0],\"xaxis\":\"x\",\"y\":[0.4],\"yaxis\":\"y\",\"type\":\"scatter\"},{\"hovertemplate\":\"Country=Zimbabwe\\u003cbr\\u003eAgricultural Production=%{x}\\u003cbr\\u003eEmissions per Capita=%{y}\\u003cextra\\u003e\\u003c\\u002fextra\\u003e\",\"legendgroup\":\"Zimbabwe\",\"marker\":{\"color\":\"#19d3f3\",\"symbol\":\"circle\"},\"mode\":\"markers\",\"name\":\"Zimbabwe\",\"orientation\":\"v\",\"showlegend\":true,\"x\":[105.9],\"xaxis\":\"x\",\"y\":[0.7],\"yaxis\":\"y\",\"type\":\"scatter\"}],                        {\"template\":{\"data\":{\"histogram2dcontour\":[{\"type\":\"histogram2dcontour\",\"colorbar\":{\"outlinewidth\":0,\"ticks\":\"\"},\"colorscale\":[[0.0,\"#0d0887\"],[0.1111111111111111,\"#46039f\"],[0.2222222222222222,\"#7201a8\"],[0.3333333333333333,\"#9c179e\"],[0.4444444444444444,\"#bd3786\"],[0.5555555555555556,\"#d8576b\"],[0.6666666666666666,\"#ed7953\"],[0.7777777777777778,\"#fb9f3a\"],[0.8888888888888888,\"#fdca26\"],[1.0,\"#f0f921\"]]}],\"choropleth\":[{\"type\":\"choropleth\",\"colorbar\":{\"outlinewidth\":0,\"ticks\":\"\"}}],\"histogram2d\":[{\"type\":\"histogram2d\",\"colorbar\":{\"outlinewidth\":0,\"ticks\":\"\"},\"colorscale\":[[0.0,\"#0d0887\"],[0.1111111111111111,\"#46039f\"],[0.2222222222222222,\"#7201a8\"],[0.3333333333333333,\"#9c179e\"],[0.4444444444444444,\"#bd3786\"],[0.5555555555555556,\"#d8576b\"],[0.6666666666666666,\"#ed7953\"],[0.7777777777777778,\"#fb9f3a\"],[0.8888888888888888,\"#fdca26\"],[1.0,\"#f0f921\"]]}],\"heatmap\":[{\"type\":\"heatmap\",\"colorbar\":{\"outlinewidth\":0,\"ticks\":\"\"},\"colorscale\":[[0.0,\"#0d0887\"],[0.1111111111111111,\"#46039f\"],[0.2222222222222222,\"#7201a8\"],[0.3333333333333333,\"#9c179e\"],[0.4444444444444444,\"#bd3786\"],[0.5555555555555556,\"#d8576b\"],[0.6666666666666666,\"#ed7953\"],[0.7777777777777778,\"#fb9f3a\"],[0.8888888888888888,\"#fdca26\"],[1.0,\"#f0f921\"]]}],\"heatmapgl\":[{\"type\":\"heatmapgl\",\"colorbar\":{\"outlinewidth\":0,\"ticks\":\"\"},\"colorscale\":[[0.0,\"#0d0887\"],[0.1111111111111111,\"#46039f\"],[0.2222222222222222,\"#7201a8\"],[0.3333333333333333,\"#9c179e\"],[0.4444444444444444,\"#bd3786\"],[0.5555555555555556,\"#d8576b\"],[0.6666666666666666,\"#ed7953\"],[0.7777777777777778,\"#fb9f3a\"],[0.8888888888888888,\"#fdca26\"],[1.0,\"#f0f921\"]]}],\"contourcarpet\":[{\"type\":\"contourcarpet\",\"colorbar\":{\"outlinewidth\":0,\"ticks\":\"\"}}],\"contour\":[{\"type\":\"contour\",\"colorbar\":{\"outlinewidth\":0,\"ticks\":\"\"},\"colorscale\":[[0.0,\"#0d0887\"],[0.1111111111111111,\"#46039f\"],[0.2222222222222222,\"#7201a8\"],[0.3333333333333333,\"#9c179e\"],[0.4444444444444444,\"#bd3786\"],[0.5555555555555556,\"#d8576b\"],[0.6666666666666666,\"#ed7953\"],[0.7777777777777778,\"#fb9f3a\"],[0.8888888888888888,\"#fdca26\"],[1.0,\"#f0f921\"]]}],\"surface\":[{\"type\":\"surface\",\"colorbar\":{\"outlinewidth\":0,\"ticks\":\"\"},\"colorscale\":[[0.0,\"#0d0887\"],[0.1111111111111111,\"#46039f\"],[0.2222222222222222,\"#7201a8\"],[0.3333333333333333,\"#9c179e\"],[0.4444444444444444,\"#bd3786\"],[0.5555555555555556,\"#d8576b\"],[0.6666666666666666,\"#ed7953\"],[0.7777777777777778,\"#fb9f3a\"],[0.8888888888888888,\"#fdca26\"],[1.0,\"#f0f921\"]]}],\"mesh3d\":[{\"type\":\"mesh3d\",\"colorbar\":{\"outlinewidth\":0,\"ticks\":\"\"}}],\"scatter\":[{\"fillpattern\":{\"fillmode\":\"overlay\",\"size\":10,\"solidity\":0.2},\"type\":\"scatter\"}],\"parcoords\":[{\"type\":\"parcoords\",\"line\":{\"colorbar\":{\"outlinewidth\":0,\"ticks\":\"\"}}}],\"scatterpolargl\":[{\"type\":\"scatterpolargl\",\"marker\":{\"colorbar\":{\"outlinewidth\":0,\"ticks\":\"\"}}}],\"bar\":[{\"error_x\":{\"color\":\"#2a3f5f\"},\"error_y\":{\"color\":\"#2a3f5f\"},\"marker\":{\"line\":{\"color\":\"#E5ECF6\",\"width\":0.5},\"pattern\":{\"fillmode\":\"overlay\",\"size\":10,\"solidity\":0.2}},\"type\":\"bar\"}],\"scattergeo\":[{\"type\":\"scattergeo\",\"marker\":{\"colorbar\":{\"outlinewidth\":0,\"ticks\":\"\"}}}],\"scatterpolar\":[{\"type\":\"scatterpolar\",\"marker\":{\"colorbar\":{\"outlinewidth\":0,\"ticks\":\"\"}}}],\"histogram\":[{\"marker\":{\"pattern\":{\"fillmode\":\"overlay\",\"size\":10,\"solidity\":0.2}},\"type\":\"histogram\"}],\"scattergl\":[{\"type\":\"scattergl\",\"marker\":{\"colorbar\":{\"outlinewidth\":0,\"ticks\":\"\"}}}],\"scatter3d\":[{\"type\":\"scatter3d\",\"line\":{\"colorbar\":{\"outlinewidth\":0,\"ticks\":\"\"}},\"marker\":{\"colorbar\":{\"outlinewidth\":0,\"ticks\":\"\"}}}],\"scattermapbox\":[{\"type\":\"scattermapbox\",\"marker\":{\"colorbar\":{\"outlinewidth\":0,\"ticks\":\"\"}}}],\"scatterternary\":[{\"type\":\"scatterternary\",\"marker\":{\"colorbar\":{\"outlinewidth\":0,\"ticks\":\"\"}}}],\"scattercarpet\":[{\"type\":\"scattercarpet\",\"marker\":{\"colorbar\":{\"outlinewidth\":0,\"ticks\":\"\"}}}],\"carpet\":[{\"aaxis\":{\"endlinecolor\":\"#2a3f5f\",\"gridcolor\":\"white\",\"linecolor\":\"white\",\"minorgridcolor\":\"white\",\"startlinecolor\":\"#2a3f5f\"},\"baxis\":{\"endlinecolor\":\"#2a3f5f\",\"gridcolor\":\"white\",\"linecolor\":\"white\",\"minorgridcolor\":\"white\",\"startlinecolor\":\"#2a3f5f\"},\"type\":\"carpet\"}],\"table\":[{\"cells\":{\"fill\":{\"color\":\"#EBF0F8\"},\"line\":{\"color\":\"white\"}},\"header\":{\"fill\":{\"color\":\"#C8D4E3\"},\"line\":{\"color\":\"white\"}},\"type\":\"table\"}],\"barpolar\":[{\"marker\":{\"line\":{\"color\":\"#E5ECF6\",\"width\":0.5},\"pattern\":{\"fillmode\":\"overlay\",\"size\":10,\"solidity\":0.2}},\"type\":\"barpolar\"}],\"pie\":[{\"automargin\":true,\"type\":\"pie\"}]},\"layout\":{\"autotypenumbers\":\"strict\",\"colorway\":[\"#636efa\",\"#EF553B\",\"#00cc96\",\"#ab63fa\",\"#FFA15A\",\"#19d3f3\",\"#FF6692\",\"#B6E880\",\"#FF97FF\",\"#FECB52\"],\"font\":{\"color\":\"#2a3f5f\"},\"hovermode\":\"closest\",\"hoverlabel\":{\"align\":\"left\"},\"paper_bgcolor\":\"white\",\"plot_bgcolor\":\"#E5ECF6\",\"polar\":{\"bgcolor\":\"#E5ECF6\",\"angularaxis\":{\"gridcolor\":\"white\",\"linecolor\":\"white\",\"ticks\":\"\"},\"radialaxis\":{\"gridcolor\":\"white\",\"linecolor\":\"white\",\"ticks\":\"\"}},\"ternary\":{\"bgcolor\":\"#E5ECF6\",\"aaxis\":{\"gridcolor\":\"white\",\"linecolor\":\"white\",\"ticks\":\"\"},\"baxis\":{\"gridcolor\":\"white\",\"linecolor\":\"white\",\"ticks\":\"\"},\"caxis\":{\"gridcolor\":\"white\",\"linecolor\":\"white\",\"ticks\":\"\"}},\"coloraxis\":{\"colorbar\":{\"outlinewidth\":0,\"ticks\":\"\"}},\"colorscale\":{\"sequential\":[[0.0,\"#0d0887\"],[0.1111111111111111,\"#46039f\"],[0.2222222222222222,\"#7201a8\"],[0.3333333333333333,\"#9c179e\"],[0.4444444444444444,\"#bd3786\"],[0.5555555555555556,\"#d8576b\"],[0.6666666666666666,\"#ed7953\"],[0.7777777777777778,\"#fb9f3a\"],[0.8888888888888888,\"#fdca26\"],[1.0,\"#f0f921\"]],\"sequentialminus\":[[0.0,\"#0d0887\"],[0.1111111111111111,\"#46039f\"],[0.2222222222222222,\"#7201a8\"],[0.3333333333333333,\"#9c179e\"],[0.4444444444444444,\"#bd3786\"],[0.5555555555555556,\"#d8576b\"],[0.6666666666666666,\"#ed7953\"],[0.7777777777777778,\"#fb9f3a\"],[0.8888888888888888,\"#fdca26\"],[1.0,\"#f0f921\"]],\"diverging\":[[0,\"#8e0152\"],[0.1,\"#c51b7d\"],[0.2,\"#de77ae\"],[0.3,\"#f1b6da\"],[0.4,\"#fde0ef\"],[0.5,\"#f7f7f7\"],[0.6,\"#e6f5d0\"],[0.7,\"#b8e186\"],[0.8,\"#7fbc41\"],[0.9,\"#4d9221\"],[1,\"#276419\"]]},\"xaxis\":{\"gridcolor\":\"white\",\"linecolor\":\"white\",\"ticks\":\"\",\"title\":{\"standoff\":15},\"zerolinecolor\":\"white\",\"automargin\":true,\"zerolinewidth\":2},\"yaxis\":{\"gridcolor\":\"white\",\"linecolor\":\"white\",\"ticks\":\"\",\"title\":{\"standoff\":15},\"zerolinecolor\":\"white\",\"automargin\":true,\"zerolinewidth\":2},\"scene\":{\"xaxis\":{\"backgroundcolor\":\"#E5ECF6\",\"gridcolor\":\"white\",\"linecolor\":\"white\",\"showbackground\":true,\"ticks\":\"\",\"zerolinecolor\":\"white\",\"gridwidth\":2},\"yaxis\":{\"backgroundcolor\":\"#E5ECF6\",\"gridcolor\":\"white\",\"linecolor\":\"white\",\"showbackground\":true,\"ticks\":\"\",\"zerolinecolor\":\"white\",\"gridwidth\":2},\"zaxis\":{\"backgroundcolor\":\"#E5ECF6\",\"gridcolor\":\"white\",\"linecolor\":\"white\",\"showbackground\":true,\"ticks\":\"\",\"zerolinecolor\":\"white\",\"gridwidth\":2}},\"shapedefaults\":{\"line\":{\"color\":\"#2a3f5f\"}},\"annotationdefaults\":{\"arrowcolor\":\"#2a3f5f\",\"arrowhead\":0,\"arrowwidth\":1},\"geo\":{\"bgcolor\":\"white\",\"landcolor\":\"#E5ECF6\",\"subunitcolor\":\"white\",\"showland\":true,\"showlakes\":true,\"lakecolor\":\"white\"},\"title\":{\"x\":0.05},\"mapbox\":{\"style\":\"light\"}}},\"xaxis\":{\"anchor\":\"y\",\"domain\":[0.0,1.0],\"title\":{\"text\":\"Agricultural Production\"}},\"yaxis\":{\"anchor\":\"x\",\"domain\":[0.0,1.0],\"title\":{\"text\":\"Emissions per Capita\"}},\"legend\":{\"title\":{\"text\":\"Country\"},\"tracegroupgap\":0},\"title\":{\"text\":\"Agricultural Production and Carbon Emissions per Capita (2019)\"}},                        {\"responsive\": true}                    ).then(function(){\n",
       "                            \n",
       "var gd = document.getElementById('82d4e27e-8b04-4905-a887-6916b3b3c801');\n",
       "var x = new MutationObserver(function (mutations, observer) {{\n",
       "        var display = window.getComputedStyle(gd).display;\n",
       "        if (!display || display === 'none') {{\n",
       "            console.log([gd, 'removed!']);\n",
       "            Plotly.purge(gd);\n",
       "            observer.disconnect();\n",
       "        }}\n",
       "}});\n",
       "\n",
       "// Listen for the removal of the full notebook cells\n",
       "var notebookContainer = gd.closest('#notebook-container');\n",
       "if (notebookContainer) {{\n",
       "    x.observe(notebookContainer, {childList: true});\n",
       "}}\n",
       "\n",
       "// Listen for the clearing of the current output cell\n",
       "var outputEl = gd.closest('.output');\n",
       "if (outputEl) {{\n",
       "    x.observe(outputEl, {childList: true});\n",
       "}}\n",
       "\n",
       "                        })                };                });            </script>        </div>"
      ]
     },
     "metadata": {},
     "output_type": "display_data"
    }
   ],
   "source": [
    "# Graph\n",
    "import plotly.express as px\n",
    "fig = px.scatter(\n",
    "    filtered_merged1,\n",
    "    x=\"Value_x\",  # Column name for the x-axis (Agricultural Production)\n",
    "    y=\"Value_y\",  # Column name for the y-axis (Emissions per Capita)\n",
    "    color=\"Country\",  # Column for coloring points (e.g., Country)\n",
    "    title=\"Agricultural Production and Carbon Emissions per Capita (2019)\",\n",
    "    labels={\"Value_x\": \"Agricultural Production\", \"Value_y\": \"Emissions per Capita\"},\n",
    ")\n",
    "# Show the plot\n",
    "fig.show()"
   ]
  },
  {
   "cell_type": "code",
   "execution_count": 21,
   "id": "6c93f346-b3aa-4b9b-bc77-99711eac0711",
   "metadata": {},
   "outputs": [
    {
     "data": {
      "application/vnd.plotly.v1+json": {
       "config": {
        "plotlyServerURL": "https://plot.ly"
       },
       "data": [
        {
         "hovertemplate": "Agricultural Production=%{x}<br>Emissions per Capita=%{y}<extra></extra>",
         "legendgroup": "",
         "marker": {
          "color": "#636efa",
          "symbol": "circle"
         },
         "mode": "markers",
         "name": "",
         "orientation": "v",
         "showlegend": false,
         "type": "scatter",
         "x": [
          104,
          112,
          107.3,
          112.3,
          81.2,
          90.8,
          99.9,
          126,
          129.9,
          109.2,
          101.7,
          101.2,
          124.1,
          109.8,
          105.2,
          100.9,
          110.2,
          100.3,
          106.7,
          113.8,
          102.3,
          110,
          107.6,
          104,
          106.1,
          103.9,
          100.9,
          120.9,
          99.2,
          95.8,
          105.8,
          92.9,
          102.6,
          110.4,
          100.6,
          116.2,
          99,
          100.8,
          102,
          102.8,
          103.9,
          106.7,
          104,
          110.3,
          102.2,
          99,
          103.6,
          105.7,
          94.3,
          115.7,
          100.9,
          98.3,
          109.6,
          80.6,
          115.9,
          99.2,
          106.9,
          115.3,
          114.6,
          91.6,
          123.1,
          113.5,
          100.3,
          98.4,
          104.7,
          100.4,
          98.1,
          111.7,
          107.4,
          118.2,
          109.7,
          102.6,
          104.7,
          100.8,
          101.9,
          94.3,
          110.4,
          101.3,
          101.7,
          73.6,
          94.4,
          112.1,
          130.3,
          97.7,
          110.1,
          135.6,
          80.5,
          97.4,
          114,
          100.8,
          101.4,
          118.8,
          118.8,
          107.5,
          96,
          101.5,
          127.8,
          110.8,
          110.7,
          102.4,
          116.6,
          101.2,
          101.9,
          111.2,
          136.8,
          101,
          118.5,
          112,
          110,
          123,
          136.8,
          151.2,
          107.8,
          123.8,
          97.8,
          99.9,
          104.9,
          107,
          106.4,
          102.4,
          116,
          94.7,
          100.7,
          97.3,
          113.3,
          137.7,
          102.3,
          110.1,
          94.6,
          104.2,
          114.3,
          118.2,
          118.8,
          109.3,
          114.5,
          103.5,
          109.1,
          100.4,
          101.2,
          102.2,
          82.6,
          105.8,
          105,
          111,
          105.9
         ],
         "xaxis": "x",
         "y": [
          1.4,
          3.3,
          0.6,
          3.6,
          2,
          15.4,
          7.1,
          3.4,
          19.9,
          0.6,
          5.9,
          7.9,
          0.6,
          1.8,
          6.3,
          3.1,
          2,
          15.4,
          5.5,
          0.8,
          0.3,
          14.8,
          4.8,
          7.1,
          1.5,
          0.7,
          1.5,
          0.4,
          3.8,
          2.1,
          7.3,
          9,
          2.1,
          0,
          4.9,
          2.2,
          2.1,
          1.9,
          1.2,
          3.2,
          0.2,
          7.4,
          1,
          0.1,
          7.3,
          4.3,
          1.1,
          2.6,
          7.8,
          0.6,
          5.3,
          1.1,
          3.4,
          0.3,
          1,
          4.7,
          4.5,
          1.7,
          2.1,
          7,
          3.5,
          6.9,
          6.8,
          5.2,
          2.7,
          8.3,
          2.2,
          10.7,
          0.3,
          21.6,
          1.4,
          2.4,
          3.7,
          3.7,
          6.6,
          4,
          14.6,
          0.1,
          7.2,
          3.3,
          3.3,
          3.4,
          7,
          4.2,
          1.8,
          0.2,
          0.6,
          1.5,
          0.4,
          8.4,
          6.7,
          0.8,
          0.1,
          0.5,
          3.8,
          6.8,
          13.8,
          0.8,
          3,
          1.1,
          1.6,
          1.3,
          7.5,
          4.1,
          30.1,
          11.4,
          3.1,
          3.6,
          11.4,
          0.1,
          14.5,
          0.6,
          6.5,
          7.9,
          5.4,
          6.3,
          7.5,
          0.2,
          4.9,
          1,
          0.5,
          4.5,
          3.3,
          4.2,
          1.4,
          0.7,
          3.6,
          0.2,
          11.9,
          2.3,
          4.4,
          10.1,
          0.1,
          3.8,
          18.2,
          5.1,
          0.2,
          14.4,
          1.9,
          3.3,
          3.1,
          2.9,
          0.3,
          0.4,
          0.7
         ],
         "yaxis": "y"
        },
        {
         "hovertemplate": "<b>OLS trendline</b><br>Value_y = 0.0530464 * Value_x + -1.15279<br>R<sup>2</sup>=0.015264<br><br>Agricultural Production=%{x}<br>Emissions per Capita=%{y} <b>(trend)</b><extra></extra>",
         "legendgroup": "",
         "marker": {
          "color": "#636efa",
          "symbol": "circle"
         },
         "mode": "lines",
         "name": "",
         "showlegend": false,
         "type": "scatter",
         "x": [
          73.6,
          80.5,
          80.6,
          81.2,
          82.6,
          90.8,
          91.6,
          92.9,
          94.3,
          94.3,
          94.4,
          94.6,
          94.7,
          95.8,
          96,
          97.3,
          97.4,
          97.7,
          97.8,
          98.1,
          98.3,
          98.4,
          99,
          99,
          99.2,
          99.2,
          99.9,
          99.9,
          100.3,
          100.3,
          100.4,
          100.4,
          100.6,
          100.7,
          100.8,
          100.8,
          100.8,
          100.9,
          100.9,
          100.9,
          101,
          101.2,
          101.2,
          101.2,
          101.3,
          101.4,
          101.5,
          101.7,
          101.7,
          101.9,
          101.9,
          102,
          102.2,
          102.2,
          102.3,
          102.3,
          102.4,
          102.4,
          102.6,
          102.6,
          102.8,
          103.5,
          103.6,
          103.9,
          103.9,
          104,
          104,
          104,
          104.2,
          104.7,
          104.7,
          104.9,
          105,
          105.2,
          105.7,
          105.8,
          105.8,
          105.9,
          106.1,
          106.4,
          106.7,
          106.7,
          106.9,
          107,
          107.3,
          107.4,
          107.5,
          107.6,
          107.8,
          109.1,
          109.2,
          109.3,
          109.6,
          109.7,
          109.8,
          110,
          110,
          110.1,
          110.1,
          110.2,
          110.3,
          110.4,
          110.4,
          110.7,
          110.8,
          111,
          111.2,
          111.7,
          112,
          112,
          112.1,
          112.3,
          113.3,
          113.5,
          113.8,
          114,
          114.3,
          114.5,
          114.6,
          115.3,
          115.7,
          115.9,
          116,
          116.2,
          116.6,
          118.2,
          118.2,
          118.5,
          118.8,
          118.8,
          118.8,
          120.9,
          123,
          123.1,
          123.8,
          124.1,
          126,
          127.8,
          129.9,
          130.3,
          135.6,
          136.8,
          136.8,
          137.7,
          151.2
         ],
         "xaxis": "x",
         "y": [
          2.7514234014875245,
          3.1174436064268467,
          3.1227482470781407,
          3.154576090985908,
          3.228841060104031,
          3.6638215935101814,
          3.7062587187205374,
          3.775219047187367,
          3.8494840163054898,
          3.8494840163054898,
          3.8547886569567846,
          3.865397938259373,
          3.870702578910668,
          3.929053626074907,
          3.9396629073774965,
          4.0086232358443254,
          4.01392787649562,
          4.029841798449503,
          4.035146439100798,
          4.051060361054681,
          4.06166964235727,
          4.066974283008565,
          4.098802126916332,
          4.098802126916332,
          4.1094114082189215,
          4.1094114082189215,
          4.1465438927779825,
          4.1465438927779825,
          4.16776245538316,
          4.16776245538316,
          4.173067096034456,
          4.173067096034456,
          4.183676377337044,
          4.188981017988339,
          4.194285658639633,
          4.194285658639633,
          4.194285658639633,
          4.199590299290928,
          4.199590299290928,
          4.199590299290928,
          4.204894939942222,
          4.215504221244811,
          4.215504221244811,
          4.215504221244811,
          4.2208088618961055,
          4.226113502547401,
          4.231418143198695,
          4.242027424501284,
          4.242027424501284,
          4.252636705803873,
          4.252636705803873,
          4.257941346455167,
          4.268550627757756,
          4.268550627757756,
          4.273855268409051,
          4.273855268409051,
          4.279159909060346,
          4.279159909060346,
          4.289769190362934,
          4.289769190362934,
          4.300378471665524,
          4.337510956224585,
          4.342815596875879,
          4.3587295188297634,
          4.3587295188297634,
          4.364034159481058,
          4.364034159481058,
          4.364034159481058,
          4.374643440783647,
          4.40116664404012,
          4.40116664404012,
          4.411775925342709,
          4.417080565994003,
          4.427689847296592,
          4.454213050553065,
          4.459517691204359,
          4.459517691204359,
          4.464822331855654,
          4.475431613158242,
          4.491345535112126,
          4.507259457066009,
          4.507259457066009,
          4.517868738368599,
          4.523173379019894,
          4.539087300973777,
          4.544391941625071,
          4.549696582276366,
          4.55500122292766,
          4.565610504230249,
          4.634570832697078,
          4.639875473348373,
          4.6451801139996665,
          4.661094035953551,
          4.666398676604845,
          4.6717033172561395,
          4.682312598558728,
          4.682312598558728,
          4.687617239210023,
          4.687617239210023,
          4.692921879861318,
          4.698226520512612,
          4.703531161163907,
          4.703531161163907,
          4.71944508311779,
          4.724749723769085,
          4.735359005071674,
          4.745968286374263,
          4.7724914896307356,
          4.788405411584619,
          4.788405411584619,
          4.793710052235913,
          4.804319333538502,
          4.857365740051447,
          4.867975021354036,
          4.8838889433079204,
          4.894498224610509,
          4.910412146564393,
          4.9210214278669815,
          4.926326068518276,
          4.963458553077338,
          4.9846771156825165,
          4.995286396985105,
          5.0005910376364,
          5.011200318938989,
          5.032418881544166,
          5.117293131964879,
          5.117293131964879,
          5.133207053918762,
          5.149120975872646,
          5.149120975872646,
          5.149120975872646,
          5.2605184295498315,
          5.3719158832270155,
          5.37722052387831,
          5.414353008437372,
          5.430266930391255,
          5.531055102765851,
          5.626538634489152,
          5.737936088166338,
          5.759154650771516,
          6.040300605290124,
          6.103956293105659,
          6.103956293105659,
          6.151698058967309,
          6.867824546892068
         ],
         "yaxis": "y"
        }
       ],
       "layout": {
        "legend": {
         "tracegroupgap": 0
        },
        "template": {
         "data": {
          "bar": [
           {
            "error_x": {
             "color": "#2a3f5f"
            },
            "error_y": {
             "color": "#2a3f5f"
            },
            "marker": {
             "line": {
              "color": "#E5ECF6",
              "width": 0.5
             },
             "pattern": {
              "fillmode": "overlay",
              "size": 10,
              "solidity": 0.2
             }
            },
            "type": "bar"
           }
          ],
          "barpolar": [
           {
            "marker": {
             "line": {
              "color": "#E5ECF6",
              "width": 0.5
             },
             "pattern": {
              "fillmode": "overlay",
              "size": 10,
              "solidity": 0.2
             }
            },
            "type": "barpolar"
           }
          ],
          "carpet": [
           {
            "aaxis": {
             "endlinecolor": "#2a3f5f",
             "gridcolor": "white",
             "linecolor": "white",
             "minorgridcolor": "white",
             "startlinecolor": "#2a3f5f"
            },
            "baxis": {
             "endlinecolor": "#2a3f5f",
             "gridcolor": "white",
             "linecolor": "white",
             "minorgridcolor": "white",
             "startlinecolor": "#2a3f5f"
            },
            "type": "carpet"
           }
          ],
          "choropleth": [
           {
            "colorbar": {
             "outlinewidth": 0,
             "ticks": ""
            },
            "type": "choropleth"
           }
          ],
          "contour": [
           {
            "colorbar": {
             "outlinewidth": 0,
             "ticks": ""
            },
            "colorscale": [
             [
              0,
              "#0d0887"
             ],
             [
              0.1111111111111111,
              "#46039f"
             ],
             [
              0.2222222222222222,
              "#7201a8"
             ],
             [
              0.3333333333333333,
              "#9c179e"
             ],
             [
              0.4444444444444444,
              "#bd3786"
             ],
             [
              0.5555555555555556,
              "#d8576b"
             ],
             [
              0.6666666666666666,
              "#ed7953"
             ],
             [
              0.7777777777777778,
              "#fb9f3a"
             ],
             [
              0.8888888888888888,
              "#fdca26"
             ],
             [
              1,
              "#f0f921"
             ]
            ],
            "type": "contour"
           }
          ],
          "contourcarpet": [
           {
            "colorbar": {
             "outlinewidth": 0,
             "ticks": ""
            },
            "type": "contourcarpet"
           }
          ],
          "heatmap": [
           {
            "colorbar": {
             "outlinewidth": 0,
             "ticks": ""
            },
            "colorscale": [
             [
              0,
              "#0d0887"
             ],
             [
              0.1111111111111111,
              "#46039f"
             ],
             [
              0.2222222222222222,
              "#7201a8"
             ],
             [
              0.3333333333333333,
              "#9c179e"
             ],
             [
              0.4444444444444444,
              "#bd3786"
             ],
             [
              0.5555555555555556,
              "#d8576b"
             ],
             [
              0.6666666666666666,
              "#ed7953"
             ],
             [
              0.7777777777777778,
              "#fb9f3a"
             ],
             [
              0.8888888888888888,
              "#fdca26"
             ],
             [
              1,
              "#f0f921"
             ]
            ],
            "type": "heatmap"
           }
          ],
          "heatmapgl": [
           {
            "colorbar": {
             "outlinewidth": 0,
             "ticks": ""
            },
            "colorscale": [
             [
              0,
              "#0d0887"
             ],
             [
              0.1111111111111111,
              "#46039f"
             ],
             [
              0.2222222222222222,
              "#7201a8"
             ],
             [
              0.3333333333333333,
              "#9c179e"
             ],
             [
              0.4444444444444444,
              "#bd3786"
             ],
             [
              0.5555555555555556,
              "#d8576b"
             ],
             [
              0.6666666666666666,
              "#ed7953"
             ],
             [
              0.7777777777777778,
              "#fb9f3a"
             ],
             [
              0.8888888888888888,
              "#fdca26"
             ],
             [
              1,
              "#f0f921"
             ]
            ],
            "type": "heatmapgl"
           }
          ],
          "histogram": [
           {
            "marker": {
             "pattern": {
              "fillmode": "overlay",
              "size": 10,
              "solidity": 0.2
             }
            },
            "type": "histogram"
           }
          ],
          "histogram2d": [
           {
            "colorbar": {
             "outlinewidth": 0,
             "ticks": ""
            },
            "colorscale": [
             [
              0,
              "#0d0887"
             ],
             [
              0.1111111111111111,
              "#46039f"
             ],
             [
              0.2222222222222222,
              "#7201a8"
             ],
             [
              0.3333333333333333,
              "#9c179e"
             ],
             [
              0.4444444444444444,
              "#bd3786"
             ],
             [
              0.5555555555555556,
              "#d8576b"
             ],
             [
              0.6666666666666666,
              "#ed7953"
             ],
             [
              0.7777777777777778,
              "#fb9f3a"
             ],
             [
              0.8888888888888888,
              "#fdca26"
             ],
             [
              1,
              "#f0f921"
             ]
            ],
            "type": "histogram2d"
           }
          ],
          "histogram2dcontour": [
           {
            "colorbar": {
             "outlinewidth": 0,
             "ticks": ""
            },
            "colorscale": [
             [
              0,
              "#0d0887"
             ],
             [
              0.1111111111111111,
              "#46039f"
             ],
             [
              0.2222222222222222,
              "#7201a8"
             ],
             [
              0.3333333333333333,
              "#9c179e"
             ],
             [
              0.4444444444444444,
              "#bd3786"
             ],
             [
              0.5555555555555556,
              "#d8576b"
             ],
             [
              0.6666666666666666,
              "#ed7953"
             ],
             [
              0.7777777777777778,
              "#fb9f3a"
             ],
             [
              0.8888888888888888,
              "#fdca26"
             ],
             [
              1,
              "#f0f921"
             ]
            ],
            "type": "histogram2dcontour"
           }
          ],
          "mesh3d": [
           {
            "colorbar": {
             "outlinewidth": 0,
             "ticks": ""
            },
            "type": "mesh3d"
           }
          ],
          "parcoords": [
           {
            "line": {
             "colorbar": {
              "outlinewidth": 0,
              "ticks": ""
             }
            },
            "type": "parcoords"
           }
          ],
          "pie": [
           {
            "automargin": true,
            "type": "pie"
           }
          ],
          "scatter": [
           {
            "fillpattern": {
             "fillmode": "overlay",
             "size": 10,
             "solidity": 0.2
            },
            "type": "scatter"
           }
          ],
          "scatter3d": [
           {
            "line": {
             "colorbar": {
              "outlinewidth": 0,
              "ticks": ""
             }
            },
            "marker": {
             "colorbar": {
              "outlinewidth": 0,
              "ticks": ""
             }
            },
            "type": "scatter3d"
           }
          ],
          "scattercarpet": [
           {
            "marker": {
             "colorbar": {
              "outlinewidth": 0,
              "ticks": ""
             }
            },
            "type": "scattercarpet"
           }
          ],
          "scattergeo": [
           {
            "marker": {
             "colorbar": {
              "outlinewidth": 0,
              "ticks": ""
             }
            },
            "type": "scattergeo"
           }
          ],
          "scattergl": [
           {
            "marker": {
             "colorbar": {
              "outlinewidth": 0,
              "ticks": ""
             }
            },
            "type": "scattergl"
           }
          ],
          "scattermapbox": [
           {
            "marker": {
             "colorbar": {
              "outlinewidth": 0,
              "ticks": ""
             }
            },
            "type": "scattermapbox"
           }
          ],
          "scatterpolar": [
           {
            "marker": {
             "colorbar": {
              "outlinewidth": 0,
              "ticks": ""
             }
            },
            "type": "scatterpolar"
           }
          ],
          "scatterpolargl": [
           {
            "marker": {
             "colorbar": {
              "outlinewidth": 0,
              "ticks": ""
             }
            },
            "type": "scatterpolargl"
           }
          ],
          "scatterternary": [
           {
            "marker": {
             "colorbar": {
              "outlinewidth": 0,
              "ticks": ""
             }
            },
            "type": "scatterternary"
           }
          ],
          "surface": [
           {
            "colorbar": {
             "outlinewidth": 0,
             "ticks": ""
            },
            "colorscale": [
             [
              0,
              "#0d0887"
             ],
             [
              0.1111111111111111,
              "#46039f"
             ],
             [
              0.2222222222222222,
              "#7201a8"
             ],
             [
              0.3333333333333333,
              "#9c179e"
             ],
             [
              0.4444444444444444,
              "#bd3786"
             ],
             [
              0.5555555555555556,
              "#d8576b"
             ],
             [
              0.6666666666666666,
              "#ed7953"
             ],
             [
              0.7777777777777778,
              "#fb9f3a"
             ],
             [
              0.8888888888888888,
              "#fdca26"
             ],
             [
              1,
              "#f0f921"
             ]
            ],
            "type": "surface"
           }
          ],
          "table": [
           {
            "cells": {
             "fill": {
              "color": "#EBF0F8"
             },
             "line": {
              "color": "white"
             }
            },
            "header": {
             "fill": {
              "color": "#C8D4E3"
             },
             "line": {
              "color": "white"
             }
            },
            "type": "table"
           }
          ]
         },
         "layout": {
          "annotationdefaults": {
           "arrowcolor": "#2a3f5f",
           "arrowhead": 0,
           "arrowwidth": 1
          },
          "autotypenumbers": "strict",
          "coloraxis": {
           "colorbar": {
            "outlinewidth": 0,
            "ticks": ""
           }
          },
          "colorscale": {
           "diverging": [
            [
             0,
             "#8e0152"
            ],
            [
             0.1,
             "#c51b7d"
            ],
            [
             0.2,
             "#de77ae"
            ],
            [
             0.3,
             "#f1b6da"
            ],
            [
             0.4,
             "#fde0ef"
            ],
            [
             0.5,
             "#f7f7f7"
            ],
            [
             0.6,
             "#e6f5d0"
            ],
            [
             0.7,
             "#b8e186"
            ],
            [
             0.8,
             "#7fbc41"
            ],
            [
             0.9,
             "#4d9221"
            ],
            [
             1,
             "#276419"
            ]
           ],
           "sequential": [
            [
             0,
             "#0d0887"
            ],
            [
             0.1111111111111111,
             "#46039f"
            ],
            [
             0.2222222222222222,
             "#7201a8"
            ],
            [
             0.3333333333333333,
             "#9c179e"
            ],
            [
             0.4444444444444444,
             "#bd3786"
            ],
            [
             0.5555555555555556,
             "#d8576b"
            ],
            [
             0.6666666666666666,
             "#ed7953"
            ],
            [
             0.7777777777777778,
             "#fb9f3a"
            ],
            [
             0.8888888888888888,
             "#fdca26"
            ],
            [
             1,
             "#f0f921"
            ]
           ],
           "sequentialminus": [
            [
             0,
             "#0d0887"
            ],
            [
             0.1111111111111111,
             "#46039f"
            ],
            [
             0.2222222222222222,
             "#7201a8"
            ],
            [
             0.3333333333333333,
             "#9c179e"
            ],
            [
             0.4444444444444444,
             "#bd3786"
            ],
            [
             0.5555555555555556,
             "#d8576b"
            ],
            [
             0.6666666666666666,
             "#ed7953"
            ],
            [
             0.7777777777777778,
             "#fb9f3a"
            ],
            [
             0.8888888888888888,
             "#fdca26"
            ],
            [
             1,
             "#f0f921"
            ]
           ]
          },
          "colorway": [
           "#636efa",
           "#EF553B",
           "#00cc96",
           "#ab63fa",
           "#FFA15A",
           "#19d3f3",
           "#FF6692",
           "#B6E880",
           "#FF97FF",
           "#FECB52"
          ],
          "font": {
           "color": "#2a3f5f"
          },
          "geo": {
           "bgcolor": "white",
           "lakecolor": "white",
           "landcolor": "#E5ECF6",
           "showlakes": true,
           "showland": true,
           "subunitcolor": "white"
          },
          "hoverlabel": {
           "align": "left"
          },
          "hovermode": "closest",
          "mapbox": {
           "style": "light"
          },
          "paper_bgcolor": "white",
          "plot_bgcolor": "#E5ECF6",
          "polar": {
           "angularaxis": {
            "gridcolor": "white",
            "linecolor": "white",
            "ticks": ""
           },
           "bgcolor": "#E5ECF6",
           "radialaxis": {
            "gridcolor": "white",
            "linecolor": "white",
            "ticks": ""
           }
          },
          "scene": {
           "xaxis": {
            "backgroundcolor": "#E5ECF6",
            "gridcolor": "white",
            "gridwidth": 2,
            "linecolor": "white",
            "showbackground": true,
            "ticks": "",
            "zerolinecolor": "white"
           },
           "yaxis": {
            "backgroundcolor": "#E5ECF6",
            "gridcolor": "white",
            "gridwidth": 2,
            "linecolor": "white",
            "showbackground": true,
            "ticks": "",
            "zerolinecolor": "white"
           },
           "zaxis": {
            "backgroundcolor": "#E5ECF6",
            "gridcolor": "white",
            "gridwidth": 2,
            "linecolor": "white",
            "showbackground": true,
            "ticks": "",
            "zerolinecolor": "white"
           }
          },
          "shapedefaults": {
           "line": {
            "color": "#2a3f5f"
           }
          },
          "ternary": {
           "aaxis": {
            "gridcolor": "white",
            "linecolor": "white",
            "ticks": ""
           },
           "baxis": {
            "gridcolor": "white",
            "linecolor": "white",
            "ticks": ""
           },
           "bgcolor": "#E5ECF6",
           "caxis": {
            "gridcolor": "white",
            "linecolor": "white",
            "ticks": ""
           }
          },
          "title": {
           "x": 0.05
          },
          "xaxis": {
           "automargin": true,
           "gridcolor": "white",
           "linecolor": "white",
           "ticks": "",
           "title": {
            "standoff": 15
           },
           "zerolinecolor": "white",
           "zerolinewidth": 2
          },
          "yaxis": {
           "automargin": true,
           "gridcolor": "white",
           "linecolor": "white",
           "ticks": "",
           "title": {
            "standoff": 15
           },
           "zerolinecolor": "white",
           "zerolinewidth": 2
          }
         }
        },
        "title": {
         "text": "Agricultural Production and Carbon Emissions per Capita (2019)"
        },
        "xaxis": {
         "anchor": "y",
         "domain": [
          0,
          1
         ],
         "title": {
          "text": "Agricultural Production"
         }
        },
        "yaxis": {
         "anchor": "x",
         "domain": [
          0,
          1
         ],
         "title": {
          "text": "Emissions per Capita"
         }
        }
       }
      },
      "text/html": [
       "<div>                            <div id=\"3341b91b-60e7-4088-9d5b-bb4c52c76e68\" class=\"plotly-graph-div\" style=\"height:525px; width:100%;\"></div>            <script type=\"text/javascript\">                require([\"plotly\"], function(Plotly) {                    window.PLOTLYENV=window.PLOTLYENV || {};                                    if (document.getElementById(\"3341b91b-60e7-4088-9d5b-bb4c52c76e68\")) {                    Plotly.newPlot(                        \"3341b91b-60e7-4088-9d5b-bb4c52c76e68\",                        [{\"hovertemplate\":\"Agricultural Production=%{x}\\u003cbr\\u003eEmissions per Capita=%{y}\\u003cextra\\u003e\\u003c\\u002fextra\\u003e\",\"legendgroup\":\"\",\"marker\":{\"color\":\"#636efa\",\"symbol\":\"circle\"},\"mode\":\"markers\",\"name\":\"\",\"orientation\":\"v\",\"showlegend\":false,\"x\":[104.0,112.0,107.3,112.3,81.2,90.8,99.9,126.0,129.9,109.2,101.7,101.2,124.1,109.8,105.2,100.9,110.2,100.3,106.7,113.8,102.3,110.0,107.6,104.0,106.1,103.9,100.9,120.9,99.2,95.8,105.8,92.9,102.6,110.4,100.6,116.2,99.0,100.8,102.0,102.8,103.9,106.7,104.0,110.3,102.2,99.0,103.6,105.7,94.3,115.7,100.9,98.3,109.6,80.6,115.9,99.2,106.9,115.3,114.6,91.6,123.1,113.5,100.3,98.4,104.7,100.4,98.1,111.7,107.4,118.2,109.7,102.6,104.7,100.8,101.9,94.3,110.4,101.3,101.7,73.6,94.4,112.1,130.3,97.7,110.1,135.6,80.5,97.4,114.0,100.8,101.4,118.8,118.8,107.5,96.0,101.5,127.8,110.8,110.7,102.4,116.6,101.2,101.9,111.2,136.8,101.0,118.5,112.0,110.0,123.0,136.8,151.2,107.8,123.8,97.8,99.9,104.9,107.0,106.4,102.4,116.0,94.7,100.7,97.3,113.3,137.7,102.3,110.1,94.6,104.2,114.3,118.2,118.8,109.3,114.5,103.5,109.1,100.4,101.2,102.2,82.6,105.8,105.0,111.0,105.9],\"xaxis\":\"x\",\"y\":[1.4,3.3,0.6,3.6,2.0,15.4,7.1,3.4,19.9,0.6,5.9,7.9,0.6,1.8,6.3,3.1,2.0,15.4,5.5,0.8,0.3,14.8,4.8,7.1,1.5,0.7,1.5,0.4,3.8,2.1,7.3,9.0,2.1,0.0,4.9,2.2,2.1,1.9,1.2,3.2,0.2,7.4,1.0,0.1,7.3,4.3,1.1,2.6,7.8,0.6,5.3,1.1,3.4,0.3,1.0,4.7,4.5,1.7,2.1,7.0,3.5,6.9,6.8,5.2,2.7,8.3,2.2,10.7,0.3,21.6,1.4,2.4,3.7,3.7,6.6,4.0,14.6,0.1,7.2,3.3,3.3,3.4,7.0,4.2,1.8,0.2,0.6,1.5,0.4,8.4,6.7,0.8,0.1,0.5,3.8,6.8,13.8,0.8,3.0,1.1,1.6,1.3,7.5,4.1,30.1,11.4,3.1,3.6,11.4,0.1,14.5,0.6,6.5,7.9,5.4,6.3,7.5,0.2,4.9,1.0,0.5,4.5,3.3,4.2,1.4,0.7,3.6,0.2,11.9,2.3,4.4,10.1,0.1,3.8,18.2,5.1,0.2,14.4,1.9,3.3,3.1,2.9,0.3,0.4,0.7],\"yaxis\":\"y\",\"type\":\"scatter\"},{\"hovertemplate\":\"\\u003cb\\u003eOLS trendline\\u003c\\u002fb\\u003e\\u003cbr\\u003eValue_y = 0.0530464 * Value_x + -1.15279\\u003cbr\\u003eR\\u003csup\\u003e2\\u003c\\u002fsup\\u003e=0.015264\\u003cbr\\u003e\\u003cbr\\u003eAgricultural Production=%{x}\\u003cbr\\u003eEmissions per Capita=%{y} \\u003cb\\u003e(trend)\\u003c\\u002fb\\u003e\\u003cextra\\u003e\\u003c\\u002fextra\\u003e\",\"legendgroup\":\"\",\"marker\":{\"color\":\"#636efa\",\"symbol\":\"circle\"},\"mode\":\"lines\",\"name\":\"\",\"showlegend\":false,\"x\":[73.6,80.5,80.6,81.2,82.6,90.8,91.6,92.9,94.3,94.3,94.4,94.6,94.7,95.8,96.0,97.3,97.4,97.7,97.8,98.1,98.3,98.4,99.0,99.0,99.2,99.2,99.9,99.9,100.3,100.3,100.4,100.4,100.6,100.7,100.8,100.8,100.8,100.9,100.9,100.9,101.0,101.2,101.2,101.2,101.3,101.4,101.5,101.7,101.7,101.9,101.9,102.0,102.2,102.2,102.3,102.3,102.4,102.4,102.6,102.6,102.8,103.5,103.6,103.9,103.9,104.0,104.0,104.0,104.2,104.7,104.7,104.9,105.0,105.2,105.7,105.8,105.8,105.9,106.1,106.4,106.7,106.7,106.9,107.0,107.3,107.4,107.5,107.6,107.8,109.1,109.2,109.3,109.6,109.7,109.8,110.0,110.0,110.1,110.1,110.2,110.3,110.4,110.4,110.7,110.8,111.0,111.2,111.7,112.0,112.0,112.1,112.3,113.3,113.5,113.8,114.0,114.3,114.5,114.6,115.3,115.7,115.9,116.0,116.2,116.6,118.2,118.2,118.5,118.8,118.8,118.8,120.9,123.0,123.1,123.8,124.1,126.0,127.8,129.9,130.3,135.6,136.8,136.8,137.7,151.2],\"xaxis\":\"x\",\"y\":[2.7514234014875245,3.1174436064268467,3.1227482470781407,3.154576090985908,3.228841060104031,3.6638215935101814,3.7062587187205374,3.775219047187367,3.8494840163054898,3.8494840163054898,3.8547886569567846,3.865397938259373,3.870702578910668,3.929053626074907,3.9396629073774965,4.0086232358443254,4.01392787649562,4.029841798449503,4.035146439100798,4.051060361054681,4.06166964235727,4.066974283008565,4.098802126916332,4.098802126916332,4.1094114082189215,4.1094114082189215,4.1465438927779825,4.1465438927779825,4.16776245538316,4.16776245538316,4.173067096034456,4.173067096034456,4.183676377337044,4.188981017988339,4.194285658639633,4.194285658639633,4.194285658639633,4.199590299290928,4.199590299290928,4.199590299290928,4.204894939942222,4.215504221244811,4.215504221244811,4.215504221244811,4.2208088618961055,4.226113502547401,4.231418143198695,4.242027424501284,4.242027424501284,4.252636705803873,4.252636705803873,4.257941346455167,4.268550627757756,4.268550627757756,4.273855268409051,4.273855268409051,4.279159909060346,4.279159909060346,4.289769190362934,4.289769190362934,4.300378471665524,4.337510956224585,4.342815596875879,4.3587295188297634,4.3587295188297634,4.364034159481058,4.364034159481058,4.364034159481058,4.374643440783647,4.40116664404012,4.40116664404012,4.411775925342709,4.417080565994003,4.427689847296592,4.454213050553065,4.459517691204359,4.459517691204359,4.464822331855654,4.475431613158242,4.491345535112126,4.507259457066009,4.507259457066009,4.517868738368599,4.523173379019894,4.539087300973777,4.544391941625071,4.549696582276366,4.55500122292766,4.565610504230249,4.634570832697078,4.639875473348373,4.6451801139996665,4.661094035953551,4.666398676604845,4.6717033172561395,4.682312598558728,4.682312598558728,4.687617239210023,4.687617239210023,4.692921879861318,4.698226520512612,4.703531161163907,4.703531161163907,4.71944508311779,4.724749723769085,4.735359005071674,4.745968286374263,4.7724914896307356,4.788405411584619,4.788405411584619,4.793710052235913,4.804319333538502,4.857365740051447,4.867975021354036,4.8838889433079204,4.894498224610509,4.910412146564393,4.9210214278669815,4.926326068518276,4.963458553077338,4.9846771156825165,4.995286396985105,5.0005910376364,5.011200318938989,5.032418881544166,5.117293131964879,5.117293131964879,5.133207053918762,5.149120975872646,5.149120975872646,5.149120975872646,5.2605184295498315,5.3719158832270155,5.37722052387831,5.414353008437372,5.430266930391255,5.531055102765851,5.626538634489152,5.737936088166338,5.759154650771516,6.040300605290124,6.103956293105659,6.103956293105659,6.151698058967309,6.867824546892068],\"yaxis\":\"y\",\"type\":\"scatter\"}],                        {\"template\":{\"data\":{\"histogram2dcontour\":[{\"type\":\"histogram2dcontour\",\"colorbar\":{\"outlinewidth\":0,\"ticks\":\"\"},\"colorscale\":[[0.0,\"#0d0887\"],[0.1111111111111111,\"#46039f\"],[0.2222222222222222,\"#7201a8\"],[0.3333333333333333,\"#9c179e\"],[0.4444444444444444,\"#bd3786\"],[0.5555555555555556,\"#d8576b\"],[0.6666666666666666,\"#ed7953\"],[0.7777777777777778,\"#fb9f3a\"],[0.8888888888888888,\"#fdca26\"],[1.0,\"#f0f921\"]]}],\"choropleth\":[{\"type\":\"choropleth\",\"colorbar\":{\"outlinewidth\":0,\"ticks\":\"\"}}],\"histogram2d\":[{\"type\":\"histogram2d\",\"colorbar\":{\"outlinewidth\":0,\"ticks\":\"\"},\"colorscale\":[[0.0,\"#0d0887\"],[0.1111111111111111,\"#46039f\"],[0.2222222222222222,\"#7201a8\"],[0.3333333333333333,\"#9c179e\"],[0.4444444444444444,\"#bd3786\"],[0.5555555555555556,\"#d8576b\"],[0.6666666666666666,\"#ed7953\"],[0.7777777777777778,\"#fb9f3a\"],[0.8888888888888888,\"#fdca26\"],[1.0,\"#f0f921\"]]}],\"heatmap\":[{\"type\":\"heatmap\",\"colorbar\":{\"outlinewidth\":0,\"ticks\":\"\"},\"colorscale\":[[0.0,\"#0d0887\"],[0.1111111111111111,\"#46039f\"],[0.2222222222222222,\"#7201a8\"],[0.3333333333333333,\"#9c179e\"],[0.4444444444444444,\"#bd3786\"],[0.5555555555555556,\"#d8576b\"],[0.6666666666666666,\"#ed7953\"],[0.7777777777777778,\"#fb9f3a\"],[0.8888888888888888,\"#fdca26\"],[1.0,\"#f0f921\"]]}],\"heatmapgl\":[{\"type\":\"heatmapgl\",\"colorbar\":{\"outlinewidth\":0,\"ticks\":\"\"},\"colorscale\":[[0.0,\"#0d0887\"],[0.1111111111111111,\"#46039f\"],[0.2222222222222222,\"#7201a8\"],[0.3333333333333333,\"#9c179e\"],[0.4444444444444444,\"#bd3786\"],[0.5555555555555556,\"#d8576b\"],[0.6666666666666666,\"#ed7953\"],[0.7777777777777778,\"#fb9f3a\"],[0.8888888888888888,\"#fdca26\"],[1.0,\"#f0f921\"]]}],\"contourcarpet\":[{\"type\":\"contourcarpet\",\"colorbar\":{\"outlinewidth\":0,\"ticks\":\"\"}}],\"contour\":[{\"type\":\"contour\",\"colorbar\":{\"outlinewidth\":0,\"ticks\":\"\"},\"colorscale\":[[0.0,\"#0d0887\"],[0.1111111111111111,\"#46039f\"],[0.2222222222222222,\"#7201a8\"],[0.3333333333333333,\"#9c179e\"],[0.4444444444444444,\"#bd3786\"],[0.5555555555555556,\"#d8576b\"],[0.6666666666666666,\"#ed7953\"],[0.7777777777777778,\"#fb9f3a\"],[0.8888888888888888,\"#fdca26\"],[1.0,\"#f0f921\"]]}],\"surface\":[{\"type\":\"surface\",\"colorbar\":{\"outlinewidth\":0,\"ticks\":\"\"},\"colorscale\":[[0.0,\"#0d0887\"],[0.1111111111111111,\"#46039f\"],[0.2222222222222222,\"#7201a8\"],[0.3333333333333333,\"#9c179e\"],[0.4444444444444444,\"#bd3786\"],[0.5555555555555556,\"#d8576b\"],[0.6666666666666666,\"#ed7953\"],[0.7777777777777778,\"#fb9f3a\"],[0.8888888888888888,\"#fdca26\"],[1.0,\"#f0f921\"]]}],\"mesh3d\":[{\"type\":\"mesh3d\",\"colorbar\":{\"outlinewidth\":0,\"ticks\":\"\"}}],\"scatter\":[{\"fillpattern\":{\"fillmode\":\"overlay\",\"size\":10,\"solidity\":0.2},\"type\":\"scatter\"}],\"parcoords\":[{\"type\":\"parcoords\",\"line\":{\"colorbar\":{\"outlinewidth\":0,\"ticks\":\"\"}}}],\"scatterpolargl\":[{\"type\":\"scatterpolargl\",\"marker\":{\"colorbar\":{\"outlinewidth\":0,\"ticks\":\"\"}}}],\"bar\":[{\"error_x\":{\"color\":\"#2a3f5f\"},\"error_y\":{\"color\":\"#2a3f5f\"},\"marker\":{\"line\":{\"color\":\"#E5ECF6\",\"width\":0.5},\"pattern\":{\"fillmode\":\"overlay\",\"size\":10,\"solidity\":0.2}},\"type\":\"bar\"}],\"scattergeo\":[{\"type\":\"scattergeo\",\"marker\":{\"colorbar\":{\"outlinewidth\":0,\"ticks\":\"\"}}}],\"scatterpolar\":[{\"type\":\"scatterpolar\",\"marker\":{\"colorbar\":{\"outlinewidth\":0,\"ticks\":\"\"}}}],\"histogram\":[{\"marker\":{\"pattern\":{\"fillmode\":\"overlay\",\"size\":10,\"solidity\":0.2}},\"type\":\"histogram\"}],\"scattergl\":[{\"type\":\"scattergl\",\"marker\":{\"colorbar\":{\"outlinewidth\":0,\"ticks\":\"\"}}}],\"scatter3d\":[{\"type\":\"scatter3d\",\"line\":{\"colorbar\":{\"outlinewidth\":0,\"ticks\":\"\"}},\"marker\":{\"colorbar\":{\"outlinewidth\":0,\"ticks\":\"\"}}}],\"scattermapbox\":[{\"type\":\"scattermapbox\",\"marker\":{\"colorbar\":{\"outlinewidth\":0,\"ticks\":\"\"}}}],\"scatterternary\":[{\"type\":\"scatterternary\",\"marker\":{\"colorbar\":{\"outlinewidth\":0,\"ticks\":\"\"}}}],\"scattercarpet\":[{\"type\":\"scattercarpet\",\"marker\":{\"colorbar\":{\"outlinewidth\":0,\"ticks\":\"\"}}}],\"carpet\":[{\"aaxis\":{\"endlinecolor\":\"#2a3f5f\",\"gridcolor\":\"white\",\"linecolor\":\"white\",\"minorgridcolor\":\"white\",\"startlinecolor\":\"#2a3f5f\"},\"baxis\":{\"endlinecolor\":\"#2a3f5f\",\"gridcolor\":\"white\",\"linecolor\":\"white\",\"minorgridcolor\":\"white\",\"startlinecolor\":\"#2a3f5f\"},\"type\":\"carpet\"}],\"table\":[{\"cells\":{\"fill\":{\"color\":\"#EBF0F8\"},\"line\":{\"color\":\"white\"}},\"header\":{\"fill\":{\"color\":\"#C8D4E3\"},\"line\":{\"color\":\"white\"}},\"type\":\"table\"}],\"barpolar\":[{\"marker\":{\"line\":{\"color\":\"#E5ECF6\",\"width\":0.5},\"pattern\":{\"fillmode\":\"overlay\",\"size\":10,\"solidity\":0.2}},\"type\":\"barpolar\"}],\"pie\":[{\"automargin\":true,\"type\":\"pie\"}]},\"layout\":{\"autotypenumbers\":\"strict\",\"colorway\":[\"#636efa\",\"#EF553B\",\"#00cc96\",\"#ab63fa\",\"#FFA15A\",\"#19d3f3\",\"#FF6692\",\"#B6E880\",\"#FF97FF\",\"#FECB52\"],\"font\":{\"color\":\"#2a3f5f\"},\"hovermode\":\"closest\",\"hoverlabel\":{\"align\":\"left\"},\"paper_bgcolor\":\"white\",\"plot_bgcolor\":\"#E5ECF6\",\"polar\":{\"bgcolor\":\"#E5ECF6\",\"angularaxis\":{\"gridcolor\":\"white\",\"linecolor\":\"white\",\"ticks\":\"\"},\"radialaxis\":{\"gridcolor\":\"white\",\"linecolor\":\"white\",\"ticks\":\"\"}},\"ternary\":{\"bgcolor\":\"#E5ECF6\",\"aaxis\":{\"gridcolor\":\"white\",\"linecolor\":\"white\",\"ticks\":\"\"},\"baxis\":{\"gridcolor\":\"white\",\"linecolor\":\"white\",\"ticks\":\"\"},\"caxis\":{\"gridcolor\":\"white\",\"linecolor\":\"white\",\"ticks\":\"\"}},\"coloraxis\":{\"colorbar\":{\"outlinewidth\":0,\"ticks\":\"\"}},\"colorscale\":{\"sequential\":[[0.0,\"#0d0887\"],[0.1111111111111111,\"#46039f\"],[0.2222222222222222,\"#7201a8\"],[0.3333333333333333,\"#9c179e\"],[0.4444444444444444,\"#bd3786\"],[0.5555555555555556,\"#d8576b\"],[0.6666666666666666,\"#ed7953\"],[0.7777777777777778,\"#fb9f3a\"],[0.8888888888888888,\"#fdca26\"],[1.0,\"#f0f921\"]],\"sequentialminus\":[[0.0,\"#0d0887\"],[0.1111111111111111,\"#46039f\"],[0.2222222222222222,\"#7201a8\"],[0.3333333333333333,\"#9c179e\"],[0.4444444444444444,\"#bd3786\"],[0.5555555555555556,\"#d8576b\"],[0.6666666666666666,\"#ed7953\"],[0.7777777777777778,\"#fb9f3a\"],[0.8888888888888888,\"#fdca26\"],[1.0,\"#f0f921\"]],\"diverging\":[[0,\"#8e0152\"],[0.1,\"#c51b7d\"],[0.2,\"#de77ae\"],[0.3,\"#f1b6da\"],[0.4,\"#fde0ef\"],[0.5,\"#f7f7f7\"],[0.6,\"#e6f5d0\"],[0.7,\"#b8e186\"],[0.8,\"#7fbc41\"],[0.9,\"#4d9221\"],[1,\"#276419\"]]},\"xaxis\":{\"gridcolor\":\"white\",\"linecolor\":\"white\",\"ticks\":\"\",\"title\":{\"standoff\":15},\"zerolinecolor\":\"white\",\"automargin\":true,\"zerolinewidth\":2},\"yaxis\":{\"gridcolor\":\"white\",\"linecolor\":\"white\",\"ticks\":\"\",\"title\":{\"standoff\":15},\"zerolinecolor\":\"white\",\"automargin\":true,\"zerolinewidth\":2},\"scene\":{\"xaxis\":{\"backgroundcolor\":\"#E5ECF6\",\"gridcolor\":\"white\",\"linecolor\":\"white\",\"showbackground\":true,\"ticks\":\"\",\"zerolinecolor\":\"white\",\"gridwidth\":2},\"yaxis\":{\"backgroundcolor\":\"#E5ECF6\",\"gridcolor\":\"white\",\"linecolor\":\"white\",\"showbackground\":true,\"ticks\":\"\",\"zerolinecolor\":\"white\",\"gridwidth\":2},\"zaxis\":{\"backgroundcolor\":\"#E5ECF6\",\"gridcolor\":\"white\",\"linecolor\":\"white\",\"showbackground\":true,\"ticks\":\"\",\"zerolinecolor\":\"white\",\"gridwidth\":2}},\"shapedefaults\":{\"line\":{\"color\":\"#2a3f5f\"}},\"annotationdefaults\":{\"arrowcolor\":\"#2a3f5f\",\"arrowhead\":0,\"arrowwidth\":1},\"geo\":{\"bgcolor\":\"white\",\"landcolor\":\"#E5ECF6\",\"subunitcolor\":\"white\",\"showland\":true,\"showlakes\":true,\"lakecolor\":\"white\"},\"title\":{\"x\":0.05},\"mapbox\":{\"style\":\"light\"}}},\"xaxis\":{\"anchor\":\"y\",\"domain\":[0.0,1.0],\"title\":{\"text\":\"Agricultural Production\"}},\"yaxis\":{\"anchor\":\"x\",\"domain\":[0.0,1.0],\"title\":{\"text\":\"Emissions per Capita\"}},\"legend\":{\"tracegroupgap\":0},\"title\":{\"text\":\"Agricultural Production and Carbon Emissions per Capita (2019)\"}},                        {\"responsive\": true}                    ).then(function(){\n",
       "                            \n",
       "var gd = document.getElementById('3341b91b-60e7-4088-9d5b-bb4c52c76e68');\n",
       "var x = new MutationObserver(function (mutations, observer) {{\n",
       "        var display = window.getComputedStyle(gd).display;\n",
       "        if (!display || display === 'none') {{\n",
       "            console.log([gd, 'removed!']);\n",
       "            Plotly.purge(gd);\n",
       "            observer.disconnect();\n",
       "        }}\n",
       "}});\n",
       "\n",
       "// Listen for the removal of the full notebook cells\n",
       "var notebookContainer = gd.closest('#notebook-container');\n",
       "if (notebookContainer) {{\n",
       "    x.observe(notebookContainer, {childList: true});\n",
       "}}\n",
       "\n",
       "// Listen for the clearing of the current output cell\n",
       "var outputEl = gd.closest('.output');\n",
       "if (outputEl) {{\n",
       "    x.observe(outputEl, {childList: true});\n",
       "}}\n",
       "\n",
       "                        })                };                });            </script>        </div>"
      ]
     },
     "metadata": {},
     "output_type": "display_data"
    }
   ],
   "source": [
    "# Filter out the outlier\n",
    "filtered_data = filtered_merged1[filtered_merged1['Country'] != 'China, Hong Kong SAR']\n",
    "\n",
    "# Create the scatter plot\n",
    "fig = px.scatter(\n",
    "    filtered_data,\n",
    "    x=\"Value_x\",  # Column for x-axis (Agricultural Production)\n",
    "    y=\"Value_y\",  # Column for y-axis (Emissions per Capita)\n",
    "    title=\"Agricultural Production and Carbon Emissions per Capita (2019)\",\n",
    "    trendline=\"ols\", \n",
    "    labels={\"Value_x\": \"Agricultural Production\", \"Value_y\": \"Emissions per Capita\"},\n",
    ")\n",
    "\n",
    "# Show the plot\n",
    "fig.show()"
   ]
  },
  {
   "cell_type": "code",
   "execution_count": 22,
   "id": "1bc75c31-a9fd-4e45-a732-bee9c6ce4587",
   "metadata": {},
   "outputs": [
    {
     "name": "stdout",
     "output_type": "stream",
     "text": [
      "Pearson Correlation: 0.11038335362217686\n"
     ]
    }
   ],
   "source": [
    "#Calculate Pearson Correlation: \n",
    "correlation_pearson = filtered_merged1['Value_x'].corr(filtered_merged1['Value_y'])\n",
    "print(f\"Pearson Correlation: {correlation_pearson}\")"
   ]
  }
 ],
 "metadata": {
  "kernelspec": {
   "display_name": "base",
   "language": "python",
   "name": "python3"
  },
  "language_info": {
   "codemirror_mode": {
    "name": "ipython",
    "version": 3
   },
   "file_extension": ".py",
   "mimetype": "text/x-python",
   "name": "python",
   "nbconvert_exporter": "python",
   "pygments_lexer": "ipython3",
   "version": "3.12.4"
  }
 },
 "nbformat": 4,
 "nbformat_minor": 5
}